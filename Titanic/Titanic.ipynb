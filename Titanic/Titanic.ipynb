{
 "cells": [
  {
   "cell_type": "markdown",
   "id": "39a2ae39-7fce-4a1c-b4d1-e49f4497ae84",
   "metadata": {},
   "source": [
    "# Analiza zbioru danych związanych z katastrofą Titanica\n",
    "### Na podsawie poniższej analizy chciałbym zobaczyć i określić czynniki związane z przeżywalonością pasażerów statku, oraz określić który z modeli predykcyjnych poradzi sobie z określeniem który z pasażerów ma największą szansę przeżycia"
   ]
  },
  {
   "cell_type": "markdown",
   "id": "ae2c16ab-8713-4afb-985f-1ca0d8fef01e",
   "metadata": {
    "jp-MarkdownHeadingCollapsed": true
   },
   "source": [
    "## 1. Określenie Problemu\n",
    "### Zrozumienie wpływu czynników decydujących na przezprzywalności pasażerów podczas katastrofy Titanica.\n",
    "* Czy istnieje różnica w szansach przeżycia między mężczyznami a kobietami?\n",
    "* Czy klasa biletu związna była z większą szansą przeżycia?\n",
    "* Czy wiek pasażera miał wpływ na jego szanse przeżycia?\n",
    "* Czy inne czynniki, takie jak stan cywilny, wielkość rodziny, bądz miejsce na statku miały istone znaczenie."
   ]
  },
  {
   "cell_type": "markdown",
   "id": "c3ad1e4d-6f86-4587-a518-50af299fd94b",
   "metadata": {},
   "source": [
    "## 2. Wstępne zapoznanie się z danymi \n",
    "### Załadowanie podstawowych bibliotek, oraz bazy danych."
   ]
  },
  {
   "cell_type": "code",
   "execution_count": 217,
   "id": "a6d0b026-ce26-40c5-b8ab-44950345fa0b",
   "metadata": {},
   "outputs": [],
   "source": [
    "#Obliczenia  i analiza  danych\n",
    "import numpy as np\n",
    "import pandas as pd\n",
    "\n",
    "#wizualiacja \n",
    "import matplotlib.pyplot as plt\n",
    "import seaborn as sns\n",
    "sns.set_theme(style=\"whitegrid\")\n",
    "sns.set_palette('icefire_r', 2)\n",
    "\n",
    "\n",
    "%matplotlib inline\n",
    "#Przetwarzanie\n",
    "\n",
    "from sklearn.preprocessing import OneHotEncoder\n",
    "from sklearn.impute import KNNImputer\n",
    "# Baza danych gównych do nauki modelu\n",
    "Titanic = pd.read_csv(\"Titanic_Database.csv\") \n",
    "# Baza danych Titanica do sprawdzenie modelu\n",
    "test = pd.read_csv(\"test.csv\")"
   ]
  },
  {
   "cell_type": "code",
   "execution_count": 218,
   "id": "249d6a3c-1132-4453-8bdd-d1ea6aa09b7c",
   "metadata": {
    "scrolled": true
   },
   "outputs": [
    {
     "data": {
      "text/html": [
       "<div>\n",
       "<style scoped>\n",
       "    .dataframe tbody tr th:only-of-type {\n",
       "        vertical-align: middle;\n",
       "    }\n",
       "\n",
       "    .dataframe tbody tr th {\n",
       "        vertical-align: top;\n",
       "    }\n",
       "\n",
       "    .dataframe thead th {\n",
       "        text-align: right;\n",
       "    }\n",
       "</style>\n",
       "<table border=\"1\" class=\"dataframe\">\n",
       "  <thead>\n",
       "    <tr style=\"text-align: right;\">\n",
       "      <th></th>\n",
       "      <th>PassengerId</th>\n",
       "      <th>Survived</th>\n",
       "      <th>Pclass</th>\n",
       "      <th>Name</th>\n",
       "      <th>Sex</th>\n",
       "      <th>Age</th>\n",
       "      <th>SibSp</th>\n",
       "      <th>Parch</th>\n",
       "      <th>Ticket</th>\n",
       "      <th>Fare</th>\n",
       "      <th>Cabin</th>\n",
       "      <th>Embarked</th>\n",
       "    </tr>\n",
       "  </thead>\n",
       "  <tbody>\n",
       "    <tr>\n",
       "      <th>0</th>\n",
       "      <td>1</td>\n",
       "      <td>0</td>\n",
       "      <td>3</td>\n",
       "      <td>Braund, Mr. Owen Harris</td>\n",
       "      <td>male</td>\n",
       "      <td>22.0</td>\n",
       "      <td>1</td>\n",
       "      <td>0</td>\n",
       "      <td>A/5 21171</td>\n",
       "      <td>7.2500</td>\n",
       "      <td>NaN</td>\n",
       "      <td>S</td>\n",
       "    </tr>\n",
       "    <tr>\n",
       "      <th>1</th>\n",
       "      <td>2</td>\n",
       "      <td>1</td>\n",
       "      <td>1</td>\n",
       "      <td>Cumings, Mrs. John Bradley (Florence Briggs Th...</td>\n",
       "      <td>female</td>\n",
       "      <td>38.0</td>\n",
       "      <td>1</td>\n",
       "      <td>0</td>\n",
       "      <td>PC 17599</td>\n",
       "      <td>71.2833</td>\n",
       "      <td>C85</td>\n",
       "      <td>C</td>\n",
       "    </tr>\n",
       "    <tr>\n",
       "      <th>2</th>\n",
       "      <td>3</td>\n",
       "      <td>1</td>\n",
       "      <td>3</td>\n",
       "      <td>Heikkinen, Miss. Laina</td>\n",
       "      <td>female</td>\n",
       "      <td>26.0</td>\n",
       "      <td>0</td>\n",
       "      <td>0</td>\n",
       "      <td>STON/O2. 3101282</td>\n",
       "      <td>7.9250</td>\n",
       "      <td>NaN</td>\n",
       "      <td>S</td>\n",
       "    </tr>\n",
       "    <tr>\n",
       "      <th>3</th>\n",
       "      <td>4</td>\n",
       "      <td>1</td>\n",
       "      <td>1</td>\n",
       "      <td>Futrelle, Mrs. Jacques Heath (Lily May Peel)</td>\n",
       "      <td>female</td>\n",
       "      <td>35.0</td>\n",
       "      <td>1</td>\n",
       "      <td>0</td>\n",
       "      <td>113803</td>\n",
       "      <td>53.1000</td>\n",
       "      <td>C123</td>\n",
       "      <td>S</td>\n",
       "    </tr>\n",
       "    <tr>\n",
       "      <th>4</th>\n",
       "      <td>5</td>\n",
       "      <td>0</td>\n",
       "      <td>3</td>\n",
       "      <td>Allen, Mr. William Henry</td>\n",
       "      <td>male</td>\n",
       "      <td>35.0</td>\n",
       "      <td>0</td>\n",
       "      <td>0</td>\n",
       "      <td>373450</td>\n",
       "      <td>8.0500</td>\n",
       "      <td>NaN</td>\n",
       "      <td>S</td>\n",
       "    </tr>\n",
       "    <tr>\n",
       "      <th>5</th>\n",
       "      <td>6</td>\n",
       "      <td>0</td>\n",
       "      <td>3</td>\n",
       "      <td>Moran, Mr. James</td>\n",
       "      <td>male</td>\n",
       "      <td>NaN</td>\n",
       "      <td>0</td>\n",
       "      <td>0</td>\n",
       "      <td>330877</td>\n",
       "      <td>8.4583</td>\n",
       "      <td>NaN</td>\n",
       "      <td>Q</td>\n",
       "    </tr>\n",
       "    <tr>\n",
       "      <th>6</th>\n",
       "      <td>7</td>\n",
       "      <td>0</td>\n",
       "      <td>1</td>\n",
       "      <td>McCarthy, Mr. Timothy J</td>\n",
       "      <td>male</td>\n",
       "      <td>54.0</td>\n",
       "      <td>0</td>\n",
       "      <td>0</td>\n",
       "      <td>17463</td>\n",
       "      <td>51.8625</td>\n",
       "      <td>E46</td>\n",
       "      <td>S</td>\n",
       "    </tr>\n",
       "    <tr>\n",
       "      <th>7</th>\n",
       "      <td>8</td>\n",
       "      <td>0</td>\n",
       "      <td>3</td>\n",
       "      <td>Palsson, Master. Gosta Leonard</td>\n",
       "      <td>male</td>\n",
       "      <td>2.0</td>\n",
       "      <td>3</td>\n",
       "      <td>1</td>\n",
       "      <td>349909</td>\n",
       "      <td>21.0750</td>\n",
       "      <td>NaN</td>\n",
       "      <td>S</td>\n",
       "    </tr>\n",
       "  </tbody>\n",
       "</table>\n",
       "</div>"
      ],
      "text/plain": [
       "   PassengerId  Survived  Pclass  \\\n",
       "0            1         0       3   \n",
       "1            2         1       1   \n",
       "2            3         1       3   \n",
       "3            4         1       1   \n",
       "4            5         0       3   \n",
       "5            6         0       3   \n",
       "6            7         0       1   \n",
       "7            8         0       3   \n",
       "\n",
       "                                                Name     Sex   Age  SibSp  \\\n",
       "0                            Braund, Mr. Owen Harris    male  22.0      1   \n",
       "1  Cumings, Mrs. John Bradley (Florence Briggs Th...  female  38.0      1   \n",
       "2                             Heikkinen, Miss. Laina  female  26.0      0   \n",
       "3       Futrelle, Mrs. Jacques Heath (Lily May Peel)  female  35.0      1   \n",
       "4                           Allen, Mr. William Henry    male  35.0      0   \n",
       "5                                   Moran, Mr. James    male   NaN      0   \n",
       "6                            McCarthy, Mr. Timothy J    male  54.0      0   \n",
       "7                     Palsson, Master. Gosta Leonard    male   2.0      3   \n",
       "\n",
       "   Parch            Ticket     Fare Cabin Embarked  \n",
       "0      0         A/5 21171   7.2500   NaN        S  \n",
       "1      0          PC 17599  71.2833   C85        C  \n",
       "2      0  STON/O2. 3101282   7.9250   NaN        S  \n",
       "3      0            113803  53.1000  C123        S  \n",
       "4      0            373450   8.0500   NaN        S  \n",
       "5      0            330877   8.4583   NaN        Q  \n",
       "6      0             17463  51.8625   E46        S  \n",
       "7      1            349909  21.0750   NaN        S  "
      ]
     },
     "execution_count": 218,
     "metadata": {},
     "output_type": "execute_result"
    }
   ],
   "source": [
    "Titanic.head(8)"
   ]
  },
  {
   "cell_type": "code",
   "execution_count": 219,
   "id": "8e29cb48-b9fd-4e6c-a61d-7bd930cca84f",
   "metadata": {},
   "outputs": [
    {
     "name": "stdout",
     "output_type": "stream",
     "text": [
      "Index(['PassengerId', 'Survived', 'Pclass', 'Name', 'Sex', 'Age', 'SibSp',\n",
      "       'Parch', 'Ticket', 'Fare', 'Cabin', 'Embarked'],\n",
      "      dtype='object')\n"
     ]
    }
   ],
   "source": [
    "print(Titanic.columns)"
   ]
  },
  {
   "cell_type": "markdown",
   "id": "c82cca39-7cc6-4bc6-9be4-3e00bcaf200e",
   "metadata": {},
   "source": [
    "### Zbiór danych zawiera następujące informacje:\n",
    "\n",
    "*  PassengerId: Unikatowy identyfikator pasażera\n",
    "*  Survived: Czy pasażer przeżył (1) czy zginął (0)\n",
    "*  Pclass: Klasa biletu (1=pierwsza, 2=druga, 3=trzecia)\n",
    "*  Name: Imię i nazwisko pasażera, staus cywilny\n",
    "*  Sex: Płeć pasażera (male, female)\n",
    "*  Age: Wiek pasażera\n",
    "*  SibSp: Liczba rodzeństwa i/lub małżonka na pokładzie\n",
    "*  Parch: Liczba rodziców i/lub dzieci na pokładzie\n",
    "*  Ticket: Numer biletu\n",
    "*  Fare: Cena biletu\n",
    "*  Cabin: Numer kabiny\n",
    "*  Embarked: Port zaokrętowania (C = Cherbourg, Q = Queenstown, S = Southampton)"
   ]
  },
  {
   "cell_type": "markdown",
   "id": "0a86e0fa-f3a8-402a-a05c-01c97c6746a6",
   "metadata": {},
   "source": [
    "## 3. Czyszczenie i przygotowanie danych"
   ]
  },
  {
   "cell_type": "code",
   "execution_count": 220,
   "id": "681260da-3c2c-4778-9343-e38a25760c9a",
   "metadata": {
    "scrolled": true
   },
   "outputs": [
    {
     "name": "stdout",
     "output_type": "stream",
     "text": [
      "PassengerId      0\n",
      "Survived         0\n",
      "Pclass           0\n",
      "Name             0\n",
      "Sex              0\n",
      "Age            177\n",
      "SibSp            0\n",
      "Parch            0\n",
      "Ticket           0\n",
      "Fare             0\n",
      "Cabin          687\n",
      "Embarked         2\n",
      "dtype: int64\n"
     ]
    }
   ],
   "source": [
    "#Sprawdzenie wartości zerowych dla głównej bazy danych\n",
    "print(pd.isnull(Titanic).sum())"
   ]
  },
  {
   "cell_type": "code",
   "execution_count": 221,
   "id": "263f068a-b1dd-4fc2-933a-5527c06022f5",
   "metadata": {},
   "outputs": [
    {
     "name": "stdout",
     "output_type": "stream",
     "text": [
      "PassengerId      0\n",
      "Pclass           0\n",
      "Name             0\n",
      "Sex              0\n",
      "Age             86\n",
      "SibSp            0\n",
      "Parch            0\n",
      "Ticket           0\n",
      "Fare             1\n",
      "Cabin          327\n",
      "Embarked         0\n",
      "dtype: int64\n"
     ]
    }
   ],
   "source": [
    "print(pd.isnull(test).sum())"
   ]
  },
  {
   "cell_type": "markdown",
   "id": "eee4fa73-cc63-40a4-bff0-3c3d364f1133",
   "metadata": {},
   "source": [
    "#### W przypadku głownej bazy danych brakuje 177 kluczowych wartość dla parametru Age, natomiast w przypadku bazy testowej jest to 86 brakująchyc wartości. Kategoria Cabin zostanie w początkowej fazie testó usunięta.\n"
   ]
  },
  {
   "cell_type": "markdown",
   "id": "3913f4f5-5d0b-43b4-80ae-4a7e8a6c1221",
   "metadata": {},
   "source": [
    "### Encodowanie danych kategorycznych"
   ]
  },
  {
   "cell_type": "markdown",
   "id": "35f7bf3e-9341-4c4e-8705-926c08cb89a4",
   "metadata": {},
   "source": [
    "#### Płeć."
   ]
  },
  {
   "cell_type": "code",
   "execution_count": 222,
   "id": "5638ad0c-cf43-401a-a04c-45c790444fdd",
   "metadata": {},
   "outputs": [],
   "source": [
    "encoder = OneHotEncoder(sparse_output=False, drop='first')\n",
    "\n",
    "for df in [Titanic, test]:\n",
    "    sex_encoded = encoder.fit_transform(df['Sex'].values.reshape(-1, 1))  # Dopasuj i przekształc jednocześnie\n",
    "    df['Sex_Enc'] = sex_encoded\n",
    "\n",
    "### Male = 1 ||| Female = 0 "
   ]
  },
  {
   "cell_type": "markdown",
   "id": "7c1c95f5-7abf-47b1-b19b-090bef446a1e",
   "metadata": {},
   "source": [
    "#### Stan cywilny paseżerów."
   ]
  },
  {
   "cell_type": "code",
   "execution_count": 223,
   "id": "99a93847-7983-4166-9f89-a8a7e0a863b5",
   "metadata": {},
   "outputs": [],
   "source": [
    "def get_title(name):\n",
    "    # Wyodrębnij prefix z imienia\n",
    "    title = name.split(',')[1].split('.')[0].strip()\n",
    "    if title in ['Lady', 'Countess', 'Capt', 'Col', 'Don', 'Dr', 'Major', 'Rev', 'Sir', 'Jonkheer', 'Dona']:\n",
    "        return 'Rare'\n",
    "    elif title in ['Mlle']:\n",
    "        return 'Miss'\n",
    "    elif title in ['Ms']:\n",
    "        return 'Miss'\n",
    "    elif title in ['Mme']:\n",
    "        return 'Mrs'\n",
    "    else:\n",
    "        return title\n",
    "\n",
    "Titanic['Title'] = Titanic['Name'].apply(get_title)\n",
    "test['Title']    = test['Name'].apply(get_title)\n",
    "##\n",
    "#title_percentages1 = Titanic['Title'].value_counts(normalize=True)\n",
    "#title_percentages2 = test['Title'].value_counts(normalize=True)\n",
    "#print(title_percentages1)\n",
    "#print(title_percentages2)"
   ]
  },
  {
   "cell_type": "code",
   "execution_count": 224,
   "id": "40871089-cc8a-4b56-a6eb-58be15a48108",
   "metadata": {},
   "outputs": [],
   "source": [
    "title_mapping = {\n",
    "    \"Mr\": 0,\n",
    "    \"Miss\": 1,\n",
    "    \"Mrs\": 2,\n",
    "    \"Master\": 3,\n",
    "    \"Rare\": 4,\n",
    "    \"the Countess\": 5\n",
    "}\n",
    "\n",
    "for df in [Titanic, test]:\n",
    "    df['Title_Enc'] = np.array([title_mapping[x] for x in df['Title']])\n",
    "\n",
    "#title_percentages1 = Titanic['Title'].value_counts(normalize=True)\n",
    "#title_percentages2 = test['Title'].value_counts(normalize=True)\n",
    "#print(title_percentages1)\n",
    "#print(title_percentages2)"
   ]
  },
  {
   "cell_type": "markdown",
   "id": "7d72117c-9b02-4fdc-a61d-0f034ab3e767",
   "metadata": {},
   "source": [
    "#### Port zaokrętowania"
   ]
  },
  {
   "cell_type": "code",
   "execution_count": 225,
   "id": "4b6cdaff-f685-475b-8a7f-5f6eed28bad7",
   "metadata": {},
   "outputs": [],
   "source": [
    "title_mapping = {\n",
    "    \"C\": 0,\n",
    "    \"Q\": 1,\n",
    "    \"S\": 2,\n",
    "}\n",
    "\n",
    "for df in [Titanic, test]:\n",
    "    df['Embarked'] = pd.Categorical(df['Embarked'])\n",
    "    df['Embarked_Enc'] = df['Embarked'].cat.codes\n"
   ]
  },
  {
   "cell_type": "markdown",
   "id": "a7229521-aff0-4ba2-970d-a403fa4269d7",
   "metadata": {},
   "source": [
    "#### Uzupełnianie brakujących wartości\n",
    "Znacząco wybiegając w przyszłość, ponieważ kolumny Age, Embarked i Fare posiadają brakujące wartości, więc wykorzystując dalej przedstawioną w tekście macierz korelacji perasona zastosuję zależne najmnocniej skolerowane z tymi kolumnami paramtery. "
   ]
  },
  {
   "cell_type": "code",
   "execution_count": 226,
   "id": "5cf12216-1210-4945-93b0-6f78e347ce4f",
   "metadata": {},
   "outputs": [],
   "source": [
    "# Utwórz imputer KNN\n",
    "imputer = KNNImputer(n_neighbors=5)\n",
    "# Dopasuj imputer do danych\n",
    "for df in [Titanic, test]:\n",
    "    imputer.fit(df[['Age', 'Pclass', 'SibSp', 'Parch', 'Fare']].dropna())\n",
    "    df['Age'] = imputer.transform(df[['Age', 'Pclass', 'SibSp', 'Parch', 'Fare']])"
   ]
  },
  {
   "cell_type": "code",
   "execution_count": 227,
   "id": "ac2c8837-646b-4db8-96d9-bf98cfe7804e",
   "metadata": {},
   "outputs": [],
   "source": [
    "# Utwórz imputer KNN\n",
    "imputer = KNNImputer(n_neighbors=5)\n",
    "# Dopasuj imputer do danych\n",
    "for df in [Titanic, test]:\n",
    "    imputer.fit(df[['Embarked_Enc' ,'Age', 'Pclass', 'SibSp', 'Parch', 'Fare']].dropna())\n",
    "    df['Embarked_Enc'] = imputer.transform(df[['Embarked_Enc', 'Age', 'Pclass', 'SibSp', 'Parch', 'Fare']])"
   ]
  },
  {
   "cell_type": "code",
   "execution_count": 228,
   "id": "e5ad3e37-87d1-4db0-ba7e-a466d660d452",
   "metadata": {},
   "outputs": [],
   "source": [
    "# Utwórz imputer KNN\n",
    "imputer = KNNImputer(n_neighbors=5)\n",
    "# Dopasuj imputer do danych\n",
    "imputer.fit(test[['Fare', 'Age', 'Pclass', 'SibSp', 'Parch' ]].dropna())\n",
    "df['Fare'] = imputer.transform(test[['Fare', 'Age', 'Pclass', 'SibSp', 'Parch' ]])"
   ]
  },
  {
   "cell_type": "code",
   "execution_count": 229,
   "id": "85237238-283a-4f69-a7dd-eebb4a094bb2",
   "metadata": {},
   "outputs": [
    {
     "name": "stdout",
     "output_type": "stream",
     "text": [
      "PassengerId       0\n",
      "Survived          0\n",
      "Pclass            0\n",
      "Name              0\n",
      "Sex               0\n",
      "Age               0\n",
      "SibSp             0\n",
      "Parch             0\n",
      "Ticket            0\n",
      "Fare              0\n",
      "Cabin           687\n",
      "Embarked          2\n",
      "Sex_Enc           0\n",
      "Title             0\n",
      "Title_Enc         0\n",
      "Embarked_Enc      0\n",
      "dtype: int64\n"
     ]
    }
   ],
   "source": [
    "print(pd.isnull(Titanic).sum())"
   ]
  },
  {
   "cell_type": "code",
   "execution_count": 230,
   "id": "8c8deff3-0125-4874-ab9a-64d149eabe80",
   "metadata": {},
   "outputs": [
    {
     "name": "stdout",
     "output_type": "stream",
     "text": [
      "PassengerId       0\n",
      "Pclass            0\n",
      "Name              0\n",
      "Sex               0\n",
      "Age               0\n",
      "SibSp             0\n",
      "Parch             0\n",
      "Ticket            0\n",
      "Fare              0\n",
      "Cabin           327\n",
      "Embarked          0\n",
      "Sex_Enc           0\n",
      "Title             0\n",
      "Title_Enc         0\n",
      "Embarked_Enc      0\n",
      "dtype: int64\n"
     ]
    }
   ],
   "source": [
    "print(pd.isnull(test).sum())"
   ]
  },
  {
   "cell_type": "code",
   "execution_count": 231,
   "id": "3e179aae-3545-4ae9-ad08-c714eac73118",
   "metadata": {},
   "outputs": [],
   "source": [
    "### Sumaryczne wyniki/punkt odniesnia dla danych kattegorycznych, kótóre zostały zencodowane. "
   ]
  },
  {
   "cell_type": "markdown",
   "id": "c70067d7-ed08-48ae-b1d6-a1a8e1823db0",
   "metadata": {},
   "source": [
    "## Wybór danych\n",
    "#### Ocena kategorii, które mogą zostać bezwzględnie usunięte ponieważ nie planuję uwzględniać ich dalszej części modelowania, bądz zostały zencodowane.   "
   ]
  },
  {
   "cell_type": "code",
   "execution_count": 233,
   "id": "5641abbf-fea6-4e74-b370-b73dc7626a0e",
   "metadata": {},
   "outputs": [
    {
     "ename": "KeyError",
     "evalue": "\"['PassengerId', 'Name', 'Title', 'Sex', 'Ticket', 'Cabin', 'Embarked'] not found in axis\"",
     "output_type": "error",
     "traceback": [
      "\u001b[1;31m---------------------------------------------------------------------------\u001b[0m",
      "\u001b[1;31mKeyError\u001b[0m                                  Traceback (most recent call last)",
      "Cell \u001b[1;32mIn[233], line 3\u001b[0m\n\u001b[0;32m      1\u001b[0m \u001b[38;5;66;03m# Usuń oryginalne kolumny\u001b[39;00m\n\u001b[0;32m      2\u001b[0m categorical_features \u001b[38;5;241m=\u001b[39m [\u001b[38;5;124m'\u001b[39m\u001b[38;5;124mPassengerId\u001b[39m\u001b[38;5;124m'\u001b[39m,\u001b[38;5;124m'\u001b[39m\u001b[38;5;124mName\u001b[39m\u001b[38;5;124m'\u001b[39m, \u001b[38;5;124m'\u001b[39m\u001b[38;5;124mTitle\u001b[39m\u001b[38;5;124m'\u001b[39m, \u001b[38;5;124m'\u001b[39m\u001b[38;5;124mSex\u001b[39m\u001b[38;5;124m'\u001b[39m, \u001b[38;5;124m'\u001b[39m\u001b[38;5;124mTicket\u001b[39m\u001b[38;5;124m'\u001b[39m,\u001b[38;5;124m'\u001b[39m\u001b[38;5;124mCabin\u001b[39m\u001b[38;5;124m'\u001b[39m, \u001b[38;5;124m'\u001b[39m\u001b[38;5;124mEmbarked\u001b[39m\u001b[38;5;124m'\u001b[39m]\n\u001b[1;32m----> 3\u001b[0m Titanic\u001b[38;5;241m.\u001b[39mdrop(columns\u001b[38;5;241m=\u001b[39mcategorical_features, inplace\u001b[38;5;241m=\u001b[39m\u001b[38;5;28;01mTrue\u001b[39;00m)\n\u001b[0;32m      4\u001b[0m Titanic\u001b[38;5;241m.\u001b[39mdescribe()\n",
      "File \u001b[1;32m~\\anaconda3\\Lib\\site-packages\\pandas\\core\\frame.py:5344\u001b[0m, in \u001b[0;36mDataFrame.drop\u001b[1;34m(self, labels, axis, index, columns, level, inplace, errors)\u001b[0m\n\u001b[0;32m   5196\u001b[0m \u001b[38;5;28;01mdef\u001b[39;00m \u001b[38;5;21mdrop\u001b[39m(\n\u001b[0;32m   5197\u001b[0m     \u001b[38;5;28mself\u001b[39m,\n\u001b[0;32m   5198\u001b[0m     labels: IndexLabel \u001b[38;5;241m|\u001b[39m \u001b[38;5;28;01mNone\u001b[39;00m \u001b[38;5;241m=\u001b[39m \u001b[38;5;28;01mNone\u001b[39;00m,\n\u001b[1;32m   (...)\u001b[0m\n\u001b[0;32m   5205\u001b[0m     errors: IgnoreRaise \u001b[38;5;241m=\u001b[39m \u001b[38;5;124m\"\u001b[39m\u001b[38;5;124mraise\u001b[39m\u001b[38;5;124m\"\u001b[39m,\n\u001b[0;32m   5206\u001b[0m ) \u001b[38;5;241m-\u001b[39m\u001b[38;5;241m>\u001b[39m DataFrame \u001b[38;5;241m|\u001b[39m \u001b[38;5;28;01mNone\u001b[39;00m:\n\u001b[0;32m   5207\u001b[0m \u001b[38;5;250m    \u001b[39m\u001b[38;5;124;03m\"\"\"\u001b[39;00m\n\u001b[0;32m   5208\u001b[0m \u001b[38;5;124;03m    Drop specified labels from rows or columns.\u001b[39;00m\n\u001b[0;32m   5209\u001b[0m \n\u001b[1;32m   (...)\u001b[0m\n\u001b[0;32m   5342\u001b[0m \u001b[38;5;124;03m            weight  1.0     0.8\u001b[39;00m\n\u001b[0;32m   5343\u001b[0m \u001b[38;5;124;03m    \"\"\"\u001b[39;00m\n\u001b[1;32m-> 5344\u001b[0m     \u001b[38;5;28;01mreturn\u001b[39;00m \u001b[38;5;28msuper\u001b[39m()\u001b[38;5;241m.\u001b[39mdrop(\n\u001b[0;32m   5345\u001b[0m         labels\u001b[38;5;241m=\u001b[39mlabels,\n\u001b[0;32m   5346\u001b[0m         axis\u001b[38;5;241m=\u001b[39maxis,\n\u001b[0;32m   5347\u001b[0m         index\u001b[38;5;241m=\u001b[39mindex,\n\u001b[0;32m   5348\u001b[0m         columns\u001b[38;5;241m=\u001b[39mcolumns,\n\u001b[0;32m   5349\u001b[0m         level\u001b[38;5;241m=\u001b[39mlevel,\n\u001b[0;32m   5350\u001b[0m         inplace\u001b[38;5;241m=\u001b[39minplace,\n\u001b[0;32m   5351\u001b[0m         errors\u001b[38;5;241m=\u001b[39merrors,\n\u001b[0;32m   5352\u001b[0m     )\n",
      "File \u001b[1;32m~\\anaconda3\\Lib\\site-packages\\pandas\\core\\generic.py:4711\u001b[0m, in \u001b[0;36mNDFrame.drop\u001b[1;34m(self, labels, axis, index, columns, level, inplace, errors)\u001b[0m\n\u001b[0;32m   4709\u001b[0m \u001b[38;5;28;01mfor\u001b[39;00m axis, labels \u001b[38;5;129;01min\u001b[39;00m axes\u001b[38;5;241m.\u001b[39mitems():\n\u001b[0;32m   4710\u001b[0m     \u001b[38;5;28;01mif\u001b[39;00m labels \u001b[38;5;129;01mis\u001b[39;00m \u001b[38;5;129;01mnot\u001b[39;00m \u001b[38;5;28;01mNone\u001b[39;00m:\n\u001b[1;32m-> 4711\u001b[0m         obj \u001b[38;5;241m=\u001b[39m obj\u001b[38;5;241m.\u001b[39m_drop_axis(labels, axis, level\u001b[38;5;241m=\u001b[39mlevel, errors\u001b[38;5;241m=\u001b[39merrors)\n\u001b[0;32m   4713\u001b[0m \u001b[38;5;28;01mif\u001b[39;00m inplace:\n\u001b[0;32m   4714\u001b[0m     \u001b[38;5;28mself\u001b[39m\u001b[38;5;241m.\u001b[39m_update_inplace(obj)\n",
      "File \u001b[1;32m~\\anaconda3\\Lib\\site-packages\\pandas\\core\\generic.py:4753\u001b[0m, in \u001b[0;36mNDFrame._drop_axis\u001b[1;34m(self, labels, axis, level, errors, only_slice)\u001b[0m\n\u001b[0;32m   4751\u001b[0m         new_axis \u001b[38;5;241m=\u001b[39m axis\u001b[38;5;241m.\u001b[39mdrop(labels, level\u001b[38;5;241m=\u001b[39mlevel, errors\u001b[38;5;241m=\u001b[39merrors)\n\u001b[0;32m   4752\u001b[0m     \u001b[38;5;28;01melse\u001b[39;00m:\n\u001b[1;32m-> 4753\u001b[0m         new_axis \u001b[38;5;241m=\u001b[39m axis\u001b[38;5;241m.\u001b[39mdrop(labels, errors\u001b[38;5;241m=\u001b[39merrors)\n\u001b[0;32m   4754\u001b[0m     indexer \u001b[38;5;241m=\u001b[39m axis\u001b[38;5;241m.\u001b[39mget_indexer(new_axis)\n\u001b[0;32m   4756\u001b[0m \u001b[38;5;66;03m# Case for non-unique axis\u001b[39;00m\n\u001b[0;32m   4757\u001b[0m \u001b[38;5;28;01melse\u001b[39;00m:\n",
      "File \u001b[1;32m~\\anaconda3\\Lib\\site-packages\\pandas\\core\\indexes\\base.py:7000\u001b[0m, in \u001b[0;36mIndex.drop\u001b[1;34m(self, labels, errors)\u001b[0m\n\u001b[0;32m   6998\u001b[0m \u001b[38;5;28;01mif\u001b[39;00m mask\u001b[38;5;241m.\u001b[39many():\n\u001b[0;32m   6999\u001b[0m     \u001b[38;5;28;01mif\u001b[39;00m errors \u001b[38;5;241m!=\u001b[39m \u001b[38;5;124m\"\u001b[39m\u001b[38;5;124mignore\u001b[39m\u001b[38;5;124m\"\u001b[39m:\n\u001b[1;32m-> 7000\u001b[0m         \u001b[38;5;28;01mraise\u001b[39;00m \u001b[38;5;167;01mKeyError\u001b[39;00m(\u001b[38;5;124mf\u001b[39m\u001b[38;5;124m\"\u001b[39m\u001b[38;5;132;01m{\u001b[39;00mlabels[mask]\u001b[38;5;241m.\u001b[39mtolist()\u001b[38;5;132;01m}\u001b[39;00m\u001b[38;5;124m not found in axis\u001b[39m\u001b[38;5;124m\"\u001b[39m)\n\u001b[0;32m   7001\u001b[0m     indexer \u001b[38;5;241m=\u001b[39m indexer[\u001b[38;5;241m~\u001b[39mmask]\n\u001b[0;32m   7002\u001b[0m \u001b[38;5;28;01mreturn\u001b[39;00m \u001b[38;5;28mself\u001b[39m\u001b[38;5;241m.\u001b[39mdelete(indexer)\n",
      "\u001b[1;31mKeyError\u001b[0m: \"['PassengerId', 'Name', 'Title', 'Sex', 'Ticket', 'Cabin', 'Embarked'] not found in axis\""
     ]
    }
   ],
   "source": [
    "# Usuń oryginalne kolumny\n",
    "categorical_features = ['PassengerId','Name', 'Title', 'Sex', 'Ticket','Cabin', 'Embarked']\n",
    "Titanic.drop(columns=categorical_features, inplace=True)\n",
    "Titanic.describe()"
   ]
  },
  {
   "cell_type": "code",
   "execution_count": null,
   "id": "5234c4cd-1e19-44be-a7ec-f83f18d5819c",
   "metadata": {},
   "outputs": [],
   "source": [
    "categorical_features = ['PassengerId','Name', 'Title', 'Sex', 'Ticket','Cabin', 'Embarked']\n",
    "test.drop(columns=categorical_features, inplace=True)\n",
    "test.descibe()"
   ]
  },
  {
   "cell_type": "code",
   "execution_count": null,
   "id": "84db0c2a-6cb4-4e9c-84b4-8a194ec2ba15",
   "metadata": {},
   "outputs": [],
   "source": [
    "Titanic[['Age', 'Fare']] = Titanic[['Age', 'Fare']].astype(np.float32)\n",
    "columns_to_convert = ['Survived' ,'Pclass', 'SibSp', 'Parch', 'Sex_Enc', 'Embarked_Enc', 'Title_Enc']\n",
    "Titanic[columns_to_convert] = Titanic[columns_to_convert].astype(np.int16)\n",
    "Titanic.info()"
   ]
  },
  {
   "cell_type": "code",
   "execution_count": null,
   "id": "6d8a6dd0-204a-43f2-b222-4d9bace54acd",
   "metadata": {},
   "outputs": [],
   "source": [
    "test[['Age', 'Fare']] = test[['Age', 'Fare']].astype(np.float32)\n",
    "columns_to_convert = ['Pclass', 'SibSp', 'Parch', 'Sex_Enc', 'Embarked_Enc', 'Title_Enc']\n",
    "test[columns_to_convert] = test[columns_to_convert].astype(np.int16)\n",
    "test.info()"
   ]
  },
  {
   "cell_type": "markdown",
   "id": "dccc48ac-9146-44f9-a204-ceced1d44d17",
   "metadata": {},
   "source": [
    "## 4. Wizualizacja i ekspoloracja wzorców"
   ]
  },
  {
   "cell_type": "code",
   "execution_count": null,
   "id": "3b43f930-93b0-43d2-bc55-53ae3bf5d45e",
   "metadata": {
    "scrolled": true
   },
   "outputs": [],
   "source": [
    "Titanic.groupby('Sex_Enc').mean().round(2)"
   ]
  },
  {
   "cell_type": "code",
   "execution_count": null,
   "id": "bf3cbb50-85e2-4949-890f-a3a6a53e92a5",
   "metadata": {},
   "outputs": [],
   "source": [
    "test.groupby('Sex_Enc').mean().round(2)"
   ]
  },
  {
   "cell_type": "code",
   "execution_count": null,
   "id": "c1670ce2-c911-4443-a6f4-f5755083538f",
   "metadata": {},
   "outputs": [],
   "source": [
    "Titanic.groupby('Survived').mean().round(2)"
   ]
  },
  {
   "cell_type": "code",
   "execution_count": null,
   "id": "9b1c6bac-4513-4e93-8854-068c9564076e",
   "metadata": {},
   "outputs": [],
   "source": [
    "fig, ax = plt.subplots(figsize=(9, 9))\n",
    "sns.heatmap(Titanic.astype(float).corr(),linewidths=0.1,vmax=1.0, \n",
    "            square=True, linecolor='white', annot=True, cmap= 'icefire', fmt=\".2f\")\n",
    "ax.set_title('Pearson Correlation of Features', y=1.05, size=15)"
   ]
  },
  {
   "cell_type": "code",
   "execution_count": null,
   "id": "2477bf02-d753-45ea-8e23-5a859eed29e3",
   "metadata": {},
   "outputs": [],
   "source": [
    "fig, ax = plt.subplots(figsize=(9, 9))\n",
    "sns.heatmap(test.astype(float).corr(),linewidths=0.1,vmax=1.0, \n",
    "            square=True, linecolor='white', annot=True, cmap= 'icefire', fmt=\".2f\")\n",
    "ax.set_title('Pearson Correlation of Features', y=1.05, size=15)"
   ]
  },
  {
   "cell_type": "code",
   "execution_count": null,
   "id": "0d649b04-34ee-4688-9255-19b0d3640627",
   "metadata": {},
   "outputs": [],
   "source": [
    "#sns.pairplot(Titanic, hue=\"Survived\", kind=\"kde\", corner=True)"
   ]
  },
  {
   "cell_type": "markdown",
   "id": "c6ab2d61-e51d-4658-b003-cf5da78e7012",
   "metadata": {},
   "source": [
    "###  Age distribution"
   ]
  },
  {
   "cell_type": "code",
   "execution_count": null,
   "id": "5b0815f0-d2a9-4c49-a669-61634a0e47b2",
   "metadata": {},
   "outputs": [],
   "source": [
    "fig, axes = plt.subplots(figsize=(14,8))\n",
    "axes.set_ylabel('Liczba pasażerów')\n",
    "axes.set_xlabel('Age')\n",
    "axes.set_title('Age distribution')\n",
    "sns.histplot(Titanic[Titanic['Survived']==0]['Age'],kde=True, bins=22, element='step', label='Die')\n",
    "sns.histplot(Titanic[Titanic['Survived']==1]['Age'],kde=True, bins=22, element='step', label='Survived')\n",
    "axes.legend()"
   ]
  },
  {
   "cell_type": "code",
   "execution_count": null,
   "id": "cd1ae5d2-92ed-4ded-a792-eba79a27f72b",
   "metadata": {},
   "outputs": [],
   "source": [
    "# dwa wykresy\n",
    "fig, (ax1, ax2) = plt.subplots(ncols=2, figsize=(14, 8))\n",
    "# Mężczyźni\n",
    "sns.histplot(Titanic[Titanic['Sex_Enc']==0], x='Age', hue='Survived', element='step', common_norm=False, ax=ax1, bins=22, kde=True)\n",
    "ax1.set_xlabel('Wiek')\n",
    "ax1.set_ylabel('Liczba przypadków')\n",
    "ax1.set_title('Przeżycie mężczyzn w zależności od wieku')\n",
    "legend = ax1.get_legend()\n",
    "handles = legend.legend_handles\n",
    "ax1.legend(handles, ['Die', 'Survived'])\n",
    "# Kobiety\n",
    "sns.histplot(Titanic[Titanic['Sex_Enc']==1], x='Age', hue='Survived', element='step', common_norm=False, ax=ax2, bins=22, kde=True)\n",
    "ax2.set_xlabel('Wiek')\n",
    "ax2.set_ylabel('CLiczba przypadków')\n",
    "ax2.set_title('Przeżycie kobiet w zależności od wieku')\n",
    "legend = ax2.get_legend()\n",
    "handles = legend.legend_handles\n",
    "ax2.legend(handles, ['Die', 'Survived'])"
   ]
  },
  {
   "cell_type": "code",
   "execution_count": null,
   "id": "22cf2bbc-a6bc-4c4d-9c76-387778f98bf3",
   "metadata": {},
   "outputs": [],
   "source": [
    "fig, ax = plt.subplots(figsize=(14,8))\n",
    "sns.violinplot(data=Titanic, x=\"Sex_Enc\", y=\"Age\", hue=\"Survived\", split=True, gap=.1, inner=\"quart\")\n",
    "legend = ax.get_legend()\n",
    "handles = legend.legend_handles\n",
    "ax.legend(handles, ['Die', 'Survived'])\n",
    "ax.set_xticklabels(['Mężczyzni', 'Kobiety'])\n",
    "ax.set_xlabel('Płeć')"
   ]
  },
  {
   "cell_type": "markdown",
   "id": "79632d19-2881-423e-b76c-341bd6cb23cf",
   "metadata": {},
   "source": [
    "Pamiętajmy, że wartość naosi odciętych dla violonplota nie wskazuje częstotoliwości występowania danego zdarzenia. W ziązku z czym kluczowa analiza powinna opierać się głownie na porównaniu krzywej w maksimum. \n"
   ]
  },
  {
   "cell_type": "markdown",
   "id": "dc326c6a-7251-4ae4-ade2-2071280875c5",
   "metadata": {},
   "source": [
    "### Fare/Calss"
   ]
  },
  {
   "cell_type": "code",
   "execution_count": null,
   "id": "8daa67ca-cbd0-4c13-9f3a-2facb2ff8e62",
   "metadata": {},
   "outputs": [],
   "source": [
    "sns.regplot(data=Titanic, x=\"Pclass\", y=\"Fare\")"
   ]
  },
  {
   "cell_type": "code",
   "execution_count": null,
   "id": "6c44097a-e1c7-49ce-bf2a-dfa20de9bb6e",
   "metadata": {},
   "outputs": [],
   "source": [
    "fig, axes = plt.subplots(ncols=3, nrows=2, figsize=(14, 8))\n",
    "\n",
    "# Create histograms for fares (loop over first row)\n",
    "for i in range(3):\n",
    "    sns.histplot(Titanic[Titanic['Pclass']==(i+1)], x='Fare', hue='Survived', element='step', common_norm=False, ax=axes[0, i], bins=20, kde=True)\n",
    "    legend = axes[0,i].get_legend()\n",
    "    handles = legend.legend_handles\n",
    "    axes[0, i].legend(handles, ['Die', 'Survived'], title = f'Pclass {3-i}')\n",
    "# Create histograms for age (loop over second row)\n",
    "for i in range(3):\n",
    "    sns.histplot(Titanic[Titanic['Pclass']==(i+1)], x='Age', hue='Survived', element='step', common_norm=False, ax=axes[1, i], bins=20, kde=True)\n",
    "    legend = axes[1,i].get_legend()\n",
    "    handles = legend.legend_handles\n",
    "    axes[1, i].legend(handles, ['Die', 'Survived'], title = f'Pclass {3-i}')"
   ]
  },
  {
   "cell_type": "code",
   "execution_count": null,
   "id": "0fdc141d-cadf-4c18-a725-f8ba10e3bb2d",
   "metadata": {},
   "outputs": [],
   "source": [
    "fig, (ax1, ax2) = plt.subplots(nrows=2, figsize=(14, 8))\n",
    "sns.violinplot(ax=ax1, data=Titanic, x=\"Pclass\", y=\"Age\", hue=\"Survived\", split=True, gap=.1, inner=\"quart\")\n",
    "ax1.set_title('Violin Plot - Age by Pclass and Survived')\n",
    "legend = ax1.get_legend()\n",
    "handles = legend.legend_handles\n",
    "ax1.legend(handles, ['Die', 'Survived'])\n",
    "\n",
    "# Box plot on the second subplot (axes[1])\n",
    "sns.boxplot(ax=ax2, data=Titanic, x=\"Pclass\", y=\"Age\", hue=\"Survived\")\n",
    "ax2.set_title('Box Plot - Age by Pclass and Survived')\n",
    "legend = ax2.get_legend()\n",
    "handles = legend.legend_handles\n",
    "ax2.legend(handles, ['Die', 'Survived'])\n"
   ]
  },
  {
   "cell_type": "markdown",
   "id": "c6f6ac44-47cc-4e1a-be74-2c6124ad013b",
   "metadata": {},
   "source": [
    "### Rodzina"
   ]
  },
  {
   "cell_type": "code",
   "execution_count": null,
   "id": "e4b73378-f6da-40e6-9e01-98ee915edbdb",
   "metadata": {},
   "outputs": [],
   "source": [
    "fig, (ax1, ax2, ax3) = plt.subplots(nrows=3, figsize=(14, 8))\n",
    "Titanic['FamilySize'] = Titanic['SibSp'] + Titanic['Parch']  # Calculate family size\n",
    "\n",
    "sns.barplot(data=Titanic, x='FamilySize', y='Survived', palette=\"icefire\", ax=ax1)\n",
    "sns.countplot(data=Titanic, x='FamilySize', hue='Survived',  ax=ax2)\n",
    "sns.countplot(data=Titanic, x='Title_Enc', hue='Survived',  ax=ax3)"
   ]
  },
  {
   "cell_type": "markdown",
   "id": "d45bcdc5-4d5a-483c-a0c8-95a387ecd2da",
   "metadata": {},
   "source": [
    "### Zaokrętowanie  "
   ]
  },
  {
   "cell_type": "code",
   "execution_count": null,
   "id": "92a0727f-57a7-4d53-b2ef-c933e331f010",
   "metadata": {},
   "outputs": [],
   "source": []
  },
  {
   "cell_type": "markdown",
   "id": "b0c7997a-9d56-41a3-88ba-65162e10ad85",
   "metadata": {},
   "source": [
    "## Modele"
   ]
  },
  {
   "cell_type": "code",
   "execution_count": null,
   "id": "c43f5ce9-511f-4413-bac4-5688040dbd1e",
   "metadata": {},
   "outputs": [],
   "source": [
    "#Biblioteki\n",
    "from sklearn.preprocessing   import StandardScaler\n",
    "from sklearn.model_selection import cross_val_score, GridSearchCV, StratifiedKFold, RandomizedSearchCV\n",
    "from sklearn.metrics         import make_scorer, f1_score, accuracy_score\n",
    "\n",
    "from sklearn.neural_network  import MLPClassifier\n",
    "\n",
    "from sklearn.ensemble        import RandomForestClassifier\n",
    "from sklearn.ensemble        import AdaBoostClassifier\n",
    "from sklearn.ensemble        import GradientBoostingClassifier\n",
    "from sklearn.ensemble        import HistGradientBoostingClassifier\n",
    "\n",
    "from sklearn.naive_bayes     import GaussianNB\n",
    "\n",
    "from sklearn.svm             import SVC\n",
    "\n",
    "from sklearn.neighbors       import KNeighborsClassifier\n",
    "\n",
    "\n"
   ]
  },
  {
   "cell_type": "code",
   "execution_count": null,
   "id": "5c66ee44-df34-4a09-ba26-c88b1742151e",
   "metadata": {},
   "outputs": [],
   "source": [
    "#Baza danych do nauki\n",
    "X = Titanic.drop('Survived',axis=1)\n",
    "y = Titanic['Survived']\n",
    "y_test = test"
   ]
  },
  {
   "cell_type": "code",
   "execution_count": null,
   "id": "17997764-8905-4d0b-8506-902226ad5d39",
   "metadata": {},
   "outputs": [],
   "source": [
    "#Modele które zostaną wykorzystane\n",
    "classifiers = [['Random Forest',RandomForestClassifier()],\n",
    "               ['AdaBoost',AdaBoostClassifier()],\n",
    "               ['Gradient Boosting',GradientBoostingClassifier()],\n",
    "               ['Support Vector Machine', SVC()], \n",
    "               ['HGBC',HistGradientBoostingClassifier()], \n",
    "               ['Naive Bayes',GaussianNB()]\n",
    "              ]\n",
    "               \n"
   ]
  },
  {
   "cell_type": "code",
   "execution_count": null,
   "id": "a6a52d9e-cc34-4a8b-8828-29c00c38af73",
   "metadata": {
    "scrolled": true
   },
   "outputs": [],
   "source": [
    "# Ocena wydajności modeli\n",
    "for metric in ['accuracy','f1']:\n",
    "    SKfold = StratifiedKFold(n_splits=6)\n",
    "    score_mean = []\n",
    "    std = []\n",
    "    \n",
    "    for model in classifiers:\n",
    "        clf = model[1]\n",
    "        cv_result = cross_val_score(clf,X,y, cv = SKfold, scoring = metric)\n",
    "        cv_result = cv_result\n",
    "        score_mean.append(cv_result.mean())\n",
    "        std.append(cv_result.std())\n",
    "        \n",
    "    models_evaluation = pd.DataFrame({metric: score_mean}, index=[i[0] for i in classifiers])\n",
    "    print(models_evaluation.sort_values(metric, ascending=False))\n",
    "    print('*'*32)"
   ]
  },
  {
   "cell_type": "markdown",
   "id": "a54f490b-024e-40c1-96f3-f7a18103be1d",
   "metadata": {},
   "source": [
    "### Fine tuning"
   ]
  },
  {
   "cell_type": "code",
   "execution_count": null,
   "id": "cc869ae4-ef82-497b-befd-9139676c78e6",
   "metadata": {
    "scrolled": true
   },
   "outputs": [],
   "source": [
    "# from sklearn.metrics import accuracy_score, f1_score, make_scorer\n",
    "# from sklearn.experimental import enable_halving_search_cv\n",
    "# from sklearn.model_selection import HalvingGridSearchCV\n",
    "# # Define parameter grids for each classifier\n",
    "# param_grids = {\n",
    "#     'Random Forest': {\n",
    "#         'n_estimators': [150, 175, 200, 225, 250, 300],\n",
    "#         'max_depth': [3, 4, 5, 6, 7]\n",
    "#     },\n",
    "#     'AdaBoost': {\n",
    "#         'n_estimators': [150, 175, 200, 225, 250],\n",
    "#         'learning_rate': [0.75, 0.85, 0.95, 1.0]\n",
    "#     },\n",
    "#     'Gradient Boosting': {\n",
    "#         'n_estimators': [75, 100, 125, 150, 200],\n",
    "#         'learning_rate': [0.1, 0.2, 0.25, 0.3, 0.35]\n",
    "#     },\n",
    "#     'Support Vector Machine': {\n",
    "#         'C': [0.025, 0.05, 0.75, 0.1, 0.15, 0.25],\n",
    "#         'kernel': ['linear', 'rbf']\n",
    "#     },\n",
    "#     'MLPC': {\n",
    "#         'max_iter': [8000],\n",
    "#         'solver' : ['adam'],\n",
    "#         'learning_rate_init' : [0.0175, 0.02, 0.0225, 0.025, 0.03],\n",
    "#         'alpha':                [0.0001, 0.00015, 0.0002, 0.00025],\n",
    "#         'hidden_layer_sizes':  [(12,12), (8,8), (6,6), (3,3,3), (7,7,7) ],\n",
    "#         'activation': ['relu', 'tanh']\n",
    "        \n",
    "#     },\n",
    "#     'HGBC': {\n",
    "#         'learning_rate': [0.05, 0.1, 0.25, 0.5, 1.0]\n",
    "#     }\n",
    "# }\n",
    "\n",
    "# classifiers = [\n",
    "#     ('Random Forest', RandomForestClassifier()),\n",
    "#     ('AdaBoost', AdaBoostClassifier()),\n",
    "#     ('Gradient Boosting', GradientBoostingClassifier()),\n",
    "#     ('Support Vector Machine', SVC()),\n",
    "#     ('MLPC', MLPClassifier()),\n",
    "#     ('HGBC', HistGradientBoostingClassifier())\n",
    "    \n",
    "# ]\n",
    "\n",
    "\n",
    "\n",
    "# # Perform GridSearchCV for each classifier with accuracy evaluation\n",
    "# for name, clf in classifiers:\n",
    "#     # Create a scoring function (using accuracy_score)\n",
    "#     param_grid = param_grids[name]\n",
    "#     # 1. Refit with a specific metric (e.g., 'accuracy')\n",
    "#     scoring = {'accuracy': make_scorer(accuracy_score), 'f1': make_scorer(f1_score)}\n",
    "#     grid_search = GridSearchCV(estimator=clf, param_grid=param_grids[name], cv=SKfold, scoring=scoring, refit='accuracy')\n",
    "\n",
    "#     # 2. No refitting (evaluate across all metrics)\n",
    "#     # scoring = {'accuracy': make_scorer(accuracy_score), 'f1': make_scorer(f1_score)}\n",
    "#     # grid_search = GridSearchCV(estimator=clf, param_grid=param_grids[name], cv=5, scoring=scoring, refit=False)\n",
    "#     #grid_search = GridSearchCV(estimator=clf, param_grid=param_grid, cv=5, scoring=scoring)  # Adjust cv as needed\n",
    "    \n",
    "#     grid_search.fit(X, y)\n",
    "\n",
    "#     # Print the best model's accuracy and parameters\n",
    "#     best_model = grid_search.best_estimator_\n",
    "#     best_score = grid_search.best_score_\n",
    "#     best_params = grid_search.best_params_\n",
    "\n",
    "#     print(f\"\\n{name} Model:\")\n",
    "#     print(f\"Best Accuracy on Training Data: {best_score:.4f}\")\n",
    "#     print(f\"Best Parameters: {best_params}\")\n",
    "\n",
    "#     # Evaluate the best model on the test set\n",
    "#     #y_pred = best_model.predict(X_test)\n",
    "#     # test_accuracy = accuracy_score(y_test, y_pred)\n",
    "#     #print(f\"Accuracy on Test Data: {test_accuracy:.4f}\")"
   ]
  },
  {
   "cell_type": "code",
   "execution_count": null,
   "id": "bfabf9b4-438f-48b2-a0b5-f07bc71193e5",
   "metadata": {},
   "outputs": [],
   "source": [
    "# from sklearn.preprocessing import PolynomialFeatures\n",
    "# # Wybierz parametry\n",
    "# features = ['Sex_Enc', 'FamilySize']\n",
    "\n",
    "# # Utwórz obiekt PolynomialFeatures\n",
    "# poly = PolynomialFeatures(degree=2, interaction_only=True)\n",
    "\n",
    "# # Przekształć dane\n",
    "# X_fare_sex = poly.fit_transform(Titanic[features])\n",
    "\n",
    "# # Dodaj kolumny z nowymi cechami do DataFrame\n",
    "# Titanic['Fare_Sex_Poly2'] = X_fare_sex[:, 1]\n",
    "# Titanic['Fare_Sex_Poly3'] = X_fare_sex[:, 2]\n",
    "\n",
    "# # Wyświetl pierwsze 5 wierszy DataFrame\n",
    "# fig, ax = plt.subplots(figsize=(9, 9))\n",
    "# sns.heatmap(Titanic.astype(float).corr(),linewidths=0.1,vmax=1.0, \n",
    "#             square=True, linecolor='white', annot=True, cmap= 'icefire', fmt=\".2f\")\n",
    "# ax.set_title('Pearson Correlation of Features', y=1.05, size=15)\n",
    "# Titanic.head(20)"
   ]
  },
  {
   "cell_type": "markdown",
   "id": "8be6b85c-da18-4b7f-a977-e596afc37b7e",
   "metadata": {},
   "source": [
    "## Weryfikacja modeli"
   ]
  },
  {
   "cell_type": "code",
   "execution_count": null,
   "id": "982dcb48-1561-48b4-9800-5bfbf2bb4eec",
   "metadata": {},
   "outputs": [],
   "source": [
    "Titanic"
   ]
  },
  {
   "cell_type": "code",
   "execution_count": null,
   "id": "9669c0f6-3310-4d57-be46-71d05aa55f88",
   "metadata": {},
   "outputs": [],
   "source": [
    "test"
   ]
  },
  {
   "cell_type": "code",
   "execution_count": null,
   "id": "dc1fe2e6-e5fb-4871-adf7-84cf53a0fa9f",
   "metadata": {},
   "outputs": [],
   "source": []
  },
  {
   "cell_type": "markdown",
   "id": "ed9d64ac-0347-4b08-88d6-db44218851eb",
   "metadata": {},
   "source": [
    "   # Evaluate accuracy on the test set\n",
    "    y_pred = best_model.predict(X_test)\n",
    "    test_accuracy = accuracy_score(y_test, y_pred)\n",
    "\n",
    "    # Print results for each model\n",
    "    print(f\"Model: {name}\")\n",
    "    print(f\"Best Parameters: {best_params}\")\n",
    "    print(f\"Test Accuracy: {test_accuracy:.4f}\")\n",
    "    print('-' * 32)"
   ]
  },
  {
   "cell_type": "markdown",
   "id": "e5ce7d8d-3c74-40d1-b510-f335529deeb8",
   "metadata": {},
   "source": [
    "## Kod zapasowy w markdown więc nie będzie się wyświetlać poprawnie\n",
    "\n",
    "---------------------------"
   ]
  },
  {
   "cell_type": "code",
   "execution_count": null,
   "id": "3a70355a-7d0f-41f6-8b5b-2071da448173",
   "metadata": {},
   "outputs": [],
   "source": []
  }
 ],
 "metadata": {
  "kernelspec": {
   "display_name": "Python 3 (ipykernel)",
   "language": "python",
   "name": "python3"
  },
  "language_info": {
   "codemirror_mode": {
    "name": "ipython",
    "version": 3
   },
   "file_extension": ".py",
   "mimetype": "text/x-python",
   "name": "python",
   "nbconvert_exporter": "python",
   "pygments_lexer": "ipython3",
   "version": "3.11.8"
  }
 },
 "nbformat": 4,
 "nbformat_minor": 5
}
