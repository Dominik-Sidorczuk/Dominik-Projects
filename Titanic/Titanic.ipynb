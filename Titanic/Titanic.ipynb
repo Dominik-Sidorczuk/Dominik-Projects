{
 "cells": [
  {
   "cell_type": "markdown",
   "id": "39a2ae39-7fce-4a1c-b4d1-e49f4497ae84",
   "metadata": {},
   "source": [
    "# Analiza zboiru danych związanych z katastrofą Titanica\n",
    "### Na podsawie poniższej analizy chciałbym zobaczyć i możliwie przewidzieć określić wpływ czynników związanych z przeżywalonością pasażerów statku"
   ]
  },
  {
   "cell_type": "markdown",
   "id": "ae2c16ab-8713-4afb-985f-1ca0d8fef01e",
   "metadata": {},
   "source": [
    "## 1. Określenie Problemu\n",
    "### Zrozumienie wpływu czynników decydujących o przezprzywalności pasażerów podczas katastrofy Titanica.\n",
    "* Czy istniała zależność czynników demofgraficznych takich jak wiek, płeć i statuś społeczny.\n",
    "* Czy lokalizacja na statku na przykłąd kabina i pokład mogły mieć wpływ  "
   ]
  },
  {
   "cell_type": "code",
   "execution_count": null,
   "id": "f53af2e2-30fa-408d-874d-d31fdaad6a15",
   "metadata": {},
   "outputs": [],
   "source": []
  }
 ],
 "metadata": {
  "kernelspec": {
   "display_name": "Python 3 (ipykernel)",
   "language": "python",
   "name": "python3"
  },
  "language_info": {
   "codemirror_mode": {
    "name": "ipython",
    "version": 3
   },
   "file_extension": ".py",
   "mimetype": "text/x-python",
   "name": "python",
   "nbconvert_exporter": "python",
   "pygments_lexer": "ipython3",
   "version": "3.11.7"
  }
 },
 "nbformat": 4,
 "nbformat_minor": 5
}
