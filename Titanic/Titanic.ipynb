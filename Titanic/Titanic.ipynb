{
 "cells": [
  {
   "cell_type": "markdown",
   "id": "39a2ae39-7fce-4a1c-b4d1-e49f4497ae84",
   "metadata": {},
   "source": [
    "# Analiza zbioru danych związanych z katastrofą Titanica\n",
    "### Na podsawie poniższej analizy chciałbym zobaczyć i możliwie określić wpływ czynników związanych z przeżywalonością pasażerów statku"
   ]
  },
  {
   "cell_type": "markdown",
   "id": "ae2c16ab-8713-4afb-985f-1ca0d8fef01e",
   "metadata": {},
   "source": [
    "## 1. Określenie Problemu\n",
    "### Zrozumienie wpływu czynników decydujących na przezprzywalności pasażerów podczas katastrofy Titanica.\n",
    "* Czy istnieje różnica w szansach przeżycia między mężczyznami a kobietami?\n",
    "* Czy klasa biletu wpływa na szanse przeżycia?\n",
    "* Czy wiek pasażera wpływa na jego szanse przeżycia?\n",
    "* Czy inne czynniki, takie jak miejsce na statku, stan cywilny lub narodowość, wpływają na szanse przeżycia?cia?"
   ]
  },
  {
   "cell_type": "markdown",
   "id": "3b4837a9-f034-4e8e-abfc-44d9c100cc02",
   "metadata": {},
   "source": [
    "## 1a. Dodatkowe pytania które chciałbym sprawdzić \n",
    "* Cena biletua, a port zaokrętowania. \n",
    "* Stan cywilny\n",
    "* Średni wiek"
   ]
  },
  {
   "cell_type": "markdown",
   "id": "c3ad1e4d-6f86-4587-a518-50af299fd94b",
   "metadata": {},
   "source": [
    "## 2. Wstępne zapoznanie się z danymi \n",
    "### Załadowanie podstawowych bibliotek, oraz bazy danych."
   ]
  },
  {
   "cell_type": "code",
   "execution_count": 905,
   "id": "a6d0b026-ce26-40c5-b8ab-44950345fa0b",
   "metadata": {},
   "outputs": [],
   "source": [
    "#Obliczenia  i analiza  danych\n",
    "import numpy as np\n",
    "import pandas as pd\n",
    "\n",
    "#wizualiacja \n",
    "import matplotlib.pyplot as plt\n",
    "import seaborn as sns\n",
    "%matplotlib inline\n",
    "#Przetwarzanie\n",
    "from sklearn.preprocessing import OneHotEncoder\n",
    "\n",
    "# Baza danych\n",
    "Titanic = pd.read_csv(\"Titanic_Database.csv\") "
   ]
  },
  {
   "cell_type": "code",
   "execution_count": 906,
   "id": "249d6a3c-1132-4453-8bdd-d1ea6aa09b7c",
   "metadata": {
    "scrolled": true
   },
   "outputs": [
    {
     "data": {
      "text/html": [
       "<div>\n",
       "<style scoped>\n",
       "    .dataframe tbody tr th:only-of-type {\n",
       "        vertical-align: middle;\n",
       "    }\n",
       "\n",
       "    .dataframe tbody tr th {\n",
       "        vertical-align: top;\n",
       "    }\n",
       "\n",
       "    .dataframe thead th {\n",
       "        text-align: right;\n",
       "    }\n",
       "</style>\n",
       "<table border=\"1\" class=\"dataframe\">\n",
       "  <thead>\n",
       "    <tr style=\"text-align: right;\">\n",
       "      <th></th>\n",
       "      <th>PassengerId</th>\n",
       "      <th>Survived</th>\n",
       "      <th>Pclass</th>\n",
       "      <th>Name</th>\n",
       "      <th>Sex</th>\n",
       "      <th>Age</th>\n",
       "      <th>SibSp</th>\n",
       "      <th>Parch</th>\n",
       "      <th>Ticket</th>\n",
       "      <th>Fare</th>\n",
       "      <th>Cabin</th>\n",
       "      <th>Embarked</th>\n",
       "    </tr>\n",
       "  </thead>\n",
       "  <tbody>\n",
       "    <tr>\n",
       "      <th>0</th>\n",
       "      <td>1</td>\n",
       "      <td>0</td>\n",
       "      <td>3</td>\n",
       "      <td>Braund, Mr. Owen Harris</td>\n",
       "      <td>male</td>\n",
       "      <td>22.0</td>\n",
       "      <td>1</td>\n",
       "      <td>0</td>\n",
       "      <td>A/5 21171</td>\n",
       "      <td>7.2500</td>\n",
       "      <td>NaN</td>\n",
       "      <td>S</td>\n",
       "    </tr>\n",
       "    <tr>\n",
       "      <th>1</th>\n",
       "      <td>2</td>\n",
       "      <td>1</td>\n",
       "      <td>1</td>\n",
       "      <td>Cumings, Mrs. John Bradley (Florence Briggs Th...</td>\n",
       "      <td>female</td>\n",
       "      <td>38.0</td>\n",
       "      <td>1</td>\n",
       "      <td>0</td>\n",
       "      <td>PC 17599</td>\n",
       "      <td>71.2833</td>\n",
       "      <td>C85</td>\n",
       "      <td>C</td>\n",
       "    </tr>\n",
       "    <tr>\n",
       "      <th>2</th>\n",
       "      <td>3</td>\n",
       "      <td>1</td>\n",
       "      <td>3</td>\n",
       "      <td>Heikkinen, Miss. Laina</td>\n",
       "      <td>female</td>\n",
       "      <td>26.0</td>\n",
       "      <td>0</td>\n",
       "      <td>0</td>\n",
       "      <td>STON/O2. 3101282</td>\n",
       "      <td>7.9250</td>\n",
       "      <td>NaN</td>\n",
       "      <td>S</td>\n",
       "    </tr>\n",
       "    <tr>\n",
       "      <th>3</th>\n",
       "      <td>4</td>\n",
       "      <td>1</td>\n",
       "      <td>1</td>\n",
       "      <td>Futrelle, Mrs. Jacques Heath (Lily May Peel)</td>\n",
       "      <td>female</td>\n",
       "      <td>35.0</td>\n",
       "      <td>1</td>\n",
       "      <td>0</td>\n",
       "      <td>113803</td>\n",
       "      <td>53.1000</td>\n",
       "      <td>C123</td>\n",
       "      <td>S</td>\n",
       "    </tr>\n",
       "    <tr>\n",
       "      <th>4</th>\n",
       "      <td>5</td>\n",
       "      <td>0</td>\n",
       "      <td>3</td>\n",
       "      <td>Allen, Mr. William Henry</td>\n",
       "      <td>male</td>\n",
       "      <td>35.0</td>\n",
       "      <td>0</td>\n",
       "      <td>0</td>\n",
       "      <td>373450</td>\n",
       "      <td>8.0500</td>\n",
       "      <td>NaN</td>\n",
       "      <td>S</td>\n",
       "    </tr>\n",
       "    <tr>\n",
       "      <th>5</th>\n",
       "      <td>6</td>\n",
       "      <td>0</td>\n",
       "      <td>3</td>\n",
       "      <td>Moran, Mr. James</td>\n",
       "      <td>male</td>\n",
       "      <td>NaN</td>\n",
       "      <td>0</td>\n",
       "      <td>0</td>\n",
       "      <td>330877</td>\n",
       "      <td>8.4583</td>\n",
       "      <td>NaN</td>\n",
       "      <td>Q</td>\n",
       "    </tr>\n",
       "    <tr>\n",
       "      <th>6</th>\n",
       "      <td>7</td>\n",
       "      <td>0</td>\n",
       "      <td>1</td>\n",
       "      <td>McCarthy, Mr. Timothy J</td>\n",
       "      <td>male</td>\n",
       "      <td>54.0</td>\n",
       "      <td>0</td>\n",
       "      <td>0</td>\n",
       "      <td>17463</td>\n",
       "      <td>51.8625</td>\n",
       "      <td>E46</td>\n",
       "      <td>S</td>\n",
       "    </tr>\n",
       "    <tr>\n",
       "      <th>7</th>\n",
       "      <td>8</td>\n",
       "      <td>0</td>\n",
       "      <td>3</td>\n",
       "      <td>Palsson, Master. Gosta Leonard</td>\n",
       "      <td>male</td>\n",
       "      <td>2.0</td>\n",
       "      <td>3</td>\n",
       "      <td>1</td>\n",
       "      <td>349909</td>\n",
       "      <td>21.0750</td>\n",
       "      <td>NaN</td>\n",
       "      <td>S</td>\n",
       "    </tr>\n",
       "  </tbody>\n",
       "</table>\n",
       "</div>"
      ],
      "text/plain": [
       "   PassengerId  Survived  Pclass  \\\n",
       "0            1         0       3   \n",
       "1            2         1       1   \n",
       "2            3         1       3   \n",
       "3            4         1       1   \n",
       "4            5         0       3   \n",
       "5            6         0       3   \n",
       "6            7         0       1   \n",
       "7            8         0       3   \n",
       "\n",
       "                                                Name     Sex   Age  SibSp  \\\n",
       "0                            Braund, Mr. Owen Harris    male  22.0      1   \n",
       "1  Cumings, Mrs. John Bradley (Florence Briggs Th...  female  38.0      1   \n",
       "2                             Heikkinen, Miss. Laina  female  26.0      0   \n",
       "3       Futrelle, Mrs. Jacques Heath (Lily May Peel)  female  35.0      1   \n",
       "4                           Allen, Mr. William Henry    male  35.0      0   \n",
       "5                                   Moran, Mr. James    male   NaN      0   \n",
       "6                            McCarthy, Mr. Timothy J    male  54.0      0   \n",
       "7                     Palsson, Master. Gosta Leonard    male   2.0      3   \n",
       "\n",
       "   Parch            Ticket     Fare Cabin Embarked  \n",
       "0      0         A/5 21171   7.2500   NaN        S  \n",
       "1      0          PC 17599  71.2833   C85        C  \n",
       "2      0  STON/O2. 3101282   7.9250   NaN        S  \n",
       "3      0            113803  53.1000  C123        S  \n",
       "4      0            373450   8.0500   NaN        S  \n",
       "5      0            330877   8.4583   NaN        Q  \n",
       "6      0             17463  51.8625   E46        S  \n",
       "7      1            349909  21.0750   NaN        S  "
      ]
     },
     "execution_count": 906,
     "metadata": {},
     "output_type": "execute_result"
    }
   ],
   "source": [
    "Titanic.head(8)"
   ]
  },
  {
   "cell_type": "code",
   "execution_count": 907,
   "id": "8e29cb48-b9fd-4e6c-a61d-7bd930cca84f",
   "metadata": {},
   "outputs": [
    {
     "name": "stdout",
     "output_type": "stream",
     "text": [
      "Index(['PassengerId', 'Survived', 'Pclass', 'Name', 'Sex', 'Age', 'SibSp',\n",
      "       'Parch', 'Ticket', 'Fare', 'Cabin', 'Embarked'],\n",
      "      dtype='object')\n"
     ]
    }
   ],
   "source": [
    "print(Titanic.columns)"
   ]
  },
  {
   "cell_type": "markdown",
   "id": "c82cca39-7cc6-4bc6-9be4-3e00bcaf200e",
   "metadata": {},
   "source": [
    "### Zbiór danych zawiera następujące informacje:\n",
    "\n",
    "*  PassengerId: Unikatowy identyfikator pasażera\n",
    "*  Survived: Czy pasażer przeżył (1) czy zginął (0)\n",
    "*  Pclass: Klasa biletu (1=pierwsza, 2=druga, 3=trzecia)\n",
    "*  Name: Imię i nazwisko pasażera, staus cywilny\n",
    "*  Sex: Płeć pasażera (male, female)\n",
    "*  Age: Wiek pasażera\n",
    "*  SibSp: Liczba rodzeństwa i/lub małżonka na pokładzie\n",
    "*  Parch: Liczba rodziców i/lub dzieci na pokładzie\n",
    "*  Ticket: Numer biletu\n",
    "*  Fare: Cena biletu\n",
    "*  Cabin: Numer kabiny\n",
    "*  Embarked: Port zaokrętowania (C = Cherbourg, Q = Queenstown, S = Southampton)"
   ]
  },
  {
   "cell_type": "code",
   "execution_count": 908,
   "id": "d54717ce-871f-420f-8178-3cb51d25771c",
   "metadata": {},
   "outputs": [
    {
     "data": {
      "text/html": [
       "<div>\n",
       "<style scoped>\n",
       "    .dataframe tbody tr th:only-of-type {\n",
       "        vertical-align: middle;\n",
       "    }\n",
       "\n",
       "    .dataframe tbody tr th {\n",
       "        vertical-align: top;\n",
       "    }\n",
       "\n",
       "    .dataframe thead th {\n",
       "        text-align: right;\n",
       "    }\n",
       "</style>\n",
       "<table border=\"1\" class=\"dataframe\">\n",
       "  <thead>\n",
       "    <tr style=\"text-align: right;\">\n",
       "      <th></th>\n",
       "      <th>PassengerId</th>\n",
       "      <th>Survived</th>\n",
       "      <th>Pclass</th>\n",
       "      <th>Age</th>\n",
       "      <th>SibSp</th>\n",
       "      <th>Parch</th>\n",
       "      <th>Fare</th>\n",
       "    </tr>\n",
       "  </thead>\n",
       "  <tbody>\n",
       "    <tr>\n",
       "      <th>count</th>\n",
       "      <td>891.000000</td>\n",
       "      <td>891.000000</td>\n",
       "      <td>891.000000</td>\n",
       "      <td>714.000000</td>\n",
       "      <td>891.000000</td>\n",
       "      <td>891.000000</td>\n",
       "      <td>891.000000</td>\n",
       "    </tr>\n",
       "    <tr>\n",
       "      <th>mean</th>\n",
       "      <td>446.000000</td>\n",
       "      <td>0.383838</td>\n",
       "      <td>2.308642</td>\n",
       "      <td>29.699118</td>\n",
       "      <td>0.523008</td>\n",
       "      <td>0.381594</td>\n",
       "      <td>32.204208</td>\n",
       "    </tr>\n",
       "    <tr>\n",
       "      <th>std</th>\n",
       "      <td>257.353842</td>\n",
       "      <td>0.486592</td>\n",
       "      <td>0.836071</td>\n",
       "      <td>14.526497</td>\n",
       "      <td>1.102743</td>\n",
       "      <td>0.806057</td>\n",
       "      <td>49.693429</td>\n",
       "    </tr>\n",
       "    <tr>\n",
       "      <th>min</th>\n",
       "      <td>1.000000</td>\n",
       "      <td>0.000000</td>\n",
       "      <td>1.000000</td>\n",
       "      <td>0.420000</td>\n",
       "      <td>0.000000</td>\n",
       "      <td>0.000000</td>\n",
       "      <td>0.000000</td>\n",
       "    </tr>\n",
       "    <tr>\n",
       "      <th>25%</th>\n",
       "      <td>223.500000</td>\n",
       "      <td>0.000000</td>\n",
       "      <td>2.000000</td>\n",
       "      <td>20.125000</td>\n",
       "      <td>0.000000</td>\n",
       "      <td>0.000000</td>\n",
       "      <td>7.910400</td>\n",
       "    </tr>\n",
       "    <tr>\n",
       "      <th>50%</th>\n",
       "      <td>446.000000</td>\n",
       "      <td>0.000000</td>\n",
       "      <td>3.000000</td>\n",
       "      <td>28.000000</td>\n",
       "      <td>0.000000</td>\n",
       "      <td>0.000000</td>\n",
       "      <td>14.454200</td>\n",
       "    </tr>\n",
       "    <tr>\n",
       "      <th>75%</th>\n",
       "      <td>668.500000</td>\n",
       "      <td>1.000000</td>\n",
       "      <td>3.000000</td>\n",
       "      <td>38.000000</td>\n",
       "      <td>1.000000</td>\n",
       "      <td>0.000000</td>\n",
       "      <td>31.000000</td>\n",
       "    </tr>\n",
       "    <tr>\n",
       "      <th>max</th>\n",
       "      <td>891.000000</td>\n",
       "      <td>1.000000</td>\n",
       "      <td>3.000000</td>\n",
       "      <td>80.000000</td>\n",
       "      <td>8.000000</td>\n",
       "      <td>6.000000</td>\n",
       "      <td>512.329200</td>\n",
       "    </tr>\n",
       "  </tbody>\n",
       "</table>\n",
       "</div>"
      ],
      "text/plain": [
       "       PassengerId    Survived      Pclass         Age       SibSp  \\\n",
       "count   891.000000  891.000000  891.000000  714.000000  891.000000   \n",
       "mean    446.000000    0.383838    2.308642   29.699118    0.523008   \n",
       "std     257.353842    0.486592    0.836071   14.526497    1.102743   \n",
       "min       1.000000    0.000000    1.000000    0.420000    0.000000   \n",
       "25%     223.500000    0.000000    2.000000   20.125000    0.000000   \n",
       "50%     446.000000    0.000000    3.000000   28.000000    0.000000   \n",
       "75%     668.500000    1.000000    3.000000   38.000000    1.000000   \n",
       "max     891.000000    1.000000    3.000000   80.000000    8.000000   \n",
       "\n",
       "            Parch        Fare  \n",
       "count  891.000000  891.000000  \n",
       "mean     0.381594   32.204208  \n",
       "std      0.806057   49.693429  \n",
       "min      0.000000    0.000000  \n",
       "25%      0.000000    7.910400  \n",
       "50%      0.000000   14.454200  \n",
       "75%      0.000000   31.000000  \n",
       "max      6.000000  512.329200  "
      ]
     },
     "execution_count": 908,
     "metadata": {},
     "output_type": "execute_result"
    }
   ],
   "source": [
    "Titanic.describe()"
   ]
  },
  {
   "cell_type": "markdown",
   "id": "0a86e0fa-f3a8-402a-a05c-01c97c6746a6",
   "metadata": {},
   "source": [
    "## 3. Czyszczenie i przygotowanie danych"
   ]
  },
  {
   "cell_type": "code",
   "execution_count": 909,
   "id": "681260da-3c2c-4778-9343-e38a25760c9a",
   "metadata": {},
   "outputs": [
    {
     "name": "stdout",
     "output_type": "stream",
     "text": [
      "PassengerId      0\n",
      "Survived         0\n",
      "Pclass           0\n",
      "Name             0\n",
      "Sex              0\n",
      "Age            177\n",
      "SibSp            0\n",
      "Parch            0\n",
      "Ticket           0\n",
      "Fare             0\n",
      "Cabin          687\n",
      "Embarked         2\n",
      "dtype: int64\n"
     ]
    }
   ],
   "source": [
    "#Sprawdzenie wartości zerowych\n",
    "print(pd.isnull(Titanic).sum())"
   ]
  },
  {
   "cell_type": "markdown",
   "id": "7c1c95f5-7abf-47b1-b19b-090bef446a1e",
   "metadata": {},
   "source": [
    "####  Określenie stanu cywilnego danego paseżera."
   ]
  },
  {
   "cell_type": "code",
   "execution_count": 910,
   "id": "6982a429-be4c-49e3-86fd-9ba17d28ad90",
   "metadata": {},
   "outputs": [
    {
     "name": "stdout",
     "output_type": "stream",
     "text": [
      "Title\n",
      "Mr              0.580247\n",
      "Miss            0.207632\n",
      "Mrs             0.141414\n",
      "Master          0.044893\n",
      "Rare            0.024691\n",
      "the Countess    0.001122\n",
      "Name: proportion, dtype: float64\n"
     ]
    }
   ],
   "source": [
    "def get_title(name):\n",
    "    # Wyodrębnij prefix z imienia\n",
    "    title = name.split(',')[1].split('.')[0].strip()\n",
    "    if title in ['Lady', 'Countess', 'Capt', 'Col', 'Don', 'Dr', 'Major', 'Rev', 'Sir', 'Jonkheer', 'Dona']:\n",
    "        return 'Rare'\n",
    "    elif title in ['Mlle']:\n",
    "        return 'Miss'\n",
    "    elif title in ['Ms']:\n",
    "        return 'Miss'\n",
    "    elif title in ['Mme']:\n",
    "        return 'Mrs'\n",
    "    else:\n",
    "        return title\n",
    "Titanic['Title'] = Titanic['Name'].apply(get_title)\n",
    "title_percentages = Titanic['Title'].value_counts(normalize=True)\n",
    "print(title_percentages)"
   ]
  },
  {
   "cell_type": "code",
   "execution_count": 911,
   "id": "33d3d3f7-3e7e-42a5-b0ff-dd4a1d23a316",
   "metadata": {
    "scrolled": true
   },
   "outputs": [],
   "source": [
    "drop_elements = ['Name','PassengerId', 'Ticket', 'Cabin']\n",
    "Titanic = Titanic.drop(drop_elements, axis = 1)"
   ]
  },
  {
   "cell_type": "markdown",
   "id": "3913f4f5-5d0b-43b4-80ae-4a7e8a6c1221",
   "metadata": {},
   "source": [
    "### OneHotencodowanie danych categorycznych"
   ]
  },
  {
   "cell_type": "code",
   "execution_count": 912,
   "id": "5638ad0c-cf43-401a-a04c-45c790444fdd",
   "metadata": {},
   "outputs": [],
   "source": [
    "# Utwórz OneHotEncoder\n",
    "ohe = OneHotEncoder(sparse_output=False)\n",
    "# Zdefiniuj kolumny do zenkodowania\n",
    "categorical_features = ['Sex', 'Embarked', 'Title']\n",
    "# Zenkoduj kolumny\n",
    "encoded_features = ohe.fit_transform(Titanic[categorical_features])\n",
    "# Dodaj zakodowane kolumny do DataFrame\n",
    "for i, col in enumerate(categorical_features):\n",
    "    Titanic[col + \"_ohe\"] = encoded_features[:, i]\n",
    "# Usuń oryginalne kolumny\n",
    "Titanic.drop(columns=categorical_features, inplace=True)\n",
    "#title_mapping = {\"Mr\": 1, \"Miss\": 2, \"Mrs\": 3, \"Master\": 4, \"Rare\": 5}\n",
    "#Titanic['Title'] = Titanic['Title'].map(title_mapping)\n",
    "#Titanic['Title'] = Titanic['Title']\n",
    "#Titanic['Title'].value_counts()\n"
   ]
  },
  {
   "cell_type": "code",
   "execution_count": 913,
   "id": "a0c7902b-2008-4104-8c97-1fe0fdcc9e01",
   "metadata": {},
   "outputs": [
    {
     "data": {
      "text/plain": [
       "count    891.000000\n",
       "mean      32.204208\n",
       "std       49.693429\n",
       "min        0.000000\n",
       "25%        7.910400\n",
       "50%       14.454200\n",
       "75%       31.000000\n",
       "max      512.329200\n",
       "Name: Fare, dtype: float64"
      ]
     },
     "execution_count": 913,
     "metadata": {},
     "output_type": "execute_result"
    }
   ],
   "source": [
    "Titanic['Fare'].describe()"
   ]
  },
  {
   "cell_type": "code",
   "execution_count": 914,
   "id": "f892c7cb-091e-4500-b426-6c3e59d9cd6d",
   "metadata": {},
   "outputs": [
    {
     "data": {
      "text/plain": [
       "Fare\n",
       "2.0    233\n",
       "1.0    224\n",
       "0.0    223\n",
       "3.0    211\n",
       "Name: count, dtype: int64"
      ]
     },
     "execution_count": 914,
     "metadata": {},
     "output_type": "execute_result"
    }
   ],
   "source": [
    "# Mapping Fare\n",
    "Titanic.loc[Titanic['Fare'] <=  7.895800,                                 'Fare'] = 0\n",
    "Titanic.loc[(Titanic['Fare'] >  7.895800) & (Titanic['Fare'] <= 14.4542), 'Fare'] = 1\n",
    "Titanic.loc[(Titanic['Fare'] > 14.4542)   & (Titanic['Fare'] <=  31.5),   'Fare'] = 2\n",
    "Titanic.loc[Titanic['Fare'] >  31.5,                                      'Fare'] = 3\n",
    "Titanic['Fare'].value_counts()"
   ]
  },
  {
   "cell_type": "markdown",
   "id": "4157e531-a7e3-4c53-adef-3ac46d4ba7ba",
   "metadata": {},
   "source": [
    "#### Feature selection"
   ]
  },
  {
   "cell_type": "code",
   "execution_count": 915,
   "id": "b420ae08-25b0-488e-ba7b-76a986dac83f",
   "metadata": {},
   "outputs": [
    {
     "data": {
      "text/html": [
       "<div>\n",
       "<style scoped>\n",
       "    .dataframe tbody tr th:only-of-type {\n",
       "        vertical-align: middle;\n",
       "    }\n",
       "\n",
       "    .dataframe tbody tr th {\n",
       "        vertical-align: top;\n",
       "    }\n",
       "\n",
       "    .dataframe thead th {\n",
       "        text-align: right;\n",
       "    }\n",
       "</style>\n",
       "<table border=\"1\" class=\"dataframe\">\n",
       "  <thead>\n",
       "    <tr style=\"text-align: right;\">\n",
       "      <th></th>\n",
       "      <th>Survived</th>\n",
       "      <th>Pclass</th>\n",
       "      <th>Age</th>\n",
       "      <th>SibSp</th>\n",
       "      <th>Parch</th>\n",
       "      <th>Fare</th>\n",
       "      <th>Sex_ohe</th>\n",
       "      <th>Embarked_ohe</th>\n",
       "      <th>Title_ohe</th>\n",
       "    </tr>\n",
       "  </thead>\n",
       "  <tbody>\n",
       "    <tr>\n",
       "      <th>0</th>\n",
       "      <td>0</td>\n",
       "      <td>3</td>\n",
       "      <td>22.0</td>\n",
       "      <td>1</td>\n",
       "      <td>0</td>\n",
       "      <td>0.0</td>\n",
       "      <td>0.0</td>\n",
       "      <td>1.0</td>\n",
       "      <td>0.0</td>\n",
       "    </tr>\n",
       "    <tr>\n",
       "      <th>1</th>\n",
       "      <td>1</td>\n",
       "      <td>1</td>\n",
       "      <td>38.0</td>\n",
       "      <td>1</td>\n",
       "      <td>0</td>\n",
       "      <td>3.0</td>\n",
       "      <td>1.0</td>\n",
       "      <td>0.0</td>\n",
       "      <td>1.0</td>\n",
       "    </tr>\n",
       "    <tr>\n",
       "      <th>2</th>\n",
       "      <td>1</td>\n",
       "      <td>3</td>\n",
       "      <td>26.0</td>\n",
       "      <td>0</td>\n",
       "      <td>0</td>\n",
       "      <td>1.0</td>\n",
       "      <td>1.0</td>\n",
       "      <td>0.0</td>\n",
       "      <td>0.0</td>\n",
       "    </tr>\n",
       "    <tr>\n",
       "      <th>3</th>\n",
       "      <td>1</td>\n",
       "      <td>1</td>\n",
       "      <td>35.0</td>\n",
       "      <td>1</td>\n",
       "      <td>0</td>\n",
       "      <td>3.0</td>\n",
       "      <td>1.0</td>\n",
       "      <td>0.0</td>\n",
       "      <td>0.0</td>\n",
       "    </tr>\n",
       "    <tr>\n",
       "      <th>4</th>\n",
       "      <td>0</td>\n",
       "      <td>3</td>\n",
       "      <td>35.0</td>\n",
       "      <td>0</td>\n",
       "      <td>0</td>\n",
       "      <td>1.0</td>\n",
       "      <td>0.0</td>\n",
       "      <td>1.0</td>\n",
       "      <td>0.0</td>\n",
       "    </tr>\n",
       "  </tbody>\n",
       "</table>\n",
       "</div>"
      ],
      "text/plain": [
       "   Survived  Pclass   Age  SibSp  Parch  Fare  Sex_ohe  Embarked_ohe  \\\n",
       "0         0       3  22.0      1      0   0.0      0.0           1.0   \n",
       "1         1       1  38.0      1      0   3.0      1.0           0.0   \n",
       "2         1       3  26.0      0      0   1.0      1.0           0.0   \n",
       "3         1       1  35.0      1      0   3.0      1.0           0.0   \n",
       "4         0       3  35.0      0      0   1.0      0.0           1.0   \n",
       "\n",
       "   Title_ohe  \n",
       "0        0.0  \n",
       "1        1.0  \n",
       "2        0.0  \n",
       "3        0.0  \n",
       "4        0.0  "
      ]
     },
     "execution_count": 915,
     "metadata": {},
     "output_type": "execute_result"
    }
   ],
   "source": [
    "Titanic.head()"
   ]
  },
  {
   "cell_type": "markdown",
   "id": "dccc48ac-9146-44f9-a204-ceced1d44d17",
   "metadata": {},
   "source": [
    "## 4. Wizualizacja i ekspoloracja wzorców"
   ]
  },
  {
   "cell_type": "code",
   "execution_count": 916,
   "id": "3b43f930-93b0-43d2-bc55-53ae3bf5d45e",
   "metadata": {
    "scrolled": true
   },
   "outputs": [
    {
     "data": {
      "text/html": [
       "<div>\n",
       "<style scoped>\n",
       "    .dataframe tbody tr th:only-of-type {\n",
       "        vertical-align: middle;\n",
       "    }\n",
       "\n",
       "    .dataframe tbody tr th {\n",
       "        vertical-align: top;\n",
       "    }\n",
       "\n",
       "    .dataframe thead th {\n",
       "        text-align: right;\n",
       "    }\n",
       "</style>\n",
       "<table border=\"1\" class=\"dataframe\">\n",
       "  <thead>\n",
       "    <tr style=\"text-align: right;\">\n",
       "      <th></th>\n",
       "      <th>Survived</th>\n",
       "      <th>Pclass</th>\n",
       "      <th>Age</th>\n",
       "      <th>SibSp</th>\n",
       "      <th>Parch</th>\n",
       "      <th>Fare</th>\n",
       "      <th>Embarked_ohe</th>\n",
       "      <th>Title_ohe</th>\n",
       "    </tr>\n",
       "    <tr>\n",
       "      <th>Sex_ohe</th>\n",
       "      <th></th>\n",
       "      <th></th>\n",
       "      <th></th>\n",
       "      <th></th>\n",
       "      <th></th>\n",
       "      <th></th>\n",
       "      <th></th>\n",
       "      <th></th>\n",
       "    </tr>\n",
       "  </thead>\n",
       "  <tbody>\n",
       "    <tr>\n",
       "      <th>0.0</th>\n",
       "      <td>0.188908</td>\n",
       "      <td>2.389948</td>\n",
       "      <td>30.726645</td>\n",
       "      <td>0.429809</td>\n",
       "      <td>0.235702</td>\n",
       "      <td>1.289428</td>\n",
       "      <td>1.0</td>\n",
       "      <td>0.164645</td>\n",
       "    </tr>\n",
       "    <tr>\n",
       "      <th>1.0</th>\n",
       "      <td>0.742038</td>\n",
       "      <td>2.159236</td>\n",
       "      <td>27.915709</td>\n",
       "      <td>0.694268</td>\n",
       "      <td>0.649682</td>\n",
       "      <td>1.843949</td>\n",
       "      <td>0.0</td>\n",
       "      <td>0.232484</td>\n",
       "    </tr>\n",
       "  </tbody>\n",
       "</table>\n",
       "</div>"
      ],
      "text/plain": [
       "         Survived    Pclass        Age     SibSp     Parch      Fare  \\\n",
       "Sex_ohe                                                                \n",
       "0.0      0.188908  2.389948  30.726645  0.429809  0.235702  1.289428   \n",
       "1.0      0.742038  2.159236  27.915709  0.694268  0.649682  1.843949   \n",
       "\n",
       "         Embarked_ohe  Title_ohe  \n",
       "Sex_ohe                           \n",
       "0.0               1.0   0.164645  \n",
       "1.0               0.0   0.232484  "
      ]
     },
     "execution_count": 916,
     "metadata": {},
     "output_type": "execute_result"
    }
   ],
   "source": [
    "Titanic.groupby('Sex_ohe').mean()"
   ]
  },
  {
   "cell_type": "code",
   "execution_count": 917,
   "id": "9b1c6bac-4513-4e93-8854-068c9564076e",
   "metadata": {},
   "outputs": [
    {
     "data": {
      "text/plain": [
       "<Axes: title={'center': 'Pearson Correlation of Features'}>"
      ]
     },
     "execution_count": 917,
     "metadata": {},
     "output_type": "execute_result"
    },
    {
     "data": {
      "image/png": "[encoded data removed]",
      "text/plain": [
       "<Figure size 1400x1200 with 2 Axes>"
      ]
     },
     "metadata": {},
     "output_type": "display_data"
    }
   ],
   "source": [
    "colormap = plt.cm.RdBu\n",
    "plt.figure(figsize=(9,9))\n",
    "plt.title('Pearson Correlation of Features', y=1.05, size=15)\n",
    "sns.heatmap(Titanic.astype(float).corr(),linewidths=0.1,vmax=1.0, \n",
    "            square=True, cmap=colormap, linecolor='white', annot=True)"
   ]
  },
  {
   "cell_type": "code",
   "execution_count": null,
   "id": "b44ede36-0238-4f24-952b-180f15e045e6",
   "metadata": {},
   "outputs": [],
   "source": []
  }
 ],
 "metadata": {
  "kernelspec": {
   "display_name": "Python 3 (ipykernel)",
   "language": "python",
   "name": "python3"
  },
  "language_info": {
   "codemirror_mode": {
    "name": "ipython",
    "version": 3
   },
   "file_extension": ".py",
   "mimetype": "text/x-python",
   "name": "python",
   "nbconvert_exporter": "python",
   "pygments_lexer": "ipython3",
   "version": "3.11.7"
  }
 },
 "nbformat": 4,
 "nbformat_minor": 5
}
