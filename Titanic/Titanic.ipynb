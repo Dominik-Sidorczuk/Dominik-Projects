{
 "cells": [
  {
   "cell_type": "markdown",
   "id": "39a2ae39-7fce-4a1c-b4d1-e49f4497ae84",
   "metadata": {},
   "source": [
    "# Analiza zbioru danych związanych z katastrofą Titanica\n",
    "### Na podsawie poniższej analizy chciałbym zobaczyć i określić czynniki związane z przeżywalonością pasażerów statku, oraz określić który z modeli predykcyjnych poradzi sobie z określeniem który z pasażerów ma największą szansę przeżycia"
   ]
  },
  {
   "cell_type": "markdown",
   "id": "ae2c16ab-8713-4afb-985f-1ca0d8fef01e",
   "metadata": {
    "jp-MarkdownHeadingCollapsed": true
   },
   "source": [
    "## 1. Określenie Problemu\n",
    "### Zrozumienie wpływu czynników decydujących na przezprzywalności pasażerów podczas katastrofy Titanica.\n",
    "* Czy istnieje różnica w szansach przeżycia między mężczyznami a kobietami?\n",
    "* Czy klasa biletu związna była z większą szansą przeżycia?\n",
    "* Czy wiek pasażera miał wpływ na jego szanse przeżycia?\n",
    "* Czy inne czynniki, takie jak stan cywilny, wielkość rodziny, bądz miejsce na statku miały istone znaczenie."
   ]
  },
  {
   "cell_type": "markdown",
   "id": "c3ad1e4d-6f86-4587-a518-50af299fd94b",
   "metadata": {},
   "source": [
    "## 2. Wstępne zapoznanie się z danymi \n",
    "### Załadowanie podstawowych bibliotek, oraz bazy danych."
   ]
  },
  {
   "cell_type": "code",
   "execution_count": 1,
   "id": "a6d0b026-ce26-40c5-b8ab-44950345fa0b",
   "metadata": {},
   "outputs": [],
   "source": [
    "#Obliczenia  i analiza  danych\n",
    "import numpy as np\n",
    "import pandas as pd\n",
    "\n",
    "#wizualiacja \n",
    "import matplotlib.pyplot as plt\n",
    "import seaborn as sns\n",
    "sns.set_theme(style=\"whitegrid\")\n",
    "sns.set_palette('icefire_r', 2)\n",
    "\n",
    "\n",
    "%matplotlib inline\n",
    "#Przetwarzanie\n",
    "\n",
    "from sklearn.preprocessing import OneHotEncoder\n",
    "\n",
    "# Baza danych\n",
    "Titanic = pd.read_csv(\"Titanic_Database.csv\") "
   ]
  },
  {
   "cell_type": "code",
   "execution_count": 2,
   "id": "249d6a3c-1132-4453-8bdd-d1ea6aa09b7c",
   "metadata": {
    "scrolled": true
   },
   "outputs": [
    {
     "data": {
      "text/html": [
       "<div>\n",
       "<style scoped>\n",
       "    .dataframe tbody tr th:only-of-type {\n",
       "        vertical-align: middle;\n",
       "    }\n",
       "\n",
       "    .dataframe tbody tr th {\n",
       "        vertical-align: top;\n",
       "    }\n",
       "\n",
       "    .dataframe thead th {\n",
       "        text-align: right;\n",
       "    }\n",
       "</style>\n",
       "<table border=\"1\" class=\"dataframe\">\n",
       "  <thead>\n",
       "    <tr style=\"text-align: right;\">\n",
       "      <th></th>\n",
       "      <th>PassengerId</th>\n",
       "      <th>Survived</th>\n",
       "      <th>Pclass</th>\n",
       "      <th>Name</th>\n",
       "      <th>Sex</th>\n",
       "      <th>Age</th>\n",
       "      <th>SibSp</th>\n",
       "      <th>Parch</th>\n",
       "      <th>Ticket</th>\n",
       "      <th>Fare</th>\n",
       "      <th>Cabin</th>\n",
       "      <th>Embarked</th>\n",
       "    </tr>\n",
       "  </thead>\n",
       "  <tbody>\n",
       "    <tr>\n",
       "      <th>0</th>\n",
       "      <td>1</td>\n",
       "      <td>0</td>\n",
       "      <td>3</td>\n",
       "      <td>Braund, Mr. Owen Harris</td>\n",
       "      <td>male</td>\n",
       "      <td>22.0</td>\n",
       "      <td>1</td>\n",
       "      <td>0</td>\n",
       "      <td>A/5 21171</td>\n",
       "      <td>7.2500</td>\n",
       "      <td>NaN</td>\n",
       "      <td>S</td>\n",
       "    </tr>\n",
       "    <tr>\n",
       "      <th>1</th>\n",
       "      <td>2</td>\n",
       "      <td>1</td>\n",
       "      <td>1</td>\n",
       "      <td>Cumings, Mrs. John Bradley (Florence Briggs Th...</td>\n",
       "      <td>female</td>\n",
       "      <td>38.0</td>\n",
       "      <td>1</td>\n",
       "      <td>0</td>\n",
       "      <td>PC 17599</td>\n",
       "      <td>71.2833</td>\n",
       "      <td>C85</td>\n",
       "      <td>C</td>\n",
       "    </tr>\n",
       "    <tr>\n",
       "      <th>2</th>\n",
       "      <td>3</td>\n",
       "      <td>1</td>\n",
       "      <td>3</td>\n",
       "      <td>Heikkinen, Miss. Laina</td>\n",
       "      <td>female</td>\n",
       "      <td>26.0</td>\n",
       "      <td>0</td>\n",
       "      <td>0</td>\n",
       "      <td>STON/O2. 3101282</td>\n",
       "      <td>7.9250</td>\n",
       "      <td>NaN</td>\n",
       "      <td>S</td>\n",
       "    </tr>\n",
       "    <tr>\n",
       "      <th>3</th>\n",
       "      <td>4</td>\n",
       "      <td>1</td>\n",
       "      <td>1</td>\n",
       "      <td>Futrelle, Mrs. Jacques Heath (Lily May Peel)</td>\n",
       "      <td>female</td>\n",
       "      <td>35.0</td>\n",
       "      <td>1</td>\n",
       "      <td>0</td>\n",
       "      <td>113803</td>\n",
       "      <td>53.1000</td>\n",
       "      <td>C123</td>\n",
       "      <td>S</td>\n",
       "    </tr>\n",
       "    <tr>\n",
       "      <th>4</th>\n",
       "      <td>5</td>\n",
       "      <td>0</td>\n",
       "      <td>3</td>\n",
       "      <td>Allen, Mr. William Henry</td>\n",
       "      <td>male</td>\n",
       "      <td>35.0</td>\n",
       "      <td>0</td>\n",
       "      <td>0</td>\n",
       "      <td>373450</td>\n",
       "      <td>8.0500</td>\n",
       "      <td>NaN</td>\n",
       "      <td>S</td>\n",
       "    </tr>\n",
       "    <tr>\n",
       "      <th>5</th>\n",
       "      <td>6</td>\n",
       "      <td>0</td>\n",
       "      <td>3</td>\n",
       "      <td>Moran, Mr. James</td>\n",
       "      <td>male</td>\n",
       "      <td>NaN</td>\n",
       "      <td>0</td>\n",
       "      <td>0</td>\n",
       "      <td>330877</td>\n",
       "      <td>8.4583</td>\n",
       "      <td>NaN</td>\n",
       "      <td>Q</td>\n",
       "    </tr>\n",
       "    <tr>\n",
       "      <th>6</th>\n",
       "      <td>7</td>\n",
       "      <td>0</td>\n",
       "      <td>1</td>\n",
       "      <td>McCarthy, Mr. Timothy J</td>\n",
       "      <td>male</td>\n",
       "      <td>54.0</td>\n",
       "      <td>0</td>\n",
       "      <td>0</td>\n",
       "      <td>17463</td>\n",
       "      <td>51.8625</td>\n",
       "      <td>E46</td>\n",
       "      <td>S</td>\n",
       "    </tr>\n",
       "    <tr>\n",
       "      <th>7</th>\n",
       "      <td>8</td>\n",
       "      <td>0</td>\n",
       "      <td>3</td>\n",
       "      <td>Palsson, Master. Gosta Leonard</td>\n",
       "      <td>male</td>\n",
       "      <td>2.0</td>\n",
       "      <td>3</td>\n",
       "      <td>1</td>\n",
       "      <td>349909</td>\n",
       "      <td>21.0750</td>\n",
       "      <td>NaN</td>\n",
       "      <td>S</td>\n",
       "    </tr>\n",
       "  </tbody>\n",
       "</table>\n",
       "</div>"
      ],
      "text/plain": [
       "   PassengerId  Survived  Pclass  \\\n",
       "0            1         0       3   \n",
       "1            2         1       1   \n",
       "2            3         1       3   \n",
       "3            4         1       1   \n",
       "4            5         0       3   \n",
       "5            6         0       3   \n",
       "6            7         0       1   \n",
       "7            8         0       3   \n",
       "\n",
       "                                                Name     Sex   Age  SibSp  \\\n",
       "0                            Braund, Mr. Owen Harris    male  22.0      1   \n",
       "1  Cumings, Mrs. John Bradley (Florence Briggs Th...  female  38.0      1   \n",
       "2                             Heikkinen, Miss. Laina  female  26.0      0   \n",
       "3       Futrelle, Mrs. Jacques Heath (Lily May Peel)  female  35.0      1   \n",
       "4                           Allen, Mr. William Henry    male  35.0      0   \n",
       "5                                   Moran, Mr. James    male   NaN      0   \n",
       "6                            McCarthy, Mr. Timothy J    male  54.0      0   \n",
       "7                     Palsson, Master. Gosta Leonard    male   2.0      3   \n",
       "\n",
       "   Parch            Ticket     Fare Cabin Embarked  \n",
       "0      0         A/5 21171   7.2500   NaN        S  \n",
       "1      0          PC 17599  71.2833   C85        C  \n",
       "2      0  STON/O2. 3101282   7.9250   NaN        S  \n",
       "3      0            113803  53.1000  C123        S  \n",
       "4      0            373450   8.0500   NaN        S  \n",
       "5      0            330877   8.4583   NaN        Q  \n",
       "6      0             17463  51.8625   E46        S  \n",
       "7      1            349909  21.0750   NaN        S  "
      ]
     },
     "execution_count": 2,
     "metadata": {},
     "output_type": "execute_result"
    }
   ],
   "source": [
    "Titanic.head(8)"
   ]
  },
  {
   "cell_type": "code",
   "execution_count": 3,
   "id": "8e29cb48-b9fd-4e6c-a61d-7bd930cca84f",
   "metadata": {},
   "outputs": [
    {
     "name": "stdout",
     "output_type": "stream",
     "text": [
      "Index(['PassengerId', 'Survived', 'Pclass', 'Name', 'Sex', 'Age', 'SibSp',\n",
      "       'Parch', 'Ticket', 'Fare', 'Cabin', 'Embarked'],\n",
      "      dtype='object')\n"
     ]
    }
   ],
   "source": [
    "print(Titanic.columns)"
   ]
  },
  {
   "cell_type": "markdown",
   "id": "c82cca39-7cc6-4bc6-9be4-3e00bcaf200e",
   "metadata": {},
   "source": [
    "### Zbiór danych zawiera następujące informacje:\n",
    "\n",
    "*  PassengerId: Unikatowy identyfikator pasażera\n",
    "*  Survived: Czy pasażer przeżył (1) czy zginął (0)\n",
    "*  Pclass: Klasa biletu (1=pierwsza, 2=druga, 3=trzecia)\n",
    "*  Name: Imię i nazwisko pasażera, staus cywilny\n",
    "*  Sex: Płeć pasażera (male, female)\n",
    "*  Age: Wiek pasażera\n",
    "*  SibSp: Liczba rodzeństwa i/lub małżonka na pokładzie\n",
    "*  Parch: Liczba rodziców i/lub dzieci na pokładzie\n",
    "*  Ticket: Numer biletu\n",
    "*  Fare: Cena biletu\n",
    "*  Cabin: Numer kabiny\n",
    "*  Embarked: Port zaokrętowania (C = Cherbourg, Q = Queenstown, S = Southampton)"
   ]
  },
  {
   "cell_type": "code",
   "execution_count": 4,
   "id": "d54717ce-871f-420f-8178-3cb51d25771c",
   "metadata": {},
   "outputs": [
    {
     "data": {
      "text/html": [
       "<div>\n",
       "<style scoped>\n",
       "    .dataframe tbody tr th:only-of-type {\n",
       "        vertical-align: middle;\n",
       "    }\n",
       "\n",
       "    .dataframe tbody tr th {\n",
       "        vertical-align: top;\n",
       "    }\n",
       "\n",
       "    .dataframe thead th {\n",
       "        text-align: right;\n",
       "    }\n",
       "</style>\n",
       "<table border=\"1\" class=\"dataframe\">\n",
       "  <thead>\n",
       "    <tr style=\"text-align: right;\">\n",
       "      <th></th>\n",
       "      <th>PassengerId</th>\n",
       "      <th>Survived</th>\n",
       "      <th>Pclass</th>\n",
       "      <th>Age</th>\n",
       "      <th>SibSp</th>\n",
       "      <th>Parch</th>\n",
       "      <th>Fare</th>\n",
       "    </tr>\n",
       "  </thead>\n",
       "  <tbody>\n",
       "    <tr>\n",
       "      <th>count</th>\n",
       "      <td>891.000000</td>\n",
       "      <td>891.000000</td>\n",
       "      <td>891.000000</td>\n",
       "      <td>714.000000</td>\n",
       "      <td>891.000000</td>\n",
       "      <td>891.000000</td>\n",
       "      <td>891.000000</td>\n",
       "    </tr>\n",
       "    <tr>\n",
       "      <th>mean</th>\n",
       "      <td>446.000000</td>\n",
       "      <td>0.383838</td>\n",
       "      <td>2.308642</td>\n",
       "      <td>29.699118</td>\n",
       "      <td>0.523008</td>\n",
       "      <td>0.381594</td>\n",
       "      <td>32.204208</td>\n",
       "    </tr>\n",
       "    <tr>\n",
       "      <th>std</th>\n",
       "      <td>257.353842</td>\n",
       "      <td>0.486592</td>\n",
       "      <td>0.836071</td>\n",
       "      <td>14.526497</td>\n",
       "      <td>1.102743</td>\n",
       "      <td>0.806057</td>\n",
       "      <td>49.693429</td>\n",
       "    </tr>\n",
       "    <tr>\n",
       "      <th>min</th>\n",
       "      <td>1.000000</td>\n",
       "      <td>0.000000</td>\n",
       "      <td>1.000000</td>\n",
       "      <td>0.420000</td>\n",
       "      <td>0.000000</td>\n",
       "      <td>0.000000</td>\n",
       "      <td>0.000000</td>\n",
       "    </tr>\n",
       "    <tr>\n",
       "      <th>25%</th>\n",
       "      <td>223.500000</td>\n",
       "      <td>0.000000</td>\n",
       "      <td>2.000000</td>\n",
       "      <td>20.125000</td>\n",
       "      <td>0.000000</td>\n",
       "      <td>0.000000</td>\n",
       "      <td>7.910400</td>\n",
       "    </tr>\n",
       "    <tr>\n",
       "      <th>50%</th>\n",
       "      <td>446.000000</td>\n",
       "      <td>0.000000</td>\n",
       "      <td>3.000000</td>\n",
       "      <td>28.000000</td>\n",
       "      <td>0.000000</td>\n",
       "      <td>0.000000</td>\n",
       "      <td>14.454200</td>\n",
       "    </tr>\n",
       "    <tr>\n",
       "      <th>75%</th>\n",
       "      <td>668.500000</td>\n",
       "      <td>1.000000</td>\n",
       "      <td>3.000000</td>\n",
       "      <td>38.000000</td>\n",
       "      <td>1.000000</td>\n",
       "      <td>0.000000</td>\n",
       "      <td>31.000000</td>\n",
       "    </tr>\n",
       "    <tr>\n",
       "      <th>max</th>\n",
       "      <td>891.000000</td>\n",
       "      <td>1.000000</td>\n",
       "      <td>3.000000</td>\n",
       "      <td>80.000000</td>\n",
       "      <td>8.000000</td>\n",
       "      <td>6.000000</td>\n",
       "      <td>512.329200</td>\n",
       "    </tr>\n",
       "  </tbody>\n",
       "</table>\n",
       "</div>"
      ],
      "text/plain": [
       "       PassengerId    Survived      Pclass         Age       SibSp  \\\n",
       "count   891.000000  891.000000  891.000000  714.000000  891.000000   \n",
       "mean    446.000000    0.383838    2.308642   29.699118    0.523008   \n",
       "std     257.353842    0.486592    0.836071   14.526497    1.102743   \n",
       "min       1.000000    0.000000    1.000000    0.420000    0.000000   \n",
       "25%     223.500000    0.000000    2.000000   20.125000    0.000000   \n",
       "50%     446.000000    0.000000    3.000000   28.000000    0.000000   \n",
       "75%     668.500000    1.000000    3.000000   38.000000    1.000000   \n",
       "max     891.000000    1.000000    3.000000   80.000000    8.000000   \n",
       "\n",
       "            Parch        Fare  \n",
       "count  891.000000  891.000000  \n",
       "mean     0.381594   32.204208  \n",
       "std      0.806057   49.693429  \n",
       "min      0.000000    0.000000  \n",
       "25%      0.000000    7.910400  \n",
       "50%      0.000000   14.454200  \n",
       "75%      0.000000   31.000000  \n",
       "max      6.000000  512.329200  "
      ]
     },
     "execution_count": 4,
     "metadata": {},
     "output_type": "execute_result"
    }
   ],
   "source": [
    "Titanic.describe()"
   ]
  },
  {
   "cell_type": "markdown",
   "id": "0a86e0fa-f3a8-402a-a05c-01c97c6746a6",
   "metadata": {},
   "source": [
    "## 3. Czyszczenie i przygotowanie danych"
   ]
  },
  {
   "cell_type": "code",
   "execution_count": 5,
   "id": "681260da-3c2c-4778-9343-e38a25760c9a",
   "metadata": {},
   "outputs": [
    {
     "name": "stdout",
     "output_type": "stream",
     "text": [
      "PassengerId      0\n",
      "Survived         0\n",
      "Pclass           0\n",
      "Name             0\n",
      "Sex              0\n",
      "Age            177\n",
      "SibSp            0\n",
      "Parch            0\n",
      "Ticket           0\n",
      "Fare             0\n",
      "Cabin          687\n",
      "Embarked         2\n",
      "dtype: int64\n"
     ]
    }
   ],
   "source": [
    "#Sprawdzenie wartości zerowych\n",
    "print(pd.isnull(Titanic).sum())"
   ]
  },
  {
   "cell_type": "markdown",
   "id": "4157e531-a7e3-4c53-adef-3ac46d4ba7ba",
   "metadata": {},
   "source": [
    "### Przygotowanie danych"
   ]
  },
  {
   "cell_type": "code",
   "execution_count": 6,
   "id": "b420ae08-25b0-488e-ba7b-76a986dac83f",
   "metadata": {},
   "outputs": [
    {
     "data": {
      "text/html": [
       "<div>\n",
       "<style scoped>\n",
       "    .dataframe tbody tr th:only-of-type {\n",
       "        vertical-align: middle;\n",
       "    }\n",
       "\n",
       "    .dataframe tbody tr th {\n",
       "        vertical-align: top;\n",
       "    }\n",
       "\n",
       "    .dataframe thead th {\n",
       "        text-align: right;\n",
       "    }\n",
       "</style>\n",
       "<table border=\"1\" class=\"dataframe\">\n",
       "  <thead>\n",
       "    <tr style=\"text-align: right;\">\n",
       "      <th></th>\n",
       "      <th>PassengerId</th>\n",
       "      <th>Survived</th>\n",
       "      <th>Pclass</th>\n",
       "      <th>Name</th>\n",
       "      <th>Sex</th>\n",
       "      <th>Age</th>\n",
       "      <th>SibSp</th>\n",
       "      <th>Parch</th>\n",
       "      <th>Ticket</th>\n",
       "      <th>Fare</th>\n",
       "      <th>Cabin</th>\n",
       "      <th>Embarked</th>\n",
       "    </tr>\n",
       "  </thead>\n",
       "  <tbody>\n",
       "    <tr>\n",
       "      <th>0</th>\n",
       "      <td>1</td>\n",
       "      <td>0</td>\n",
       "      <td>3</td>\n",
       "      <td>Braund, Mr. Owen Harris</td>\n",
       "      <td>male</td>\n",
       "      <td>22.0</td>\n",
       "      <td>1</td>\n",
       "      <td>0</td>\n",
       "      <td>A/5 21171</td>\n",
       "      <td>7.2500</td>\n",
       "      <td>NaN</td>\n",
       "      <td>S</td>\n",
       "    </tr>\n",
       "    <tr>\n",
       "      <th>1</th>\n",
       "      <td>2</td>\n",
       "      <td>1</td>\n",
       "      <td>1</td>\n",
       "      <td>Cumings, Mrs. John Bradley (Florence Briggs Th...</td>\n",
       "      <td>female</td>\n",
       "      <td>38.0</td>\n",
       "      <td>1</td>\n",
       "      <td>0</td>\n",
       "      <td>PC 17599</td>\n",
       "      <td>71.2833</td>\n",
       "      <td>C85</td>\n",
       "      <td>C</td>\n",
       "    </tr>\n",
       "    <tr>\n",
       "      <th>2</th>\n",
       "      <td>3</td>\n",
       "      <td>1</td>\n",
       "      <td>3</td>\n",
       "      <td>Heikkinen, Miss. Laina</td>\n",
       "      <td>female</td>\n",
       "      <td>26.0</td>\n",
       "      <td>0</td>\n",
       "      <td>0</td>\n",
       "      <td>STON/O2. 3101282</td>\n",
       "      <td>7.9250</td>\n",
       "      <td>NaN</td>\n",
       "      <td>S</td>\n",
       "    </tr>\n",
       "    <tr>\n",
       "      <th>3</th>\n",
       "      <td>4</td>\n",
       "      <td>1</td>\n",
       "      <td>1</td>\n",
       "      <td>Futrelle, Mrs. Jacques Heath (Lily May Peel)</td>\n",
       "      <td>female</td>\n",
       "      <td>35.0</td>\n",
       "      <td>1</td>\n",
       "      <td>0</td>\n",
       "      <td>113803</td>\n",
       "      <td>53.1000</td>\n",
       "      <td>C123</td>\n",
       "      <td>S</td>\n",
       "    </tr>\n",
       "    <tr>\n",
       "      <th>4</th>\n",
       "      <td>5</td>\n",
       "      <td>0</td>\n",
       "      <td>3</td>\n",
       "      <td>Allen, Mr. William Henry</td>\n",
       "      <td>male</td>\n",
       "      <td>35.0</td>\n",
       "      <td>0</td>\n",
       "      <td>0</td>\n",
       "      <td>373450</td>\n",
       "      <td>8.0500</td>\n",
       "      <td>NaN</td>\n",
       "      <td>S</td>\n",
       "    </tr>\n",
       "  </tbody>\n",
       "</table>\n",
       "</div>"
      ],
      "text/plain": [
       "   PassengerId  Survived  Pclass  \\\n",
       "0            1         0       3   \n",
       "1            2         1       1   \n",
       "2            3         1       3   \n",
       "3            4         1       1   \n",
       "4            5         0       3   \n",
       "\n",
       "                                                Name     Sex   Age  SibSp  \\\n",
       "0                            Braund, Mr. Owen Harris    male  22.0      1   \n",
       "1  Cumings, Mrs. John Bradley (Florence Briggs Th...  female  38.0      1   \n",
       "2                             Heikkinen, Miss. Laina  female  26.0      0   \n",
       "3       Futrelle, Mrs. Jacques Heath (Lily May Peel)  female  35.0      1   \n",
       "4                           Allen, Mr. William Henry    male  35.0      0   \n",
       "\n",
       "   Parch            Ticket     Fare Cabin Embarked  \n",
       "0      0         A/5 21171   7.2500   NaN        S  \n",
       "1      0          PC 17599  71.2833   C85        C  \n",
       "2      0  STON/O2. 3101282   7.9250   NaN        S  \n",
       "3      0            113803  53.1000  C123        S  \n",
       "4      0            373450   8.0500   NaN        S  "
      ]
     },
     "execution_count": 6,
     "metadata": {},
     "output_type": "execute_result"
    }
   ],
   "source": [
    "Titanic.head()"
   ]
  },
  {
   "cell_type": "markdown",
   "id": "7c1c95f5-7abf-47b1-b19b-090bef446a1e",
   "metadata": {},
   "source": [
    "####  Określenie stanu cywilnego danego paseżera."
   ]
  },
  {
   "cell_type": "code",
   "execution_count": 7,
   "id": "99a93847-7983-4166-9f89-a8a7e0a863b5",
   "metadata": {},
   "outputs": [
    {
     "name": "stdout",
     "output_type": "stream",
     "text": [
      "Title\n",
      "Mr              0.580247\n",
      "Miss            0.207632\n",
      "Mrs             0.141414\n",
      "Master          0.044893\n",
      "Rare            0.024691\n",
      "the Countess    0.001122\n",
      "Name: proportion, dtype: float64\n"
     ]
    }
   ],
   "source": [
    "def get_title(name):\n",
    "    # Wyodrębnij prefix z imienia\n",
    "    title = name.split(',')[1].split('.')[0].strip()\n",
    "    if title in ['Lady', 'Countess', 'Capt', 'Col', 'Don', 'Dr', 'Major', 'Rev', 'Sir', 'Jonkheer', 'Dona']:\n",
    "        return 'Rare'\n",
    "    elif title in ['Mlle']:\n",
    "        return 'Miss'\n",
    "    elif title in ['Ms']:\n",
    "        return 'Miss'\n",
    "    elif title in ['Mme']:\n",
    "        return 'Mrs'\n",
    "    else:\n",
    "        return title\n",
    "Titanic['Title'] = Titanic['Name'].apply(get_title)\n",
    "title_percentages = Titanic['Title'].value_counts(normalize=True)\n",
    "print(title_percentages)"
   ]
  },
  {
   "cell_type": "markdown",
   "id": "3913f4f5-5d0b-43b4-80ae-4a7e8a6c1221",
   "metadata": {},
   "source": [
    "### OneHotencodowanie danych categorycznych"
   ]
  },
  {
   "cell_type": "code",
   "execution_count": null,
   "id": "5638ad0c-cf43-401a-a04c-45c790444fdd",
   "metadata": {},
   "outputs": [],
   "source": []
  },
  {
   "cell_type": "code",
   "execution_count": 8,
   "id": "614874c0-f0ef-4ae1-90d9-157cfbbebadf",
   "metadata": {},
   "outputs": [
    {
     "ename": "KeyError",
     "evalue": "'Title_Enc'",
     "output_type": "error",
     "traceback": [
      "\u001b[1;31m---------------------------------------------------------------------------\u001b[0m",
      "\u001b[1;31mKeyError\u001b[0m                                  Traceback (most recent call last)",
      "File \u001b[1;32m~\\anaconda3\\Lib\\site-packages\\pandas\\core\\indexes\\base.py:3791\u001b[0m, in \u001b[0;36mIndex.get_loc\u001b[1;34m(self, key)\u001b[0m\n\u001b[0;32m   3790\u001b[0m \u001b[38;5;28;01mtry\u001b[39;00m:\n\u001b[1;32m-> 3791\u001b[0m     \u001b[38;5;28;01mreturn\u001b[39;00m \u001b[38;5;28mself\u001b[39m\u001b[38;5;241m.\u001b[39m_engine\u001b[38;5;241m.\u001b[39mget_loc(casted_key)\n\u001b[0;32m   3792\u001b[0m \u001b[38;5;28;01mexcept\u001b[39;00m \u001b[38;5;167;01mKeyError\u001b[39;00m \u001b[38;5;28;01mas\u001b[39;00m err:\n",
      "File \u001b[1;32mindex.pyx:152\u001b[0m, in \u001b[0;36mpandas._libs.index.IndexEngine.get_loc\u001b[1;34m()\u001b[0m\n",
      "File \u001b[1;32mindex.pyx:181\u001b[0m, in \u001b[0;36mpandas._libs.index.IndexEngine.get_loc\u001b[1;34m()\u001b[0m\n",
      "File \u001b[1;32mpandas\\_libs\\hashtable_class_helper.pxi:7080\u001b[0m, in \u001b[0;36mpandas._libs.hashtable.PyObjectHashTable.get_item\u001b[1;34m()\u001b[0m\n",
      "File \u001b[1;32mpandas\\_libs\\hashtable_class_helper.pxi:7088\u001b[0m, in \u001b[0;36mpandas._libs.hashtable.PyObjectHashTable.get_item\u001b[1;34m()\u001b[0m\n",
      "\u001b[1;31mKeyError\u001b[0m: 'Title_Enc'",
      "\nThe above exception was the direct cause of the following exception:\n",
      "\u001b[1;31mKeyError\u001b[0m                                  Traceback (most recent call last)",
      "Cell \u001b[1;32mIn[8], line 1\u001b[0m\n\u001b[1;32m----> 1\u001b[0m title_percentages \u001b[38;5;241m=\u001b[39m Titanic[\u001b[38;5;124m'\u001b[39m\u001b[38;5;124mTitle_Enc\u001b[39m\u001b[38;5;124m'\u001b[39m]\u001b[38;5;241m.\u001b[39mvalue_counts(normalize\u001b[38;5;241m=\u001b[39m\u001b[38;5;28;01mTrue\u001b[39;00m)\n\u001b[0;32m      2\u001b[0m \u001b[38;5;28mprint\u001b[39m(title_percentages)\n",
      "File \u001b[1;32m~\\anaconda3\\Lib\\site-packages\\pandas\\core\\frame.py:3893\u001b[0m, in \u001b[0;36mDataFrame.__getitem__\u001b[1;34m(self, key)\u001b[0m\n\u001b[0;32m   3891\u001b[0m \u001b[38;5;28;01mif\u001b[39;00m \u001b[38;5;28mself\u001b[39m\u001b[38;5;241m.\u001b[39mcolumns\u001b[38;5;241m.\u001b[39mnlevels \u001b[38;5;241m>\u001b[39m \u001b[38;5;241m1\u001b[39m:\n\u001b[0;32m   3892\u001b[0m     \u001b[38;5;28;01mreturn\u001b[39;00m \u001b[38;5;28mself\u001b[39m\u001b[38;5;241m.\u001b[39m_getitem_multilevel(key)\n\u001b[1;32m-> 3893\u001b[0m indexer \u001b[38;5;241m=\u001b[39m \u001b[38;5;28mself\u001b[39m\u001b[38;5;241m.\u001b[39mcolumns\u001b[38;5;241m.\u001b[39mget_loc(key)\n\u001b[0;32m   3894\u001b[0m \u001b[38;5;28;01mif\u001b[39;00m is_integer(indexer):\n\u001b[0;32m   3895\u001b[0m     indexer \u001b[38;5;241m=\u001b[39m [indexer]\n",
      "File \u001b[1;32m~\\anaconda3\\Lib\\site-packages\\pandas\\core\\indexes\\base.py:3798\u001b[0m, in \u001b[0;36mIndex.get_loc\u001b[1;34m(self, key)\u001b[0m\n\u001b[0;32m   3793\u001b[0m     \u001b[38;5;28;01mif\u001b[39;00m \u001b[38;5;28misinstance\u001b[39m(casted_key, \u001b[38;5;28mslice\u001b[39m) \u001b[38;5;129;01mor\u001b[39;00m (\n\u001b[0;32m   3794\u001b[0m         \u001b[38;5;28misinstance\u001b[39m(casted_key, abc\u001b[38;5;241m.\u001b[39mIterable)\n\u001b[0;32m   3795\u001b[0m         \u001b[38;5;129;01mand\u001b[39;00m \u001b[38;5;28many\u001b[39m(\u001b[38;5;28misinstance\u001b[39m(x, \u001b[38;5;28mslice\u001b[39m) \u001b[38;5;28;01mfor\u001b[39;00m x \u001b[38;5;129;01min\u001b[39;00m casted_key)\n\u001b[0;32m   3796\u001b[0m     ):\n\u001b[0;32m   3797\u001b[0m         \u001b[38;5;28;01mraise\u001b[39;00m InvalidIndexError(key)\n\u001b[1;32m-> 3798\u001b[0m     \u001b[38;5;28;01mraise\u001b[39;00m \u001b[38;5;167;01mKeyError\u001b[39;00m(key) \u001b[38;5;28;01mfrom\u001b[39;00m \u001b[38;5;21;01merr\u001b[39;00m\n\u001b[0;32m   3799\u001b[0m \u001b[38;5;28;01mexcept\u001b[39;00m \u001b[38;5;167;01mTypeError\u001b[39;00m:\n\u001b[0;32m   3800\u001b[0m     \u001b[38;5;66;03m# If we have a listlike key, _check_indexing_error will raise\u001b[39;00m\n\u001b[0;32m   3801\u001b[0m     \u001b[38;5;66;03m#  InvalidIndexError. Otherwise we fall through and re-raise\u001b[39;00m\n\u001b[0;32m   3802\u001b[0m     \u001b[38;5;66;03m#  the TypeError.\u001b[39;00m\n\u001b[0;32m   3803\u001b[0m     \u001b[38;5;28mself\u001b[39m\u001b[38;5;241m.\u001b[39m_check_indexing_error(key)\n",
      "\u001b[1;31mKeyError\u001b[0m: 'Title_Enc'"
     ]
    }
   ],
   "source": [
    "title_percentages = Titanic['Title_Enc'].value_counts(normalize=True)\n",
    "print(title_percentages)"
   ]
  },
  {
   "cell_type": "code",
   "execution_count": null,
   "id": "3e179aae-3545-4ae9-ad08-c714eac73118",
   "metadata": {},
   "outputs": [],
   "source": [
    "### Sumaryczne wyniki/punkt odniesnia dla danych kattegorycznych, kótóre zostały zencodowane. "
   ]
  },
  {
   "cell_type": "markdown",
   "id": "c70067d7-ed08-48ae-b1d6-a1a8e1823db0",
   "metadata": {},
   "source": [
    "## Wybór danych\n",
    "#### Ocena kategorii, które mogą zostać bezwzględnie usunięte nie planuję ich brać w dalszej części lub zostały zencodowane. Oczywiście pełne usprawidliwnie powinno pojawić się tutaj tłumacząc dlaczego obecność danej kategorii nie wnośi niczego co mógłbym wykorzystać dalej do modelu, jednak nie mieszam kroków. Wskazanie danych newraligcznych znajdue się w dalszej częscie pod wizulaizacją.  "
   ]
  },
  {
   "cell_type": "code",
   "execution_count": null,
   "id": "5641abbf-fea6-4e74-b370-b73dc7626a0e",
   "metadata": {},
   "outputs": [],
   "source": [
    "# Usuń oryginalne kolumny\n",
    "categorical_features = ['PassengerId','Name', 'Title', 'Sex', 'Ticket','Cabin', 'Embarked']\n",
    "Titanic.drop(columns=categorical_features, inplace=True)\n",
    "Titanic.head()"
   ]
  },
  {
   "cell_type": "code",
   "execution_count": null,
   "id": "84db0c2a-6cb4-4e9c-84b4-8a194ec2ba15",
   "metadata": {
    "scrolled": true
   },
   "outputs": [],
   "source": [
    "Titanic[['Age', 'Fare']] = Titanic[['Age', 'Fare']].astype(np.float32)\n",
    "columns_to_convert = ['Survived' ,'Pclass', 'SibSp', 'Parch', 'Sex_Enc', 'Embarked_Enc', 'Title_Enc']\n",
    "Titanic[columns_to_convert] = Titanic[columns_to_convert].astype(np.int16)\n",
    "Titanic.info()"
   ]
  },
  {
   "cell_type": "code",
   "execution_count": null,
   "id": "d7b2ae9c-f292-4aba-ad71-5b235305a3d3",
   "metadata": {},
   "outputs": [],
   "source": [
    "Titanic"
   ]
  },
  {
   "cell_type": "markdown",
   "id": "dccc48ac-9146-44f9-a204-ceced1d44d17",
   "metadata": {},
   "source": [
    "## 4. Wizualizacja i ekspoloracja wzorców"
   ]
  },
  {
   "cell_type": "code",
   "execution_count": null,
   "id": "3b43f930-93b0-43d2-bc55-53ae3bf5d45e",
   "metadata": {},
   "outputs": [],
   "source": [
    "Titanic.groupby('Sex_Enc').mean().round(2)"
   ]
  },
  {
   "cell_type": "code",
   "execution_count": null,
   "id": "c1670ce2-c911-4443-a6f4-f5755083538f",
   "metadata": {},
   "outputs": [],
   "source": [
    "Titanic.groupby('Survived').mean().round(2)"
   ]
  },
  {
   "cell_type": "code",
   "execution_count": null,
   "id": "9b1c6bac-4513-4e93-8854-068c9564076e",
   "metadata": {},
   "outputs": [],
   "source": [
    "fig, ax = plt.subplots(figsize=(9, 9))\n",
    "sns.heatmap(Titanic.astype(float).corr(),linewidths=0.1,vmax=1.0, \n",
    "            square=True, linecolor='white', annot=True, cmap= 'icefire', fmt=\".2f\")\n",
    "ax.set_title('Pearson Correlation of Features', y=1.05, size=15)"
   ]
  },
  {
   "cell_type": "code",
   "execution_count": null,
   "id": "0d649b04-34ee-4688-9255-19b0d3640627",
   "metadata": {},
   "outputs": [],
   "source": [
    "#sns.pairplot(Titanic, hue=\"Survived\", kind=\"kde\", corner=True)"
   ]
  },
  {
   "cell_type": "markdown",
   "id": "c6ab2d61-e51d-4658-b003-cf5da78e7012",
   "metadata": {},
   "source": [
    "###  Age distribution"
   ]
  },
  {
   "cell_type": "code",
   "execution_count": null,
   "id": "5b0815f0-d2a9-4c49-a669-61634a0e47b2",
   "metadata": {},
   "outputs": [],
   "source": [
    "fig, axes = plt.subplots(figsize=(14,8))\n",
    "axes.set_ylabel('Liczba pasażerów')\n",
    "axes.set_xlabel('Age')\n",
    "axes.set_title('Age distribution')\n",
    "sns.histplot(Titanic[Titanic['Survived']==0]['Age'],kde=True, bins=22, element='step', label='Die')\n",
    "sns.histplot(Titanic[Titanic['Survived']==1]['Age'],kde=True, bins=22, element='step', label='Survived')\n",
    "axes.legend()"
   ]
  },
  {
   "cell_type": "code",
   "execution_count": null,
   "id": "cd1ae5d2-92ed-4ded-a792-eba79a27f72b",
   "metadata": {},
   "outputs": [],
   "source": [
    "# dwa wykresy\n",
    "fig, (ax1, ax2) = plt.subplots(ncols=2, figsize=(14, 8))\n",
    "# Mężczyźni\n",
    "sns.histplot(Titanic[Titanic['Sex_Enc']==0], x='Age', hue='Survived', element='step', common_norm=False, ax=ax1, bins=22, kde=True)\n",
    "ax1.set_xlabel('Wiek')\n",
    "ax1.set_ylabel('Liczba przypadków')\n",
    "ax1.set_title('Przeżycie mężczyzn w zależności od wieku')\n",
    "legend = ax1.get_legend()\n",
    "handles = legend.legend_handles\n",
    "ax1.legend(handles, ['Die', 'Survived'])\n",
    "# Kobiety\n",
    "sns.histplot(Titanic[Titanic['Sex_Enc']==1], x='Age', hue='Survived', element='step', common_norm=False, ax=ax2, bins=22, kde=True)\n",
    "ax2.set_xlabel('Wiek')\n",
    "ax2.set_ylabel('CLiczba przypadków')\n",
    "ax2.set_title('Przeżycie kobiet w zależności od wieku')\n",
    "legend = ax2.get_legend()\n",
    "handles = legend.legend_handles\n",
    "ax2.legend(handles, ['Die', 'Survived'])"
   ]
  },
  {
   "cell_type": "code",
   "execution_count": null,
   "id": "22cf2bbc-a6bc-4c4d-9c76-387778f98bf3",
   "metadata": {},
   "outputs": [],
   "source": [
    "fig, ax = plt.subplots(figsize=(14,8))\n",
    "sns.violinplot(data=Titanic, x=\"Sex_Enc\", y=\"Age\", hue=\"Survived\", split=True, gap=.1, inner=\"quart\")\n",
    "legend = ax.get_legend()\n",
    "handles = legend.legend_handles\n",
    "ax.legend(handles, ['Die', 'Survived'])\n",
    "ax.set_xticklabels(['Mężczyzni', 'Kobiety'])\n",
    "ax.set_xlabel('Płeć')"
   ]
  },
  {
   "cell_type": "markdown",
   "id": "79632d19-2881-423e-b76c-341bd6cb23cf",
   "metadata": {},
   "source": [
    "Pamiętajmy, że wartość naosi odciętych dla violonplota nie wskazuje częstotoliwości występowania danego zdarzenia. W ziązku z czym kluczowa analiza powinna opierać się głownie na porównaniu krzywej w maksimum. \n"
   ]
  },
  {
   "cell_type": "markdown",
   "id": "dc326c6a-7251-4ae4-ade2-2071280875c5",
   "metadata": {},
   "source": [
    "### Fare/Calss"
   ]
  },
  {
   "cell_type": "code",
   "execution_count": null,
   "id": "8daa67ca-cbd0-4c13-9f3a-2facb2ff8e62",
   "metadata": {},
   "outputs": [],
   "source": [
    "sns.regplot(data=Titanic, x=\"Pclass\", y=\"Fare\")"
   ]
  },
  {
   "cell_type": "code",
   "execution_count": null,
   "id": "6c44097a-e1c7-49ce-bf2a-dfa20de9bb6e",
   "metadata": {},
   "outputs": [],
   "source": [
    "fig, axes = plt.subplots(ncols=3, nrows=2, figsize=(14, 8))\n",
    "\n",
    "# Create histograms for fares (loop over first row)\n",
    "for i in range(3):\n",
    "    sns.histplot(Titanic[Titanic['Pclass']==(i+1)], x='Fare', hue='Survived', element='step', common_norm=False, ax=axes[0, i], bins=20, kde=True)\n",
    "    legend = axes[0,i].get_legend()\n",
    "    handles = legend.legend_handles\n",
    "    axes[0, i].legend(handles, ['Die', 'Survived'], title = f'Pclass {3-i}')\n",
    "# Create histograms for age (loop over second row)\n",
    "for i in range(3):\n",
    "    sns.histplot(Titanic[Titanic['Pclass']==(i+1)], x='Age', hue='Survived', element='step', common_norm=False, ax=axes[1, i], bins=20, kde=True)\n",
    "    legend = axes[1,i].get_legend()\n",
    "    handles = legend.legend_handles\n",
    "    axes[1, i].legend(handles, ['Die', 'Survived'], title = f'Pclass {3-i}')"
   ]
  },
  {
   "cell_type": "code",
   "execution_count": null,
   "id": "0fdc141d-cadf-4c18-a725-f8ba10e3bb2d",
   "metadata": {},
   "outputs": [],
   "source": [
    "fig, (ax1, ax2) = plt.subplots(nrows=2, figsize=(14, 8))\n",
    "sns.violinplot(ax=ax1, data=Titanic, x=\"Pclass\", y=\"Age\", hue=\"Survived\", split=True, gap=.1, inner=\"quart\")\n",
    "ax1.set_title('Violin Plot - Age by Pclass and Survived')\n",
    "legend = ax1.get_legend()\n",
    "handles = legend.legend_handles\n",
    "ax1.legend(handles, ['Die', 'Survived'])\n",
    "\n",
    "# Box plot on the second subplot (axes[1])\n",
    "sns.boxplot(ax=ax2, data=Titanic, x=\"Pclass\", y=\"Age\", hue=\"Survived\")\n",
    "ax2.set_title('Box Plot - Age by Pclass and Survived')\n",
    "legend = ax2.get_legend()\n",
    "handles = legend.legend_handles\n",
    "ax2.legend(handles, ['Die', 'Survived'])\n"
   ]
  },
  {
   "cell_type": "markdown",
   "id": "c6f6ac44-47cc-4e1a-be74-2c6124ad013b",
   "metadata": {},
   "source": [
    "### Rodzina"
   ]
  },
  {
   "cell_type": "code",
   "execution_count": null,
   "id": "e4b73378-f6da-40e6-9e01-98ee915edbdb",
   "metadata": {},
   "outputs": [],
   "source": [
    "fig, (ax1, ax2, ax3) = plt.subplots(nrows=3, figsize=(14, 8))\n",
    "Titanic['FamilySize'] = Titanic['SibSp'] + Titanic['Parch']  # Calculate family size\n",
    "\n",
    "sns.barplot(data=Titanic, x='FamilySize', y='Survived', palette=\"icefire\", ax=ax1)\n",
    "sns.countplot(data=Titanic, x='FamilySize', hue='Survived',  ax=ax2)\n",
    "sns.countplot(data=Titanic, x='Title_Enc', hue='Survived',  ax=ax3)"
   ]
  },
  {
   "cell_type": "markdown",
   "id": "d45bcdc5-4d5a-483c-a0c8-95a387ecd2da",
   "metadata": {},
   "source": [
    "### Zaokrętowanie  "
   ]
  },
  {
   "cell_type": "code",
   "execution_count": null,
   "id": "92a0727f-57a7-4d53-b2ef-c933e331f010",
   "metadata": {},
   "outputs": [],
   "source": []
  },
  {
   "cell_type": "markdown",
   "id": "b0c7997a-9d56-41a3-88ba-65162e10ad85",
   "metadata": {},
   "source": [
    "## Model"
   ]
  },
  {
   "cell_type": "code",
   "execution_count": null,
   "id": "c43f5ce9-511f-4413-bac4-5688040dbd1e",
   "metadata": {},
   "outputs": [],
   "source": [
    "#Biblioteki\n",
    "from sklearn.model_selection import cross_val_score, GridSearchCV, KFold, RandomizedSearchCV\n",
    "from sklearn.ensemble import RandomForestClassifier\n",
    "from sklearn.ensemble import AdaBoostClassifier\n",
    "from sklearn.svm import SVC\n",
    "from sklearn.neighbors import KNeighborsClassifier\n",
    "from sklearn.naive_bayes import GaussianNB\n",
    "from sklearn.tree import DecisionTreeClassifier"
   ]
  },
  {
   "cell_type": "code",
   "execution_count": null,
   "id": "5c66ee44-df34-4a09-ba26-c88b1742151e",
   "metadata": {},
   "outputs": [],
   "source": [
    "#Baza danych do nauki\n",
    "X = Titanic.drop('Survived',axis=1)\n",
    "y = Titanic['Survived']\n",
    "\n",
    "# Baza danych Titanica do sprawdzenia modeli\n",
    "test = pd.read_csv(\"test.csv\")\n",
    "# Encodowanie bazy ddanej testowej \n",
    "#"
   ]
  },
  {
   "cell_type": "code",
   "execution_count": null,
   "id": "430430a1-d4a1-4145-8c62-69de07ea9d89",
   "metadata": {},
   "outputs": [],
   "source": [
    "#Modele które zostaną wykorzystane\n",
    "classifiers = [['Random Forest',RandomForestClassifier()],\n",
    "               ['AdaBoost',AdaBoostClassifier()],\n",
    "               ['Support Vector Machine', SVC()], \n",
    "               ['KNN',KNeighborsClassifier()], \n",
    "               ['Naive Bayes',GaussianNB()], \n",
    "               ['Decision Tree',DecisionTreeClassifier()]]\n"
   ]
  },
  {
   "cell_type": "code",
   "execution_count": null,
   "id": "2d8f82bf-90e8-41c1-8906-ccac9a1330a7",
   "metadata": {},
   "outputs": [],
   "source": [
    "# Ocena wydajności modeli\n",
    "for metric in ['accuracy','f1']:\n",
    "    kfold = KFold(n_splits=10)\n",
    "    score_mean = []\n",
    "    std = []\n",
    "    \n",
    "    for model in classifiers:\n",
    "        clf = model[1]\n",
    "        cv_result = cross_val_score(clf,X,y, cv = kfold,scoring = metric)\n",
    "        cv_result = cv_result\n",
    "        score_mean.append(cv_result.mean())\n",
    "        std.append(cv_result.std())\n",
    "        \n",
    "    models_evaluation = pd.DataFrame({metric: score_mean}, index=[i[0] for i in classifiers])\n",
    "    print(models_evaluation.sort_values(metric, ascending=False))\n",
    "    print('*'*32)"
   ]
  },
  {
   "cell_type": "markdown",
   "id": "e5ce7d8d-3c74-40d1-b510-f335529deeb8",
   "metadata": {},
   "source": [
    "## Kod zapasowy w markdown więc nie będzie się wyświetlać poprawnie\n",
    "\n",
    "---------------------------"
   ]
  },
  {
   "cell_type": "code",
   "execution_count": null,
   "id": "3a70355a-7d0f-41f6-8b5b-2071da448173",
   "metadata": {},
   "outputs": [],
   "source": []
  }
 ],
 "metadata": {
  "kernelspec": {
   "display_name": "Python 3 (ipykernel)",
   "language": "python",
   "name": "python3"
  },
  "language_info": {
   "codemirror_mode": {
    "name": "ipython",
    "version": 3
   },
   "file_extension": ".py",
   "mimetype": "text/x-python",
   "name": "python",
   "nbconvert_exporter": "python",
   "pygments_lexer": "ipython3",
   "version": "3.11.8"
  }
 },
 "nbformat": 4,
 "nbformat_minor": 5
}
