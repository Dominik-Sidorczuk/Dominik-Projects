{
 "cells": [
  {
   "cell_type": "markdown",
   "id": "39a2ae39-7fce-4a1c-b4d1-e49f4497ae84",
   "metadata": {},
   "source": [
    "# Analiza zboiru danych związanych z katastrofą Titanica\n",
    "### Na podsawie poniższej analizy chciałbym zobaczyć i możliwie przewidzieć określić wpływ czynników związanych z przeżywalonością pasażerów statku"
   ]
  },
  {
   "cell_type": "markdown",
   "id": "ae2c16ab-8713-4afb-985f-1ca0d8fef01e",
   "metadata": {},
   "source": [
    "## 1. Określenie Problemu\n",
    "### Zrozumienie wpływu czynników decydujących na przezprzywalności pasażerów podczas katastrofy Titanica.\n",
    "* Czy istnieje różnica w szansach przeżycia między mężczyznami a kobietami?\n",
    "* Czy klasa biletu wpływa na szanse przeżycia?\n",
    "* Czy wiek pasażera wpływa na jego szanse przeżycia?\n",
    "* Czy inne czynniki, takie jak miejsce na statku, stan cywilny lub narodowość, wpływają na szanse przeżycia?cia?"
   ]
  },
  {
   "cell_type": "markdown",
   "id": "c3ad1e4d-6f86-4587-a518-50af299fd94b",
   "metadata": {},
   "source": [
    "## 2. Wstępne zapozdanie się z danymi \n",
    "### Załadowanie podstawoych bibliotek, oraz bazy danych."
   ]
  },
  {
   "cell_type": "code",
   "execution_count": 7,
   "id": "a6d0b026-ce26-40c5-b8ab-44950345fa0b",
   "metadata": {},
   "outputs": [],
   "source": [
    "#Obliczenia  i analiza  danych\n",
    "import numpy as np\n",
    "import pandas as pd\n",
    "\n",
    "#wizualiacja \n",
    "import matplotlib.pyplot as plt\n",
    "import seaborn as sns\n",
    "%matplotlib inline\n",
    "\n",
    "# Baza danych\n",
    "Titanic = pd.read_csv(\"Titanic_Database.csv\") "
   ]
  },
  {
   "cell_type": "code",
   "execution_count": null,
   "id": "249d6a3c-1132-4453-8bdd-d1ea6aa09b7c",
   "metadata": {},
   "outputs": [],
   "source": []
  }
 ],
 "metadata": {
  "kernelspec": {
   "display_name": "Python 3 (ipykernel)",
   "language": "python",
   "name": "python3"
  },
  "language_info": {
   "codemirror_mode": {
    "name": "ipython",
    "version": 3
   },
   "file_extension": ".py",
   "mimetype": "text/x-python",
   "name": "python",
   "nbconvert_exporter": "python",
   "pygments_lexer": "ipython3",
   "version": "3.11.7"
  }
 },
 "nbformat": 4,
 "nbformat_minor": 5
}
