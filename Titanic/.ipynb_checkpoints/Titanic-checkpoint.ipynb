{
 "cells": [
  {
   "cell_type": "markdown",
   "id": "39a2ae39-7fce-4a1c-b4d1-e49f4497ae84",
   "metadata": {},
   "source": [
    "# Analiza zboiru danych związanych z katastrofą Titanicem \n",
    "### Na podsawie poniższej analizy chciałbym zobaczyć i możliwie przewidzieć określić wpływ czynników związanych z przeżywalonością pasażerów statku"
   ]
  },
  {
   "cell_type": "code",
   "execution_count": null,
   "id": "e0dfb691-f412-4891-b6f9-bf1a841cc708",
   "metadata": {},
   "outputs": [],
   "source": []
  }
 ],
 "metadata": {
  "kernelspec": {
   "display_name": "Python 3 (ipykernel)",
   "language": "python",
   "name": "python3"
  },
  "language_info": {
   "codemirror_mode": {
    "name": "ipython",
    "version": 3
   },
   "file_extension": ".py",
   "mimetype": "text/x-python",
   "name": "python",
   "nbconvert_exporter": "python",
   "pygments_lexer": "ipython3",
   "version": "3.11.7"
  }
 },
 "nbformat": 4,
 "nbformat_minor": 5
}
