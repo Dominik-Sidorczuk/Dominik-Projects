{
 "cells": [
  {
   "cell_type": "markdown",
   "id": "39a2ae39-7fce-4a1c-b4d1-e49f4497ae84",
   "metadata": {},
   "source": [
    "# Analiza zbioru danych związanych z katastrofą Titanica\n",
    "### Na podsawie poniższej analizy chciałbym zobaczyć i możliwie określić wpływ czynników związanych z przeżywalonością pasażerów statku"
   ]
  },
  {
   "cell_type": "markdown",
   "id": "ae2c16ab-8713-4afb-985f-1ca0d8fef01e",
   "metadata": {},
   "source": [
    "## 1. Określenie Problemu\n",
    "### Zrozumienie wpływu czynników decydujących na przezprzywalności pasażerów podczas katastrofy Titanica.\n",
    "* Czy istnieje różnica w szansach przeżycia między mężczyznami a kobietami?\n",
    "* Czy klasa biletu wpływa na szanse przeżycia?\n",
    "* Czy wiek pasażera wpływa na jego szanse przeżycia?\n",
    "* Czy inne czynniki, takie jak miejsce na statku, stan cywilny lub narodowość, wpływają na szanse przeżycia?cia?"
   ]
  },
  {
   "cell_type": "markdown",
   "id": "3b4837a9-f034-4e8e-abfc-44d9c100cc02",
   "metadata": {},
   "source": [
    "## 1a. Dodatkowe pytania które chciałbym sprawdzić \n",
    "* Cena biletua, a port zaokrętowania. \n",
    "* Stan cywilny\n",
    "* Średni wiek"
   ]
  },
  {
   "cell_type": "markdown",
   "id": "c3ad1e4d-6f86-4587-a518-50af299fd94b",
   "metadata": {},
   "source": [
    "## 2. Wstępne zapoznanie się z danymi \n",
    "### Załadowanie podstawowych bibliotek, oraz bazy danych."
   ]
  },
  {
   "cell_type": "code",
   "execution_count": 409,
   "id": "a6d0b026-ce26-40c5-b8ab-44950345fa0b",
   "metadata": {},
   "outputs": [],
   "source": [
    "#Obliczenia  i analiza  danych\n",
    "import numpy as np\n",
    "import pandas as pd\n",
    "\n",
    "#wizualiacja \n",
    "import matplotlib.pyplot as plt\n",
    "import seaborn as sns\n",
    "\n",
    "%matplotlib inline\n",
    "#Przetwarzanie\n",
    "from sklearn.preprocessing import OneHotEncoder\n",
    "\n",
    "# Baza danych\n",
    "Titanic = pd.read_csv(\"Titanic_Database.csv\") "
   ]
  },
  {
   "cell_type": "code",
   "execution_count": 410,
   "id": "249d6a3c-1132-4453-8bdd-d1ea6aa09b7c",
   "metadata": {
    "scrolled": true
   },
   "outputs": [
    {
     "data": {
      "text/html": [
       "<div>\n",
       "<style scoped>\n",
       "    .dataframe tbody tr th:only-of-type {\n",
       "        vertical-align: middle;\n",
       "    }\n",
       "\n",
       "    .dataframe tbody tr th {\n",
       "        vertical-align: top;\n",
       "    }\n",
       "\n",
       "    .dataframe thead th {\n",
       "        text-align: right;\n",
       "    }\n",
       "</style>\n",
       "<table border=\"1\" class=\"dataframe\">\n",
       "  <thead>\n",
       "    <tr style=\"text-align: right;\">\n",
       "      <th></th>\n",
       "      <th>PassengerId</th>\n",
       "      <th>Survived</th>\n",
       "      <th>Pclass</th>\n",
       "      <th>Name</th>\n",
       "      <th>Sex</th>\n",
       "      <th>Age</th>\n",
       "      <th>SibSp</th>\n",
       "      <th>Parch</th>\n",
       "      <th>Ticket</th>\n",
       "      <th>Fare</th>\n",
       "      <th>Cabin</th>\n",
       "      <th>Embarked</th>\n",
       "    </tr>\n",
       "  </thead>\n",
       "  <tbody>\n",
       "    <tr>\n",
       "      <th>0</th>\n",
       "      <td>1</td>\n",
       "      <td>0</td>\n",
       "      <td>3</td>\n",
       "      <td>Braund, Mr. Owen Harris</td>\n",
       "      <td>male</td>\n",
       "      <td>22.0</td>\n",
       "      <td>1</td>\n",
       "      <td>0</td>\n",
       "      <td>A/5 21171</td>\n",
       "      <td>7.2500</td>\n",
       "      <td>NaN</td>\n",
       "      <td>S</td>\n",
       "    </tr>\n",
       "    <tr>\n",
       "      <th>1</th>\n",
       "      <td>2</td>\n",
       "      <td>1</td>\n",
       "      <td>1</td>\n",
       "      <td>Cumings, Mrs. John Bradley (Florence Briggs Th...</td>\n",
       "      <td>female</td>\n",
       "      <td>38.0</td>\n",
       "      <td>1</td>\n",
       "      <td>0</td>\n",
       "      <td>PC 17599</td>\n",
       "      <td>71.2833</td>\n",
       "      <td>C85</td>\n",
       "      <td>C</td>\n",
       "    </tr>\n",
       "    <tr>\n",
       "      <th>2</th>\n",
       "      <td>3</td>\n",
       "      <td>1</td>\n",
       "      <td>3</td>\n",
       "      <td>Heikkinen, Miss. Laina</td>\n",
       "      <td>female</td>\n",
       "      <td>26.0</td>\n",
       "      <td>0</td>\n",
       "      <td>0</td>\n",
       "      <td>STON/O2. 3101282</td>\n",
       "      <td>7.9250</td>\n",
       "      <td>NaN</td>\n",
       "      <td>S</td>\n",
       "    </tr>\n",
       "    <tr>\n",
       "      <th>3</th>\n",
       "      <td>4</td>\n",
       "      <td>1</td>\n",
       "      <td>1</td>\n",
       "      <td>Futrelle, Mrs. Jacques Heath (Lily May Peel)</td>\n",
       "      <td>female</td>\n",
       "      <td>35.0</td>\n",
       "      <td>1</td>\n",
       "      <td>0</td>\n",
       "      <td>113803</td>\n",
       "      <td>53.1000</td>\n",
       "      <td>C123</td>\n",
       "      <td>S</td>\n",
       "    </tr>\n",
       "    <tr>\n",
       "      <th>4</th>\n",
       "      <td>5</td>\n",
       "      <td>0</td>\n",
       "      <td>3</td>\n",
       "      <td>Allen, Mr. William Henry</td>\n",
       "      <td>male</td>\n",
       "      <td>35.0</td>\n",
       "      <td>0</td>\n",
       "      <td>0</td>\n",
       "      <td>373450</td>\n",
       "      <td>8.0500</td>\n",
       "      <td>NaN</td>\n",
       "      <td>S</td>\n",
       "    </tr>\n",
       "    <tr>\n",
       "      <th>5</th>\n",
       "      <td>6</td>\n",
       "      <td>0</td>\n",
       "      <td>3</td>\n",
       "      <td>Moran, Mr. James</td>\n",
       "      <td>male</td>\n",
       "      <td>NaN</td>\n",
       "      <td>0</td>\n",
       "      <td>0</td>\n",
       "      <td>330877</td>\n",
       "      <td>8.4583</td>\n",
       "      <td>NaN</td>\n",
       "      <td>Q</td>\n",
       "    </tr>\n",
       "    <tr>\n",
       "      <th>6</th>\n",
       "      <td>7</td>\n",
       "      <td>0</td>\n",
       "      <td>1</td>\n",
       "      <td>McCarthy, Mr. Timothy J</td>\n",
       "      <td>male</td>\n",
       "      <td>54.0</td>\n",
       "      <td>0</td>\n",
       "      <td>0</td>\n",
       "      <td>17463</td>\n",
       "      <td>51.8625</td>\n",
       "      <td>E46</td>\n",
       "      <td>S</td>\n",
       "    </tr>\n",
       "    <tr>\n",
       "      <th>7</th>\n",
       "      <td>8</td>\n",
       "      <td>0</td>\n",
       "      <td>3</td>\n",
       "      <td>Palsson, Master. Gosta Leonard</td>\n",
       "      <td>male</td>\n",
       "      <td>2.0</td>\n",
       "      <td>3</td>\n",
       "      <td>1</td>\n",
       "      <td>349909</td>\n",
       "      <td>21.0750</td>\n",
       "      <td>NaN</td>\n",
       "      <td>S</td>\n",
       "    </tr>\n",
       "  </tbody>\n",
       "</table>\n",
       "</div>"
      ],
      "text/plain": [
       "   PassengerId  Survived  Pclass  \\\n",
       "0            1         0       3   \n",
       "1            2         1       1   \n",
       "2            3         1       3   \n",
       "3            4         1       1   \n",
       "4            5         0       3   \n",
       "5            6         0       3   \n",
       "6            7         0       1   \n",
       "7            8         0       3   \n",
       "\n",
       "                                                Name     Sex   Age  SibSp  \\\n",
       "0                            Braund, Mr. Owen Harris    male  22.0      1   \n",
       "1  Cumings, Mrs. John Bradley (Florence Briggs Th...  female  38.0      1   \n",
       "2                             Heikkinen, Miss. Laina  female  26.0      0   \n",
       "3       Futrelle, Mrs. Jacques Heath (Lily May Peel)  female  35.0      1   \n",
       "4                           Allen, Mr. William Henry    male  35.0      0   \n",
       "5                                   Moran, Mr. James    male   NaN      0   \n",
       "6                            McCarthy, Mr. Timothy J    male  54.0      0   \n",
       "7                     Palsson, Master. Gosta Leonard    male   2.0      3   \n",
       "\n",
       "   Parch            Ticket     Fare Cabin Embarked  \n",
       "0      0         A/5 21171   7.2500   NaN        S  \n",
       "1      0          PC 17599  71.2833   C85        C  \n",
       "2      0  STON/O2. 3101282   7.9250   NaN        S  \n",
       "3      0            113803  53.1000  C123        S  \n",
       "4      0            373450   8.0500   NaN        S  \n",
       "5      0            330877   8.4583   NaN        Q  \n",
       "6      0             17463  51.8625   E46        S  \n",
       "7      1            349909  21.0750   NaN        S  "
      ]
     },
     "execution_count": 410,
     "metadata": {},
     "output_type": "execute_result"
    }
   ],
   "source": [
    "Titanic.head(8)"
   ]
  },
  {
   "cell_type": "code",
   "execution_count": 411,
   "id": "8e29cb48-b9fd-4e6c-a61d-7bd930cca84f",
   "metadata": {},
   "outputs": [
    {
     "name": "stdout",
     "output_type": "stream",
     "text": [
      "Index(['PassengerId', 'Survived', 'Pclass', 'Name', 'Sex', 'Age', 'SibSp',\n",
      "       'Parch', 'Ticket', 'Fare', 'Cabin', 'Embarked'],\n",
      "      dtype='object')\n"
     ]
    }
   ],
   "source": [
    "print(Titanic.columns)"
   ]
  },
  {
   "cell_type": "markdown",
   "id": "c82cca39-7cc6-4bc6-9be4-3e00bcaf200e",
   "metadata": {},
   "source": [
    "### Zbiór danych zawiera następujące informacje:\n",
    "\n",
    "*  PassengerId: Unikatowy identyfikator pasażera\n",
    "*  Survived: Czy pasażer przeżył (1) czy zginął (0)\n",
    "*  Pclass: Klasa biletu (1=pierwsza, 2=druga, 3=trzecia)\n",
    "*  Name: Imię i nazwisko pasażera, staus cywilny\n",
    "*  Sex: Płeć pasażera (male, female)\n",
    "*  Age: Wiek pasażera\n",
    "*  SibSp: Liczba rodzeństwa i/lub małżonka na pokładzie\n",
    "*  Parch: Liczba rodziców i/lub dzieci na pokładzie\n",
    "*  Ticket: Numer biletu\n",
    "*  Fare: Cena biletu\n",
    "*  Cabin: Numer kabiny\n",
    "*  Embarked: Port zaokrętowania (C = Cherbourg, Q = Queenstown, S = Southampton)"
   ]
  },
  {
   "cell_type": "code",
   "execution_count": 412,
   "id": "d54717ce-871f-420f-8178-3cb51d25771c",
   "metadata": {},
   "outputs": [
    {
     "data": {
      "text/html": [
       "<div>\n",
       "<style scoped>\n",
       "    .dataframe tbody tr th:only-of-type {\n",
       "        vertical-align: middle;\n",
       "    }\n",
       "\n",
       "    .dataframe tbody tr th {\n",
       "        vertical-align: top;\n",
       "    }\n",
       "\n",
       "    .dataframe thead th {\n",
       "        text-align: right;\n",
       "    }\n",
       "</style>\n",
       "<table border=\"1\" class=\"dataframe\">\n",
       "  <thead>\n",
       "    <tr style=\"text-align: right;\">\n",
       "      <th></th>\n",
       "      <th>PassengerId</th>\n",
       "      <th>Survived</th>\n",
       "      <th>Pclass</th>\n",
       "      <th>Age</th>\n",
       "      <th>SibSp</th>\n",
       "      <th>Parch</th>\n",
       "      <th>Fare</th>\n",
       "    </tr>\n",
       "  </thead>\n",
       "  <tbody>\n",
       "    <tr>\n",
       "      <th>count</th>\n",
       "      <td>891.000000</td>\n",
       "      <td>891.000000</td>\n",
       "      <td>891.000000</td>\n",
       "      <td>714.000000</td>\n",
       "      <td>891.000000</td>\n",
       "      <td>891.000000</td>\n",
       "      <td>891.000000</td>\n",
       "    </tr>\n",
       "    <tr>\n",
       "      <th>mean</th>\n",
       "      <td>446.000000</td>\n",
       "      <td>0.383838</td>\n",
       "      <td>2.308642</td>\n",
       "      <td>29.699118</td>\n",
       "      <td>0.523008</td>\n",
       "      <td>0.381594</td>\n",
       "      <td>32.204208</td>\n",
       "    </tr>\n",
       "    <tr>\n",
       "      <th>std</th>\n",
       "      <td>257.353842</td>\n",
       "      <td>0.486592</td>\n",
       "      <td>0.836071</td>\n",
       "      <td>14.526497</td>\n",
       "      <td>1.102743</td>\n",
       "      <td>0.806057</td>\n",
       "      <td>49.693429</td>\n",
       "    </tr>\n",
       "    <tr>\n",
       "      <th>min</th>\n",
       "      <td>1.000000</td>\n",
       "      <td>0.000000</td>\n",
       "      <td>1.000000</td>\n",
       "      <td>0.420000</td>\n",
       "      <td>0.000000</td>\n",
       "      <td>0.000000</td>\n",
       "      <td>0.000000</td>\n",
       "    </tr>\n",
       "    <tr>\n",
       "      <th>25%</th>\n",
       "      <td>223.500000</td>\n",
       "      <td>0.000000</td>\n",
       "      <td>2.000000</td>\n",
       "      <td>20.125000</td>\n",
       "      <td>0.000000</td>\n",
       "      <td>0.000000</td>\n",
       "      <td>7.910400</td>\n",
       "    </tr>\n",
       "    <tr>\n",
       "      <th>50%</th>\n",
       "      <td>446.000000</td>\n",
       "      <td>0.000000</td>\n",
       "      <td>3.000000</td>\n",
       "      <td>28.000000</td>\n",
       "      <td>0.000000</td>\n",
       "      <td>0.000000</td>\n",
       "      <td>14.454200</td>\n",
       "    </tr>\n",
       "    <tr>\n",
       "      <th>75%</th>\n",
       "      <td>668.500000</td>\n",
       "      <td>1.000000</td>\n",
       "      <td>3.000000</td>\n",
       "      <td>38.000000</td>\n",
       "      <td>1.000000</td>\n",
       "      <td>0.000000</td>\n",
       "      <td>31.000000</td>\n",
       "    </tr>\n",
       "    <tr>\n",
       "      <th>max</th>\n",
       "      <td>891.000000</td>\n",
       "      <td>1.000000</td>\n",
       "      <td>3.000000</td>\n",
       "      <td>80.000000</td>\n",
       "      <td>8.000000</td>\n",
       "      <td>6.000000</td>\n",
       "      <td>512.329200</td>\n",
       "    </tr>\n",
       "  </tbody>\n",
       "</table>\n",
       "</div>"
      ],
      "text/plain": [
       "       PassengerId    Survived      Pclass         Age       SibSp  \\\n",
       "count   891.000000  891.000000  891.000000  714.000000  891.000000   \n",
       "mean    446.000000    0.383838    2.308642   29.699118    0.523008   \n",
       "std     257.353842    0.486592    0.836071   14.526497    1.102743   \n",
       "min       1.000000    0.000000    1.000000    0.420000    0.000000   \n",
       "25%     223.500000    0.000000    2.000000   20.125000    0.000000   \n",
       "50%     446.000000    0.000000    3.000000   28.000000    0.000000   \n",
       "75%     668.500000    1.000000    3.000000   38.000000    1.000000   \n",
       "max     891.000000    1.000000    3.000000   80.000000    8.000000   \n",
       "\n",
       "            Parch        Fare  \n",
       "count  891.000000  891.000000  \n",
       "mean     0.381594   32.204208  \n",
       "std      0.806057   49.693429  \n",
       "min      0.000000    0.000000  \n",
       "25%      0.000000    7.910400  \n",
       "50%      0.000000   14.454200  \n",
       "75%      0.000000   31.000000  \n",
       "max      6.000000  512.329200  "
      ]
     },
     "execution_count": 412,
     "metadata": {},
     "output_type": "execute_result"
    }
   ],
   "source": [
    "Titanic.describe()"
   ]
  },
  {
   "cell_type": "markdown",
   "id": "0a86e0fa-f3a8-402a-a05c-01c97c6746a6",
   "metadata": {},
   "source": [
    "## 3. Czyszczenie i przygotowanie danych"
   ]
  },
  {
   "cell_type": "code",
   "execution_count": 413,
   "id": "681260da-3c2c-4778-9343-e38a25760c9a",
   "metadata": {},
   "outputs": [
    {
     "name": "stdout",
     "output_type": "stream",
     "text": [
      "PassengerId      0\n",
      "Survived         0\n",
      "Pclass           0\n",
      "Name             0\n",
      "Sex              0\n",
      "Age            177\n",
      "SibSp            0\n",
      "Parch            0\n",
      "Ticket           0\n",
      "Fare             0\n",
      "Cabin          687\n",
      "Embarked         2\n",
      "dtype: int64\n"
     ]
    }
   ],
   "source": [
    "#Sprawdzenie wartości zerowych\n",
    "print(pd.isnull(Titanic).sum())"
   ]
  },
  {
   "cell_type": "markdown",
   "id": "4157e531-a7e3-4c53-adef-3ac46d4ba7ba",
   "metadata": {},
   "source": [
    "### Przygotowanie danych"
   ]
  },
  {
   "cell_type": "code",
   "execution_count": 414,
   "id": "b420ae08-25b0-488e-ba7b-76a986dac83f",
   "metadata": {},
   "outputs": [
    {
     "data": {
      "text/html": [
       "<div>\n",
       "<style scoped>\n",
       "    .dataframe tbody tr th:only-of-type {\n",
       "        vertical-align: middle;\n",
       "    }\n",
       "\n",
       "    .dataframe tbody tr th {\n",
       "        vertical-align: top;\n",
       "    }\n",
       "\n",
       "    .dataframe thead th {\n",
       "        text-align: right;\n",
       "    }\n",
       "</style>\n",
       "<table border=\"1\" class=\"dataframe\">\n",
       "  <thead>\n",
       "    <tr style=\"text-align: right;\">\n",
       "      <th></th>\n",
       "      <th>PassengerId</th>\n",
       "      <th>Survived</th>\n",
       "      <th>Pclass</th>\n",
       "      <th>Name</th>\n",
       "      <th>Sex</th>\n",
       "      <th>Age</th>\n",
       "      <th>SibSp</th>\n",
       "      <th>Parch</th>\n",
       "      <th>Ticket</th>\n",
       "      <th>Fare</th>\n",
       "      <th>Cabin</th>\n",
       "      <th>Embarked</th>\n",
       "    </tr>\n",
       "  </thead>\n",
       "  <tbody>\n",
       "    <tr>\n",
       "      <th>0</th>\n",
       "      <td>1</td>\n",
       "      <td>0</td>\n",
       "      <td>3</td>\n",
       "      <td>Braund, Mr. Owen Harris</td>\n",
       "      <td>male</td>\n",
       "      <td>22.0</td>\n",
       "      <td>1</td>\n",
       "      <td>0</td>\n",
       "      <td>A/5 21171</td>\n",
       "      <td>7.2500</td>\n",
       "      <td>NaN</td>\n",
       "      <td>S</td>\n",
       "    </tr>\n",
       "    <tr>\n",
       "      <th>1</th>\n",
       "      <td>2</td>\n",
       "      <td>1</td>\n",
       "      <td>1</td>\n",
       "      <td>Cumings, Mrs. John Bradley (Florence Briggs Th...</td>\n",
       "      <td>female</td>\n",
       "      <td>38.0</td>\n",
       "      <td>1</td>\n",
       "      <td>0</td>\n",
       "      <td>PC 17599</td>\n",
       "      <td>71.2833</td>\n",
       "      <td>C85</td>\n",
       "      <td>C</td>\n",
       "    </tr>\n",
       "    <tr>\n",
       "      <th>2</th>\n",
       "      <td>3</td>\n",
       "      <td>1</td>\n",
       "      <td>3</td>\n",
       "      <td>Heikkinen, Miss. Laina</td>\n",
       "      <td>female</td>\n",
       "      <td>26.0</td>\n",
       "      <td>0</td>\n",
       "      <td>0</td>\n",
       "      <td>STON/O2. 3101282</td>\n",
       "      <td>7.9250</td>\n",
       "      <td>NaN</td>\n",
       "      <td>S</td>\n",
       "    </tr>\n",
       "    <tr>\n",
       "      <th>3</th>\n",
       "      <td>4</td>\n",
       "      <td>1</td>\n",
       "      <td>1</td>\n",
       "      <td>Futrelle, Mrs. Jacques Heath (Lily May Peel)</td>\n",
       "      <td>female</td>\n",
       "      <td>35.0</td>\n",
       "      <td>1</td>\n",
       "      <td>0</td>\n",
       "      <td>113803</td>\n",
       "      <td>53.1000</td>\n",
       "      <td>C123</td>\n",
       "      <td>S</td>\n",
       "    </tr>\n",
       "    <tr>\n",
       "      <th>4</th>\n",
       "      <td>5</td>\n",
       "      <td>0</td>\n",
       "      <td>3</td>\n",
       "      <td>Allen, Mr. William Henry</td>\n",
       "      <td>male</td>\n",
       "      <td>35.0</td>\n",
       "      <td>0</td>\n",
       "      <td>0</td>\n",
       "      <td>373450</td>\n",
       "      <td>8.0500</td>\n",
       "      <td>NaN</td>\n",
       "      <td>S</td>\n",
       "    </tr>\n",
       "  </tbody>\n",
       "</table>\n",
       "</div>"
      ],
      "text/plain": [
       "   PassengerId  Survived  Pclass  \\\n",
       "0            1         0       3   \n",
       "1            2         1       1   \n",
       "2            3         1       3   \n",
       "3            4         1       1   \n",
       "4            5         0       3   \n",
       "\n",
       "                                                Name     Sex   Age  SibSp  \\\n",
       "0                            Braund, Mr. Owen Harris    male  22.0      1   \n",
       "1  Cumings, Mrs. John Bradley (Florence Briggs Th...  female  38.0      1   \n",
       "2                             Heikkinen, Miss. Laina  female  26.0      0   \n",
       "3       Futrelle, Mrs. Jacques Heath (Lily May Peel)  female  35.0      1   \n",
       "4                           Allen, Mr. William Henry    male  35.0      0   \n",
       "\n",
       "   Parch            Ticket     Fare Cabin Embarked  \n",
       "0      0         A/5 21171   7.2500   NaN        S  \n",
       "1      0          PC 17599  71.2833   C85        C  \n",
       "2      0  STON/O2. 3101282   7.9250   NaN        S  \n",
       "3      0            113803  53.1000  C123        S  \n",
       "4      0            373450   8.0500   NaN        S  "
      ]
     },
     "execution_count": 414,
     "metadata": {},
     "output_type": "execute_result"
    }
   ],
   "source": [
    "Titanic.head()"
   ]
  },
  {
   "cell_type": "markdown",
   "id": "7c1c95f5-7abf-47b1-b19b-090bef446a1e",
   "metadata": {},
   "source": [
    "####  Określenie stanu cywilnego danego paseżera."
   ]
  },
  {
   "cell_type": "code",
   "execution_count": 415,
   "id": "99a93847-7983-4166-9f89-a8a7e0a863b5",
   "metadata": {},
   "outputs": [
    {
     "name": "stdout",
     "output_type": "stream",
     "text": [
      "Title\n",
      "Mr              0.580247\n",
      "Miss            0.207632\n",
      "Mrs             0.141414\n",
      "Master          0.044893\n",
      "Rare            0.024691\n",
      "the Countess    0.001122\n",
      "Name: proportion, dtype: float64\n"
     ]
    }
   ],
   "source": [
    "def get_title(name):\n",
    "    # Wyodrębnij prefix z imienia\n",
    "    title = name.split(',')[1].split('.')[0].strip()\n",
    "    if title in ['Lady', 'Countess', 'Capt', 'Col', 'Don', 'Dr', 'Major', 'Rev', 'Sir', 'Jonkheer', 'Dona']:\n",
    "        return 'Rare'\n",
    "    elif title in ['Mlle']:\n",
    "        return 'Miss'\n",
    "    elif title in ['Ms']:\n",
    "        return 'Miss'\n",
    "    elif title in ['Mme']:\n",
    "        return 'Mrs'\n",
    "    else:\n",
    "        return title\n",
    "Titanic['Title'] = Titanic['Name'].apply(get_title)\n",
    "title_percentages = Titanic['Title'].value_counts(normalize=True)\n",
    "print(title_percentages)"
   ]
  },
  {
   "cell_type": "markdown",
   "id": "3913f4f5-5d0b-43b4-80ae-4a7e8a6c1221",
   "metadata": {},
   "source": [
    "### OneHotencodowanie danych categorycznych"
   ]
  },
  {
   "cell_type": "code",
   "execution_count": 416,
   "id": "5638ad0c-cf43-401a-a04c-45c790444fdd",
   "metadata": {
    "scrolled": true
   },
   "outputs": [
    {
     "name": "stdout",
     "output_type": "stream",
     "text": [
      "Kolumna: Sex\n",
      "  female: 0\n",
      "  male: 1\n",
      "\n",
      "Kolumna: Embarked\n",
      "  C: 0\n",
      "  Q: 1\n",
      "  S: 2\n",
      "  nan: 3\n",
      "\n",
      "Kolumna: Title\n",
      "  Master: 0\n",
      "  Miss: 1\n",
      "  Mr: 2\n",
      "  Mrs: 3\n",
      "  Rare: 4\n",
      "  the Countess: 5\n",
      "\n"
     ]
    }
   ],
   "source": [
    "#OneHotEncoder\n",
    "ohe = OneHotEncoder(sparse_output=False)\n",
    "\n",
    "# Zdefiniuj kolumny do zenkodowania\n",
    "categorical_features = ['Sex', 'Embarked', 'Title']\n",
    "\n",
    "# Zenkoduj kolumny\n",
    "encoded_features = ohe.fit_transform(Titanic[categorical_features])\n",
    "\n",
    "\n",
    "# Dodaj zakodowane kolumny do DataFrame\n",
    "for i, col in enumerate(categorical_features):\n",
    "    Titanic[col + \"_ohe\"] = encoded_features[:, i]\n",
    "\n",
    "for col in categorical_features:\n",
    "    print(f\"Kolumna: {col}\")\n",
    "    mapping = ohe_mapping[col]\n",
    "    for category, encoded_value in mapping.items():\n",
    "        print(f\"  {category}: {encoded_value}\")\n",
    "    print()    "
   ]
  },
  {
   "cell_type": "code",
   "execution_count": 417,
   "id": "a0c7902b-2008-4104-8c97-1fe0fdcc9e01",
   "metadata": {},
   "outputs": [
    {
     "data": {
      "text/plain": [
       "count    891.000000\n",
       "mean      32.204208\n",
       "std       49.693429\n",
       "min        0.000000\n",
       "25%        7.910400\n",
       "50%       14.454200\n",
       "75%       31.000000\n",
       "max      512.329200\n",
       "Name: Fare, dtype: float64"
      ]
     },
     "execution_count": 417,
     "metadata": {},
     "output_type": "execute_result"
    }
   ],
   "source": [
    "Titanic['Fare'].describe()"
   ]
  },
  {
   "cell_type": "code",
   "execution_count": 418,
   "id": "f892c7cb-091e-4500-b426-6c3e59d9cd6d",
   "metadata": {
    "scrolled": true
   },
   "outputs": [
    {
     "data": {
      "text/plain": [
       "Fare\n",
       "2.0    233\n",
       "1.0    224\n",
       "0.0    223\n",
       "3.0    211\n",
       "Name: count, dtype: int64"
      ]
     },
     "execution_count": 418,
     "metadata": {},
     "output_type": "execute_result"
    }
   ],
   "source": [
    "# Mapping Fare\n",
    "Titanic.loc[Titanic['Fare'] <=  7.895800,                                 'Fare'] = 0\n",
    "Titanic.loc[(Titanic['Fare'] >  7.895800) & (Titanic['Fare'] <= 14.4542), 'Fare'] = 1\n",
    "Titanic.loc[(Titanic['Fare'] > 14.4542)   & (Titanic['Fare'] <=  31.5),   'Fare'] = 2\n",
    "Titanic.loc[Titanic['Fare'] >  31.5,                                      'Fare'] = 3\n",
    "Titanic['Fare'].value_counts()"
   ]
  },
  {
   "cell_type": "markdown",
   "id": "c70067d7-ed08-48ae-b1d6-a1a8e1823db0",
   "metadata": {},
   "source": [
    "## Wybórdanych"
   ]
  },
  {
   "cell_type": "code",
   "execution_count": 419,
   "id": "5641abbf-fea6-4e74-b370-b73dc7626a0e",
   "metadata": {},
   "outputs": [],
   "source": [
    "# Usuń oryginalne kolumny\n",
    "\n",
    "Titanic.drop(columns=categorical_features, inplace=True)\n",
    "#Titanic.head()"
   ]
  },
  {
   "cell_type": "markdown",
   "id": "dccc48ac-9146-44f9-a204-ceced1d44d17",
   "metadata": {},
   "source": [
    "## 4. Wizualizacja i ekspoloracja wzorców"
   ]
  },
  {
   "cell_type": "code",
   "execution_count": 420,
   "id": "3b43f930-93b0-43d2-bc55-53ae3bf5d45e",
   "metadata": {
    "scrolled": true
   },
   "outputs": [
    {
     "ename": "TypeError",
     "evalue": "agg function failed [how->mean,dtype->object]",
     "output_type": "error",
     "traceback": [
      "\u001b[1;31m---------------------------------------------------------------------------\u001b[0m",
      "\u001b[1;31mTypeError\u001b[0m                                 Traceback (most recent call last)",
      "File \u001b[1;32m~\\anaconda3\\Lib\\site-packages\\pandas\\core\\groupby\\groupby.py:1874\u001b[0m, in \u001b[0;36mGroupBy._agg_py_fallback\u001b[1;34m(self, how, values, ndim, alt)\u001b[0m\n\u001b[0;32m   1873\u001b[0m \u001b[38;5;28;01mtry\u001b[39;00m:\n\u001b[1;32m-> 1874\u001b[0m     res_values \u001b[38;5;241m=\u001b[39m \u001b[38;5;28mself\u001b[39m\u001b[38;5;241m.\u001b[39mgrouper\u001b[38;5;241m.\u001b[39magg_series(ser, alt, preserve_dtype\u001b[38;5;241m=\u001b[39m\u001b[38;5;28;01mTrue\u001b[39;00m)\n\u001b[0;32m   1875\u001b[0m \u001b[38;5;28;01mexcept\u001b[39;00m \u001b[38;5;167;01mException\u001b[39;00m \u001b[38;5;28;01mas\u001b[39;00m err:\n",
      "File \u001b[1;32m~\\anaconda3\\Lib\\site-packages\\pandas\\core\\groupby\\ops.py:849\u001b[0m, in \u001b[0;36mBaseGrouper.agg_series\u001b[1;34m(self, obj, func, preserve_dtype)\u001b[0m\n\u001b[0;32m    847\u001b[0m     preserve_dtype \u001b[38;5;241m=\u001b[39m \u001b[38;5;28;01mTrue\u001b[39;00m\n\u001b[1;32m--> 849\u001b[0m result \u001b[38;5;241m=\u001b[39m \u001b[38;5;28mself\u001b[39m\u001b[38;5;241m.\u001b[39m_aggregate_series_pure_python(obj, func)\n\u001b[0;32m    851\u001b[0m \u001b[38;5;28;01mif\u001b[39;00m \u001b[38;5;28mlen\u001b[39m(obj) \u001b[38;5;241m==\u001b[39m \u001b[38;5;241m0\u001b[39m \u001b[38;5;129;01mand\u001b[39;00m \u001b[38;5;28mlen\u001b[39m(result) \u001b[38;5;241m==\u001b[39m \u001b[38;5;241m0\u001b[39m \u001b[38;5;129;01mand\u001b[39;00m \u001b[38;5;28misinstance\u001b[39m(obj\u001b[38;5;241m.\u001b[39mdtype, ExtensionDtype):\n",
      "File \u001b[1;32m~\\anaconda3\\Lib\\site-packages\\pandas\\core\\groupby\\ops.py:877\u001b[0m, in \u001b[0;36mBaseGrouper._aggregate_series_pure_python\u001b[1;34m(self, obj, func)\u001b[0m\n\u001b[0;32m    876\u001b[0m \u001b[38;5;28;01mfor\u001b[39;00m i, group \u001b[38;5;129;01min\u001b[39;00m \u001b[38;5;28menumerate\u001b[39m(splitter):\n\u001b[1;32m--> 877\u001b[0m     res \u001b[38;5;241m=\u001b[39m func(group)\n\u001b[0;32m    878\u001b[0m     res \u001b[38;5;241m=\u001b[39m extract_result(res)\n",
      "File \u001b[1;32m~\\anaconda3\\Lib\\site-packages\\pandas\\core\\groupby\\groupby.py:2380\u001b[0m, in \u001b[0;36mGroupBy.mean.<locals>.<lambda>\u001b[1;34m(x)\u001b[0m\n\u001b[0;32m   2377\u001b[0m \u001b[38;5;28;01melse\u001b[39;00m:\n\u001b[0;32m   2378\u001b[0m     result \u001b[38;5;241m=\u001b[39m \u001b[38;5;28mself\u001b[39m\u001b[38;5;241m.\u001b[39m_cython_agg_general(\n\u001b[0;32m   2379\u001b[0m         \u001b[38;5;124m\"\u001b[39m\u001b[38;5;124mmean\u001b[39m\u001b[38;5;124m\"\u001b[39m,\n\u001b[1;32m-> 2380\u001b[0m         alt\u001b[38;5;241m=\u001b[39m\u001b[38;5;28;01mlambda\u001b[39;00m x: Series(x)\u001b[38;5;241m.\u001b[39mmean(numeric_only\u001b[38;5;241m=\u001b[39mnumeric_only),\n\u001b[0;32m   2381\u001b[0m         numeric_only\u001b[38;5;241m=\u001b[39mnumeric_only,\n\u001b[0;32m   2382\u001b[0m     )\n\u001b[0;32m   2383\u001b[0m     \u001b[38;5;28;01mreturn\u001b[39;00m result\u001b[38;5;241m.\u001b[39m__finalize__(\u001b[38;5;28mself\u001b[39m\u001b[38;5;241m.\u001b[39mobj, method\u001b[38;5;241m=\u001b[39m\u001b[38;5;124m\"\u001b[39m\u001b[38;5;124mgroupby\u001b[39m\u001b[38;5;124m\"\u001b[39m)\n",
      "File \u001b[1;32m~\\anaconda3\\Lib\\site-packages\\pandas\\core\\series.py:6225\u001b[0m, in \u001b[0;36mSeries.mean\u001b[1;34m(self, axis, skipna, numeric_only, **kwargs)\u001b[0m\n\u001b[0;32m   6217\u001b[0m \u001b[38;5;129m@doc\u001b[39m(make_doc(\u001b[38;5;124m\"\u001b[39m\u001b[38;5;124mmean\u001b[39m\u001b[38;5;124m\"\u001b[39m, ndim\u001b[38;5;241m=\u001b[39m\u001b[38;5;241m1\u001b[39m))\n\u001b[0;32m   6218\u001b[0m \u001b[38;5;28;01mdef\u001b[39;00m \u001b[38;5;21mmean\u001b[39m(\n\u001b[0;32m   6219\u001b[0m     \u001b[38;5;28mself\u001b[39m,\n\u001b[1;32m   (...)\u001b[0m\n\u001b[0;32m   6223\u001b[0m     \u001b[38;5;241m*\u001b[39m\u001b[38;5;241m*\u001b[39mkwargs,\n\u001b[0;32m   6224\u001b[0m ):\n\u001b[1;32m-> 6225\u001b[0m     \u001b[38;5;28;01mreturn\u001b[39;00m NDFrame\u001b[38;5;241m.\u001b[39mmean(\u001b[38;5;28mself\u001b[39m, axis, skipna, numeric_only, \u001b[38;5;241m*\u001b[39m\u001b[38;5;241m*\u001b[39mkwargs)\n",
      "File \u001b[1;32m~\\anaconda3\\Lib\\site-packages\\pandas\\core\\generic.py:11992\u001b[0m, in \u001b[0;36mNDFrame.mean\u001b[1;34m(self, axis, skipna, numeric_only, **kwargs)\u001b[0m\n\u001b[0;32m  11985\u001b[0m \u001b[38;5;28;01mdef\u001b[39;00m \u001b[38;5;21mmean\u001b[39m(\n\u001b[0;32m  11986\u001b[0m     \u001b[38;5;28mself\u001b[39m,\n\u001b[0;32m  11987\u001b[0m     axis: Axis \u001b[38;5;241m|\u001b[39m \u001b[38;5;28;01mNone\u001b[39;00m \u001b[38;5;241m=\u001b[39m \u001b[38;5;241m0\u001b[39m,\n\u001b[1;32m   (...)\u001b[0m\n\u001b[0;32m  11990\u001b[0m     \u001b[38;5;241m*\u001b[39m\u001b[38;5;241m*\u001b[39mkwargs,\n\u001b[0;32m  11991\u001b[0m ) \u001b[38;5;241m-\u001b[39m\u001b[38;5;241m>\u001b[39m Series \u001b[38;5;241m|\u001b[39m \u001b[38;5;28mfloat\u001b[39m:\n\u001b[1;32m> 11992\u001b[0m     \u001b[38;5;28;01mreturn\u001b[39;00m \u001b[38;5;28mself\u001b[39m\u001b[38;5;241m.\u001b[39m_stat_function(\n\u001b[0;32m  11993\u001b[0m         \u001b[38;5;124m\"\u001b[39m\u001b[38;5;124mmean\u001b[39m\u001b[38;5;124m\"\u001b[39m, nanops\u001b[38;5;241m.\u001b[39mnanmean, axis, skipna, numeric_only, \u001b[38;5;241m*\u001b[39m\u001b[38;5;241m*\u001b[39mkwargs\n\u001b[0;32m  11994\u001b[0m     )\n",
      "File \u001b[1;32m~\\anaconda3\\Lib\\site-packages\\pandas\\core\\generic.py:11949\u001b[0m, in \u001b[0;36mNDFrame._stat_function\u001b[1;34m(self, name, func, axis, skipna, numeric_only, **kwargs)\u001b[0m\n\u001b[0;32m  11947\u001b[0m validate_bool_kwarg(skipna, \u001b[38;5;124m\"\u001b[39m\u001b[38;5;124mskipna\u001b[39m\u001b[38;5;124m\"\u001b[39m, none_allowed\u001b[38;5;241m=\u001b[39m\u001b[38;5;28;01mFalse\u001b[39;00m)\n\u001b[1;32m> 11949\u001b[0m \u001b[38;5;28;01mreturn\u001b[39;00m \u001b[38;5;28mself\u001b[39m\u001b[38;5;241m.\u001b[39m_reduce(\n\u001b[0;32m  11950\u001b[0m     func, name\u001b[38;5;241m=\u001b[39mname, axis\u001b[38;5;241m=\u001b[39maxis, skipna\u001b[38;5;241m=\u001b[39mskipna, numeric_only\u001b[38;5;241m=\u001b[39mnumeric_only\n\u001b[0;32m  11951\u001b[0m )\n",
      "File \u001b[1;32m~\\anaconda3\\Lib\\site-packages\\pandas\\core\\series.py:6133\u001b[0m, in \u001b[0;36mSeries._reduce\u001b[1;34m(self, op, name, axis, skipna, numeric_only, filter_type, **kwds)\u001b[0m\n\u001b[0;32m   6129\u001b[0m     \u001b[38;5;28;01mraise\u001b[39;00m \u001b[38;5;167;01mTypeError\u001b[39;00m(\n\u001b[0;32m   6130\u001b[0m         \u001b[38;5;124mf\u001b[39m\u001b[38;5;124m\"\u001b[39m\u001b[38;5;124mSeries.\u001b[39m\u001b[38;5;132;01m{\u001b[39;00mname\u001b[38;5;132;01m}\u001b[39;00m\u001b[38;5;124m does not allow \u001b[39m\u001b[38;5;132;01m{\u001b[39;00mkwd_name\u001b[38;5;132;01m}\u001b[39;00m\u001b[38;5;124m=\u001b[39m\u001b[38;5;132;01m{\u001b[39;00mnumeric_only\u001b[38;5;132;01m}\u001b[39;00m\u001b[38;5;124m \u001b[39m\u001b[38;5;124m\"\u001b[39m\n\u001b[0;32m   6131\u001b[0m         \u001b[38;5;124m\"\u001b[39m\u001b[38;5;124mwith non-numeric dtypes.\u001b[39m\u001b[38;5;124m\"\u001b[39m\n\u001b[0;32m   6132\u001b[0m     )\n\u001b[1;32m-> 6133\u001b[0m \u001b[38;5;28;01mreturn\u001b[39;00m op(delegate, skipna\u001b[38;5;241m=\u001b[39mskipna, \u001b[38;5;241m*\u001b[39m\u001b[38;5;241m*\u001b[39mkwds)\n",
      "File \u001b[1;32m~\\anaconda3\\Lib\\site-packages\\pandas\\core\\nanops.py:147\u001b[0m, in \u001b[0;36mbottleneck_switch.__call__.<locals>.f\u001b[1;34m(values, axis, skipna, **kwds)\u001b[0m\n\u001b[0;32m    146\u001b[0m \u001b[38;5;28;01melse\u001b[39;00m:\n\u001b[1;32m--> 147\u001b[0m     result \u001b[38;5;241m=\u001b[39m alt(values, axis\u001b[38;5;241m=\u001b[39maxis, skipna\u001b[38;5;241m=\u001b[39mskipna, \u001b[38;5;241m*\u001b[39m\u001b[38;5;241m*\u001b[39mkwds)\n\u001b[0;32m    149\u001b[0m \u001b[38;5;28;01mreturn\u001b[39;00m result\n",
      "File \u001b[1;32m~\\anaconda3\\Lib\\site-packages\\pandas\\core\\nanops.py:404\u001b[0m, in \u001b[0;36m_datetimelike_compat.<locals>.new_func\u001b[1;34m(values, axis, skipna, mask, **kwargs)\u001b[0m\n\u001b[0;32m    402\u001b[0m     mask \u001b[38;5;241m=\u001b[39m isna(values)\n\u001b[1;32m--> 404\u001b[0m result \u001b[38;5;241m=\u001b[39m func(values, axis\u001b[38;5;241m=\u001b[39maxis, skipna\u001b[38;5;241m=\u001b[39mskipna, mask\u001b[38;5;241m=\u001b[39mmask, \u001b[38;5;241m*\u001b[39m\u001b[38;5;241m*\u001b[39mkwargs)\n\u001b[0;32m    406\u001b[0m \u001b[38;5;28;01mif\u001b[39;00m datetimelike:\n",
      "File \u001b[1;32m~\\anaconda3\\Lib\\site-packages\\pandas\\core\\nanops.py:720\u001b[0m, in \u001b[0;36mnanmean\u001b[1;34m(values, axis, skipna, mask)\u001b[0m\n\u001b[0;32m    719\u001b[0m the_sum \u001b[38;5;241m=\u001b[39m values\u001b[38;5;241m.\u001b[39msum(axis, dtype\u001b[38;5;241m=\u001b[39mdtype_sum)\n\u001b[1;32m--> 720\u001b[0m the_sum \u001b[38;5;241m=\u001b[39m _ensure_numeric(the_sum)\n\u001b[0;32m    722\u001b[0m \u001b[38;5;28;01mif\u001b[39;00m axis \u001b[38;5;129;01mis\u001b[39;00m \u001b[38;5;129;01mnot\u001b[39;00m \u001b[38;5;28;01mNone\u001b[39;00m \u001b[38;5;129;01mand\u001b[39;00m \u001b[38;5;28mgetattr\u001b[39m(the_sum, \u001b[38;5;124m\"\u001b[39m\u001b[38;5;124mndim\u001b[39m\u001b[38;5;124m\"\u001b[39m, \u001b[38;5;28;01mFalse\u001b[39;00m):\n",
      "File \u001b[1;32m~\\anaconda3\\Lib\\site-packages\\pandas\\core\\nanops.py:1693\u001b[0m, in \u001b[0;36m_ensure_numeric\u001b[1;34m(x)\u001b[0m\n\u001b[0;32m   1691\u001b[0m \u001b[38;5;28;01mif\u001b[39;00m \u001b[38;5;28misinstance\u001b[39m(x, \u001b[38;5;28mstr\u001b[39m):\n\u001b[0;32m   1692\u001b[0m     \u001b[38;5;66;03m# GH#44008, GH#36703 avoid casting e.g. strings to numeric\u001b[39;00m\n\u001b[1;32m-> 1693\u001b[0m     \u001b[38;5;28;01mraise\u001b[39;00m \u001b[38;5;167;01mTypeError\u001b[39;00m(\u001b[38;5;124mf\u001b[39m\u001b[38;5;124m\"\u001b[39m\u001b[38;5;124mCould not convert string \u001b[39m\u001b[38;5;124m'\u001b[39m\u001b[38;5;132;01m{\u001b[39;00mx\u001b[38;5;132;01m}\u001b[39;00m\u001b[38;5;124m'\u001b[39m\u001b[38;5;124m to numeric\u001b[39m\u001b[38;5;124m\"\u001b[39m)\n\u001b[0;32m   1694\u001b[0m \u001b[38;5;28;01mtry\u001b[39;00m:\n",
      "\u001b[1;31mTypeError\u001b[0m: Could not convert string 'Braund, Mr. Owen HarrisAllen, Mr. William HenryMoran, Mr. JamesMcCarthy, Mr. Timothy JPalsson, Master. Gosta LeonardSaundercock, Mr. William HenryAndersson, Mr. Anders JohanRice, Master. EugeneWilliams, Mr. Charles EugeneFynney, Mr. Joseph JBeesley, Mr. LawrenceSloper, Mr. William ThompsonEmir, Mr. Farred ChehabFortune, Mr. Charles AlexanderTodoroff, Mr. LalioUruchurtu, Don. Manuel EWheadon, Mr. Edward HMeyer, Mr. Edgar JosephHolverson, Mr. Alexander OskarMamee, Mr. HannaCann, Mr. Ernest CharlesKraeff, Mr. TheodorRogers, Mr. William JohnLennon, Mr. DenisSamaan, Mr. YoussefPanula, Master. Juha NiiloNosworthy, Mr. Richard CaterOstby, Mr. Engelhart CorneliusWoolner, Mr. HughNovel, Mr. MansouerGoodwin, Master. William FrederickSirayanian, Mr. OrsenHarris, Mr. Henry BirkhardtSkoog, Master. HaraldStewart, Mr. Albert AMoubarek, Master. GeriosCrease, Mr. Ernest JamesKink, Mr. VincenzJenkin, Mr. Stephen CurnowHood, Mr. Ambrose JrChronopoulos, Mr. ApostolosBing, Mr. LeeMoen, Mr. Sigurd HansenStaneff, Mr. IvanMoutal, Mr. Rahamin HaimCaldwell, Master. Alden GatesWaelens, Mr. AchilleSheerlinck, Mr. Jan BaptistCarrau, Mr. Francisco MFord, Mr. William NealSlocovski, Mr. Selman FrancisCelotti, Mr. FrancescoChristmann, Mr. EmilAndreasson, Mr. Paul EdvinChaffee, Mr. Herbert FullerDean, Mr. Bertram FrankCoxon, Mr. DanielShorney, Mr. Charles JosephGoldschmidt, Mr. George BGreenfield, Mr. William BertramKantor, Mr. SinaiPetroff, Mr. Pastcho (\"Pentcho\")White, Mr. Richard FrasarJohansson, Mr. Gustaf JoelGustafsson, Mr. Anders VilhelmMionoff, Mr. StoytchoMoss, Mr. Albert JohanRekic, Mr. TidoPorter, Mr. Walter ChamberlainBarton, Mr. David JohnPekoniemi, Mr. EdvardConnors, Mr. PatrickTurpin, Mr. William John RobertBaxter, Mr. Quigg EdmondHickman, Mr. Stanley GeorgeMoore, Mr. Leonard CharlesNasser, Mr. NicholasWhite, Mr. Percival WaylandNicola-Yarred, Master. EliasMcMahon, Mr. MartinMadsen, Mr. Fridtjof ArneEkstrom, Mr. JohanDrazenoic, Mr. JozefCoelho, Mr. Domingos FernandeoSobey, Mr. Samuel James HaydenRichard, Mr. EmileFutrelle, Mr. Jacques HeathOsen, Mr. Olaf ElonGiglio, Mr. VictorBurke, Mr. JeremiahAndrew, Mr. Edgardo SamuelNicholls, Mr. Joseph CharlesAndersson, Mr. August Edvard (\"Wennerstrom\")Navratil, Mr. Michel (\"Louis M Hoffman\")Byles, Rev. Thomas Roussel DavidsBateman, Rev. Robert JamesMeo, Mr. Alfonzovan Billiard, Mr. Austin BlylerOlsen, Mr. Ole MartinWilliams, Mr. Charles DuaneCorn, Mr. HarrySmiljanic, Mr. MileSage, Master. Thomas HenryCribb, Mr. John HatfieldBengtsson, Mr. John ViktorCalic, Mr. JovoPanula, Master. Eino ViljamiGoldsmith, Master. Frank John William \"Frankie\"Baumann, Mr. John DLing, Mr. LeeVan der hoef, Mr. WyckoffRice, Master. ArthurSivola, Mr. Antti WilhelmSmith, Mr. James ClinchKlasen, Mr. Klas AlbinLefebre, Master. Henry ForbesHale, Mr. ReginaldLeonard, Mr. LionelPernot, Mr. ReneAsplund, Master. Clarence Gustaf HugoBecker, Master. Richard FRood, Mr. Hugh RoscoeRomaine, Mr. Charles Hallace (\"Mr C Rolmane\")Bourke, Mr. JohnTurcin, Mr. StjepanCarbines, Mr. WilliamNavratil, Master. Michel MMernagh, Mr. RobertOlsen, Mr. Karl Siegwart AndreasVande Walle, Mr. Nestor CyrielSage, Mr. FrederickJohanson, Mr. Jakob AlfredYouseff, Mr. GeriousCohen, Mr. Gurshon \"Gus\"Backstrom, Mr. Karl AlfredAlbimona, Mr. Nassef CassemBlank, Mr. HenryAli, Mr. AhmedPerkin, Mr. John HenryGivard, Mr. Hans KristensenKiernan, Mr. PhilipJacobsohn, Mr. Sidney SamuelHarris, Mr. WalterSunderland, Mr. Victor FrancisBracken, Mr. James HGreen, Mr. George HenryNenkoff, Mr. ChristoHoyt, Mr. Frederick MaxfieldBerglund, Mr. Karl Ivar SvenMellors, Mr. William JohnLovell, Mr. John Hall (\"Henry\")Fahlstrom, Mr. Arne JonasLarsson, Mr. Bengt EdvinSjostedt, Mr. Ernst AdolfLeyson, Mr. Robert William NormanHold, Mr. StephenPengelly, Mr. Frederick WilliamHunt, Mr. George HenryColeridge, Mr. Reginald CharlesMaenpaa, Mr. Matti AlexanteriAttalah, Mr. SleimanMinahan, Dr. William EdwardBeckwith, Mr. Richard LeonardCarter, Rev. Ernest CourtenayReed, Mr. James GeorgeStead, Mr. William ThomasLobb, Mr. William ArthurSmith, Mr. ThomasAsplund, Master. Edvin Rojj FelixTaussig, Mr. EmilHarrison, Mr. WilliamReeves, Mr. DavidPanula, Mr. Ernesti ArvidPersson, Mr. Ernst UlrikCairns, Mr. AlexanderTornquist, Mr. William HenryNatsch, Mr. Charles HParkes, Mr. Francis \"Frank\"Rice, Master. EricDuane, Mr. FrankOlsson, Mr. Nils Johan Goranssonde Pelsmaeker, Mr. AlfonsDorking, Mr. Edward ArthurSmith, Mr. Richard WilliamStankovic, Mr. Ivande Mulder, Mr. TheodoreNaidenoff, Mr. PenkoHosono, Mr. MasabumiLevy, Mr. Rene JacquesMineff, Mr. IvanLewy, Mr. Ervin GHanna, Mr. MansourSaalfeld, Mr. AdolpheMcCoy, Mr. BernardJohnson, Mr. William Cahoone JrWilliams, Mr. Howard Hugh \"Harry\"Allison, Master. Hudson TrevorAbelson, Mr. SamuelHendekovic, Mr. IgnjacHart, Mr. BenjaminMoraweck, Dr. ErnestDennis, Mr. SamuelDanoff, Mr. YotoSage, Mr. George John JrNysveen, Mr. Johan HansenPartner, Mr. AustenGraham, Mr. George EdwardVander Planke, Mr. Leo EdmondusDenkoff, Mr. MittoPears, Mr. Thomas ClintonDahl, Mr. Karl EdwartBlackwell, Mr. Stephen WeartNavratil, Master. Edmond RogerCollander, Mr. Erik GustafSedgwick, Mr. Charles Frederick WaddingtonFox, Mr. Stanley HubertCoutts, Master. William Loch \"William\"Dimic, Mr. JovanOdahl, Mr. Nils MartinWilliams-Lambert, Mr. Fletcher FellowsElias, Mr. TannousArnold-Franchi, Mr. JosefYousif, Mr. WazliVanden Steen, Mr. Leo PeterSkoog, Mr. Wilhelmdel Carlo, Mr. SebastianoAsim, Mr. AdolaO'Brien, Mr. ThomasAdahl, Mr. Mauritz Nils MartinHarder, Mr. George AchillesWiklund, Mr. Jakob AlfredBeavan, Mr. William ThomasRinghini, Mr. SanteWidener, Mr. Harry ElkinsBetros, Mr. TannousGustafsson, Mr. Karl GideonTikkanen, Mr. JuhoPlotcharsky, Mr. VasilDavies, Mr. Charles HenryGoodwin, Master. Sidney LeonardSadlier, Mr. MatthewCarter, Mr. William ErnestJansson, Mr. Carl OlofGustafsson, Mr. Johan BirgerJohansson, Mr. ErikMcKane, Mr. Peter DavidPain, Dr. AlfredNiskanen, Mr. JuhaAdams, Mr. JohnHakkarainen, Mr. Pekka PietariGale, Mr. ShadrachWidegren, Mr. Carl/Charles PeterRichards, Master. William RoweBirkeland, Mr. Hans Martin MonsenSdycoff, Mr. TodorHart, Mr. HenryCunningham, Mr. Alfred FlemingSundman, Mr. Johan JulianMatthews, Mr. William JohnGheorgheff, Mr. StanioCharters, Mr. DavidZimmerman, Mr. LeoRosblom, Mr. Viktor RichardWiseman, Mr. PhillippeFlynn, Mr. JamesPickard, Mr. Berk (Berk Trembisky)Bjornstrom-Steffansson, Mr. Mauritz HakanKallio, Mr. Nikolai ErlandSilvey, Mr. William BairdFortune, Mr. MarkKvillner, Mr. Johan Henrik JohannessonHampe, Mr. LeonPetterson, Mr. Johan EmilJohannesen-Bratthammer, Mr. BerntDodge, Master. WashingtonSeward, Mr. Frederic KimberPeuchen, Major. Arthur GodfreyWest, Mr. Edwy ArthurHagland, Mr. Ingvald Olai OlsenForeman, Mr. Benjamin LaventallGoldenberg, Mr. Samuel LPeduzzi, Mr. JosephJalsevac, Mr. IvanMillet, Mr. Francis DavisO'Connor, Mr. MauriceAnderson, Mr. HarryMorley, Mr. WilliamGee, Mr. Arthur HMilling, Mr. Jacob ChristianMaisner, Mr. SimonGoncalves, Mr. Manuel EstanslasCampbell, Mr. WilliamSmart, Mr. John MontgomeryScanlan, Mr. JamesKeefe, Mr. ArthurCacic, Mr. LukaClifford, Mr. George QuincyRenouf, Mr. Peter HenryBraund, Mr. Lewis RichardKarlsson, Mr. Nils AugustGoodwin, Master. Harold VictorFrost, Mr. Anthony Wood \"Archie\"Rouse, Mr. Richard HenryBishop, Mr. Dickinson HKent, Mr. Edward AustinSomerton, Mr. Francis WilliamCoutts, Master. Eden Leslie \"Neville\"Hagland, Mr. Konrad Mathias ReiersenWindelov, Mr. EinarMolson, Mr. Harry MarklandArtagaveytia, Mr. RamonStanley, Mr. Edward RolandYousseff, Mr. GeriousShellard, Mr. Frederick WilliamSvensson, Mr. OlofCalic, Mr. PetarPenasco y Castellana, Mr. Victor de SatodeBradley, Mr. George (\"George Arthur Brayton\")Olsen, Mr. Henry MargidoLang, Mr. FangDaly, Mr. Eugene PatrickWebber, Mr. JamesMcGough, Mr. James RobertColeff, Mr. SatioWalker, Mr. William AndersonRyan, Mr. PatrickPavlovic, Mr. StefoVovk, Mr. JankoLahoud, Mr. SarkisKassem, Mr. FaredFarrell, Mr. JamesFarthing, Mr. JohnSalonen, Mr. Johan WernerHocking, Mr. Richard GeorgeToufik, Mr. NakliElias, Mr. Joseph JrButt, Major. Archibald WillinghamRisien, Mr. Samuel BeardBeane, Mr. EdwardDouglas, Mr. Walter DonaldNicholson, Mr. Arthur ErnestPadro y Manent, Mr. JulianGoldsmith, Mr. Frank JohnDavies, Master. John Morgan JrThayer, Mr. John Borland JrSharp, Mr. Percival James RO'Brien, Mr. TimothyLeeni, Mr. Fahim (\"Philip Zenni\")Wright, Mr. GeorgeRobbins, Mr. VictorMorrow, Mr. Thomas RowanSivic, Mr. HuseinNorman, Mr. Robert DouglasSimmons, Mr. JohnDavies, Mr. Alfred JStoytcheff, Mr. IliaDoharr, Mr. TannousJonsson, Mr. CarlHarris, Mr. GeorgeFlynn, Mr. John Irwin (\"Irving\")Rush, Mr. Alfred George JohnPatchett, Mr. GeorgeJussila, Mr. EiriikDownton, Mr. William JamesRoss, Mr. John HugoPaulner, Mr. UscherJarvis, Mr. John DenzilFrolicher-Stehli, Mr. MaxmillianGilinski, Mr. EliezerMurdlin, Mr. JosephRintamaki, Mr. MattiElsbury, Mr. William JamesChapman, Mr. John HenryVan Impe, Mr. Jean BaptisteJohnson, Mr. AlfredBoulos, Mr. HannaDuff Gordon, Sir. Cosmo Edmund (\"Mr Morgan\")Slabenoff, Mr. PetcoHarrington, Mr. Charles HTorber, Mr. Ernst WilliamHomer, Mr. Harry (\"Mr E Haven\")Lindell, Mr. Edvard BengtssonKaraic, Mr. MilanDaniel, Mr. Robert WilliamsJardin, Mr. Jose NetoHorgan, Mr. JohnBrocklebank, Mr. William AlfredDanbom, Mr. Ernst GilbertGavey, Mr. LawrenceYasbeck, Mr. AntoniKimball, Mr. Edwin Nelson JrNakid, Mr. SahidHansen, Mr. Henry DamsgaardBowen, Mr. David John \"Dai\"Sutton, Mr. FrederickKirkland, Rev. Charles LeonardBostandyeff, Mr. GuentchoO'Connell, Mr. Patrick DBarkworth, Mr. Algernon Henry WilsonLundahl, Mr. Johan SvenssonStahelin-Maeglin, Dr. MaxParr, Mr. William Henry MarshLeinonen, Mr. Antti GustafCollyer, Mr. HarveyThorneycroft, Mr. PercivalJensen, Mr. Hans PederFoo, Mr. ChoongHarper, Mr. Henry SleeperCor, Mr. LiudevitSimonius-Blumer, Col. Oberst AlfonsWilley, Mr. EdwardMitkoff, Mr. MitoKalvik, Mr. Johannes HalvorsenHickman, Mr. Leonard MarkRadeff, Mr. AlexanderEitemiller, Mr. George FloydNewell, Mr. Arthur WebsterFrauenthal, Dr. Henry WilliamBadt, Mr. MohamedColley, Mr. Edward PomeroyColeff, Mr. PejuLindqvist, Mr. Eino WilliamHickman, Mr. LewisButler, Mr. Reginald FentonRommetvedt, Mr. Knud PaustCook, Mr. JacobDavidson, Mr. ThorntonMitchell, Mr. Henry MichaelWilhelms, Mr. CharlesWatson, Mr. Ennis HastingsEdvardsson, Mr. Gustaf HjalmarSawyer, Mr. Frederick CharlesCardeza, Mr. Thomas Drake MartinezHassab, Mr. HammadOlsvigen, Mr. Thor AndersonGoodwin, Mr. Charles EdwardBrown, Mr. Thomas William SolomonLaroche, Mr. Joseph Philippe LemercierPanula, Mr. Jaako ArnoldDakic, Mr. BrankoFischer, Mr. Eberhard ThelanderDick, Mr. Albert AdrianLam, Mr. AliSaad, Mr. KhalilWeir, Col. JohnChapman, Mr. Charles HenryKelly, Mr. JamesThayer, Mr. John BorlandHumblen, Mr. Adolf Mathias Nicolai OlsenSilverthorne, Mr. Spencer VictorGallagher, Mr. MartinHansen, Mr. Henrik JuulMorley, Mr. Henry Samuel (\"Mr Henry Marshall\")Calderhead, Mr. Edward PenningtonMoubarek, Master. Halim Gonios (\"William George\")Klaber, Mr. HermanTaylor, Mr. Elmer ZebleyLarsson, Mr. August ViktorGreenberg, Mr. SamuelSoholt, Mr. Peter Andreas Lauritz AndersenMcEvoy, Mr. MichaelJohnson, Mr. Malkolm JoackimJensen, Mr. Svend LauritzGillespie, Mr. William HenryHodges, Mr. Henry PriceChambers, Mr. Norman CampbellOreskovic, Mr. LukaBryhl, Mr. Kurt Arnold GottfridHassan, Mr. Houssein G NKnight, Mr. Robert JBerriman, Mr. William JohnTroupiansky, Mr. Moses AaronWilliams, Mr. LeslieLesurer, Mr. Gustave JIvanoff, Mr. KanioNankoff, Mr. MinkoHawksford, Mr. Walter JamesCavendish, Mr. Tyrell WilliamMcNamee, Mr. NealStranden, Mr. JuhoCrosby, Capt. Edward GiffordAbbott, Mr. Rossmore EdwardMarvin, Mr. Daniel WarnerConnaghton, Mr. MichaelMoor, Master. MeierVande Velde, Mr. Johannes JosephJonkoff, Mr. LalioHamalainen, Master. ViljoCarlsson, Mr. August SigfridBailey, Mr. Percy AndrewTheobald, Mr. Thomas LeonardGarfirth, Mr. JohnNirva, Mr. Iisakki Antino AijoBarah, Mr. Hanna AssiEklund, Mr. Hans LinusBrewe, Dr. Arthur JacksonMoran, Mr. Daniel JGronnestad, Mr. Daniel DanielsenLievens, Mr. Rene AimeJensen, Mr. Niels PederElias, Mr. DiboMyhrman, Mr. Pehr Fabian Oliver MalkolmTobin, Mr. RogerKilgannon, Mr. Thomas JLong, Mr. Milton ClydeJohnston, Mr. Andrew GAli, Mr. WilliamHarmer, Mr. Abraham (David Lishin)Rice, Master. George HughDean, Master. Bertram VereGuggenheim, Mr. BenjaminKeane, Mr. Andrew \"Andy\"Gaskell, Mr. AlfredHoyt, Mr. William FisherDantcheff, Mr. RistiuOtter, Mr. RichardIbrahim Shawah, Mr. YousseffPonesell, Mr. MartinCarter, Master. William Thornton IIThomas, Master. Assad AlexanderHedman, Mr. Oskar ArvidJohansson, Mr. Karl JohanAndrews, Mr. Thomas JrMeyer, Mr. AugustAlexander, Mr. WilliamLester, Mr. JamesSlemen, Mr. Richard JamesTomlin, Mr. Ernest PortageFry, Mr. RichardMallet, Mr. AlbertHolm, Mr. John Fredrik AlexanderSkoog, Master. Karl ThorstenLulic, Mr. NikolaReuchlin, Jonkheer. John GeorgePanula, Master. Urho AbrahamFlynn, Mr. JohnLam, Mr. LenMallet, Master. AndreMcCormack, Mr. Thomas JosephRichards, Master. George SibleySaad, Mr. AminAugustsson, Mr. AlbertAllum, Mr. Owen GeorgePasic, Mr. JakobSirota, Mr. MauriceChip, Mr. ChangMarechal, Mr. PierreAlhomaki, Mr. Ilmari RudolfMudd, Mr. Thomas CharlesLemberopolous, Mr. Peter LCulumovic, Mr. JesoAbbing, Mr. AnthonySage, Mr. Douglas BullenMarkoff, Mr. MarinHarper, Rev. JohnAndersson, Master. Sigvard Harald EliasSvensson, Mr. JohanDaly, Mr. Peter Denis Razi, Mr. RaihedHansen, Mr. Claus PeterGiles, Mr. Frederick EdwardGill, Mr. John WilliamRoebling, Mr. Washington Augustus IIvan Melkebeke, Mr. PhilemonJohnson, Master. Harold TheodorBalkic, Mr. CerinCarlsson, Mr. Frans OlofVander Cruyssen, Mr. VictorGustafsson, Mr. Alfred OssianPetroff, Mr. NedelioLaleff, Mr. KristoMarkun, Mr. JohannBanfield, Mr. Frederick JamesSutehall, Mr. Henry JrMontvila, Rev. JuozasBehr, Mr. Karl HowellDooley, Mr. Patrick' to numeric",
      "\nThe above exception was the direct cause of the following exception:\n",
      "\u001b[1;31mTypeError\u001b[0m                                 Traceback (most recent call last)",
      "Cell \u001b[1;32mIn[420], line 1\u001b[0m\n\u001b[1;32m----> 1\u001b[0m Titanic\u001b[38;5;241m.\u001b[39mgroupby(\u001b[38;5;124m'\u001b[39m\u001b[38;5;124mSex_ohe\u001b[39m\u001b[38;5;124m'\u001b[39m)\u001b[38;5;241m.\u001b[39mmean()\n",
      "File \u001b[1;32m~\\anaconda3\\Lib\\site-packages\\pandas\\core\\groupby\\groupby.py:2378\u001b[0m, in \u001b[0;36mGroupBy.mean\u001b[1;34m(self, numeric_only, engine, engine_kwargs)\u001b[0m\n\u001b[0;32m   2371\u001b[0m     \u001b[38;5;28;01mreturn\u001b[39;00m \u001b[38;5;28mself\u001b[39m\u001b[38;5;241m.\u001b[39m_numba_agg_general(\n\u001b[0;32m   2372\u001b[0m         grouped_mean,\n\u001b[0;32m   2373\u001b[0m         executor\u001b[38;5;241m.\u001b[39mfloat_dtype_mapping,\n\u001b[0;32m   2374\u001b[0m         engine_kwargs,\n\u001b[0;32m   2375\u001b[0m         min_periods\u001b[38;5;241m=\u001b[39m\u001b[38;5;241m0\u001b[39m,\n\u001b[0;32m   2376\u001b[0m     )\n\u001b[0;32m   2377\u001b[0m \u001b[38;5;28;01melse\u001b[39;00m:\n\u001b[1;32m-> 2378\u001b[0m     result \u001b[38;5;241m=\u001b[39m \u001b[38;5;28mself\u001b[39m\u001b[38;5;241m.\u001b[39m_cython_agg_general(\n\u001b[0;32m   2379\u001b[0m         \u001b[38;5;124m\"\u001b[39m\u001b[38;5;124mmean\u001b[39m\u001b[38;5;124m\"\u001b[39m,\n\u001b[0;32m   2380\u001b[0m         alt\u001b[38;5;241m=\u001b[39m\u001b[38;5;28;01mlambda\u001b[39;00m x: Series(x)\u001b[38;5;241m.\u001b[39mmean(numeric_only\u001b[38;5;241m=\u001b[39mnumeric_only),\n\u001b[0;32m   2381\u001b[0m         numeric_only\u001b[38;5;241m=\u001b[39mnumeric_only,\n\u001b[0;32m   2382\u001b[0m     )\n\u001b[0;32m   2383\u001b[0m     \u001b[38;5;28;01mreturn\u001b[39;00m result\u001b[38;5;241m.\u001b[39m__finalize__(\u001b[38;5;28mself\u001b[39m\u001b[38;5;241m.\u001b[39mobj, method\u001b[38;5;241m=\u001b[39m\u001b[38;5;124m\"\u001b[39m\u001b[38;5;124mgroupby\u001b[39m\u001b[38;5;124m\"\u001b[39m)\n",
      "File \u001b[1;32m~\\anaconda3\\Lib\\site-packages\\pandas\\core\\groupby\\groupby.py:1929\u001b[0m, in \u001b[0;36mGroupBy._cython_agg_general\u001b[1;34m(self, how, alt, numeric_only, min_count, **kwargs)\u001b[0m\n\u001b[0;32m   1926\u001b[0m     result \u001b[38;5;241m=\u001b[39m \u001b[38;5;28mself\u001b[39m\u001b[38;5;241m.\u001b[39m_agg_py_fallback(how, values, ndim\u001b[38;5;241m=\u001b[39mdata\u001b[38;5;241m.\u001b[39mndim, alt\u001b[38;5;241m=\u001b[39malt)\n\u001b[0;32m   1927\u001b[0m     \u001b[38;5;28;01mreturn\u001b[39;00m result\n\u001b[1;32m-> 1929\u001b[0m new_mgr \u001b[38;5;241m=\u001b[39m data\u001b[38;5;241m.\u001b[39mgrouped_reduce(array_func)\n\u001b[0;32m   1930\u001b[0m res \u001b[38;5;241m=\u001b[39m \u001b[38;5;28mself\u001b[39m\u001b[38;5;241m.\u001b[39m_wrap_agged_manager(new_mgr)\n\u001b[0;32m   1931\u001b[0m out \u001b[38;5;241m=\u001b[39m \u001b[38;5;28mself\u001b[39m\u001b[38;5;241m.\u001b[39m_wrap_aggregated_output(res)\n",
      "File \u001b[1;32m~\\anaconda3\\Lib\\site-packages\\pandas\\core\\internals\\managers.py:1428\u001b[0m, in \u001b[0;36mBlockManager.grouped_reduce\u001b[1;34m(self, func)\u001b[0m\n\u001b[0;32m   1424\u001b[0m \u001b[38;5;28;01mif\u001b[39;00m blk\u001b[38;5;241m.\u001b[39mis_object:\n\u001b[0;32m   1425\u001b[0m     \u001b[38;5;66;03m# split on object-dtype blocks bc some columns may raise\u001b[39;00m\n\u001b[0;32m   1426\u001b[0m     \u001b[38;5;66;03m#  while others do not.\u001b[39;00m\n\u001b[0;32m   1427\u001b[0m     \u001b[38;5;28;01mfor\u001b[39;00m sb \u001b[38;5;129;01min\u001b[39;00m blk\u001b[38;5;241m.\u001b[39m_split():\n\u001b[1;32m-> 1428\u001b[0m         applied \u001b[38;5;241m=\u001b[39m sb\u001b[38;5;241m.\u001b[39mapply(func)\n\u001b[0;32m   1429\u001b[0m         result_blocks \u001b[38;5;241m=\u001b[39m extend_blocks(applied, result_blocks)\n\u001b[0;32m   1430\u001b[0m \u001b[38;5;28;01melse\u001b[39;00m:\n",
      "File \u001b[1;32m~\\anaconda3\\Lib\\site-packages\\pandas\\core\\internals\\blocks.py:366\u001b[0m, in \u001b[0;36mBlock.apply\u001b[1;34m(self, func, **kwargs)\u001b[0m\n\u001b[0;32m    360\u001b[0m \u001b[38;5;129m@final\u001b[39m\n\u001b[0;32m    361\u001b[0m \u001b[38;5;28;01mdef\u001b[39;00m \u001b[38;5;21mapply\u001b[39m(\u001b[38;5;28mself\u001b[39m, func, \u001b[38;5;241m*\u001b[39m\u001b[38;5;241m*\u001b[39mkwargs) \u001b[38;5;241m-\u001b[39m\u001b[38;5;241m>\u001b[39m \u001b[38;5;28mlist\u001b[39m[Block]:\n\u001b[0;32m    362\u001b[0m \u001b[38;5;250m    \u001b[39m\u001b[38;5;124;03m\"\"\"\u001b[39;00m\n\u001b[0;32m    363\u001b[0m \u001b[38;5;124;03m    apply the function to my values; return a block if we are not\u001b[39;00m\n\u001b[0;32m    364\u001b[0m \u001b[38;5;124;03m    one\u001b[39;00m\n\u001b[0;32m    365\u001b[0m \u001b[38;5;124;03m    \"\"\"\u001b[39;00m\n\u001b[1;32m--> 366\u001b[0m     result \u001b[38;5;241m=\u001b[39m func(\u001b[38;5;28mself\u001b[39m\u001b[38;5;241m.\u001b[39mvalues, \u001b[38;5;241m*\u001b[39m\u001b[38;5;241m*\u001b[39mkwargs)\n\u001b[0;32m    368\u001b[0m     result \u001b[38;5;241m=\u001b[39m maybe_coerce_values(result)\n\u001b[0;32m    369\u001b[0m     \u001b[38;5;28;01mreturn\u001b[39;00m \u001b[38;5;28mself\u001b[39m\u001b[38;5;241m.\u001b[39m_split_op_result(result)\n",
      "File \u001b[1;32m~\\anaconda3\\Lib\\site-packages\\pandas\\core\\groupby\\groupby.py:1926\u001b[0m, in \u001b[0;36mGroupBy._cython_agg_general.<locals>.array_func\u001b[1;34m(values)\u001b[0m\n\u001b[0;32m   1923\u001b[0m \u001b[38;5;28;01melse\u001b[39;00m:\n\u001b[0;32m   1924\u001b[0m     \u001b[38;5;28;01mreturn\u001b[39;00m result\n\u001b[1;32m-> 1926\u001b[0m result \u001b[38;5;241m=\u001b[39m \u001b[38;5;28mself\u001b[39m\u001b[38;5;241m.\u001b[39m_agg_py_fallback(how, values, ndim\u001b[38;5;241m=\u001b[39mdata\u001b[38;5;241m.\u001b[39mndim, alt\u001b[38;5;241m=\u001b[39malt)\n\u001b[0;32m   1927\u001b[0m \u001b[38;5;28;01mreturn\u001b[39;00m result\n",
      "File \u001b[1;32m~\\anaconda3\\Lib\\site-packages\\pandas\\core\\groupby\\groupby.py:1878\u001b[0m, in \u001b[0;36mGroupBy._agg_py_fallback\u001b[1;34m(self, how, values, ndim, alt)\u001b[0m\n\u001b[0;32m   1876\u001b[0m     msg \u001b[38;5;241m=\u001b[39m \u001b[38;5;124mf\u001b[39m\u001b[38;5;124m\"\u001b[39m\u001b[38;5;124magg function failed [how->\u001b[39m\u001b[38;5;132;01m{\u001b[39;00mhow\u001b[38;5;132;01m}\u001b[39;00m\u001b[38;5;124m,dtype->\u001b[39m\u001b[38;5;132;01m{\u001b[39;00mser\u001b[38;5;241m.\u001b[39mdtype\u001b[38;5;132;01m}\u001b[39;00m\u001b[38;5;124m]\u001b[39m\u001b[38;5;124m\"\u001b[39m\n\u001b[0;32m   1877\u001b[0m     \u001b[38;5;66;03m# preserve the kind of exception that raised\u001b[39;00m\n\u001b[1;32m-> 1878\u001b[0m     \u001b[38;5;28;01mraise\u001b[39;00m \u001b[38;5;28mtype\u001b[39m(err)(msg) \u001b[38;5;28;01mfrom\u001b[39;00m \u001b[38;5;21;01merr\u001b[39;00m\n\u001b[0;32m   1880\u001b[0m \u001b[38;5;28;01mif\u001b[39;00m ser\u001b[38;5;241m.\u001b[39mdtype \u001b[38;5;241m==\u001b[39m \u001b[38;5;28mobject\u001b[39m:\n\u001b[0;32m   1881\u001b[0m     res_values \u001b[38;5;241m=\u001b[39m res_values\u001b[38;5;241m.\u001b[39mastype(\u001b[38;5;28mobject\u001b[39m, copy\u001b[38;5;241m=\u001b[39m\u001b[38;5;28;01mFalse\u001b[39;00m)\n",
      "\u001b[1;31mTypeError\u001b[0m: agg function failed [how->mean,dtype->object]"
     ]
    }
   ],
   "source": [
    "Titanic.groupby('Sex_ohe').mean()"
   ]
  },
  {
   "cell_type": "code",
   "execution_count": null,
   "id": "9b1c6bac-4513-4e93-8854-068c9564076e",
   "metadata": {},
   "outputs": [],
   "source": [
    "colormap = plt.cm.RdBu\n",
    "plt.figure(figsize=(9,9))\n",
    "plt.title('Pearson Correlation of Features', y=1.05, size=15)\n",
    "sns.heatmap(Titanic.astype(float).corr(),linewidths=0.1,vmax=1.0, \n",
    "            square=True, cmap=colormap, linecolor='white', annot=True)"
   ]
  },
  {
   "cell_type": "code",
   "execution_count": null,
   "id": "b44ede36-0238-4f24-952b-180f15e045e6",
   "metadata": {},
   "outputs": [],
   "source": []
  },
  {
   "cell_type": "code",
   "execution_count": null,
   "id": "5b0815f0-d2a9-4c49-a669-61634a0e47b2",
   "metadata": {},
   "outputs": [],
   "source": []
  }
 ],
 "metadata": {
  "kernelspec": {
   "display_name": "Python 3 (ipykernel)",
   "language": "python",
   "name": "python3"
  },
  "language_info": {
   "codemirror_mode": {
    "name": "ipython",
    "version": 3
   },
   "file_extension": ".py",
   "mimetype": "text/x-python",
   "name": "python",
   "nbconvert_exporter": "python",
   "pygments_lexer": "ipython3",
   "version": "3.11.8"
  }
 },
 "nbformat": 4,
 "nbformat_minor": 5
}
