{
 "cells": [
  {
   "cell_type": "code",
   "execution_count": 22,
   "id": "fc04b6be-5c1f-4846-bc99-00acc9cc51b8",
   "metadata": {},
   "outputs": [
    {
     "name": "stdout",
     "output_type": "stream",
     "text": [
      "Individual Model Evaluations:\n",
      "rf: 0.9667 (+/- 0.02)\n",
      "svr: 0.9598 (+/- 0.02)\n",
      "GNB: 0.9534 (+/- 0.03)\n",
      "AdB: 0.9667 (+/- 0.02)\n",
      "StackingClassifier: 0.9598 (+/- 0.02)\n"
     ]
    }
   ],
   "source": [
    "from sklearn.datasets import load_iris\n",
    "\n",
    "from sklearn.model_selection import train_test_split ,  cross_val_score\n",
    "\n",
    "from sklearn.linear_model import LogisticRegression\n",
    "\n",
    "from sklearn.naive_bayes import GaussianNB \n",
    "from sklearn.ensemble import RandomForestClassifier\n",
    "from sklearn.svm import SVC\n",
    "from sklearn.ensemble import AdaBoostClassifier\n",
    "\n",
    "\n",
    "from sklearn.preprocessing import StandardScaler\n",
    "from sklearn.pipeline import make_pipeline\n",
    "from sklearn.ensemble import StackingClassifier\n",
    "from sklearn.metrics import accuracy_score  \n",
    "\n",
    "\n",
    "# Load the Iris dataset\n",
    "X, y = load_iris(return_X_y=True)\n",
    "\n",
    "# Individual Model Evaluation (before Stacking)\n",
    "print(\"Individual Model Evaluations:\")\n",
    "estimators = [\n",
    "    ('rf', RandomForestClassifier()),\n",
    "    ('svr', make_pipeline(StandardScaler(), SVC())),\n",
    "    ('GNB', make_pipeline(StandardScaler(), GaussianNB())),\n",
    "    ('AdB', make_pipeline(StandardScaler(), AdaBoostClassifier()))\n",
    "]\n",
    "\n",
    "# Split data into training and testing sets (stratification for classification)\n",
    "X_train, X_test, y_train, y_test = train_test_split(X, y, stratify=y)\n",
    "\n",
    "final_estimator = LogisticRegression()\n",
    "clf = StackingClassifier(estimators=estimators, final_estimator=final_estimator)\n",
    "\n",
    "# Perform cross-validation for each model and the StackingClassifier\n",
    "for name, model in estimators:\n",
    "    scores = cross_val_score(model, X, y, cv=4, scoring='accuracy')\n",
    "    print(f\"{name}: {scores.mean():.4f} (+/- {scores.std():.2f})\")\n",
    "\n",
    "scores = cross_val_score(clf, X, y, cv=4, scoring='accuracy')\n",
    "print(f\"StackingClassifier: {scores.mean():.4f} (+/- {scores.std():.2f})\")"
   ]
  },
  {
   "cell_type": "code",
   "execution_count": null,
   "id": "5f95904d-809f-4290-a1b4-8a9f5cd94b56",
   "metadata": {},
   "outputs": [],
   "source": []
  }
 ],
 "metadata": {
  "kernelspec": {
   "display_name": "Python 3 (ipykernel)",
   "language": "python",
   "name": "python3"
  },
  "language_info": {
   "codemirror_mode": {
    "name": "ipython",
    "version": 3
   },
   "file_extension": ".py",
   "mimetype": "text/x-python",
   "name": "python",
   "nbconvert_exporter": "python",
   "pygments_lexer": "ipython3",
   "version": "3.11.8"
  }
 },
 "nbformat": 4,
 "nbformat_minor": 5
}
