{
 "cells": [
  {
   "cell_type": "code",
   "execution_count": 1,
   "id": "fc04b6be-5c1f-4846-bc99-00acc9cc51b8",
   "metadata": {},
   "outputs": [],
   "source": [
    "#Obliczenia  i analiza  danych\n",
    "import numpy as np\n",
    "import pandas as pd\n",
    "\n",
    "#wizualiacja \n",
    "import matplotlib.pyplot as plt\n",
    "import seaborn as sns\n",
    "sns.set_theme(style=\"whitegrid\")\n",
    "sns.set_palette('icefire_r', 2)\n",
    "import warnings\n",
    "\n",
    "%matplotlib inline\n",
    "#Przetwarzanie\n",
    "\n",
    "from sklearn.preprocessing import OrdinalEncoder\n",
    "\n",
    "from sklearn.impute import KNNImputer\n",
    "# Baza danych gównych do nauki modelu\n",
    "train = pd.read_csv(\"train.csv\") \n",
    "# Baza danych Titanica do sprawdzenia modelu\n",
    "test = pd.read_csv(\"test.csv\")"
   ]
  },
  {
   "cell_type": "code",
   "execution_count": 2,
   "id": "5f95904d-809f-4290-a1b4-8a9f5cd94b56",
   "metadata": {},
   "outputs": [
    {
     "data": {
      "text/html": [
       "<div>\n",
       "<style scoped>\n",
       "    .dataframe tbody tr th:only-of-type {\n",
       "        vertical-align: middle;\n",
       "    }\n",
       "\n",
       "    .dataframe tbody tr th {\n",
       "        vertical-align: top;\n",
       "    }\n",
       "\n",
       "    .dataframe thead th {\n",
       "        text-align: right;\n",
       "    }\n",
       "</style>\n",
       "<table border=\"1\" class=\"dataframe\">\n",
       "  <thead>\n",
       "    <tr style=\"text-align: right;\">\n",
       "      <th></th>\n",
       "      <th>Id</th>\n",
       "      <th>MSSubClass</th>\n",
       "      <th>MSZoning</th>\n",
       "      <th>LotFrontage</th>\n",
       "      <th>LotArea</th>\n",
       "      <th>Street</th>\n",
       "      <th>Alley</th>\n",
       "      <th>LotShape</th>\n",
       "      <th>LandContour</th>\n",
       "      <th>Utilities</th>\n",
       "      <th>...</th>\n",
       "      <th>PoolArea</th>\n",
       "      <th>PoolQC</th>\n",
       "      <th>Fence</th>\n",
       "      <th>MiscFeature</th>\n",
       "      <th>MiscVal</th>\n",
       "      <th>MoSold</th>\n",
       "      <th>YrSold</th>\n",
       "      <th>SaleType</th>\n",
       "      <th>SaleCondition</th>\n",
       "      <th>SalePrice</th>\n",
       "    </tr>\n",
       "  </thead>\n",
       "  <tbody>\n",
       "    <tr>\n",
       "      <th>0</th>\n",
       "      <td>1</td>\n",
       "      <td>60</td>\n",
       "      <td>RL</td>\n",
       "      <td>65.0</td>\n",
       "      <td>8450</td>\n",
       "      <td>Pave</td>\n",
       "      <td>NaN</td>\n",
       "      <td>Reg</td>\n",
       "      <td>Lvl</td>\n",
       "      <td>AllPub</td>\n",
       "      <td>...</td>\n",
       "      <td>0</td>\n",
       "      <td>NaN</td>\n",
       "      <td>NaN</td>\n",
       "      <td>NaN</td>\n",
       "      <td>0</td>\n",
       "      <td>2</td>\n",
       "      <td>2008</td>\n",
       "      <td>WD</td>\n",
       "      <td>Normal</td>\n",
       "      <td>208500</td>\n",
       "    </tr>\n",
       "    <tr>\n",
       "      <th>1</th>\n",
       "      <td>2</td>\n",
       "      <td>20</td>\n",
       "      <td>RL</td>\n",
       "      <td>80.0</td>\n",
       "      <td>9600</td>\n",
       "      <td>Pave</td>\n",
       "      <td>NaN</td>\n",
       "      <td>Reg</td>\n",
       "      <td>Lvl</td>\n",
       "      <td>AllPub</td>\n",
       "      <td>...</td>\n",
       "      <td>0</td>\n",
       "      <td>NaN</td>\n",
       "      <td>NaN</td>\n",
       "      <td>NaN</td>\n",
       "      <td>0</td>\n",
       "      <td>5</td>\n",
       "      <td>2007</td>\n",
       "      <td>WD</td>\n",
       "      <td>Normal</td>\n",
       "      <td>181500</td>\n",
       "    </tr>\n",
       "    <tr>\n",
       "      <th>2</th>\n",
       "      <td>3</td>\n",
       "      <td>60</td>\n",
       "      <td>RL</td>\n",
       "      <td>68.0</td>\n",
       "      <td>11250</td>\n",
       "      <td>Pave</td>\n",
       "      <td>NaN</td>\n",
       "      <td>IR1</td>\n",
       "      <td>Lvl</td>\n",
       "      <td>AllPub</td>\n",
       "      <td>...</td>\n",
       "      <td>0</td>\n",
       "      <td>NaN</td>\n",
       "      <td>NaN</td>\n",
       "      <td>NaN</td>\n",
       "      <td>0</td>\n",
       "      <td>9</td>\n",
       "      <td>2008</td>\n",
       "      <td>WD</td>\n",
       "      <td>Normal</td>\n",
       "      <td>223500</td>\n",
       "    </tr>\n",
       "    <tr>\n",
       "      <th>3</th>\n",
       "      <td>4</td>\n",
       "      <td>70</td>\n",
       "      <td>RL</td>\n",
       "      <td>60.0</td>\n",
       "      <td>9550</td>\n",
       "      <td>Pave</td>\n",
       "      <td>NaN</td>\n",
       "      <td>IR1</td>\n",
       "      <td>Lvl</td>\n",
       "      <td>AllPub</td>\n",
       "      <td>...</td>\n",
       "      <td>0</td>\n",
       "      <td>NaN</td>\n",
       "      <td>NaN</td>\n",
       "      <td>NaN</td>\n",
       "      <td>0</td>\n",
       "      <td>2</td>\n",
       "      <td>2006</td>\n",
       "      <td>WD</td>\n",
       "      <td>Abnorml</td>\n",
       "      <td>140000</td>\n",
       "    </tr>\n",
       "    <tr>\n",
       "      <th>4</th>\n",
       "      <td>5</td>\n",
       "      <td>60</td>\n",
       "      <td>RL</td>\n",
       "      <td>84.0</td>\n",
       "      <td>14260</td>\n",
       "      <td>Pave</td>\n",
       "      <td>NaN</td>\n",
       "      <td>IR1</td>\n",
       "      <td>Lvl</td>\n",
       "      <td>AllPub</td>\n",
       "      <td>...</td>\n",
       "      <td>0</td>\n",
       "      <td>NaN</td>\n",
       "      <td>NaN</td>\n",
       "      <td>NaN</td>\n",
       "      <td>0</td>\n",
       "      <td>12</td>\n",
       "      <td>2008</td>\n",
       "      <td>WD</td>\n",
       "      <td>Normal</td>\n",
       "      <td>250000</td>\n",
       "    </tr>\n",
       "  </tbody>\n",
       "</table>\n",
       "<p>5 rows × 81 columns</p>\n",
       "</div>"
      ],
      "text/plain": [
       "   Id  MSSubClass MSZoning  LotFrontage  LotArea Street Alley LotShape  \\\n",
       "0   1          60       RL         65.0     8450   Pave   NaN      Reg   \n",
       "1   2          20       RL         80.0     9600   Pave   NaN      Reg   \n",
       "2   3          60       RL         68.0    11250   Pave   NaN      IR1   \n",
       "3   4          70       RL         60.0     9550   Pave   NaN      IR1   \n",
       "4   5          60       RL         84.0    14260   Pave   NaN      IR1   \n",
       "\n",
       "  LandContour Utilities  ... PoolArea PoolQC Fence MiscFeature MiscVal MoSold  \\\n",
       "0         Lvl    AllPub  ...        0    NaN   NaN         NaN       0      2   \n",
       "1         Lvl    AllPub  ...        0    NaN   NaN         NaN       0      5   \n",
       "2         Lvl    AllPub  ...        0    NaN   NaN         NaN       0      9   \n",
       "3         Lvl    AllPub  ...        0    NaN   NaN         NaN       0      2   \n",
       "4         Lvl    AllPub  ...        0    NaN   NaN         NaN       0     12   \n",
       "\n",
       "  YrSold  SaleType  SaleCondition  SalePrice  \n",
       "0   2008        WD         Normal     208500  \n",
       "1   2007        WD         Normal     181500  \n",
       "2   2008        WD         Normal     223500  \n",
       "3   2006        WD        Abnorml     140000  \n",
       "4   2008        WD         Normal     250000  \n",
       "\n",
       "[5 rows x 81 columns]"
      ]
     },
     "execution_count": 2,
     "metadata": {},
     "output_type": "execute_result"
    }
   ],
   "source": [
    "train.head()"
   ]
  },
  {
   "cell_type": "code",
   "execution_count": 3,
   "id": "6f1e2126-be0b-4c07-bcc4-ccf7fa562ce2",
   "metadata": {},
   "outputs": [
    {
     "name": "stdout",
     "output_type": "stream",
     "text": [
      "Id                  0\n",
      "MSSubClass          0\n",
      "MSZoning            0\n",
      "LotFrontage       259\n",
      "LotArea             0\n",
      "Street              0\n",
      "Alley            1369\n",
      "LotShape            0\n",
      "LandContour         0\n",
      "Utilities           0\n",
      "LotConfig           0\n",
      "LandSlope           0\n",
      "Neighborhood        0\n",
      "Condition1          0\n",
      "Condition2          0\n",
      "BldgType            0\n",
      "HouseStyle          0\n",
      "OverallQual         0\n",
      "OverallCond         0\n",
      "YearBuilt           0\n",
      "YearRemodAdd        0\n",
      "RoofStyle           0\n",
      "RoofMatl            0\n",
      "Exterior1st         0\n",
      "Exterior2nd         0\n",
      "MasVnrType        872\n",
      "MasVnrArea          8\n",
      "ExterQual           0\n",
      "ExterCond           0\n",
      "Foundation          0\n",
      "BsmtQual           37\n",
      "BsmtCond           37\n",
      "BsmtExposure       38\n",
      "BsmtFinType1       37\n",
      "BsmtFinSF1          0\n",
      "BsmtFinType2       38\n",
      "BsmtFinSF2          0\n",
      "BsmtUnfSF           0\n",
      "TotalBsmtSF         0\n",
      "Heating             0\n",
      "HeatingQC           0\n",
      "CentralAir          0\n",
      "Electrical          1\n",
      "1stFlrSF            0\n",
      "2ndFlrSF            0\n",
      "LowQualFinSF        0\n",
      "GrLivArea           0\n",
      "BsmtFullBath        0\n",
      "BsmtHalfBath        0\n",
      "FullBath            0\n",
      "HalfBath            0\n",
      "BedroomAbvGr        0\n",
      "KitchenAbvGr        0\n",
      "KitchenQual         0\n",
      "TotRmsAbvGrd        0\n",
      "Functional          0\n",
      "Fireplaces          0\n",
      "FireplaceQu       690\n",
      "GarageType         81\n",
      "GarageYrBlt        81\n",
      "GarageFinish       81\n",
      "GarageCars          0\n",
      "GarageArea          0\n",
      "GarageQual         81\n",
      "GarageCond         81\n",
      "PavedDrive          0\n",
      "WoodDeckSF          0\n",
      "OpenPorchSF         0\n",
      "EnclosedPorch       0\n",
      "3SsnPorch           0\n",
      "ScreenPorch         0\n",
      "PoolArea            0\n",
      "PoolQC           1453\n",
      "Fence            1179\n",
      "MiscFeature      1406\n",
      "MiscVal             0\n",
      "MoSold              0\n",
      "YrSold              0\n",
      "SaleType            0\n",
      "SaleCondition       0\n",
      "SalePrice           0\n"
     ]
    }
   ],
   "source": [
    "missing_values_per_column = train.isnull().sum()\n",
    "print(missing_values_per_column.to_string(index=True))"
   ]
  },
  {
   "cell_type": "code",
   "execution_count": 4,
   "id": "f4d29893-e147-4505-be07-744daae6af0f",
   "metadata": {},
   "outputs": [
    {
     "name": "stdout",
     "output_type": "stream",
     "text": [
      "Index(['MSZoning', 'Street', 'Alley', 'LotShape', 'LandContour', 'Utilities',\n",
      "       'LotConfig', 'LandSlope', 'Neighborhood', 'Condition1', 'Condition2',\n",
      "       'BldgType', 'HouseStyle', 'RoofStyle', 'RoofMatl', 'Exterior1st',\n",
      "       'Exterior2nd', 'MasVnrType', 'ExterQual', 'ExterCond', 'Foundation',\n",
      "       'BsmtQual', 'BsmtCond', 'BsmtExposure', 'BsmtFinType1', 'BsmtFinType2',\n",
      "       'Heating', 'HeatingQC', 'CentralAir', 'Electrical', 'KitchenQual',\n",
      "       'Functional', 'FireplaceQu', 'GarageType', 'GarageFinish', 'GarageQual',\n",
      "       'GarageCond', 'PavedDrive', 'PoolQC', 'Fence', 'MiscFeature',\n",
      "       'SaleType', 'SaleCondition'],\n",
      "      dtype='object')\n",
      "Index(['Id', 'MSSubClass', 'LotFrontage', 'LotArea', 'OverallQual',\n",
      "       'OverallCond', 'YearBuilt', 'YearRemodAdd', 'MasVnrArea', 'BsmtFinSF1',\n",
      "       'BsmtFinSF2', 'BsmtUnfSF', 'TotalBsmtSF', '1stFlrSF', '2ndFlrSF',\n",
      "       'LowQualFinSF', 'GrLivArea', 'BsmtFullBath', 'BsmtHalfBath', 'FullBath',\n",
      "       'HalfBath', 'BedroomAbvGr', 'KitchenAbvGr', 'TotRmsAbvGrd',\n",
      "       'Fireplaces', 'GarageYrBlt', 'GarageCars', 'GarageArea', 'WoodDeckSF',\n",
      "       'OpenPorchSF', 'EnclosedPorch', '3SsnPorch', 'ScreenPorch', 'PoolArea',\n",
      "       'MiscVal', 'MoSold', 'YrSold', 'SalePrice'],\n",
      "      dtype='object')\n"
     ]
    }
   ],
   "source": [
    "object_columns = train.select_dtypes(include='object').columns\n",
    "numerical_columns = train.select_dtypes(exclude='object').columns\n",
    "print(object_columns)\n",
    "print(numerical_columns)"
   ]
  },
  {
   "cell_type": "code",
   "execution_count": 5,
   "id": "e4db0ab3-8c42-4785-a76a-94edda998e22",
   "metadata": {},
   "outputs": [
    {
     "data": {
      "text/html": [
       "<div>\n",
       "<style scoped>\n",
       "    .dataframe tbody tr th:only-of-type {\n",
       "        vertical-align: middle;\n",
       "    }\n",
       "\n",
       "    .dataframe tbody tr th {\n",
       "        vertical-align: top;\n",
       "    }\n",
       "\n",
       "    .dataframe thead th {\n",
       "        text-align: right;\n",
       "    }\n",
       "</style>\n",
       "<table border=\"1\" class=\"dataframe\">\n",
       "  <thead>\n",
       "    <tr style=\"text-align: right;\">\n",
       "      <th></th>\n",
       "      <th>MSZoning</th>\n",
       "      <th>Street</th>\n",
       "      <th>Alley</th>\n",
       "      <th>LotShape</th>\n",
       "      <th>LandContour</th>\n",
       "      <th>Utilities</th>\n",
       "      <th>LotConfig</th>\n",
       "      <th>LandSlope</th>\n",
       "      <th>Neighborhood</th>\n",
       "      <th>Condition1</th>\n",
       "      <th>...</th>\n",
       "      <th>GarageType</th>\n",
       "      <th>GarageFinish</th>\n",
       "      <th>GarageQual</th>\n",
       "      <th>GarageCond</th>\n",
       "      <th>PavedDrive</th>\n",
       "      <th>PoolQC</th>\n",
       "      <th>Fence</th>\n",
       "      <th>MiscFeature</th>\n",
       "      <th>SaleType</th>\n",
       "      <th>SaleCondition</th>\n",
       "    </tr>\n",
       "  </thead>\n",
       "  <tbody>\n",
       "    <tr>\n",
       "      <th>0</th>\n",
       "      <td>RL</td>\n",
       "      <td>Pave</td>\n",
       "      <td>NaN</td>\n",
       "      <td>Reg</td>\n",
       "      <td>Lvl</td>\n",
       "      <td>AllPub</td>\n",
       "      <td>Inside</td>\n",
       "      <td>Gtl</td>\n",
       "      <td>CollgCr</td>\n",
       "      <td>Norm</td>\n",
       "      <td>...</td>\n",
       "      <td>Attchd</td>\n",
       "      <td>RFn</td>\n",
       "      <td>TA</td>\n",
       "      <td>TA</td>\n",
       "      <td>Y</td>\n",
       "      <td>NaN</td>\n",
       "      <td>NaN</td>\n",
       "      <td>NaN</td>\n",
       "      <td>WD</td>\n",
       "      <td>Normal</td>\n",
       "    </tr>\n",
       "    <tr>\n",
       "      <th>1</th>\n",
       "      <td>RL</td>\n",
       "      <td>Pave</td>\n",
       "      <td>NaN</td>\n",
       "      <td>Reg</td>\n",
       "      <td>Lvl</td>\n",
       "      <td>AllPub</td>\n",
       "      <td>FR2</td>\n",
       "      <td>Gtl</td>\n",
       "      <td>Veenker</td>\n",
       "      <td>Feedr</td>\n",
       "      <td>...</td>\n",
       "      <td>Attchd</td>\n",
       "      <td>RFn</td>\n",
       "      <td>TA</td>\n",
       "      <td>TA</td>\n",
       "      <td>Y</td>\n",
       "      <td>NaN</td>\n",
       "      <td>NaN</td>\n",
       "      <td>NaN</td>\n",
       "      <td>WD</td>\n",
       "      <td>Normal</td>\n",
       "    </tr>\n",
       "    <tr>\n",
       "      <th>2</th>\n",
       "      <td>RL</td>\n",
       "      <td>Pave</td>\n",
       "      <td>NaN</td>\n",
       "      <td>IR1</td>\n",
       "      <td>Lvl</td>\n",
       "      <td>AllPub</td>\n",
       "      <td>Inside</td>\n",
       "      <td>Gtl</td>\n",
       "      <td>CollgCr</td>\n",
       "      <td>Norm</td>\n",
       "      <td>...</td>\n",
       "      <td>Attchd</td>\n",
       "      <td>RFn</td>\n",
       "      <td>TA</td>\n",
       "      <td>TA</td>\n",
       "      <td>Y</td>\n",
       "      <td>NaN</td>\n",
       "      <td>NaN</td>\n",
       "      <td>NaN</td>\n",
       "      <td>WD</td>\n",
       "      <td>Normal</td>\n",
       "    </tr>\n",
       "    <tr>\n",
       "      <th>3</th>\n",
       "      <td>RL</td>\n",
       "      <td>Pave</td>\n",
       "      <td>NaN</td>\n",
       "      <td>IR1</td>\n",
       "      <td>Lvl</td>\n",
       "      <td>AllPub</td>\n",
       "      <td>Corner</td>\n",
       "      <td>Gtl</td>\n",
       "      <td>Crawfor</td>\n",
       "      <td>Norm</td>\n",
       "      <td>...</td>\n",
       "      <td>Detchd</td>\n",
       "      <td>Unf</td>\n",
       "      <td>TA</td>\n",
       "      <td>TA</td>\n",
       "      <td>Y</td>\n",
       "      <td>NaN</td>\n",
       "      <td>NaN</td>\n",
       "      <td>NaN</td>\n",
       "      <td>WD</td>\n",
       "      <td>Abnorml</td>\n",
       "    </tr>\n",
       "    <tr>\n",
       "      <th>4</th>\n",
       "      <td>RL</td>\n",
       "      <td>Pave</td>\n",
       "      <td>NaN</td>\n",
       "      <td>IR1</td>\n",
       "      <td>Lvl</td>\n",
       "      <td>AllPub</td>\n",
       "      <td>FR2</td>\n",
       "      <td>Gtl</td>\n",
       "      <td>NoRidge</td>\n",
       "      <td>Norm</td>\n",
       "      <td>...</td>\n",
       "      <td>Attchd</td>\n",
       "      <td>RFn</td>\n",
       "      <td>TA</td>\n",
       "      <td>TA</td>\n",
       "      <td>Y</td>\n",
       "      <td>NaN</td>\n",
       "      <td>NaN</td>\n",
       "      <td>NaN</td>\n",
       "      <td>WD</td>\n",
       "      <td>Normal</td>\n",
       "    </tr>\n",
       "  </tbody>\n",
       "</table>\n",
       "<p>5 rows × 43 columns</p>\n",
       "</div>"
      ],
      "text/plain": [
       "  MSZoning Street Alley LotShape LandContour Utilities LotConfig LandSlope  \\\n",
       "0       RL   Pave   NaN      Reg         Lvl    AllPub    Inside       Gtl   \n",
       "1       RL   Pave   NaN      Reg         Lvl    AllPub       FR2       Gtl   \n",
       "2       RL   Pave   NaN      IR1         Lvl    AllPub    Inside       Gtl   \n",
       "3       RL   Pave   NaN      IR1         Lvl    AllPub    Corner       Gtl   \n",
       "4       RL   Pave   NaN      IR1         Lvl    AllPub       FR2       Gtl   \n",
       "\n",
       "  Neighborhood Condition1  ... GarageType GarageFinish GarageQual GarageCond  \\\n",
       "0      CollgCr       Norm  ...     Attchd          RFn         TA         TA   \n",
       "1      Veenker      Feedr  ...     Attchd          RFn         TA         TA   \n",
       "2      CollgCr       Norm  ...     Attchd          RFn         TA         TA   \n",
       "3      Crawfor       Norm  ...     Detchd          Unf         TA         TA   \n",
       "4      NoRidge       Norm  ...     Attchd          RFn         TA         TA   \n",
       "\n",
       "  PavedDrive PoolQC Fence MiscFeature SaleType SaleCondition  \n",
       "0          Y    NaN   NaN         NaN       WD        Normal  \n",
       "1          Y    NaN   NaN         NaN       WD        Normal  \n",
       "2          Y    NaN   NaN         NaN       WD        Normal  \n",
       "3          Y    NaN   NaN         NaN       WD       Abnorml  \n",
       "4          Y    NaN   NaN         NaN       WD        Normal  \n",
       "\n",
       "[5 rows x 43 columns]"
      ]
     },
     "execution_count": 5,
     "metadata": {},
     "output_type": "execute_result"
    }
   ],
   "source": [
    "object_values = train.loc[:, object_columns]\n",
    "object_values.head()"
   ]
  },
  {
   "cell_type": "markdown",
   "id": "ae5ab2f7-dd3a-460d-89b0-6d98455eeb64",
   "metadata": {},
   "source": [
    "#### Ordinal encoding"
   ]
  },
  {
   "cell_type": "code",
   "execution_count": 6,
   "id": "912d6759-95ed-404c-80b9-30fcc037a423",
   "metadata": {},
   "outputs": [
    {
     "name": "stdout",
     "output_type": "stream",
     "text": [
      "Kolumna: MSZoning\n",
      "  Wartość zakodowana: 0 -> Wartość początkowa: C (all)\n",
      "  Wartość zakodowana: 1 -> Wartość początkowa: FV\n",
      "  Wartość zakodowana: 2 -> Wartość początkowa: RH\n",
      "  Wartość zakodowana: 3 -> Wartość początkowa: RL\n",
      "  Wartość zakodowana: 4 -> Wartość początkowa: RM\n",
      "  Wartość zakodowana: 5 -> Wartość początkowa: nan\n",
      "Kolumna: Street\n",
      "  Wartość zakodowana: 0 -> Wartość początkowa: Grvl\n",
      "  Wartość zakodowana: 1 -> Wartość początkowa: Pave\n",
      "Kolumna: Alley\n",
      "  Wartość zakodowana: 0 -> Wartość początkowa: Grvl\n",
      "  Wartość zakodowana: 1 -> Wartość początkowa: Pave\n",
      "  Wartość zakodowana: 2 -> Wartość początkowa: nan\n",
      "Kolumna: LotShape\n",
      "  Wartość zakodowana: 0 -> Wartość początkowa: IR1\n",
      "  Wartość zakodowana: 1 -> Wartość początkowa: IR2\n",
      "  Wartość zakodowana: 2 -> Wartość początkowa: IR3\n",
      "  Wartość zakodowana: 3 -> Wartość początkowa: Reg\n",
      "Kolumna: LandContour\n",
      "  Wartość zakodowana: 0 -> Wartość początkowa: Bnk\n",
      "  Wartość zakodowana: 1 -> Wartość początkowa: HLS\n",
      "  Wartość zakodowana: 2 -> Wartość początkowa: Low\n",
      "  Wartość zakodowana: 3 -> Wartość początkowa: Lvl\n",
      "Kolumna: Utilities\n",
      "  Wartość zakodowana: 0 -> Wartość początkowa: AllPub\n",
      "  Wartość zakodowana: 1 -> Wartość początkowa: nan\n",
      "Kolumna: LotConfig\n",
      "  Wartość zakodowana: 0 -> Wartość początkowa: Corner\n",
      "  Wartość zakodowana: 1 -> Wartość początkowa: CulDSac\n",
      "  Wartość zakodowana: 2 -> Wartość początkowa: FR2\n",
      "  Wartość zakodowana: 3 -> Wartość początkowa: FR3\n",
      "  Wartość zakodowana: 4 -> Wartość początkowa: Inside\n",
      "Kolumna: LandSlope\n",
      "  Wartość zakodowana: 0 -> Wartość początkowa: Gtl\n",
      "  Wartość zakodowana: 1 -> Wartość początkowa: Mod\n",
      "  Wartość zakodowana: 2 -> Wartość początkowa: Sev\n",
      "Kolumna: Neighborhood\n",
      "  Wartość zakodowana: 0 -> Wartość początkowa: Blmngtn\n",
      "  Wartość zakodowana: 1 -> Wartość początkowa: Blueste\n",
      "  Wartość zakodowana: 2 -> Wartość początkowa: BrDale\n",
      "  Wartość zakodowana: 3 -> Wartość początkowa: BrkSide\n",
      "  Wartość zakodowana: 4 -> Wartość początkowa: ClearCr\n",
      "  Wartość zakodowana: 5 -> Wartość początkowa: CollgCr\n",
      "  Wartość zakodowana: 6 -> Wartość początkowa: Crawfor\n",
      "  Wartość zakodowana: 7 -> Wartość początkowa: Edwards\n",
      "  Wartość zakodowana: 8 -> Wartość początkowa: Gilbert\n",
      "  Wartość zakodowana: 9 -> Wartość początkowa: IDOTRR\n",
      "  Wartość zakodowana: 10 -> Wartość początkowa: MeadowV\n",
      "  Wartość zakodowana: 11 -> Wartość początkowa: Mitchel\n",
      "  Wartość zakodowana: 12 -> Wartość początkowa: NAmes\n",
      "  Wartość zakodowana: 13 -> Wartość początkowa: NPkVill\n",
      "  Wartość zakodowana: 14 -> Wartość początkowa: NWAmes\n",
      "  Wartość zakodowana: 15 -> Wartość początkowa: NoRidge\n",
      "  Wartość zakodowana: 16 -> Wartość początkowa: NridgHt\n",
      "  Wartość zakodowana: 17 -> Wartość początkowa: OldTown\n",
      "  Wartość zakodowana: 18 -> Wartość początkowa: SWISU\n",
      "  Wartość zakodowana: 19 -> Wartość początkowa: Sawyer\n",
      "  Wartość zakodowana: 20 -> Wartość początkowa: SawyerW\n",
      "  Wartość zakodowana: 21 -> Wartość początkowa: Somerst\n",
      "  Wartość zakodowana: 22 -> Wartość początkowa: StoneBr\n",
      "  Wartość zakodowana: 23 -> Wartość początkowa: Timber\n",
      "  Wartość zakodowana: 24 -> Wartość początkowa: Veenker\n",
      "Kolumna: Condition1\n",
      "  Wartość zakodowana: 0 -> Wartość początkowa: Artery\n",
      "  Wartość zakodowana: 1 -> Wartość początkowa: Feedr\n",
      "  Wartość zakodowana: 2 -> Wartość początkowa: Norm\n",
      "  Wartość zakodowana: 3 -> Wartość początkowa: PosA\n",
      "  Wartość zakodowana: 4 -> Wartość początkowa: PosN\n",
      "  Wartość zakodowana: 5 -> Wartość początkowa: RRAe\n",
      "  Wartość zakodowana: 6 -> Wartość początkowa: RRAn\n",
      "  Wartość zakodowana: 7 -> Wartość początkowa: RRNe\n",
      "  Wartość zakodowana: 8 -> Wartość początkowa: RRNn\n",
      "Kolumna: Condition2\n",
      "  Wartość zakodowana: 0 -> Wartość początkowa: Artery\n",
      "  Wartość zakodowana: 1 -> Wartość początkowa: Feedr\n",
      "  Wartość zakodowana: 2 -> Wartość początkowa: Norm\n",
      "  Wartość zakodowana: 3 -> Wartość początkowa: PosA\n",
      "  Wartość zakodowana: 4 -> Wartość początkowa: PosN\n",
      "Kolumna: BldgType\n",
      "  Wartość zakodowana: 0 -> Wartość początkowa: 1Fam\n",
      "  Wartość zakodowana: 1 -> Wartość początkowa: 2fmCon\n",
      "  Wartość zakodowana: 2 -> Wartość początkowa: Duplex\n",
      "  Wartość zakodowana: 3 -> Wartość początkowa: Twnhs\n",
      "  Wartość zakodowana: 4 -> Wartość początkowa: TwnhsE\n",
      "Kolumna: HouseStyle\n",
      "  Wartość zakodowana: 0 -> Wartość początkowa: 1.5Fin\n",
      "  Wartość zakodowana: 1 -> Wartość początkowa: 1.5Unf\n",
      "  Wartość zakodowana: 2 -> Wartość początkowa: 1Story\n",
      "  Wartość zakodowana: 3 -> Wartość początkowa: 2.5Unf\n",
      "  Wartość zakodowana: 4 -> Wartość początkowa: 2Story\n",
      "  Wartość zakodowana: 5 -> Wartość początkowa: SFoyer\n",
      "  Wartość zakodowana: 6 -> Wartość początkowa: SLvl\n",
      "Kolumna: RoofStyle\n",
      "  Wartość zakodowana: 0 -> Wartość początkowa: Flat\n",
      "  Wartość zakodowana: 1 -> Wartość początkowa: Gable\n",
      "  Wartość zakodowana: 2 -> Wartość początkowa: Gambrel\n",
      "  Wartość zakodowana: 3 -> Wartość początkowa: Hip\n",
      "  Wartość zakodowana: 4 -> Wartość początkowa: Mansard\n",
      "  Wartość zakodowana: 5 -> Wartość początkowa: Shed\n",
      "Kolumna: RoofMatl\n",
      "  Wartość zakodowana: 0 -> Wartość początkowa: CompShg\n",
      "  Wartość zakodowana: 1 -> Wartość początkowa: Tar&Grv\n",
      "  Wartość zakodowana: 2 -> Wartość początkowa: WdShake\n",
      "  Wartość zakodowana: 3 -> Wartość początkowa: WdShngl\n",
      "Kolumna: Exterior1st\n",
      "  Wartość zakodowana: 0 -> Wartość początkowa: AsbShng\n",
      "  Wartość zakodowana: 1 -> Wartość początkowa: AsphShn\n",
      "  Wartość zakodowana: 2 -> Wartość początkowa: BrkComm\n",
      "  Wartość zakodowana: 3 -> Wartość początkowa: BrkFace\n",
      "  Wartość zakodowana: 4 -> Wartość początkowa: CBlock\n",
      "  Wartość zakodowana: 5 -> Wartość początkowa: CemntBd\n",
      "  Wartość zakodowana: 6 -> Wartość początkowa: HdBoard\n",
      "  Wartość zakodowana: 7 -> Wartość początkowa: MetalSd\n",
      "  Wartość zakodowana: 8 -> Wartość początkowa: Plywood\n",
      "  Wartość zakodowana: 9 -> Wartość początkowa: Stucco\n",
      "  Wartość zakodowana: 10 -> Wartość początkowa: VinylSd\n",
      "  Wartość zakodowana: 11 -> Wartość początkowa: Wd Sdng\n",
      "  Wartość zakodowana: 12 -> Wartość początkowa: WdShing\n",
      "  Wartość zakodowana: 13 -> Wartość początkowa: nan\n",
      "Kolumna: Exterior2nd\n",
      "  Wartość zakodowana: 0 -> Wartość początkowa: AsbShng\n",
      "  Wartość zakodowana: 1 -> Wartość początkowa: AsphShn\n",
      "  Wartość zakodowana: 2 -> Wartość początkowa: Brk Cmn\n",
      "  Wartość zakodowana: 3 -> Wartość początkowa: BrkFace\n",
      "  Wartość zakodowana: 4 -> Wartość początkowa: CBlock\n",
      "  Wartość zakodowana: 5 -> Wartość początkowa: CmentBd\n",
      "  Wartość zakodowana: 6 -> Wartość początkowa: HdBoard\n",
      "  Wartość zakodowana: 7 -> Wartość początkowa: ImStucc\n",
      "  Wartość zakodowana: 8 -> Wartość początkowa: MetalSd\n",
      "  Wartość zakodowana: 9 -> Wartość początkowa: Plywood\n",
      "  Wartość zakodowana: 10 -> Wartość początkowa: Stone\n",
      "  Wartość zakodowana: 11 -> Wartość początkowa: Stucco\n",
      "  Wartość zakodowana: 12 -> Wartość początkowa: VinylSd\n",
      "  Wartość zakodowana: 13 -> Wartość początkowa: Wd Sdng\n",
      "  Wartość zakodowana: 14 -> Wartość początkowa: Wd Shng\n",
      "  Wartość zakodowana: 15 -> Wartość początkowa: nan\n",
      "Kolumna: MasVnrType\n",
      "  Wartość zakodowana: 0 -> Wartość początkowa: BrkCmn\n",
      "  Wartość zakodowana: 1 -> Wartość początkowa: BrkFace\n",
      "  Wartość zakodowana: 2 -> Wartość początkowa: Stone\n",
      "  Wartość zakodowana: 3 -> Wartość początkowa: nan\n",
      "Kolumna: ExterQual\n",
      "  Wartość zakodowana: 0 -> Wartość początkowa: Ex\n",
      "  Wartość zakodowana: 1 -> Wartość początkowa: Fa\n",
      "  Wartość zakodowana: 2 -> Wartość początkowa: Gd\n",
      "  Wartość zakodowana: 3 -> Wartość początkowa: TA\n",
      "Kolumna: ExterCond\n",
      "  Wartość zakodowana: 0 -> Wartość początkowa: Ex\n",
      "  Wartość zakodowana: 1 -> Wartość początkowa: Fa\n",
      "  Wartość zakodowana: 2 -> Wartość początkowa: Gd\n",
      "  Wartość zakodowana: 3 -> Wartość początkowa: Po\n",
      "  Wartość zakodowana: 4 -> Wartość początkowa: TA\n",
      "Kolumna: Foundation\n",
      "  Wartość zakodowana: 0 -> Wartość początkowa: BrkTil\n",
      "  Wartość zakodowana: 1 -> Wartość początkowa: CBlock\n",
      "  Wartość zakodowana: 2 -> Wartość początkowa: PConc\n",
      "  Wartość zakodowana: 3 -> Wartość początkowa: Slab\n",
      "  Wartość zakodowana: 4 -> Wartość początkowa: Stone\n",
      "  Wartość zakodowana: 5 -> Wartość początkowa: Wood\n",
      "Kolumna: BsmtQual\n",
      "  Wartość zakodowana: 0 -> Wartość początkowa: Ex\n",
      "  Wartość zakodowana: 1 -> Wartość początkowa: Fa\n",
      "  Wartość zakodowana: 2 -> Wartość początkowa: Gd\n",
      "  Wartość zakodowana: 3 -> Wartość początkowa: TA\n",
      "  Wartość zakodowana: 4 -> Wartość początkowa: nan\n",
      "Kolumna: BsmtCond\n",
      "  Wartość zakodowana: 0 -> Wartość początkowa: Fa\n",
      "  Wartość zakodowana: 1 -> Wartość początkowa: Gd\n",
      "  Wartość zakodowana: 2 -> Wartość początkowa: Po\n",
      "  Wartość zakodowana: 3 -> Wartość początkowa: TA\n",
      "  Wartość zakodowana: 4 -> Wartość początkowa: nan\n",
      "Kolumna: BsmtExposure\n",
      "  Wartość zakodowana: 0 -> Wartość początkowa: Av\n",
      "  Wartość zakodowana: 1 -> Wartość początkowa: Gd\n",
      "  Wartość zakodowana: 2 -> Wartość początkowa: Mn\n",
      "  Wartość zakodowana: 3 -> Wartość początkowa: No\n",
      "  Wartość zakodowana: 4 -> Wartość początkowa: nan\n",
      "Kolumna: BsmtFinType1\n",
      "  Wartość zakodowana: 0 -> Wartość początkowa: ALQ\n",
      "  Wartość zakodowana: 1 -> Wartość początkowa: BLQ\n",
      "  Wartość zakodowana: 2 -> Wartość początkowa: GLQ\n",
      "  Wartość zakodowana: 3 -> Wartość początkowa: LwQ\n",
      "  Wartość zakodowana: 4 -> Wartość początkowa: Rec\n",
      "  Wartość zakodowana: 5 -> Wartość początkowa: Unf\n",
      "  Wartość zakodowana: 6 -> Wartość początkowa: nan\n",
      "Kolumna: BsmtFinType2\n",
      "  Wartość zakodowana: 0 -> Wartość początkowa: ALQ\n",
      "  Wartość zakodowana: 1 -> Wartość początkowa: BLQ\n",
      "  Wartość zakodowana: 2 -> Wartość początkowa: GLQ\n",
      "  Wartość zakodowana: 3 -> Wartość początkowa: LwQ\n",
      "  Wartość zakodowana: 4 -> Wartość początkowa: Rec\n",
      "  Wartość zakodowana: 5 -> Wartość początkowa: Unf\n",
      "  Wartość zakodowana: 6 -> Wartość początkowa: nan\n",
      "Kolumna: Heating\n",
      "  Wartość zakodowana: 0 -> Wartość początkowa: GasA\n",
      "  Wartość zakodowana: 1 -> Wartość początkowa: GasW\n",
      "  Wartość zakodowana: 2 -> Wartość początkowa: Grav\n",
      "  Wartość zakodowana: 3 -> Wartość początkowa: Wall\n",
      "Kolumna: HeatingQC\n",
      "  Wartość zakodowana: 0 -> Wartość początkowa: Ex\n",
      "  Wartość zakodowana: 1 -> Wartość początkowa: Fa\n",
      "  Wartość zakodowana: 2 -> Wartość początkowa: Gd\n",
      "  Wartość zakodowana: 3 -> Wartość początkowa: Po\n",
      "  Wartość zakodowana: 4 -> Wartość początkowa: TA\n",
      "Kolumna: CentralAir\n",
      "  Wartość zakodowana: 0 -> Wartość początkowa: N\n",
      "  Wartość zakodowana: 1 -> Wartość początkowa: Y\n",
      "Kolumna: Electrical\n",
      "  Wartość zakodowana: 0 -> Wartość początkowa: FuseA\n",
      "  Wartość zakodowana: 1 -> Wartość początkowa: FuseF\n",
      "  Wartość zakodowana: 2 -> Wartość początkowa: FuseP\n",
      "  Wartość zakodowana: 3 -> Wartość początkowa: SBrkr\n",
      "Kolumna: KitchenQual\n",
      "  Wartość zakodowana: 0 -> Wartość początkowa: Ex\n",
      "  Wartość zakodowana: 1 -> Wartość początkowa: Fa\n",
      "  Wartość zakodowana: 2 -> Wartość początkowa: Gd\n",
      "  Wartość zakodowana: 3 -> Wartość początkowa: TA\n",
      "  Wartość zakodowana: 4 -> Wartość początkowa: nan\n",
      "Kolumna: Functional\n",
      "  Wartość zakodowana: 0 -> Wartość początkowa: Maj1\n",
      "  Wartość zakodowana: 1 -> Wartość początkowa: Maj2\n",
      "  Wartość zakodowana: 2 -> Wartość początkowa: Min1\n",
      "  Wartość zakodowana: 3 -> Wartość początkowa: Min2\n",
      "  Wartość zakodowana: 4 -> Wartość początkowa: Mod\n",
      "  Wartość zakodowana: 5 -> Wartość początkowa: Sev\n",
      "  Wartość zakodowana: 6 -> Wartość początkowa: Typ\n",
      "  Wartość zakodowana: 7 -> Wartość początkowa: nan\n",
      "Kolumna: FireplaceQu\n",
      "  Wartość zakodowana: 0 -> Wartość początkowa: Ex\n",
      "  Wartość zakodowana: 1 -> Wartość początkowa: Fa\n",
      "  Wartość zakodowana: 2 -> Wartość początkowa: Gd\n",
      "  Wartość zakodowana: 3 -> Wartość początkowa: Po\n",
      "  Wartość zakodowana: 4 -> Wartość początkowa: TA\n",
      "  Wartość zakodowana: 5 -> Wartość początkowa: nan\n",
      "Kolumna: GarageType\n",
      "  Wartość zakodowana: 0 -> Wartość początkowa: 2Types\n",
      "  Wartość zakodowana: 1 -> Wartość początkowa: Attchd\n",
      "  Wartość zakodowana: 2 -> Wartość początkowa: Basment\n",
      "  Wartość zakodowana: 3 -> Wartość początkowa: BuiltIn\n",
      "  Wartość zakodowana: 4 -> Wartość początkowa: CarPort\n",
      "  Wartość zakodowana: 5 -> Wartość początkowa: Detchd\n",
      "  Wartość zakodowana: 6 -> Wartość początkowa: nan\n",
      "Kolumna: GarageFinish\n",
      "  Wartość zakodowana: 0 -> Wartość początkowa: Fin\n",
      "  Wartość zakodowana: 1 -> Wartość początkowa: RFn\n",
      "  Wartość zakodowana: 2 -> Wartość początkowa: Unf\n",
      "  Wartość zakodowana: 3 -> Wartość początkowa: nan\n",
      "Kolumna: GarageQual\n",
      "  Wartość zakodowana: 0 -> Wartość początkowa: Fa\n",
      "  Wartość zakodowana: 1 -> Wartość początkowa: Gd\n",
      "  Wartość zakodowana: 2 -> Wartość początkowa: Po\n",
      "  Wartość zakodowana: 3 -> Wartość początkowa: TA\n",
      "  Wartość zakodowana: 4 -> Wartość początkowa: nan\n",
      "Kolumna: GarageCond\n",
      "  Wartość zakodowana: 0 -> Wartość początkowa: Ex\n",
      "  Wartość zakodowana: 1 -> Wartość początkowa: Fa\n",
      "  Wartość zakodowana: 2 -> Wartość początkowa: Gd\n",
      "  Wartość zakodowana: 3 -> Wartość początkowa: Po\n",
      "  Wartość zakodowana: 4 -> Wartość początkowa: TA\n",
      "  Wartość zakodowana: 5 -> Wartość początkowa: nan\n",
      "Kolumna: PavedDrive\n",
      "  Wartość zakodowana: 0 -> Wartość początkowa: N\n",
      "  Wartość zakodowana: 1 -> Wartość początkowa: P\n",
      "  Wartość zakodowana: 2 -> Wartość początkowa: Y\n",
      "Kolumna: PoolQC\n",
      "  Wartość zakodowana: 0 -> Wartość początkowa: Ex\n",
      "  Wartość zakodowana: 1 -> Wartość początkowa: Gd\n",
      "  Wartość zakodowana: 2 -> Wartość początkowa: nan\n",
      "Kolumna: Fence\n",
      "  Wartość zakodowana: 0 -> Wartość początkowa: GdPrv\n",
      "  Wartość zakodowana: 1 -> Wartość początkowa: GdWo\n",
      "  Wartość zakodowana: 2 -> Wartość początkowa: MnPrv\n",
      "  Wartość zakodowana: 3 -> Wartość początkowa: MnWw\n",
      "  Wartość zakodowana: 4 -> Wartość początkowa: nan\n",
      "Kolumna: MiscFeature\n",
      "  Wartość zakodowana: 0 -> Wartość początkowa: Gar2\n",
      "  Wartość zakodowana: 1 -> Wartość początkowa: Othr\n",
      "  Wartość zakodowana: 2 -> Wartość początkowa: Shed\n",
      "  Wartość zakodowana: 3 -> Wartość początkowa: nan\n",
      "Kolumna: SaleType\n",
      "  Wartość zakodowana: 0 -> Wartość początkowa: COD\n",
      "  Wartość zakodowana: 1 -> Wartość początkowa: CWD\n",
      "  Wartość zakodowana: 2 -> Wartość początkowa: Con\n",
      "  Wartość zakodowana: 3 -> Wartość początkowa: ConLD\n",
      "  Wartość zakodowana: 4 -> Wartość początkowa: ConLI\n",
      "  Wartość zakodowana: 5 -> Wartość początkowa: ConLw\n",
      "  Wartość zakodowana: 6 -> Wartość początkowa: New\n",
      "  Wartość zakodowana: 7 -> Wartość początkowa: Oth\n",
      "  Wartość zakodowana: 8 -> Wartość początkowa: WD\n",
      "  Wartość zakodowana: 9 -> Wartość początkowa: nan\n",
      "Kolumna: SaleCondition\n",
      "  Wartość zakodowana: 0 -> Wartość początkowa: Abnorml\n",
      "  Wartość zakodowana: 1 -> Wartość początkowa: AdjLand\n",
      "  Wartość zakodowana: 2 -> Wartość początkowa: Alloca\n",
      "  Wartość zakodowana: 3 -> Wartość początkowa: Family\n",
      "  Wartość zakodowana: 4 -> Wartość początkowa: Normal\n",
      "  Wartość zakodowana: 5 -> Wartość początkowa: Partial\n"
     ]
    }
   ],
   "source": [
    "from sklearn.preprocessing import OrdinalEncoder\n",
    "enc = OrdinalEncoder()\n",
    "Enc_col = object_columns\n",
    "\n",
    "categories = {}\n",
    "for col in Enc_col:\n",
    "    for df in [train, test]:\n",
    "        df[col + '_Enc'] = enc.fit_transform(df[col].values.reshape(-1, 1))\n",
    "    categories[col] = enc.categories_[0]  # Store categories for the current column\n",
    "\n",
    "# Print the mapping\n",
    "for col in Enc_col:\n",
    "    print(f\"Kolumna: {col}\")\n",
    "    for i, category in enumerate(categories[col]):\n",
    "        print(f\"  Wartość zakodowana: {i} -> Wartość początkowa: {category}\")"
   ]
  },
  {
   "cell_type": "code",
   "execution_count": 7,
   "id": "af732336-ffed-4d5b-959c-d890f131769e",
   "metadata": {},
   "outputs": [
    {
     "name": "stdout",
     "output_type": "stream",
     "text": [
      "Id                      0\n",
      "MSSubClass              0\n",
      "LotFrontage           259\n",
      "LotArea                 0\n",
      "OverallQual             0\n",
      "OverallCond             0\n",
      "YearBuilt               0\n",
      "YearRemodAdd            0\n",
      "MasVnrArea              8\n",
      "BsmtFinSF1              0\n",
      "BsmtFinSF2              0\n",
      "BsmtUnfSF               0\n",
      "TotalBsmtSF             0\n",
      "1stFlrSF                0\n",
      "2ndFlrSF                0\n",
      "LowQualFinSF            0\n",
      "GrLivArea               0\n",
      "BsmtFullBath            0\n",
      "BsmtHalfBath            0\n",
      "FullBath                0\n",
      "HalfBath                0\n",
      "BedroomAbvGr            0\n",
      "KitchenAbvGr            0\n",
      "TotRmsAbvGrd            0\n",
      "Fireplaces              0\n",
      "GarageYrBlt            81\n",
      "GarageCars              0\n",
      "GarageArea              0\n",
      "WoodDeckSF              0\n",
      "OpenPorchSF             0\n",
      "EnclosedPorch           0\n",
      "3SsnPorch               0\n",
      "ScreenPorch             0\n",
      "PoolArea                0\n",
      "MiscVal                 0\n",
      "MoSold                  0\n",
      "YrSold                  0\n",
      "SalePrice               0\n",
      "MSZoning_Enc            0\n",
      "Street_Enc              0\n",
      "Alley_Enc            1369\n",
      "LotShape_Enc            0\n",
      "LandContour_Enc         0\n",
      "Utilities_Enc           0\n",
      "LotConfig_Enc           0\n",
      "LandSlope_Enc           0\n",
      "Neighborhood_Enc        0\n",
      "Condition1_Enc          0\n",
      "Condition2_Enc          0\n",
      "BldgType_Enc            0\n",
      "HouseStyle_Enc          0\n",
      "RoofStyle_Enc           0\n",
      "RoofMatl_Enc            0\n",
      "Exterior1st_Enc         0\n",
      "Exterior2nd_Enc         0\n",
      "MasVnrType_Enc        872\n",
      "ExterQual_Enc           0\n",
      "ExterCond_Enc           0\n",
      "Foundation_Enc          0\n",
      "BsmtQual_Enc           37\n",
      "BsmtCond_Enc           37\n",
      "BsmtExposure_Enc       38\n",
      "BsmtFinType1_Enc       37\n",
      "BsmtFinType2_Enc       38\n",
      "Heating_Enc             0\n",
      "HeatingQC_Enc           0\n",
      "CentralAir_Enc          0\n",
      "Electrical_Enc          1\n",
      "KitchenQual_Enc         0\n",
      "Functional_Enc          0\n",
      "FireplaceQu_Enc       690\n",
      "GarageType_Enc         81\n",
      "GarageFinish_Enc       81\n",
      "GarageQual_Enc         81\n",
      "GarageCond_Enc         81\n",
      "PavedDrive_Enc          0\n",
      "PoolQC_Enc           1453\n",
      "Fence_Enc            1179\n",
      "MiscFeature_Enc      1406\n",
      "SaleType_Enc            0\n",
      "SaleCondition_Enc       0\n"
     ]
    }
   ],
   "source": [
    "#### Usnięcie koluumn, które zostały zancodowane.\n",
    "object_columns = train.select_dtypes(include='object').columns\n",
    "for df in [train, test]:\n",
    "     df.drop(columns=object_columns, inplace=True)\n",
    "\n",
    "missing_values_per_column = train.isnull().sum()\n",
    "print(missing_values_per_column.to_string(index=True))"
   ]
  },
  {
   "cell_type": "markdown",
   "id": "72d8e762-bbc7-4d30-9a3f-cbc260024b89",
   "metadata": {},
   "source": [
    "#### KNN Inputer"
   ]
  },
  {
   "cell_type": "code",
   "execution_count": 8,
   "id": "ffaa7264-0758-46dc-81ef-b36c383ea707",
   "metadata": {},
   "outputs": [],
   "source": [
    "def fill_missing_values(df, column_to_exclude='SalePrice'):\n",
    " # Exclude the specified column from imputation\n",
    "    cols_to_impute = [col for col in df.columns if col != column_to_exclude and df[col].isna().any()]\n",
    "\n",
    "    # Create KNN Imputer with 5 neighbors\n",
    "    imputer = KNNImputer(n_neighbors=6)\n",
    "\n",
    "    # Impute values in the selected columns\n",
    "    df_imputed = df[cols_to_impute].copy()  # Avoid modifying original DataFrame\n",
    "    df_imputed = imputer.fit_transform(df_imputed)\n",
    "\n",
    "    # Assign imputed values back to the selected columns in the original DataFrame\n",
    "    df[cols_to_impute] = df_imputed\n",
    "\n",
    "    # Return the imputed DataFrame and original column order (excluding the excluded column)\n",
    "    return df, [col for col in df.columns if col != column_to_exclude]\n",
    "\n",
    "combined_df = pd.concat([train, test], ignore_index=True)\n",
    "\n",
    "# Impute missing values in the combined DataFrame\n",
    "combined_df_imputed, cols_without_excluded = fill_missing_values(combined_df)\n",
    "\n",
    "# Split the imputed DataFrame back to train and test\n",
    "train_imputed = combined_df_imputed.iloc[:len(train)]\n",
    "test_imputed = combined_df_imputed.iloc[len(train):]\n",
    "\n",
    "# Restore original column order for train and test\n",
    "train = train_imputed[cols_without_excluded].assign(SalePrice=train['SalePrice']) \n",
    "test = test_imputed[cols_without_excluded]"
   ]
  },
  {
   "cell_type": "markdown",
   "id": "628dce1a-f9c6-46cd-97a5-ea110833b619",
   "metadata": {},
   "source": [
    "#### Modele standaryzujące"
   ]
  },
  {
   "cell_type": "code",
   "execution_count": 9,
   "id": "9a04a5a4-34a0-4d3a-95cf-ed4edbbac17a",
   "metadata": {},
   "outputs": [],
   "source": [
    "# from sklearn.preprocessing import StandardScaler\n",
    "# from sklearn.preprocessing import MinMaxScaler\n",
    "# from sklearn.preprocessing import PowerTransformer\n",
    "# from sklearn.preprocessing import Normalizer\n",
    "# # # # Exclude 'Id' and 'SalePrice' from numerical columns (more explicit)\n",
    "# numerical_columns_exclud = [ col for col in numerical_columns if col not in ['Id', 'SalePrice']]\n",
    "\n",
    "# # Tworzenie obiektu StandardScaler\n",
    "# scaler = Normalizer()\n",
    "# # Dopasowanie i transformacja danych treningowych\n",
    "# scaler.fit(train[numerical_columns_exclud])\n",
    "# train_scaled = scaler.transform(train[numerical_columns_exclud])\n",
    "# # Transformacja danych testowych\n",
    "# test_scaled = scaler.transform(test[numerical_columns_exclud])\n",
    "# # Dodanie przetworzonych kolumn do data frame\n",
    "# for df in [train, test]:\n",
    "#   df[numerical_columns_exclud] = scaler.transform(df[numerical_columns_exclud])\n",
    "#________________________________________________________________________________\n",
    "\n"
   ]
  },
  {
   "cell_type": "code",
   "execution_count": 10,
   "id": "69be573d-0556-4283-b650-0a002d28a687",
   "metadata": {},
   "outputs": [
    {
     "data": {
      "text/html": [
       "<div>\n",
       "<style scoped>\n",
       "    .dataframe tbody tr th:only-of-type {\n",
       "        vertical-align: middle;\n",
       "    }\n",
       "\n",
       "    .dataframe tbody tr th {\n",
       "        vertical-align: top;\n",
       "    }\n",
       "\n",
       "    .dataframe thead th {\n",
       "        text-align: right;\n",
       "    }\n",
       "</style>\n",
       "<table border=\"1\" class=\"dataframe\">\n",
       "  <thead>\n",
       "    <tr style=\"text-align: right;\">\n",
       "      <th></th>\n",
       "      <th>Id</th>\n",
       "      <th>MSSubClass</th>\n",
       "      <th>LotFrontage</th>\n",
       "      <th>LotArea</th>\n",
       "      <th>OverallQual</th>\n",
       "      <th>OverallCond</th>\n",
       "      <th>YearBuilt</th>\n",
       "      <th>YearRemodAdd</th>\n",
       "      <th>MasVnrArea</th>\n",
       "      <th>BsmtFinSF1</th>\n",
       "      <th>...</th>\n",
       "      <th>GarageFinish_Enc</th>\n",
       "      <th>GarageQual_Enc</th>\n",
       "      <th>GarageCond_Enc</th>\n",
       "      <th>PavedDrive_Enc</th>\n",
       "      <th>PoolQC_Enc</th>\n",
       "      <th>Fence_Enc</th>\n",
       "      <th>MiscFeature_Enc</th>\n",
       "      <th>SaleType_Enc</th>\n",
       "      <th>SaleCondition_Enc</th>\n",
       "      <th>SalePrice</th>\n",
       "    </tr>\n",
       "  </thead>\n",
       "  <tbody>\n",
       "    <tr>\n",
       "      <th>1455</th>\n",
       "      <td>1456</td>\n",
       "      <td>60</td>\n",
       "      <td>62.0</td>\n",
       "      <td>7917</td>\n",
       "      <td>6</td>\n",
       "      <td>5</td>\n",
       "      <td>1999</td>\n",
       "      <td>2000</td>\n",
       "      <td>0.0</td>\n",
       "      <td>0.0</td>\n",
       "      <td>...</td>\n",
       "      <td>1.0</td>\n",
       "      <td>4.0</td>\n",
       "      <td>4.0</td>\n",
       "      <td>2.0</td>\n",
       "      <td>1.000000</td>\n",
       "      <td>1.166667</td>\n",
       "      <td>1.666667</td>\n",
       "      <td>8.0</td>\n",
       "      <td>4.0</td>\n",
       "      <td>175000</td>\n",
       "    </tr>\n",
       "    <tr>\n",
       "      <th>1456</th>\n",
       "      <td>1457</td>\n",
       "      <td>20</td>\n",
       "      <td>85.0</td>\n",
       "      <td>13175</td>\n",
       "      <td>6</td>\n",
       "      <td>6</td>\n",
       "      <td>1978</td>\n",
       "      <td>1988</td>\n",
       "      <td>119.0</td>\n",
       "      <td>790.0</td>\n",
       "      <td>...</td>\n",
       "      <td>2.0</td>\n",
       "      <td>4.0</td>\n",
       "      <td>4.0</td>\n",
       "      <td>2.0</td>\n",
       "      <td>1.166667</td>\n",
       "      <td>2.000000</td>\n",
       "      <td>1.500000</td>\n",
       "      <td>8.0</td>\n",
       "      <td>4.0</td>\n",
       "      <td>210000</td>\n",
       "    </tr>\n",
       "    <tr>\n",
       "      <th>1457</th>\n",
       "      <td>1458</td>\n",
       "      <td>70</td>\n",
       "      <td>66.0</td>\n",
       "      <td>9042</td>\n",
       "      <td>7</td>\n",
       "      <td>9</td>\n",
       "      <td>1941</td>\n",
       "      <td>2006</td>\n",
       "      <td>0.0</td>\n",
       "      <td>275.0</td>\n",
       "      <td>...</td>\n",
       "      <td>1.0</td>\n",
       "      <td>4.0</td>\n",
       "      <td>4.0</td>\n",
       "      <td>2.0</td>\n",
       "      <td>1.000000</td>\n",
       "      <td>0.000000</td>\n",
       "      <td>2.000000</td>\n",
       "      <td>8.0</td>\n",
       "      <td>4.0</td>\n",
       "      <td>266500</td>\n",
       "    </tr>\n",
       "    <tr>\n",
       "      <th>1458</th>\n",
       "      <td>1459</td>\n",
       "      <td>20</td>\n",
       "      <td>68.0</td>\n",
       "      <td>9717</td>\n",
       "      <td>5</td>\n",
       "      <td>6</td>\n",
       "      <td>1950</td>\n",
       "      <td>1996</td>\n",
       "      <td>0.0</td>\n",
       "      <td>49.0</td>\n",
       "      <td>...</td>\n",
       "      <td>2.0</td>\n",
       "      <td>4.0</td>\n",
       "      <td>4.0</td>\n",
       "      <td>2.0</td>\n",
       "      <td>1.166667</td>\n",
       "      <td>2.000000</td>\n",
       "      <td>2.000000</td>\n",
       "      <td>8.0</td>\n",
       "      <td>4.0</td>\n",
       "      <td>142125</td>\n",
       "    </tr>\n",
       "    <tr>\n",
       "      <th>1459</th>\n",
       "      <td>1460</td>\n",
       "      <td>20</td>\n",
       "      <td>75.0</td>\n",
       "      <td>9937</td>\n",
       "      <td>5</td>\n",
       "      <td>6</td>\n",
       "      <td>1965</td>\n",
       "      <td>1965</td>\n",
       "      <td>0.0</td>\n",
       "      <td>830.0</td>\n",
       "      <td>...</td>\n",
       "      <td>0.0</td>\n",
       "      <td>4.0</td>\n",
       "      <td>4.0</td>\n",
       "      <td>2.0</td>\n",
       "      <td>1.166667</td>\n",
       "      <td>1.333333</td>\n",
       "      <td>2.166667</td>\n",
       "      <td>8.0</td>\n",
       "      <td>4.0</td>\n",
       "      <td>147500</td>\n",
       "    </tr>\n",
       "  </tbody>\n",
       "</table>\n",
       "<p>5 rows × 81 columns</p>\n",
       "</div>"
      ],
      "text/plain": [
       "        Id  MSSubClass  LotFrontage  LotArea  OverallQual  OverallCond  \\\n",
       "1455  1456          60         62.0     7917            6            5   \n",
       "1456  1457          20         85.0    13175            6            6   \n",
       "1457  1458          70         66.0     9042            7            9   \n",
       "1458  1459          20         68.0     9717            5            6   \n",
       "1459  1460          20         75.0     9937            5            6   \n",
       "\n",
       "      YearBuilt  YearRemodAdd  MasVnrArea  BsmtFinSF1  ...  GarageFinish_Enc  \\\n",
       "1455       1999          2000         0.0         0.0  ...               1.0   \n",
       "1456       1978          1988       119.0       790.0  ...               2.0   \n",
       "1457       1941          2006         0.0       275.0  ...               1.0   \n",
       "1458       1950          1996         0.0        49.0  ...               2.0   \n",
       "1459       1965          1965         0.0       830.0  ...               0.0   \n",
       "\n",
       "      GarageQual_Enc  GarageCond_Enc  PavedDrive_Enc  PoolQC_Enc  Fence_Enc  \\\n",
       "1455             4.0             4.0             2.0    1.000000   1.166667   \n",
       "1456             4.0             4.0             2.0    1.166667   2.000000   \n",
       "1457             4.0             4.0             2.0    1.000000   0.000000   \n",
       "1458             4.0             4.0             2.0    1.166667   2.000000   \n",
       "1459             4.0             4.0             2.0    1.166667   1.333333   \n",
       "\n",
       "      MiscFeature_Enc  SaleType_Enc  SaleCondition_Enc  SalePrice  \n",
       "1455         1.666667           8.0                4.0     175000  \n",
       "1456         1.500000           8.0                4.0     210000  \n",
       "1457         2.000000           8.0                4.0     266500  \n",
       "1458         2.000000           8.0                4.0     142125  \n",
       "1459         2.166667           8.0                4.0     147500  \n",
       "\n",
       "[5 rows x 81 columns]"
      ]
     },
     "execution_count": 10,
     "metadata": {},
     "output_type": "execute_result"
    }
   ],
   "source": [
    "train.tail()"
   ]
  },
  {
   "cell_type": "code",
   "execution_count": 11,
   "id": "dc72b65c-1590-46d8-a470-e79b0bfab01b",
   "metadata": {},
   "outputs": [
    {
     "data": {
      "text/html": [
       "<div>\n",
       "<style scoped>\n",
       "    .dataframe tbody tr th:only-of-type {\n",
       "        vertical-align: middle;\n",
       "    }\n",
       "\n",
       "    .dataframe tbody tr th {\n",
       "        vertical-align: top;\n",
       "    }\n",
       "\n",
       "    .dataframe thead th {\n",
       "        text-align: right;\n",
       "    }\n",
       "</style>\n",
       "<table border=\"1\" class=\"dataframe\">\n",
       "  <thead>\n",
       "    <tr style=\"text-align: right;\">\n",
       "      <th></th>\n",
       "      <th>Id</th>\n",
       "      <th>MSSubClass</th>\n",
       "      <th>LotFrontage</th>\n",
       "      <th>LotArea</th>\n",
       "      <th>OverallQual</th>\n",
       "      <th>OverallCond</th>\n",
       "      <th>YearBuilt</th>\n",
       "      <th>YearRemodAdd</th>\n",
       "      <th>MasVnrArea</th>\n",
       "      <th>BsmtFinSF1</th>\n",
       "      <th>...</th>\n",
       "      <th>GarageType_Enc</th>\n",
       "      <th>GarageFinish_Enc</th>\n",
       "      <th>GarageQual_Enc</th>\n",
       "      <th>GarageCond_Enc</th>\n",
       "      <th>PavedDrive_Enc</th>\n",
       "      <th>PoolQC_Enc</th>\n",
       "      <th>Fence_Enc</th>\n",
       "      <th>MiscFeature_Enc</th>\n",
       "      <th>SaleType_Enc</th>\n",
       "      <th>SaleCondition_Enc</th>\n",
       "    </tr>\n",
       "  </thead>\n",
       "  <tbody>\n",
       "    <tr>\n",
       "      <th>1460</th>\n",
       "      <td>1461</td>\n",
       "      <td>20</td>\n",
       "      <td>80.0</td>\n",
       "      <td>11622</td>\n",
       "      <td>5</td>\n",
       "      <td>6</td>\n",
       "      <td>1961</td>\n",
       "      <td>1961</td>\n",
       "      <td>0.0</td>\n",
       "      <td>468.0</td>\n",
       "      <td>...</td>\n",
       "      <td>1.0</td>\n",
       "      <td>2.0</td>\n",
       "      <td>3.0</td>\n",
       "      <td>4.0</td>\n",
       "      <td>2.0</td>\n",
       "      <td>1.000000</td>\n",
       "      <td>2.0</td>\n",
       "      <td>2.000000</td>\n",
       "      <td>8.0</td>\n",
       "      <td>4.0</td>\n",
       "    </tr>\n",
       "    <tr>\n",
       "      <th>1461</th>\n",
       "      <td>1462</td>\n",
       "      <td>20</td>\n",
       "      <td>81.0</td>\n",
       "      <td>14267</td>\n",
       "      <td>6</td>\n",
       "      <td>6</td>\n",
       "      <td>1958</td>\n",
       "      <td>1958</td>\n",
       "      <td>108.0</td>\n",
       "      <td>923.0</td>\n",
       "      <td>...</td>\n",
       "      <td>1.0</td>\n",
       "      <td>2.0</td>\n",
       "      <td>3.0</td>\n",
       "      <td>4.0</td>\n",
       "      <td>2.0</td>\n",
       "      <td>1.166667</td>\n",
       "      <td>1.5</td>\n",
       "      <td>0.000000</td>\n",
       "      <td>8.0</td>\n",
       "      <td>4.0</td>\n",
       "    </tr>\n",
       "    <tr>\n",
       "      <th>1462</th>\n",
       "      <td>1463</td>\n",
       "      <td>60</td>\n",
       "      <td>74.0</td>\n",
       "      <td>13830</td>\n",
       "      <td>5</td>\n",
       "      <td>5</td>\n",
       "      <td>1997</td>\n",
       "      <td>1998</td>\n",
       "      <td>0.0</td>\n",
       "      <td>791.0</td>\n",
       "      <td>...</td>\n",
       "      <td>1.0</td>\n",
       "      <td>0.0</td>\n",
       "      <td>3.0</td>\n",
       "      <td>4.0</td>\n",
       "      <td>2.0</td>\n",
       "      <td>1.166667</td>\n",
       "      <td>2.0</td>\n",
       "      <td>1.833333</td>\n",
       "      <td>8.0</td>\n",
       "      <td>4.0</td>\n",
       "    </tr>\n",
       "    <tr>\n",
       "      <th>1463</th>\n",
       "      <td>1464</td>\n",
       "      <td>60</td>\n",
       "      <td>78.0</td>\n",
       "      <td>9978</td>\n",
       "      <td>6</td>\n",
       "      <td>6</td>\n",
       "      <td>1998</td>\n",
       "      <td>1998</td>\n",
       "      <td>20.0</td>\n",
       "      <td>602.0</td>\n",
       "      <td>...</td>\n",
       "      <td>1.0</td>\n",
       "      <td>0.0</td>\n",
       "      <td>3.0</td>\n",
       "      <td>4.0</td>\n",
       "      <td>2.0</td>\n",
       "      <td>1.000000</td>\n",
       "      <td>1.5</td>\n",
       "      <td>2.000000</td>\n",
       "      <td>8.0</td>\n",
       "      <td>4.0</td>\n",
       "    </tr>\n",
       "    <tr>\n",
       "      <th>1464</th>\n",
       "      <td>1465</td>\n",
       "      <td>120</td>\n",
       "      <td>43.0</td>\n",
       "      <td>5005</td>\n",
       "      <td>8</td>\n",
       "      <td>5</td>\n",
       "      <td>1992</td>\n",
       "      <td>1992</td>\n",
       "      <td>0.0</td>\n",
       "      <td>263.0</td>\n",
       "      <td>...</td>\n",
       "      <td>1.0</td>\n",
       "      <td>1.0</td>\n",
       "      <td>3.0</td>\n",
       "      <td>4.0</td>\n",
       "      <td>2.0</td>\n",
       "      <td>1.000000</td>\n",
       "      <td>1.5</td>\n",
       "      <td>2.000000</td>\n",
       "      <td>8.0</td>\n",
       "      <td>4.0</td>\n",
       "    </tr>\n",
       "  </tbody>\n",
       "</table>\n",
       "<p>5 rows × 80 columns</p>\n",
       "</div>"
      ],
      "text/plain": [
       "        Id  MSSubClass  LotFrontage  LotArea  OverallQual  OverallCond  \\\n",
       "1460  1461          20         80.0    11622            5            6   \n",
       "1461  1462          20         81.0    14267            6            6   \n",
       "1462  1463          60         74.0    13830            5            5   \n",
       "1463  1464          60         78.0     9978            6            6   \n",
       "1464  1465         120         43.0     5005            8            5   \n",
       "\n",
       "      YearBuilt  YearRemodAdd  MasVnrArea  BsmtFinSF1  ...  GarageType_Enc  \\\n",
       "1460       1961          1961         0.0       468.0  ...             1.0   \n",
       "1461       1958          1958       108.0       923.0  ...             1.0   \n",
       "1462       1997          1998         0.0       791.0  ...             1.0   \n",
       "1463       1998          1998        20.0       602.0  ...             1.0   \n",
       "1464       1992          1992         0.0       263.0  ...             1.0   \n",
       "\n",
       "      GarageFinish_Enc  GarageQual_Enc  GarageCond_Enc  PavedDrive_Enc  \\\n",
       "1460               2.0             3.0             4.0             2.0   \n",
       "1461               2.0             3.0             4.0             2.0   \n",
       "1462               0.0             3.0             4.0             2.0   \n",
       "1463               0.0             3.0             4.0             2.0   \n",
       "1464               1.0             3.0             4.0             2.0   \n",
       "\n",
       "      PoolQC_Enc  Fence_Enc  MiscFeature_Enc  SaleType_Enc  SaleCondition_Enc  \n",
       "1460    1.000000        2.0         2.000000           8.0                4.0  \n",
       "1461    1.166667        1.5         0.000000           8.0                4.0  \n",
       "1462    1.166667        2.0         1.833333           8.0                4.0  \n",
       "1463    1.000000        1.5         2.000000           8.0                4.0  \n",
       "1464    1.000000        1.5         2.000000           8.0                4.0  \n",
       "\n",
       "[5 rows x 80 columns]"
      ]
     },
     "execution_count": 11,
     "metadata": {},
     "output_type": "execute_result"
    }
   ],
   "source": [
    "test.head()"
   ]
  },
  {
   "cell_type": "markdown",
   "id": "eb08f4bb-966d-49a1-a238-3c0beb28d28c",
   "metadata": {},
   "source": [
    "#### t-Distributed Stochastic Neighbor Embedding for dimensity reduction"
   ]
  },
  {
   "cell_type": "code",
   "execution_count": 14,
   "id": "aa865fac-7794-4187-b6e5-4eba1881a28c",
   "metadata": {
    "scrolled": true
   },
   "outputs": [
    {
     "data": {
      "application/vnd.plotly.v1+json": {
       "config": {
        "plotlyServerURL": "https://plot.ly"
       },
       "data": [
        {
         "hovertemplate": "x=%{x}<br>y=%{y}<extra></extra>",
         "legendgroup": "",
         "line": {
          "color": "red",
          "dash": "solid",
          "width": 1
         },
         "marker": {
          "symbol": "circle"
         },
         "mode": "lines+markers",
         "name": "",
         "orientation": "v",
         "showlegend": false,
         "type": "scatter",
         "x": [
          5,
          15,
          25,
          35,
          45,
          55,
          65,
          75,
          85,
          95,
          105,
          115
         ],
         "xaxis": "x",
         "y": [
          0.3046977391520487,
          0.27252817184493006,
          0.2518180906793003,
          0.23446973147700317,
          1.713769700962641,
          1.4757479193333491,
          2.0786753447480657,
          2.2060833110937925,
          2.332014436649136,
          2.625013911766003,
          2.8794884535664846,
          3.1007003163300606
         ],
         "yaxis": "y"
        }
       ],
       "layout": {
        "autosize": true,
        "legend": {
         "tracegroupgap": 0
        },
        "margin": {
         "t": 60
        },
        "template": {
         "data": {
          "bar": [
           {
            "error_x": {
             "color": "#2a3f5f"
            },
            "error_y": {
             "color": "#2a3f5f"
            },
            "marker": {
             "line": {
              "color": "#E5ECF6",
              "width": 0.5
             },
             "pattern": {
              "fillmode": "overlay",
              "size": 10,
              "solidity": 0.2
             }
            },
            "type": "bar"
           }
          ],
          "barpolar": [
           {
            "marker": {
             "line": {
              "color": "#E5ECF6",
              "width": 0.5
             },
             "pattern": {
              "fillmode": "overlay",
              "size": 10,
              "solidity": 0.2
             }
            },
            "type": "barpolar"
           }
          ],
          "carpet": [
           {
            "aaxis": {
             "endlinecolor": "#2a3f5f",
             "gridcolor": "white",
             "linecolor": "white",
             "minorgridcolor": "white",
             "startlinecolor": "#2a3f5f"
            },
            "baxis": {
             "endlinecolor": "#2a3f5f",
             "gridcolor": "white",
             "linecolor": "white",
             "minorgridcolor": "white",
             "startlinecolor": "#2a3f5f"
            },
            "type": "carpet"
           }
          ],
          "choropleth": [
           {
            "colorbar": {
             "outlinewidth": 0,
             "ticks": ""
            },
            "type": "choropleth"
           }
          ],
          "contour": [
           {
            "colorbar": {
             "outlinewidth": 0,
             "ticks": ""
            },
            "colorscale": [
             [
              0,
              "#0d0887"
             ],
             [
              0.1111111111111111,
              "#46039f"
             ],
             [
              0.2222222222222222,
              "#7201a8"
             ],
             [
              0.3333333333333333,
              "#9c179e"
             ],
             [
              0.4444444444444444,
              "#bd3786"
             ],
             [
              0.5555555555555556,
              "#d8576b"
             ],
             [
              0.6666666666666666,
              "#ed7953"
             ],
             [
              0.7777777777777778,
              "#fb9f3a"
             ],
             [
              0.8888888888888888,
              "#fdca26"
             ],
             [
              1,
              "#f0f921"
             ]
            ],
            "type": "contour"
           }
          ],
          "contourcarpet": [
           {
            "colorbar": {
             "outlinewidth": 0,
             "ticks": ""
            },
            "type": "contourcarpet"
           }
          ],
          "heatmap": [
           {
            "colorbar": {
             "outlinewidth": 0,
             "ticks": ""
            },
            "colorscale": [
             [
              0,
              "#0d0887"
             ],
             [
              0.1111111111111111,
              "#46039f"
             ],
             [
              0.2222222222222222,
              "#7201a8"
             ],
             [
              0.3333333333333333,
              "#9c179e"
             ],
             [
              0.4444444444444444,
              "#bd3786"
             ],
             [
              0.5555555555555556,
              "#d8576b"
             ],
             [
              0.6666666666666666,
              "#ed7953"
             ],
             [
              0.7777777777777778,
              "#fb9f3a"
             ],
             [
              0.8888888888888888,
              "#fdca26"
             ],
             [
              1,
              "#f0f921"
             ]
            ],
            "type": "heatmap"
           }
          ],
          "heatmapgl": [
           {
            "colorbar": {
             "outlinewidth": 0,
             "ticks": ""
            },
            "colorscale": [
             [
              0,
              "#0d0887"
             ],
             [
              0.1111111111111111,
              "#46039f"
             ],
             [
              0.2222222222222222,
              "#7201a8"
             ],
             [
              0.3333333333333333,
              "#9c179e"
             ],
             [
              0.4444444444444444,
              "#bd3786"
             ],
             [
              0.5555555555555556,
              "#d8576b"
             ],
             [
              0.6666666666666666,
              "#ed7953"
             ],
             [
              0.7777777777777778,
              "#fb9f3a"
             ],
             [
              0.8888888888888888,
              "#fdca26"
             ],
             [
              1,
              "#f0f921"
             ]
            ],
            "type": "heatmapgl"
           }
          ],
          "histogram": [
           {
            "marker": {
             "pattern": {
              "fillmode": "overlay",
              "size": 10,
              "solidity": 0.2
             }
            },
            "type": "histogram"
           }
          ],
          "histogram2d": [
           {
            "colorbar": {
             "outlinewidth": 0,
             "ticks": ""
            },
            "colorscale": [
             [
              0,
              "#0d0887"
             ],
             [
              0.1111111111111111,
              "#46039f"
             ],
             [
              0.2222222222222222,
              "#7201a8"
             ],
             [
              0.3333333333333333,
              "#9c179e"
             ],
             [
              0.4444444444444444,
              "#bd3786"
             ],
             [
              0.5555555555555556,
              "#d8576b"
             ],
             [
              0.6666666666666666,
              "#ed7953"
             ],
             [
              0.7777777777777778,
              "#fb9f3a"
             ],
             [
              0.8888888888888888,
              "#fdca26"
             ],
             [
              1,
              "#f0f921"
             ]
            ],
            "type": "histogram2d"
           }
          ],
          "histogram2dcontour": [
           {
            "colorbar": {
             "outlinewidth": 0,
             "ticks": ""
            },
            "colorscale": [
             [
              0,
              "#0d0887"
             ],
             [
              0.1111111111111111,
              "#46039f"
             ],
             [
              0.2222222222222222,
              "#7201a8"
             ],
             [
              0.3333333333333333,
              "#9c179e"
             ],
             [
              0.4444444444444444,
              "#bd3786"
             ],
             [
              0.5555555555555556,
              "#d8576b"
             ],
             [
              0.6666666666666666,
              "#ed7953"
             ],
             [
              0.7777777777777778,
              "#fb9f3a"
             ],
             [
              0.8888888888888888,
              "#fdca26"
             ],
             [
              1,
              "#f0f921"
             ]
            ],
            "type": "histogram2dcontour"
           }
          ],
          "mesh3d": [
           {
            "colorbar": {
             "outlinewidth": 0,
             "ticks": ""
            },
            "type": "mesh3d"
           }
          ],
          "parcoords": [
           {
            "line": {
             "colorbar": {
              "outlinewidth": 0,
              "ticks": ""
             }
            },
            "type": "parcoords"
           }
          ],
          "pie": [
           {
            "automargin": true,
            "type": "pie"
           }
          ],
          "scatter": [
           {
            "fillpattern": {
             "fillmode": "overlay",
             "size": 10,
             "solidity": 0.2
            },
            "type": "scatter"
           }
          ],
          "scatter3d": [
           {
            "line": {
             "colorbar": {
              "outlinewidth": 0,
              "ticks": ""
             }
            },
            "marker": {
             "colorbar": {
              "outlinewidth": 0,
              "ticks": ""
             }
            },
            "type": "scatter3d"
           }
          ],
          "scattercarpet": [
           {
            "marker": {
             "colorbar": {
              "outlinewidth": 0,
              "ticks": ""
             }
            },
            "type": "scattercarpet"
           }
          ],
          "scattergeo": [
           {
            "marker": {
             "colorbar": {
              "outlinewidth": 0,
              "ticks": ""
             }
            },
            "type": "scattergeo"
           }
          ],
          "scattergl": [
           {
            "marker": {
             "colorbar": {
              "outlinewidth": 0,
              "ticks": ""
             }
            },
            "type": "scattergl"
           }
          ],
          "scattermapbox": [
           {
            "marker": {
             "colorbar": {
              "outlinewidth": 0,
              "ticks": ""
             }
            },
            "type": "scattermapbox"
           }
          ],
          "scatterpolar": [
           {
            "marker": {
             "colorbar": {
              "outlinewidth": 0,
              "ticks": ""
             }
            },
            "type": "scatterpolar"
           }
          ],
          "scatterpolargl": [
           {
            "marker": {
             "colorbar": {
              "outlinewidth": 0,
              "ticks": ""
             }
            },
            "type": "scatterpolargl"
           }
          ],
          "scatterternary": [
           {
            "marker": {
             "colorbar": {
              "outlinewidth": 0,
              "ticks": ""
             }
            },
            "type": "scatterternary"
           }
          ],
          "surface": [
           {
            "colorbar": {
             "outlinewidth": 0,
             "ticks": ""
            },
            "colorscale": [
             [
              0,
              "#0d0887"
             ],
             [
              0.1111111111111111,
              "#46039f"
             ],
             [
              0.2222222222222222,
              "#7201a8"
             ],
             [
              0.3333333333333333,
              "#9c179e"
             ],
             [
              0.4444444444444444,
              "#bd3786"
             ],
             [
              0.5555555555555556,
              "#d8576b"
             ],
             [
              0.6666666666666666,
              "#ed7953"
             ],
             [
              0.7777777777777778,
              "#fb9f3a"
             ],
             [
              0.8888888888888888,
              "#fdca26"
             ],
             [
              1,
              "#f0f921"
             ]
            ],
            "type": "surface"
           }
          ],
          "table": [
           {
            "cells": {
             "fill": {
              "color": "#EBF0F8"
             },
             "line": {
              "color": "white"
             }
            },
            "header": {
             "fill": {
              "color": "#C8D4E3"
             },
             "line": {
              "color": "white"
             }
            },
            "type": "table"
           }
          ]
         },
         "layout": {
          "annotationdefaults": {
           "arrowcolor": "#2a3f5f",
           "arrowhead": 0,
           "arrowwidth": 1
          },
          "autotypenumbers": "strict",
          "coloraxis": {
           "colorbar": {
            "outlinewidth": 0,
            "ticks": ""
           }
          },
          "colorscale": {
           "diverging": [
            [
             0,
             "#8e0152"
            ],
            [
             0.1,
             "#c51b7d"
            ],
            [
             0.2,
             "#de77ae"
            ],
            [
             0.3,
             "#f1b6da"
            ],
            [
             0.4,
             "#fde0ef"
            ],
            [
             0.5,
             "#f7f7f7"
            ],
            [
             0.6,
             "#e6f5d0"
            ],
            [
             0.7,
             "#b8e186"
            ],
            [
             0.8,
             "#7fbc41"
            ],
            [
             0.9,
             "#4d9221"
            ],
            [
             1,
             "#276419"
            ]
           ],
           "sequential": [
            [
             0,
             "#0d0887"
            ],
            [
             0.1111111111111111,
             "#46039f"
            ],
            [
             0.2222222222222222,
             "#7201a8"
            ],
            [
             0.3333333333333333,
             "#9c179e"
            ],
            [
             0.4444444444444444,
             "#bd3786"
            ],
            [
             0.5555555555555556,
             "#d8576b"
            ],
            [
             0.6666666666666666,
             "#ed7953"
            ],
            [
             0.7777777777777778,
             "#fb9f3a"
            ],
            [
             0.8888888888888888,
             "#fdca26"
            ],
            [
             1,
             "#f0f921"
            ]
           ],
           "sequentialminus": [
            [
             0,
             "#0d0887"
            ],
            [
             0.1111111111111111,
             "#46039f"
            ],
            [
             0.2222222222222222,
             "#7201a8"
            ],
            [
             0.3333333333333333,
             "#9c179e"
            ],
            [
             0.4444444444444444,
             "#bd3786"
            ],
            [
             0.5555555555555556,
             "#d8576b"
            ],
            [
             0.6666666666666666,
             "#ed7953"
            ],
            [
             0.7777777777777778,
             "#fb9f3a"
            ],
            [
             0.8888888888888888,
             "#fdca26"
            ],
            [
             1,
             "#f0f921"
            ]
           ]
          },
          "colorway": [
           "#636efa",
           "#EF553B",
           "#00cc96",
           "#ab63fa",
           "#FFA15A",
           "#19d3f3",
           "#FF6692",
           "#B6E880",
           "#FF97FF",
           "#FECB52"
          ],
          "font": {
           "color": "#2a3f5f"
          },
          "geo": {
           "bgcolor": "white",
           "lakecolor": "white",
           "landcolor": "#E5ECF6",
           "showlakes": true,
           "showland": true,
           "subunitcolor": "white"
          },
          "hoverlabel": {
           "align": "left"
          },
          "hovermode": "closest",
          "mapbox": {
           "style": "light"
          },
          "paper_bgcolor": "white",
          "plot_bgcolor": "#E5ECF6",
          "polar": {
           "angularaxis": {
            "gridcolor": "white",
            "linecolor": "white",
            "ticks": ""
           },
           "bgcolor": "#E5ECF6",
           "radialaxis": {
            "gridcolor": "white",
            "linecolor": "white",
            "ticks": ""
           }
          },
          "scene": {
           "xaxis": {
            "backgroundcolor": "#E5ECF6",
            "gridcolor": "white",
            "gridwidth": 2,
            "linecolor": "white",
            "showbackground": true,
            "ticks": "",
            "zerolinecolor": "white"
           },
           "yaxis": {
            "backgroundcolor": "#E5ECF6",
            "gridcolor": "white",
            "gridwidth": 2,
            "linecolor": "white",
            "showbackground": true,
            "ticks": "",
            "zerolinecolor": "white"
           },
           "zaxis": {
            "backgroundcolor": "#E5ECF6",
            "gridcolor": "white",
            "gridwidth": 2,
            "linecolor": "white",
            "showbackground": true,
            "ticks": "",
            "zerolinecolor": "white"
           }
          },
          "shapedefaults": {
           "line": {
            "color": "#2a3f5f"
           }
          },
          "ternary": {
           "aaxis": {
            "gridcolor": "white",
            "linecolor": "white",
            "ticks": ""
           },
           "baxis": {
            "gridcolor": "white",
            "linecolor": "white",
            "ticks": ""
           },
           "bgcolor": "#E5ECF6",
           "caxis": {
            "gridcolor": "white",
            "linecolor": "white",
            "ticks": ""
           }
          },
          "title": {
           "x": 0.05
          },
          "xaxis": {
           "automargin": true,
           "gridcolor": "white",
           "linecolor": "white",
           "ticks": "",
           "title": {
            "standoff": 15
           },
           "zerolinecolor": "white",
           "zerolinewidth": 2
          },
          "yaxis": {
           "automargin": true,
           "gridcolor": "white",
           "linecolor": "white",
           "ticks": "",
           "title": {
            "standoff": 15
           },
           "zerolinecolor": "white",
           "zerolinewidth": 2
          }
         }
        },
        "xaxis": {
         "anchor": "y",
         "autorange": true,
         "domain": [
          0,
          1
         ],
         "range": [
          -1.6583094555873945,
          121.6583094555874
         ],
         "title": {
          "text": "Perplexity Values"
         },
         "type": "linear"
        },
        "yaxis": {
         "anchor": "x",
         "autorange": true,
         "domain": [
          0,
          1
         ],
         "range": [
          0.012543741311215273,
          3.3226263064958483
         ],
         "title": {
          "text": "KL Divergence"
         },
         "type": "linear"
        }
       }
      },
      "image/png": "[encoded data removed]",
      "text/html": [
       "<div>                            <div id=\"dcf262c5-4b48-4ed2-ad6a-323a71f51d05\" class=\"plotly-graph-div\" style=\"height:525px; width:100%;\"></div>            <script type=\"text/javascript\">                require([\"plotly\"], function(Plotly) {                    window.PLOTLYENV=window.PLOTLYENV || {};                                    if (document.getElementById(\"dcf262c5-4b48-4ed2-ad6a-323a71f51d05\")) {                    Plotly.newPlot(                        \"dcf262c5-4b48-4ed2-ad6a-323a71f51d05\",                        [{\"hovertemplate\":\"x=%{x}\\u003cbr\\u003ey=%{y}\\u003cextra\\u003e\\u003c\\u002fextra\\u003e\",\"legendgroup\":\"\",\"line\":{\"color\":\"red\",\"dash\":\"solid\",\"width\":1},\"marker\":{\"symbol\":\"circle\"},\"mode\":\"lines+markers\",\"name\":\"\",\"orientation\":\"v\",\"showlegend\":false,\"x\":[5,15,25,35,45,55,65,75,85,95,105,115],\"xaxis\":\"x\",\"y\":[0.3046977391520487,0.27252817184493006,0.2518180906793003,0.23446973147700317,1.713769700962641,1.4757479193333491,2.0786753447480657,2.2060833110937925,2.332014436649136,2.625013911766003,2.8794884535664846,3.1007003163300606],\"yaxis\":\"y\",\"type\":\"scatter\"}],                        {\"template\":{\"data\":{\"histogram2dcontour\":[{\"type\":\"histogram2dcontour\",\"colorbar\":{\"outlinewidth\":0,\"ticks\":\"\"},\"colorscale\":[[0.0,\"#0d0887\"],[0.1111111111111111,\"#46039f\"],[0.2222222222222222,\"#7201a8\"],[0.3333333333333333,\"#9c179e\"],[0.4444444444444444,\"#bd3786\"],[0.5555555555555556,\"#d8576b\"],[0.6666666666666666,\"#ed7953\"],[0.7777777777777778,\"#fb9f3a\"],[0.8888888888888888,\"#fdca26\"],[1.0,\"#f0f921\"]]}],\"choropleth\":[{\"type\":\"choropleth\",\"colorbar\":{\"outlinewidth\":0,\"ticks\":\"\"}}],\"histogram2d\":[{\"type\":\"histogram2d\",\"colorbar\":{\"outlinewidth\":0,\"ticks\":\"\"},\"colorscale\":[[0.0,\"#0d0887\"],[0.1111111111111111,\"#46039f\"],[0.2222222222222222,\"#7201a8\"],[0.3333333333333333,\"#9c179e\"],[0.4444444444444444,\"#bd3786\"],[0.5555555555555556,\"#d8576b\"],[0.6666666666666666,\"#ed7953\"],[0.7777777777777778,\"#fb9f3a\"],[0.8888888888888888,\"#fdca26\"],[1.0,\"#f0f921\"]]}],\"heatmap\":[{\"type\":\"heatmap\",\"colorbar\":{\"outlinewidth\":0,\"ticks\":\"\"},\"colorscale\":[[0.0,\"#0d0887\"],[0.1111111111111111,\"#46039f\"],[0.2222222222222222,\"#7201a8\"],[0.3333333333333333,\"#9c179e\"],[0.4444444444444444,\"#bd3786\"],[0.5555555555555556,\"#d8576b\"],[0.6666666666666666,\"#ed7953\"],[0.7777777777777778,\"#fb9f3a\"],[0.8888888888888888,\"#fdca26\"],[1.0,\"#f0f921\"]]}],\"heatmapgl\":[{\"type\":\"heatmapgl\",\"colorbar\":{\"outlinewidth\":0,\"ticks\":\"\"},\"colorscale\":[[0.0,\"#0d0887\"],[0.1111111111111111,\"#46039f\"],[0.2222222222222222,\"#7201a8\"],[0.3333333333333333,\"#9c179e\"],[0.4444444444444444,\"#bd3786\"],[0.5555555555555556,\"#d8576b\"],[0.6666666666666666,\"#ed7953\"],[0.7777777777777778,\"#fb9f3a\"],[0.8888888888888888,\"#fdca26\"],[1.0,\"#f0f921\"]]}],\"contourcarpet\":[{\"type\":\"contourcarpet\",\"colorbar\":{\"outlinewidth\":0,\"ticks\":\"\"}}],\"contour\":[{\"type\":\"contour\",\"colorbar\":{\"outlinewidth\":0,\"ticks\":\"\"},\"colorscale\":[[0.0,\"#0d0887\"],[0.1111111111111111,\"#46039f\"],[0.2222222222222222,\"#7201a8\"],[0.3333333333333333,\"#9c179e\"],[0.4444444444444444,\"#bd3786\"],[0.5555555555555556,\"#d8576b\"],[0.6666666666666666,\"#ed7953\"],[0.7777777777777778,\"#fb9f3a\"],[0.8888888888888888,\"#fdca26\"],[1.0,\"#f0f921\"]]}],\"surface\":[{\"type\":\"surface\",\"colorbar\":{\"outlinewidth\":0,\"ticks\":\"\"},\"colorscale\":[[0.0,\"#0d0887\"],[0.1111111111111111,\"#46039f\"],[0.2222222222222222,\"#7201a8\"],[0.3333333333333333,\"#9c179e\"],[0.4444444444444444,\"#bd3786\"],[0.5555555555555556,\"#d8576b\"],[0.6666666666666666,\"#ed7953\"],[0.7777777777777778,\"#fb9f3a\"],[0.8888888888888888,\"#fdca26\"],[1.0,\"#f0f921\"]]}],\"mesh3d\":[{\"type\":\"mesh3d\",\"colorbar\":{\"outlinewidth\":0,\"ticks\":\"\"}}],\"scatter\":[{\"fillpattern\":{\"fillmode\":\"overlay\",\"size\":10,\"solidity\":0.2},\"type\":\"scatter\"}],\"parcoords\":[{\"type\":\"parcoords\",\"line\":{\"colorbar\":{\"outlinewidth\":0,\"ticks\":\"\"}}}],\"scatterpolargl\":[{\"type\":\"scatterpolargl\",\"marker\":{\"colorbar\":{\"outlinewidth\":0,\"ticks\":\"\"}}}],\"bar\":[{\"error_x\":{\"color\":\"#2a3f5f\"},\"error_y\":{\"color\":\"#2a3f5f\"},\"marker\":{\"line\":{\"color\":\"#E5ECF6\",\"width\":0.5},\"pattern\":{\"fillmode\":\"overlay\",\"size\":10,\"solidity\":0.2}},\"type\":\"bar\"}],\"scattergeo\":[{\"type\":\"scattergeo\",\"marker\":{\"colorbar\":{\"outlinewidth\":0,\"ticks\":\"\"}}}],\"scatterpolar\":[{\"type\":\"scatterpolar\",\"marker\":{\"colorbar\":{\"outlinewidth\":0,\"ticks\":\"\"}}}],\"histogram\":[{\"marker\":{\"pattern\":{\"fillmode\":\"overlay\",\"size\":10,\"solidity\":0.2}},\"type\":\"histogram\"}],\"scattergl\":[{\"type\":\"scattergl\",\"marker\":{\"colorbar\":{\"outlinewidth\":0,\"ticks\":\"\"}}}],\"scatter3d\":[{\"type\":\"scatter3d\",\"line\":{\"colorbar\":{\"outlinewidth\":0,\"ticks\":\"\"}},\"marker\":{\"colorbar\":{\"outlinewidth\":0,\"ticks\":\"\"}}}],\"scattermapbox\":[{\"type\":\"scattermapbox\",\"marker\":{\"colorbar\":{\"outlinewidth\":0,\"ticks\":\"\"}}}],\"scatterternary\":[{\"type\":\"scatterternary\",\"marker\":{\"colorbar\":{\"outlinewidth\":0,\"ticks\":\"\"}}}],\"scattercarpet\":[{\"type\":\"scattercarpet\",\"marker\":{\"colorbar\":{\"outlinewidth\":0,\"ticks\":\"\"}}}],\"carpet\":[{\"aaxis\":{\"endlinecolor\":\"#2a3f5f\",\"gridcolor\":\"white\",\"linecolor\":\"white\",\"minorgridcolor\":\"white\",\"startlinecolor\":\"#2a3f5f\"},\"baxis\":{\"endlinecolor\":\"#2a3f5f\",\"gridcolor\":\"white\",\"linecolor\":\"white\",\"minorgridcolor\":\"white\",\"startlinecolor\":\"#2a3f5f\"},\"type\":\"carpet\"}],\"table\":[{\"cells\":{\"fill\":{\"color\":\"#EBF0F8\"},\"line\":{\"color\":\"white\"}},\"header\":{\"fill\":{\"color\":\"#C8D4E3\"},\"line\":{\"color\":\"white\"}},\"type\":\"table\"}],\"barpolar\":[{\"marker\":{\"line\":{\"color\":\"#E5ECF6\",\"width\":0.5},\"pattern\":{\"fillmode\":\"overlay\",\"size\":10,\"solidity\":0.2}},\"type\":\"barpolar\"}],\"pie\":[{\"automargin\":true,\"type\":\"pie\"}]},\"layout\":{\"autotypenumbers\":\"strict\",\"colorway\":[\"#636efa\",\"#EF553B\",\"#00cc96\",\"#ab63fa\",\"#FFA15A\",\"#19d3f3\",\"#FF6692\",\"#B6E880\",\"#FF97FF\",\"#FECB52\"],\"font\":{\"color\":\"#2a3f5f\"},\"hovermode\":\"closest\",\"hoverlabel\":{\"align\":\"left\"},\"paper_bgcolor\":\"white\",\"plot_bgcolor\":\"#E5ECF6\",\"polar\":{\"bgcolor\":\"#E5ECF6\",\"angularaxis\":{\"gridcolor\":\"white\",\"linecolor\":\"white\",\"ticks\":\"\"},\"radialaxis\":{\"gridcolor\":\"white\",\"linecolor\":\"white\",\"ticks\":\"\"}},\"ternary\":{\"bgcolor\":\"#E5ECF6\",\"aaxis\":{\"gridcolor\":\"white\",\"linecolor\":\"white\",\"ticks\":\"\"},\"baxis\":{\"gridcolor\":\"white\",\"linecolor\":\"white\",\"ticks\":\"\"},\"caxis\":{\"gridcolor\":\"white\",\"linecolor\":\"white\",\"ticks\":\"\"}},\"coloraxis\":{\"colorbar\":{\"outlinewidth\":0,\"ticks\":\"\"}},\"colorscale\":{\"sequential\":[[0.0,\"#0d0887\"],[0.1111111111111111,\"#46039f\"],[0.2222222222222222,\"#7201a8\"],[0.3333333333333333,\"#9c179e\"],[0.4444444444444444,\"#bd3786\"],[0.5555555555555556,\"#d8576b\"],[0.6666666666666666,\"#ed7953\"],[0.7777777777777778,\"#fb9f3a\"],[0.8888888888888888,\"#fdca26\"],[1.0,\"#f0f921\"]],\"sequentialminus\":[[0.0,\"#0d0887\"],[0.1111111111111111,\"#46039f\"],[0.2222222222222222,\"#7201a8\"],[0.3333333333333333,\"#9c179e\"],[0.4444444444444444,\"#bd3786\"],[0.5555555555555556,\"#d8576b\"],[0.6666666666666666,\"#ed7953\"],[0.7777777777777778,\"#fb9f3a\"],[0.8888888888888888,\"#fdca26\"],[1.0,\"#f0f921\"]],\"diverging\":[[0,\"#8e0152\"],[0.1,\"#c51b7d\"],[0.2,\"#de77ae\"],[0.3,\"#f1b6da\"],[0.4,\"#fde0ef\"],[0.5,\"#f7f7f7\"],[0.6,\"#e6f5d0\"],[0.7,\"#b8e186\"],[0.8,\"#7fbc41\"],[0.9,\"#4d9221\"],[1,\"#276419\"]]},\"xaxis\":{\"gridcolor\":\"white\",\"linecolor\":\"white\",\"ticks\":\"\",\"title\":{\"standoff\":15},\"zerolinecolor\":\"white\",\"automargin\":true,\"zerolinewidth\":2},\"yaxis\":{\"gridcolor\":\"white\",\"linecolor\":\"white\",\"ticks\":\"\",\"title\":{\"standoff\":15},\"zerolinecolor\":\"white\",\"automargin\":true,\"zerolinewidth\":2},\"scene\":{\"xaxis\":{\"backgroundcolor\":\"#E5ECF6\",\"gridcolor\":\"white\",\"linecolor\":\"white\",\"showbackground\":true,\"ticks\":\"\",\"zerolinecolor\":\"white\",\"gridwidth\":2},\"yaxis\":{\"backgroundcolor\":\"#E5ECF6\",\"gridcolor\":\"white\",\"linecolor\":\"white\",\"showbackground\":true,\"ticks\":\"\",\"zerolinecolor\":\"white\",\"gridwidth\":2},\"zaxis\":{\"backgroundcolor\":\"#E5ECF6\",\"gridcolor\":\"white\",\"linecolor\":\"white\",\"showbackground\":true,\"ticks\":\"\",\"zerolinecolor\":\"white\",\"gridwidth\":2}},\"shapedefaults\":{\"line\":{\"color\":\"#2a3f5f\"}},\"annotationdefaults\":{\"arrowcolor\":\"#2a3f5f\",\"arrowhead\":0,\"arrowwidth\":1},\"geo\":{\"bgcolor\":\"white\",\"landcolor\":\"#E5ECF6\",\"subunitcolor\":\"white\",\"showland\":true,\"showlakes\":true,\"lakecolor\":\"white\"},\"title\":{\"x\":0.05},\"mapbox\":{\"style\":\"light\"}}},\"xaxis\":{\"anchor\":\"y\",\"domain\":[0.0,1.0],\"title\":{\"text\":\"Perplexity Values\"}},\"yaxis\":{\"anchor\":\"x\",\"domain\":[0.0,1.0],\"title\":{\"text\":\"KL Divergence\"}},\"legend\":{\"tracegroupgap\":0},\"margin\":{\"t\":60}},                        {\"responsive\": true}                    ).then(function(){\n",
       "                            \n",
       "var gd = document.getElementById('dcf262c5-4b48-4ed2-ad6a-323a71f51d05');\n",
       "var x = new MutationObserver(function (mutations, observer) {{\n",
       "        var display = window.getComputedStyle(gd).display;\n",
       "        if (!display || display === 'none') {{\n",
       "            console.log([gd, 'removed!']);\n",
       "            Plotly.purge(gd);\n",
       "            observer.disconnect();\n",
       "        }}\n",
       "}});\n",
       "\n",
       "// Listen for the removal of the full notebook cells\n",
       "var notebookContainer = gd.closest('#notebook-container');\n",
       "if (notebookContainer) {{\n",
       "    x.observe(notebookContainer, {childList: true});\n",
       "}}\n",
       "\n",
       "// Listen for the clearing of the current output cell\n",
       "var outputEl = gd.closest('.output');\n",
       "if (outputEl) {{\n",
       "    x.observe(outputEl, {childList: true});\n",
       "}}\n",
       "\n",
       "                        })                };                });            </script>        </div>"
      ]
     },
     "metadata": {},
     "output_type": "display_data"
    }
   ],
   "source": [
    "from sklearn.manifold import TSNE\n",
    "import plotly.express as px\n",
    "# Define perplexity values\n",
    "perplexity = np.arange(25, 44, 3)\n",
    "divergence = []\n",
    "\n",
    "# Drop 'Id' and 'SalePrice' columns once\n",
    "#desired_columns = train.drop(['Id', 'SalePrice'], axis=1)\n",
    "\n",
    "desired_columns = [col for col in train.columns if col not in ['Id', 'SalePrice']]\n",
    "train_filtered = train[desired_columns]\n",
    "\n",
    "for i in perplexity:\n",
    "  # Create TSNE model for each perplexity\n",
    "  model = TSNE(n_components=45, init=\"pca\", method='exact', perplexity=i, n_iter=5000, n_jobs=-1)\n",
    "\n",
    "  # Fit the model on the training data (already dropped columns)\n",
    "  reduced = model.fit_transform(train_filtered)\n",
    "\n",
    "  # Append the KL divergence to the list\n",
    "  divergence.append(model.kl_divergence_)\n",
    "\n",
    "# Create the Plotly Express line chart\n",
    "fig = px.line(x=perplexity, y=divergence, markers=True)\n",
    "fig.update_layout(xaxis_title=\"Perplexity Values\", yaxis_title=\"KL Divergence\")\n",
    "fig.update_traces(line_color=\"red\", line_width=1)\n",
    "fig.show()\n"
   ]
  },
  {
   "attachments": {
    "1babebff-b006-4fb2-a35f-c8d7568583c1.png": {
     "image/png": "[encoded data removed]"
    }
   },
   "cell_type": "markdown",
   "id": "4ad5237d-fcf7-4ae8-b0ff-500a12c9dd30",
   "metadata": {},
   "source": [
    "![image.png](attachment:1babebff-b006-4fb2-a35f-c8d7568583c1.png)"
   ]
  },
  {
   "cell_type": "markdown",
   "id": "9d4fd9c4-894b-4bd8-803b-68a5ec48c840",
   "metadata": {},
   "source": [
    "## Wizualizacja"
   ]
  },
  {
   "cell_type": "code",
   "execution_count": 13,
   "id": "54d2dd4c-b745-45c0-89e2-b4fdb3a523aa",
   "metadata": {},
   "outputs": [
    {
     "ename": "NameError",
     "evalue": "name 'tsne_components' is not defined",
     "output_type": "error",
     "traceback": [
      "\u001b[1;31m---------------------------------------------------------------------------\u001b[0m",
      "\u001b[1;31mNameError\u001b[0m                                 Traceback (most recent call last)",
      "Cell \u001b[1;32mIn[13], line 1\u001b[0m\n\u001b[1;32m----> 1\u001b[0m correlation_matrix \u001b[38;5;241m=\u001b[39m tsne_components\u001b[38;5;241m.\u001b[39mcorr()\n\u001b[0;32m      2\u001b[0m \u001b[38;5;66;03m# Plot a heatmap of the correlation matrix\u001b[39;00m\n\u001b[0;32m      3\u001b[0m plt\u001b[38;5;241m.\u001b[39mfigure(figsize\u001b[38;5;241m=\u001b[39m(\u001b[38;5;241m32\u001b[39m, \u001b[38;5;241m24\u001b[39m))\n",
      "\u001b[1;31mNameError\u001b[0m: name 'tsne_components' is not defined"
     ]
    }
   ],
   "source": [
    "correlation_matrix = tsne_components.corr()\n",
    "# Plot a heatmap of the correlation matrix\n",
    "plt.figure(figsize=(32, 24))\n",
    "sns.heatmap(correlation_matrix, annot=True,  linewidths=0.5)\n",
    "plt.show()"
   ]
  },
  {
   "cell_type": "code",
   "execution_count": null,
   "id": "2850ddd0-6505-407b-b377-0387d59e445d",
   "metadata": {},
   "outputs": [],
   "source": [
    "plt.hist(train['SalePrice'], edgecolor='black', bins=20)"
   ]
  },
  {
   "cell_type": "code",
   "execution_count": null,
   "id": "92ab5973-c11c-4714-9ee8-198fd111ba3d",
   "metadata": {},
   "outputs": [],
   "source": [
    "train.head()"
   ]
  },
  {
   "cell_type": "code",
   "execution_count": null,
   "id": "b4673fdb-4fe5-40cf-ac3d-7c5d7a8b9fda",
   "metadata": {},
   "outputs": [],
   "source": []
  }
 ],
 "metadata": {
  "kernelspec": {
   "display_name": "Python 3 (ipykernel)",
   "language": "python",
   "name": "python3"
  },
  "language_info": {
   "codemirror_mode": {
    "name": "ipython",
    "version": 3
   },
   "file_extension": ".py",
   "mimetype": "text/x-python",
   "name": "python",
   "nbconvert_exporter": "python",
   "pygments_lexer": "ipython3",
   "version": "3.11.8"
  }
 },
 "nbformat": 4,
 "nbformat_minor": 5
}
