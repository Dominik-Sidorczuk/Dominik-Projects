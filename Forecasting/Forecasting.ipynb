{
 "cells": [
  {
   "cell_type": "code",
   "execution_count": 1,
   "id": "528b018a-b49b-4033-8b60-2465aa3f3420",
   "metadata": {},
   "outputs": [],
   "source": [
    "import os\n",
    "import numpy as np\n",
    "import pandas as pd\n",
    "from datetime import datetime, timedelta,date\n",
    "\n",
    "# \n",
    "import matplotlib.pyplot as plt\n",
    "import seaborn as sns\n",
    "sns.set_theme(style=\"whitegrid\")\n",
    "sns.set_palette('icefire_r', 2)\n",
    "import warnings\n",
    "\n",
    "%matplotlib inline\n",
    "#Przetwarzanie\n",
    "\n",
    "# Baza danych gównych do nauki modelu\n",
    "train = pd.read_csv(\"train.csv\") \n",
    "# Baza danych Titanica do sprawdzenia modelu\n",
    "test = pd.read_csv(\"test.csv\")"
   ]
  },
  {
   "cell_type": "code",
   "execution_count": 2,
   "id": "2587595f-4bf6-431e-94bb-d61499e6f3bd",
   "metadata": {},
   "outputs": [
    {
     "data": {
      "text/html": [
       "<div>\n",
       "<style scoped>\n",
       "    .dataframe tbody tr th:only-of-type {\n",
       "        vertical-align: middle;\n",
       "    }\n",
       "\n",
       "    .dataframe tbody tr th {\n",
       "        vertical-align: top;\n",
       "    }\n",
       "\n",
       "    .dataframe thead th {\n",
       "        text-align: right;\n",
       "    }\n",
       "</style>\n",
       "<table border=\"1\" class=\"dataframe\">\n",
       "  <thead>\n",
       "    <tr style=\"text-align: right;\">\n",
       "      <th></th>\n",
       "      <th>id</th>\n",
       "      <th>date</th>\n",
       "      <th>country</th>\n",
       "      <th>store</th>\n",
       "      <th>product</th>\n",
       "      <th>num_sold</th>\n",
       "    </tr>\n",
       "  </thead>\n",
       "  <tbody>\n",
       "    <tr>\n",
       "      <th>0</th>\n",
       "      <td>0</td>\n",
       "      <td>2017-01-01</td>\n",
       "      <td>Argentina</td>\n",
       "      <td>Kaggle Learn</td>\n",
       "      <td>Using LLMs to Improve Your Coding</td>\n",
       "      <td>63</td>\n",
       "    </tr>\n",
       "    <tr>\n",
       "      <th>1</th>\n",
       "      <td>1</td>\n",
       "      <td>2017-01-01</td>\n",
       "      <td>Argentina</td>\n",
       "      <td>Kaggle Learn</td>\n",
       "      <td>Using LLMs to Train More LLMs</td>\n",
       "      <td>66</td>\n",
       "    </tr>\n",
       "    <tr>\n",
       "      <th>2</th>\n",
       "      <td>2</td>\n",
       "      <td>2017-01-01</td>\n",
       "      <td>Argentina</td>\n",
       "      <td>Kaggle Learn</td>\n",
       "      <td>Using LLMs to Win Friends and Influence People</td>\n",
       "      <td>9</td>\n",
       "    </tr>\n",
       "    <tr>\n",
       "      <th>3</th>\n",
       "      <td>3</td>\n",
       "      <td>2017-01-01</td>\n",
       "      <td>Argentina</td>\n",
       "      <td>Kaggle Learn</td>\n",
       "      <td>Using LLMs to Win More Kaggle Competitions</td>\n",
       "      <td>59</td>\n",
       "    </tr>\n",
       "    <tr>\n",
       "      <th>4</th>\n",
       "      <td>4</td>\n",
       "      <td>2017-01-01</td>\n",
       "      <td>Argentina</td>\n",
       "      <td>Kaggle Learn</td>\n",
       "      <td>Using LLMs to Write Better</td>\n",
       "      <td>49</td>\n",
       "    </tr>\n",
       "  </tbody>\n",
       "</table>\n",
       "</div>"
      ],
      "text/plain": [
       "   id        date    country         store  \\\n",
       "0   0  2017-01-01  Argentina  Kaggle Learn   \n",
       "1   1  2017-01-01  Argentina  Kaggle Learn   \n",
       "2   2  2017-01-01  Argentina  Kaggle Learn   \n",
       "3   3  2017-01-01  Argentina  Kaggle Learn   \n",
       "4   4  2017-01-01  Argentina  Kaggle Learn   \n",
       "\n",
       "                                          product  num_sold  \n",
       "0               Using LLMs to Improve Your Coding        63  \n",
       "1                   Using LLMs to Train More LLMs        66  \n",
       "2  Using LLMs to Win Friends and Influence People         9  \n",
       "3      Using LLMs to Win More Kaggle Competitions        59  \n",
       "4                      Using LLMs to Write Better        49  "
      ]
     },
     "execution_count": 2,
     "metadata": {},
     "output_type": "execute_result"
    }
   ],
   "source": [
    "train.head()"
   ]
  },
  {
   "cell_type": "code",
   "execution_count": 3,
   "id": "363ab997-3237-4e0d-909a-db173f2c1d3d",
   "metadata": {},
   "outputs": [
    {
     "data": {
      "text/html": [
       "<div>\n",
       "<style scoped>\n",
       "    .dataframe tbody tr th:only-of-type {\n",
       "        vertical-align: middle;\n",
       "    }\n",
       "\n",
       "    .dataframe tbody tr th {\n",
       "        vertical-align: top;\n",
       "    }\n",
       "\n",
       "    .dataframe thead th {\n",
       "        text-align: right;\n",
       "    }\n",
       "</style>\n",
       "<table border=\"1\" class=\"dataframe\">\n",
       "  <thead>\n",
       "    <tr style=\"text-align: right;\">\n",
       "      <th></th>\n",
       "      <th>id</th>\n",
       "      <th>date</th>\n",
       "      <th>country</th>\n",
       "      <th>store</th>\n",
       "      <th>product</th>\n",
       "    </tr>\n",
       "  </thead>\n",
       "  <tbody>\n",
       "    <tr>\n",
       "      <th>0</th>\n",
       "      <td>136950</td>\n",
       "      <td>2022-01-01</td>\n",
       "      <td>Argentina</td>\n",
       "      <td>Kaggle Learn</td>\n",
       "      <td>Using LLMs to Improve Your Coding</td>\n",
       "    </tr>\n",
       "    <tr>\n",
       "      <th>1</th>\n",
       "      <td>136951</td>\n",
       "      <td>2022-01-01</td>\n",
       "      <td>Argentina</td>\n",
       "      <td>Kaggle Learn</td>\n",
       "      <td>Using LLMs to Train More LLMs</td>\n",
       "    </tr>\n",
       "    <tr>\n",
       "      <th>2</th>\n",
       "      <td>136952</td>\n",
       "      <td>2022-01-01</td>\n",
       "      <td>Argentina</td>\n",
       "      <td>Kaggle Learn</td>\n",
       "      <td>Using LLMs to Win Friends and Influence People</td>\n",
       "    </tr>\n",
       "    <tr>\n",
       "      <th>3</th>\n",
       "      <td>136953</td>\n",
       "      <td>2022-01-01</td>\n",
       "      <td>Argentina</td>\n",
       "      <td>Kaggle Learn</td>\n",
       "      <td>Using LLMs to Win More Kaggle Competitions</td>\n",
       "    </tr>\n",
       "    <tr>\n",
       "      <th>4</th>\n",
       "      <td>136954</td>\n",
       "      <td>2022-01-01</td>\n",
       "      <td>Argentina</td>\n",
       "      <td>Kaggle Learn</td>\n",
       "      <td>Using LLMs to Write Better</td>\n",
       "    </tr>\n",
       "  </tbody>\n",
       "</table>\n",
       "</div>"
      ],
      "text/plain": [
       "       id        date    country         store  \\\n",
       "0  136950  2022-01-01  Argentina  Kaggle Learn   \n",
       "1  136951  2022-01-01  Argentina  Kaggle Learn   \n",
       "2  136952  2022-01-01  Argentina  Kaggle Learn   \n",
       "3  136953  2022-01-01  Argentina  Kaggle Learn   \n",
       "4  136954  2022-01-01  Argentina  Kaggle Learn   \n",
       "\n",
       "                                          product  \n",
       "0               Using LLMs to Improve Your Coding  \n",
       "1                   Using LLMs to Train More LLMs  \n",
       "2  Using LLMs to Win Friends and Influence People  \n",
       "3      Using LLMs to Win More Kaggle Competitions  \n",
       "4                      Using LLMs to Write Better  "
      ]
     },
     "execution_count": 3,
     "metadata": {},
     "output_type": "execute_result"
    }
   ],
   "source": [
    "test.head()"
   ]
  },
  {
   "cell_type": "code",
   "execution_count": 4,
   "id": "23ddccef-88c9-40e4-ba9c-58e5660b7435",
   "metadata": {},
   "outputs": [
    {
     "name": "stdout",
     "output_type": "stream",
     "text": [
      "id          0\n",
      "date        0\n",
      "country     0\n",
      "store       0\n",
      "product     0\n",
      "num_sold    0\n",
      "dtype: int64\n"
     ]
    }
   ],
   "source": [
    "print(pd.isnull(train).sum())"
   ]
  },
  {
   "cell_type": "code",
   "execution_count": 5,
   "id": "8e2069e7-38bd-4dcf-a7de-54225a9805f6",
   "metadata": {},
   "outputs": [
    {
     "name": "stdout",
     "output_type": "stream",
     "text": [
      "id         0\n",
      "date       0\n",
      "country    0\n",
      "store      0\n",
      "product    0\n",
      "dtype: int64\n"
     ]
    }
   ],
   "source": [
    "print(pd.isnull(test).sum())"
   ]
  },
  {
   "cell_type": "code",
   "execution_count": 6,
   "id": "b16b9301-440d-42fb-80b9-47f45aa45db1",
   "metadata": {},
   "outputs": [
    {
     "name": "stdout",
     "output_type": "stream",
     "text": [
      "Unique value counts and percentages for column country:\n",
      "country\n",
      "Argentina    20.0\n",
      "Canada       20.0\n",
      "Estonia      20.0\n",
      "Japan        20.0\n",
      "Spain        20.0\n",
      "Name: country, dtype: float64\n",
      "Unique value counts and percentages for column store:\n",
      "store\n",
      "Kagglazon       33.333333\n",
      "Kaggle Learn    33.333333\n",
      "Kaggle Store    33.333333\n",
      "Name: store, dtype: float64\n",
      "Unique value counts and percentages for column product:\n",
      "product\n",
      "Using LLMs to Improve Your Coding                 20.0\n",
      "Using LLMs to Train More LLMs                     20.0\n",
      "Using LLMs to Win Friends and Influence People    20.0\n",
      "Using LLMs to Win More Kaggle Competitions        20.0\n",
      "Using LLMs to Write Better                        20.0\n",
      "Name: product, dtype: float64\n"
     ]
    }
   ],
   "source": [
    "cols= ['country', 'store', 'product' ]\n",
    "for col in cols:\n",
    "  df_grouped = train.groupby(col)[col].count()\n",
    "  df_grouped = df_grouped / train[col].count() * 100\n",
    "  print(f\"Unique value counts and percentages for column {col}:\")\n",
    "  print(df_grouped)"
   ]
  },
  {
   "cell_type": "code",
   "execution_count": 7,
   "id": "17cc6213-efa5-42ef-8d91-f8bc71cf7587",
   "metadata": {},
   "outputs": [
    {
     "name": "stdout",
     "output_type": "stream",
     "text": [
      "Unique value counts and percentages for column country:\n",
      "country\n",
      "Argentina    20.0\n",
      "Canada       20.0\n",
      "Estonia      20.0\n",
      "Japan        20.0\n",
      "Spain        20.0\n",
      "Name: country, dtype: float64\n",
      "Unique value counts and percentages for column store:\n",
      "store\n",
      "Kagglazon       33.333333\n",
      "Kaggle Learn    33.333333\n",
      "Kaggle Store    33.333333\n",
      "Name: store, dtype: float64\n",
      "Unique value counts and percentages for column product:\n",
      "product\n",
      "Using LLMs to Improve Your Coding                 20.0\n",
      "Using LLMs to Train More LLMs                     20.0\n",
      "Using LLMs to Win Friends and Influence People    20.0\n",
      "Using LLMs to Win More Kaggle Competitions        20.0\n",
      "Using LLMs to Write Better                        20.0\n",
      "Name: product, dtype: float64\n"
     ]
    }
   ],
   "source": [
    "cols= ['country', 'store', 'product' ]\n",
    "for col in cols:\n",
    "  df_grouped = test.groupby(col)[col].count()\n",
    "  df_grouped = df_grouped / test[col].count() * 100\n",
    "  print(f\"Unique value counts and percentages for column {col}:\")\n",
    "  print(df_grouped)"
   ]
  },
  {
   "cell_type": "code",
   "execution_count": 8,
   "id": "eafd7c33-d628-4284-9b6f-dbc8d48b7690",
   "metadata": {
    "scrolled": true
   },
   "outputs": [],
   "source": [
    "train['date'] = pd.to_datetime(train['date'])\n",
    "test['date'] = pd.to_datetime(test['date'])"
   ]
  },
  {
   "cell_type": "code",
   "execution_count": 9,
   "id": "44713c93-eb9a-4489-a5b9-6f4a36ce4e7d",
   "metadata": {},
   "outputs": [
    {
     "name": "stdout",
     "output_type": "stream",
     "text": [
      "Kolumna: country\n",
      "  Wartość zakodowana: 0 -> Wartość początkowa: Argentina\n",
      "  Wartość zakodowana: 1 -> Wartość początkowa: Canada\n",
      "  Wartość zakodowana: 2 -> Wartość początkowa: Estonia\n",
      "  Wartość zakodowana: 3 -> Wartość początkowa: Japan\n",
      "  Wartość zakodowana: 4 -> Wartość początkowa: Spain\n",
      "Kolumna: store\n",
      "  Wartość zakodowana: 0 -> Wartość początkowa: Kagglazon\n",
      "  Wartość zakodowana: 1 -> Wartość początkowa: Kaggle Learn\n",
      "  Wartość zakodowana: 2 -> Wartość początkowa: Kaggle Store\n",
      "Kolumna: product\n",
      "  Wartość zakodowana: 0 -> Wartość początkowa: Using LLMs to Improve Your Coding\n",
      "  Wartość zakodowana: 1 -> Wartość początkowa: Using LLMs to Train More LLMs\n",
      "  Wartość zakodowana: 2 -> Wartość początkowa: Using LLMs to Win Friends and Influence People\n",
      "  Wartość zakodowana: 3 -> Wartość początkowa: Using LLMs to Win More Kaggle Competitions\n",
      "  Wartość zakodowana: 4 -> Wartość początkowa: Using LLMs to Write Better\n"
     ]
    }
   ],
   "source": [
    "from sklearn.preprocessing import OrdinalEncoder\n",
    "enc = OrdinalEncoder()\n",
    "Enc_col = ['country', 'store', 'product' ]\n",
    "\n",
    "# Fit the encoder and create the mapping for each column separately\n",
    "categories = {}\n",
    "for col in Enc_col:\n",
    "    for df in [train, test]:\n",
    "        df[col + '_Enc'] = enc.fit_transform(df[col].values.reshape(-1, 1))\n",
    "    categories[col] = enc.categories_[0]  # Store categories for the current column\n",
    "\n",
    "# Print the mapping\n",
    "for col in Enc_col:\n",
    "    print(f\"Kolumna: {col}\")\n",
    "    for i, category in enumerate(categories[col]):\n",
    "        print(f\"  Wartość zakodowana: {i} -> Wartość początkowa: {category}\")"
   ]
  },
  {
   "cell_type": "code",
   "execution_count": 10,
   "id": "be7de321-f677-425b-93e3-f6766a83e9c2",
   "metadata": {},
   "outputs": [],
   "source": [
    "categorical_features = ['id','country', 'store', 'product' ]\n",
    "for df in [train, test]:\n",
    "     df.drop(columns=categorical_features, inplace=True)"
   ]
  },
  {
   "cell_type": "code",
   "execution_count": 11,
   "id": "6d2285d0-b382-4352-b10b-d9387a1ec99d",
   "metadata": {},
   "outputs": [
    {
     "data": {
      "text/html": [
       "<div>\n",
       "<style scoped>\n",
       "    .dataframe tbody tr th:only-of-type {\n",
       "        vertical-align: middle;\n",
       "    }\n",
       "\n",
       "    .dataframe tbody tr th {\n",
       "        vertical-align: top;\n",
       "    }\n",
       "\n",
       "    .dataframe thead th {\n",
       "        text-align: right;\n",
       "    }\n",
       "</style>\n",
       "<table border=\"1\" class=\"dataframe\">\n",
       "  <thead>\n",
       "    <tr style=\"text-align: right;\">\n",
       "      <th></th>\n",
       "      <th>date</th>\n",
       "      <th>num_sold</th>\n",
       "      <th>country_Enc</th>\n",
       "      <th>store_Enc</th>\n",
       "      <th>product_Enc</th>\n",
       "    </tr>\n",
       "  </thead>\n",
       "  <tbody>\n",
       "    <tr>\n",
       "      <th>136945</th>\n",
       "      <td>2021-12-31</td>\n",
       "      <td>700</td>\n",
       "      <td>4.0</td>\n",
       "      <td>0.0</td>\n",
       "      <td>0.0</td>\n",
       "    </tr>\n",
       "    <tr>\n",
       "      <th>136946</th>\n",
       "      <td>2021-12-31</td>\n",
       "      <td>752</td>\n",
       "      <td>4.0</td>\n",
       "      <td>0.0</td>\n",
       "      <td>1.0</td>\n",
       "    </tr>\n",
       "    <tr>\n",
       "      <th>136947</th>\n",
       "      <td>2021-12-31</td>\n",
       "      <td>111</td>\n",
       "      <td>4.0</td>\n",
       "      <td>0.0</td>\n",
       "      <td>2.0</td>\n",
       "    </tr>\n",
       "    <tr>\n",
       "      <th>136948</th>\n",
       "      <td>2021-12-31</td>\n",
       "      <td>641</td>\n",
       "      <td>4.0</td>\n",
       "      <td>0.0</td>\n",
       "      <td>3.0</td>\n",
       "    </tr>\n",
       "    <tr>\n",
       "      <th>136949</th>\n",
       "      <td>2021-12-31</td>\n",
       "      <td>539</td>\n",
       "      <td>4.0</td>\n",
       "      <td>0.0</td>\n",
       "      <td>4.0</td>\n",
       "    </tr>\n",
       "  </tbody>\n",
       "</table>\n",
       "</div>"
      ],
      "text/plain": [
       "             date  num_sold  country_Enc  store_Enc  product_Enc\n",
       "136945 2021-12-31       700          4.0        0.0          0.0\n",
       "136946 2021-12-31       752          4.0        0.0          1.0\n",
       "136947 2021-12-31       111          4.0        0.0          2.0\n",
       "136948 2021-12-31       641          4.0        0.0          3.0\n",
       "136949 2021-12-31       539          4.0        0.0          4.0"
      ]
     },
     "execution_count": 11,
     "metadata": {},
     "output_type": "execute_result"
    }
   ],
   "source": [
    "train.tail()"
   ]
  },
  {
   "cell_type": "code",
   "execution_count": 12,
   "id": "9218662e-a626-40b4-b8eb-605148b39390",
   "metadata": {},
   "outputs": [
    {
     "data": {
      "text/html": [
       "<div>\n",
       "<style scoped>\n",
       "    .dataframe tbody tr th:only-of-type {\n",
       "        vertical-align: middle;\n",
       "    }\n",
       "\n",
       "    .dataframe tbody tr th {\n",
       "        vertical-align: top;\n",
       "    }\n",
       "\n",
       "    .dataframe thead th {\n",
       "        text-align: right;\n",
       "    }\n",
       "</style>\n",
       "<table border=\"1\" class=\"dataframe\">\n",
       "  <thead>\n",
       "    <tr style=\"text-align: right;\">\n",
       "      <th></th>\n",
       "      <th>date</th>\n",
       "      <th>country_Enc</th>\n",
       "      <th>store_Enc</th>\n",
       "      <th>product_Enc</th>\n",
       "    </tr>\n",
       "  </thead>\n",
       "  <tbody>\n",
       "    <tr>\n",
       "      <th>0</th>\n",
       "      <td>2022-01-01</td>\n",
       "      <td>0.0</td>\n",
       "      <td>1.0</td>\n",
       "      <td>0.0</td>\n",
       "    </tr>\n",
       "    <tr>\n",
       "      <th>1</th>\n",
       "      <td>2022-01-01</td>\n",
       "      <td>0.0</td>\n",
       "      <td>1.0</td>\n",
       "      <td>1.0</td>\n",
       "    </tr>\n",
       "    <tr>\n",
       "      <th>2</th>\n",
       "      <td>2022-01-01</td>\n",
       "      <td>0.0</td>\n",
       "      <td>1.0</td>\n",
       "      <td>2.0</td>\n",
       "    </tr>\n",
       "    <tr>\n",
       "      <th>3</th>\n",
       "      <td>2022-01-01</td>\n",
       "      <td>0.0</td>\n",
       "      <td>1.0</td>\n",
       "      <td>3.0</td>\n",
       "    </tr>\n",
       "    <tr>\n",
       "      <th>4</th>\n",
       "      <td>2022-01-01</td>\n",
       "      <td>0.0</td>\n",
       "      <td>1.0</td>\n",
       "      <td>4.0</td>\n",
       "    </tr>\n",
       "  </tbody>\n",
       "</table>\n",
       "</div>"
      ],
      "text/plain": [
       "        date  country_Enc  store_Enc  product_Enc\n",
       "0 2022-01-01          0.0        1.0          0.0\n",
       "1 2022-01-01          0.0        1.0          1.0\n",
       "2 2022-01-01          0.0        1.0          2.0\n",
       "3 2022-01-01          0.0        1.0          3.0\n",
       "4 2022-01-01          0.0        1.0          4.0"
      ]
     },
     "execution_count": 12,
     "metadata": {},
     "output_type": "execute_result"
    }
   ],
   "source": [
    "test.head()"
   ]
  },
  {
   "cell_type": "code",
   "execution_count": 13,
   "id": "90bf1e53-2fe4-43aa-a527-1098557bbb5a",
   "metadata": {},
   "outputs": [
    {
     "name": "stdout",
     "output_type": "stream",
     "text": [
      "<class 'pandas.core.frame.DataFrame'>\n",
      "RangeIndex: 136950 entries, 0 to 136949\n",
      "Data columns (total 5 columns):\n",
      " #   Column       Non-Null Count   Dtype         \n",
      "---  ------       --------------   -----         \n",
      " 0   date         136950 non-null  datetime64[ns]\n",
      " 1   num_sold     136950 non-null  int64         \n",
      " 2   country_Enc  136950 non-null  float64       \n",
      " 3   store_Enc    136950 non-null  float64       \n",
      " 4   product_Enc  136950 non-null  float64       \n",
      "dtypes: datetime64[ns](1), float64(3), int64(1)\n",
      "memory usage: 5.2 MB\n"
     ]
    }
   ],
   "source": [
    "train.info()"
   ]
  },
  {
   "cell_type": "code",
   "execution_count": 14,
   "id": "41d44ff8-bf61-41b1-a2da-1145ef7df514",
   "metadata": {},
   "outputs": [],
   "source": [
    "train[['country_Enc', 'store_Enc', 'product_Enc']] = train[['country_Enc', 'store_Enc', 'product_Enc']].astype(np.int8)\n",
    "test[['country_Enc', 'store_Enc', 'product_Enc']] = test[['country_Enc', 'store_Enc', 'product_Enc']].astype(np.int8)\n",
    "train['num_sold'] = train['num_sold'].astype(np.int16)"
   ]
  },
  {
   "cell_type": "code",
   "execution_count": 15,
   "id": "ccc82574-4a32-4323-9c49-6fe0fdc66b9c",
   "metadata": {
    "scrolled": true
   },
   "outputs": [
    {
     "name": "stdout",
     "output_type": "stream",
     "text": [
      "<class 'pandas.core.frame.DataFrame'>\n",
      "RangeIndex: 136950 entries, 0 to 136949\n",
      "Data columns (total 5 columns):\n",
      " #   Column       Non-Null Count   Dtype         \n",
      "---  ------       --------------   -----         \n",
      " 0   date         136950 non-null  datetime64[ns]\n",
      " 1   num_sold     136950 non-null  int16         \n",
      " 2   country_Enc  136950 non-null  int8          \n",
      " 3   store_Enc    136950 non-null  int8          \n",
      " 4   product_Enc  136950 non-null  int8          \n",
      "dtypes: datetime64[ns](1), int16(1), int8(3)\n",
      "memory usage: 1.7 MB\n"
     ]
    }
   ],
   "source": [
    "train.info()"
   ]
  },
  {
   "cell_type": "code",
   "execution_count": 16,
   "id": "599228c5-95b3-4654-a04f-44ae529c6de6",
   "metadata": {},
   "outputs": [
    {
     "name": "stdout",
     "output_type": "stream",
     "text": [
      "<class 'pandas.core.frame.DataFrame'>\n",
      "RangeIndex: 27375 entries, 0 to 27374\n",
      "Data columns (total 4 columns):\n",
      " #   Column       Non-Null Count  Dtype         \n",
      "---  ------       --------------  -----         \n",
      " 0   date         27375 non-null  datetime64[ns]\n",
      " 1   country_Enc  27375 non-null  int8          \n",
      " 2   store_Enc    27375 non-null  int8          \n",
      " 3   product_Enc  27375 non-null  int8          \n",
      "dtypes: datetime64[ns](1), int8(3)\n",
      "memory usage: 294.2 KB\n"
     ]
    }
   ],
   "source": [
    "test.info()"
   ]
  },
  {
   "cell_type": "code",
   "execution_count": 17,
   "id": "4b66d617-7783-4022-8b53-5d54983a504a",
   "metadata": {},
   "outputs": [
    {
     "name": "stdout",
     "output_type": "stream",
     "text": [
      "False\n"
     ]
    }
   ],
   "source": [
    "print(train['date'].isna().any()) \n",
    "train = train.set_index('date')\n",
    "test = test.set_index('date')"
   ]
  },
  {
   "cell_type": "code",
   "execution_count": 18,
   "id": "abce5293-67e1-4209-85fa-29131e9c466e",
   "metadata": {},
   "outputs": [],
   "source": [
    "import torch\n",
    "import torch.nn as nn\n",
    "import torch.optim as optim\n",
    "\n",
    "from torch.utils.data import Dataset, DataLoader\n",
    "from torch.optim import Adam  # Import Adam optimizer\n",
    "\n",
    "from tqdm import tqdm\n"
   ]
  },
  {
   "cell_type": "code",
   "execution_count": 19,
   "id": "b2c73b39-1605-4e01-a473-b20526db4c05",
   "metadata": {},
   "outputs": [],
   "source": [
    "features = [\"country_Enc\", \"store_Enc\", \"product_Enc\"]\n",
    "target   = 'num_sold'\n",
    "\n",
    "# Przygotuj dane dla modelu\n",
    "X_train = train[features]\n",
    "y_train = train[target]\n",
    "\n",
    "X_test = test[features]\n",
    "\n",
    "# Konwertuj dane na tensory PyTorch\n",
    "X_tensor_train = torch.from_numpy(X_train.to_numpy()).half()\n",
    "y_tensor_train = torch.from_numpy(y_train.to_numpy()).half().reshape(-1, 1)\n",
    "\n",
    "# Konwertuj dane na tensory PyTorch\n",
    "X_tensor_test = torch.from_numpy(X_test.to_numpy()).half()\n",
    "\n",
    "class MyDataset(torch.utils.data.Dataset):\n",
    "  def __init__(self, X_tensor, y_tensor):\n",
    "    if y_tensor is not None:\n",
    "      # Handle missing labels (e.g., assign a specific value)\n",
    "      self.y_tensor = [label if label is not None else -1 for label in y_tensor]\n",
    "    self.X_tensor = X_tensor\n",
    "    self.y_tensor = y_tensor\n",
    "\n",
    "  def __getitem__(self, idx):\n",
    "    X = self.X_tensor[idx]\n",
    "    y = self.y_tensor[idx]\n",
    "    return X, y\n",
    "\n",
    "  def __len__(self):\n",
    "    return len(self.X_tensor)\n",
    "\n",
    "train_dataset = MyDataset(X_tensor_train, y_tensor_train)\n",
    "test_dataset = MyDataset(X_tensor_test, None) \n",
    "\n",
    "# Create a DataLoader for batch training\n",
    "batch_size = 9130  # Adjust batch size as needed\n",
    "train_loader = DataLoader(train_dataset, batch_size=batch_size, shuffle=True)\n",
    "test_loader  = DataLoader(test_dataset, batch_size=batch_size, shuffle=False)"
   ]
  },
  {
   "cell_type": "code",
   "execution_count": 21,
   "id": "75545c02-479d-4878-9051-f2f360cddf7e",
   "metadata": {},
   "outputs": [
    {
     "name": "stderr",
     "output_type": "stream",
     "text": [
      "Epoch 1/10 Loss: 5992.5591: 100%|██████████| 30/30 [02:35<00:00,  5.19s/it]  \n",
      "Epoch 2/10 Loss: 5972.0659: 100%|██████████| 30/30 [02:50<00:00,  5.67s/it] \n",
      "Epoch 3/10 Loss: 87.8060: 100%|██████████| 30/30 [02:49<00:00,  5.65s/it]    \n",
      "Epoch 4/10 Loss: 112236.8203: 100%|██████████| 30/30 [02:50<00:00,  5.67s/it]\n",
      "Epoch 5/10 Loss: 3756.7944: 100%|██████████| 30/30 [02:49<00:00,  5.65s/it]  \n",
      "Epoch 6/10 Loss: 7415.1870: 100%|██████████| 30/30 [02:50<00:00,  5.68s/it]  \n",
      "Epoch 7/10 Loss: 12968.6211: 100%|██████████| 30/30 [02:50<00:00,  5.68s/it] \n",
      "Epoch 8/10 Loss: 229550.0000: 100%|██████████| 30/30 [02:52<00:00,  5.77s/it]\n",
      "Epoch 9/10 Loss: 2076.6853: 100%|██████████| 30/30 [02:49<00:00,  5.66s/it]  \n",
      "Epoch 10/10 Loss: 17033.0020: 100%|██████████| 30/30 [02:49<00:00,  5.65s/it] \n"
     ]
    }
   ],
   "source": [
    "class LSTMModel(nn.Module):\n",
    "  def __init__(self, input_dim, hidden_dim, output_dim):\n",
    "    super(LSTMModel, self).__init__()\n",
    "    self.lstm = nn.LSTM(input_dim, hidden_dim, num_layers, dropout=0.2)  # Add dropout for regularization\n",
    "    self.fc = nn.Linear(hidden_dim, output_dim)\n",
    "    self.silu = nn.SiLU()  # Add SiLU activation layer\n",
    "\n",
    "  def forward(self, x):\n",
    "    # Pass the input through LSTM layers\n",
    "    x, (hidden, cell) = self.lstm(x)\n",
    "    # Use the output from the last hidden layer\n",
    "    x = hidden[-1]\n",
    "    # Apply SiLU activation before linear layer\n",
    "    x = self.silu(x)\n",
    "    # Apply linear layer for prediction\n",
    "    x = self.fc(x)\n",
    "    return x\n",
    "\n",
    "# Hyperparameters (adjust as needed)\n",
    "input_dim = len(features)  # Number of features\n",
    "hidden_dim = 64\n",
    "num_layers = 2\n",
    "output_dim = 1  # Assuming predicting single value (num_sold)\n",
    "\n",
    "model = LSTMModel(input_dim, hidden_dim, output_dim).half()\n",
    "criterion = nn.MSELoss()\n",
    "optimizer = torch.optim.Adam(model.parameters(), lr=0.005)  # Set learning rate\n",
    "\n",
    "# Training loop\n",
    "num_epochs = 25\n",
    "best_loss = float('inf')\n",
    "epochs_no_improvement = 0\n",
    "\n",
    "for epoch in range(num_epochs):\n",
    "  model.train()  # Set model to training mode\n",
    "  pbar = tqdm(train_loader)  # Wrap train_loader with tqdm\n",
    "  for batch_x, batch_y in pbar:\n",
    "    optimizer.zero_grad()\n",
    "    for x, y in zip(batch_x, batch_y):\n",
    "      x = x.unsqueeze(0)\n",
    "      y_pred = model(x)\n",
    "      loss = criterion(y_pred, y)\n",
    "      loss.backward()\n",
    "      optimizer.step()\n",
    "    # Update progress bar with relevant metric (e.g., loss)\n",
    "    pbar.set_description(f\"Epoch {epoch+1}/{num_epochs} Loss: {loss.item():.4f}\")"
   ]
  },
  {
   "attachments": {
    "4c261c12-99cc-41ea-ae94-412d27117009.png": {
     "image/png": "[encoded data removed]"
    }
   },
   "cell_type": "markdown",
   "id": "3899c107-0607-4553-b3f7-b98fb9e593bb",
   "metadata": {},
   "source": [
    "![image.png](attachment:4c261c12-99cc-41ea-ae94-412d27117009.png)"
   ]
  },
  {
   "cell_type": "code",
   "execution_count": null,
   "id": "3e1a83db-61a9-4c07-b0cb-2b6800feafa7",
   "metadata": {},
   "outputs": [],
   "source": []
  },
  {
   "cell_type": "code",
   "execution_count": null,
   "id": "4dbfd210-a45b-4a76-89e1-efc2bf216885",
   "metadata": {},
   "outputs": [],
   "source": []
  },
  {
   "cell_type": "code",
   "execution_count": null,
   "id": "5433e1c5-7982-4f18-9f8b-e3e7c2fe00e0",
   "metadata": {},
   "outputs": [],
   "source": []
  },
  {
   "cell_type": "code",
   "execution_count": null,
   "id": "5b6e52b3-9203-49de-b690-5e51d9ff1018",
   "metadata": {},
   "outputs": [],
   "source": []
  },
  {
   "cell_type": "code",
   "execution_count": null,
   "id": "bdcacc67-4d89-484e-ac98-ce72228a7ce3",
   "metadata": {},
   "outputs": [],
   "source": []
  }
 ],
 "metadata": {
  "kernelspec": {
   "display_name": "Python 3 (ipykernel)",
   "language": "python",
   "name": "python3"
  },
  "language_info": {
   "codemirror_mode": {
    "name": "ipython",
    "version": 3
   },
   "file_extension": ".py",
   "mimetype": "text/x-python",
   "name": "python",
   "nbconvert_exporter": "python",
   "pygments_lexer": "ipython3",
   "version": "3.11.9"
  }
 },
 "nbformat": 4,
 "nbformat_minor": 5
}
