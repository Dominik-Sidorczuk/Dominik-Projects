{
 "cells": [
  {
   "cell_type": "code",
   "execution_count": 37,
   "id": "528b018a-b49b-4033-8b60-2465aa3f3420",
   "metadata": {},
   "outputs": [],
   "source": [
    "import os\n",
    "import numpy as np\n",
    "import pandas as pd\n",
    "from datetime import datetime, timedelta,date\n",
    "from numba import jit\n",
    "\n",
    "# \n",
    "import matplotlib.pyplot as plt\n",
    "import seaborn as sns\n",
    "sns.set_theme(style=\"whitegrid\")\n",
    "sns.set_palette('icefire_r', 2)\n",
    "import plotly.express as px\n",
    "import plotly.io as pio\n",
    "from plotly.io import show\n",
    "import plotly.graph_objs as go\n",
    "\n",
    "import warnings\n",
    "\n",
    "%matplotlib inline\n",
    "#Przetwarzanie\n",
    "\n",
    "# Baza danych gównych do nauki modelu\n",
    "train = pd.read_csv(\"train.csv\") \n",
    "# Baza danych Titanica do sprawdzenia modelu\n",
    "test = pd.read_csv(\"test.csv\")"
   ]
  },
  {
   "cell_type": "code",
   "execution_count": 38,
   "id": "23ddccef-88c9-40e4-ba9c-58e5660b7435",
   "metadata": {},
   "outputs": [],
   "source": [
    "# print(pd.isnull(train).sum())"
   ]
  },
  {
   "cell_type": "code",
   "execution_count": 39,
   "id": "8e2069e7-38bd-4dcf-a7de-54225a9805f6",
   "metadata": {},
   "outputs": [],
   "source": [
    "# print(pd.isnull(test).sum())"
   ]
  },
  {
   "cell_type": "code",
   "execution_count": 40,
   "id": "b16b9301-440d-42fb-80b9-47f45aa45db1",
   "metadata": {},
   "outputs": [],
   "source": [
    "# cols= ['country', 'store', 'product' ]\n",
    "# for col in cols:\n",
    "#   df_grouped = train.groupby(col)[col].count()\n",
    "#   df_grouped = df_grouped / train[col].count() * 100\n",
    "#   print(f\"Unique value counts and percentages for column {col}:\")\n",
    "#   print(df_grouped)"
   ]
  },
  {
   "cell_type": "code",
   "execution_count": 41,
   "id": "17cc6213-efa5-42ef-8d91-f8bc71cf7587",
   "metadata": {},
   "outputs": [],
   "source": [
    "# cols= ['country', 'store', 'product' ]\n",
    "# for col in cols:\n",
    "#   df_grouped = test.groupby(col)[col].count()\n",
    "#   df_grouped = df_grouped / test[col].count() * 100\n",
    "#   print(f\"Unique value counts and percentages for column {col}:\")\n",
    "#   print(df_grouped)"
   ]
  },
  {
   "cell_type": "code",
   "execution_count": 42,
   "id": "ba216df9-ab59-4920-bcff-f5b527c6b778",
   "metadata": {},
   "outputs": [
    {
     "name": "stdout",
     "output_type": "stream",
     "text": [
      "<class 'pandas.core.frame.DataFrame'>\n",
      "RangeIndex: 136950 entries, 0 to 136949\n",
      "Data columns (total 6 columns):\n",
      " #   Column    Non-Null Count   Dtype \n",
      "---  ------    --------------   ----- \n",
      " 0   id        136950 non-null  int64 \n",
      " 1   date      136950 non-null  object\n",
      " 2   country   136950 non-null  object\n",
      " 3   store     136950 non-null  object\n",
      " 4   product   136950 non-null  object\n",
      " 5   num_sold  136950 non-null  int64 \n",
      "dtypes: int64(2), object(4)\n",
      "memory usage: 6.3+ MB\n"
     ]
    }
   ],
   "source": [
    "train.info()"
   ]
  },
  {
   "cell_type": "code",
   "execution_count": 43,
   "id": "edc41d18-b536-4e3a-b552-f2cb45436a32",
   "metadata": {},
   "outputs": [
    {
     "data": {
      "text/plain": [
       "RangeIndex(start=0, stop=136950, step=1)"
      ]
     },
     "execution_count": 43,
     "metadata": {},
     "output_type": "execute_result"
    }
   ],
   "source": [
    "train.index"
   ]
  },
  {
   "cell_type": "code",
   "execution_count": 44,
   "id": "eafd7c33-d628-4284-9b6f-dbc8d48b7690",
   "metadata": {
    "scrolled": true
   },
   "outputs": [],
   "source": [
    "train['date'] = pd.to_datetime(train['date'])\n",
    "test['date'] = pd.to_datetime(test['date'])\n",
    "\n",
    "train['year'] = pd.to_datetime(train['date']).dt.year\n",
    "train['month'] = pd.to_datetime(train['date']).dt.month\n",
    "train['day'] = pd.to_datetime(train['date']).dt.day\n",
    "test['year'] = pd.to_datetime(test['date']).dt.year\n",
    "test['month'] = pd.to_datetime(test['date']).dt.month\n",
    "test['day'] = pd.to_datetime(test['date']).dt.day"
   ]
  },
  {
   "cell_type": "code",
   "execution_count": 45,
   "id": "28b8fb36-c0c2-4ef5-818d-a7f9a426b5f6",
   "metadata": {},
   "outputs": [],
   "source": [
    "train = train.set_index('date') \n",
    "test = test.set_index('date')\n",
    "\n",
    "train.index = train.index.to_period(freq='D')"
   ]
  },
  {
   "cell_type": "code",
   "execution_count": 46,
   "id": "445bd005-dfcd-4ab1-b574-c2e682aaf00b",
   "metadata": {},
   "outputs": [
    {
     "data": {
      "text/plain": [
       "PeriodIndex(['2017-01-01', '2017-01-01', '2017-01-01', '2017-01-01',\n",
       "             '2017-01-01', '2017-01-01', '2017-01-01', '2017-01-01',\n",
       "             '2017-01-01', '2017-01-01',\n",
       "             ...\n",
       "             '2021-12-31', '2021-12-31', '2021-12-31', '2021-12-31',\n",
       "             '2021-12-31', '2021-12-31', '2021-12-31', '2021-12-31',\n",
       "             '2021-12-31', '2021-12-31'],\n",
       "            dtype='period[D]', name='date', length=136950)"
      ]
     },
     "execution_count": 46,
     "metadata": {},
     "output_type": "execute_result"
    }
   ],
   "source": [
    "train.index"
   ]
  },
  {
   "cell_type": "code",
   "execution_count": 47,
   "id": "8198c121-5ce3-4c84-9548-0f7246a18ee6",
   "metadata": {},
   "outputs": [],
   "source": [
    "# fig = sns.lineplot(train, x=train.index.to_timestamp() , y='num_sold', hue=train['country']=='Spain')\n",
    "# fig.show()"
   ]
  },
  {
   "cell_type": "code",
   "execution_count": 48,
   "id": "44713c93-eb9a-4489-a5b9-6f4a36ce4e7d",
   "metadata": {},
   "outputs": [
    {
     "name": "stdout",
     "output_type": "stream",
     "text": [
      "Kolumna: country\n",
      "  Wartość zakodowana: 0 -> Wartość początkowa: Argentina\n",
      "  Wartość zakodowana: 1 -> Wartość początkowa: Canada\n",
      "  Wartość zakodowana: 2 -> Wartość początkowa: Estonia\n",
      "  Wartość zakodowana: 3 -> Wartość początkowa: Japan\n",
      "  Wartość zakodowana: 4 -> Wartość początkowa: Spain\n",
      "Kolumna: store\n",
      "  Wartość zakodowana: 0 -> Wartość początkowa: Kagglazon\n",
      "  Wartość zakodowana: 1 -> Wartość początkowa: Kaggle Learn\n",
      "  Wartość zakodowana: 2 -> Wartość początkowa: Kaggle Store\n",
      "Kolumna: product\n",
      "  Wartość zakodowana: 0 -> Wartość początkowa: Using LLMs to Improve Your Coding\n",
      "  Wartość zakodowana: 1 -> Wartość początkowa: Using LLMs to Train More LLMs\n",
      "  Wartość zakodowana: 2 -> Wartość początkowa: Using LLMs to Win Friends and Influence People\n",
      "  Wartość zakodowana: 3 -> Wartość początkowa: Using LLMs to Win More Kaggle Competitions\n",
      "  Wartość zakodowana: 4 -> Wartość początkowa: Using LLMs to Write Better\n"
     ]
    }
   ],
   "source": [
    "from sklearn.preprocessing import OrdinalEncoder\n",
    "enc = OrdinalEncoder()\n",
    "Enc_col = ['country', 'store', 'product' ]\n",
    "\n",
    "# Fit the encoder and create the mapping for each column separately\n",
    "categories = {}\n",
    "for col in Enc_col:\n",
    "    for df in [train, test]:\n",
    "        df[col + '_Enc'] = enc.fit_transform(df[col].values.reshape(-1, 1))\n",
    "    categories[col] = enc.categories_[0]  # Store categories for the current column\n",
    "\n",
    "# Print the mapping\n",
    "for col in Enc_col:\n",
    "    print(f\"Kolumna: {col}\")\n",
    "    for i, category in enumerate(categories[col]):\n",
    "        print(f\"  Wartość zakodowana: {i} -> Wartość początkowa: {category}\")"
   ]
  },
  {
   "cell_type": "code",
   "execution_count": 49,
   "id": "41d44ff8-bf61-41b1-a2da-1145ef7df514",
   "metadata": {},
   "outputs": [],
   "source": [
    "train[['country_Enc', 'store_Enc', 'product_Enc']] = train[['country_Enc', 'store_Enc', 'product_Enc']].astype(np.int8)\n",
    "test[['country_Enc', 'store_Enc', 'product_Enc']] = test[['country_Enc', 'store_Enc', 'product_Enc']].astype(np.int8)\n",
    "train['num_sold'] = train['num_sold'].astype(np.int16)"
   ]
  },
  {
   "cell_type": "code",
   "execution_count": 50,
   "id": "be7de321-f677-425b-93e3-f6766a83e9c2",
   "metadata": {},
   "outputs": [],
   "source": [
    "categorical_features = ['id','country', 'store', 'product' ]\n",
    "for df in [train, test]:\n",
    "     df.drop(columns=categorical_features, inplace=True)"
   ]
  },
  {
   "cell_type": "code",
   "execution_count": 51,
   "id": "90bf1e53-2fe4-43aa-a527-1098557bbb5a",
   "metadata": {},
   "outputs": [
    {
     "name": "stdout",
     "output_type": "stream",
     "text": [
      "<class 'pandas.core.frame.DataFrame'>\n",
      "PeriodIndex: 136950 entries, 2017-01-01 to 2021-12-31\n",
      "Freq: D\n",
      "Data columns (total 7 columns):\n",
      " #   Column       Non-Null Count   Dtype\n",
      "---  ------       --------------   -----\n",
      " 0   num_sold     136950 non-null  int16\n",
      " 1   year         136950 non-null  int32\n",
      " 2   month        136950 non-null  int32\n",
      " 3   day          136950 non-null  int32\n",
      " 4   country_Enc  136950 non-null  int8 \n",
      " 5   store_Enc    136950 non-null  int8 \n",
      " 6   product_Enc  136950 non-null  int8 \n",
      "dtypes: int16(1), int32(3), int8(3)\n",
      "memory usage: 3.3 MB\n"
     ]
    }
   ],
   "source": [
    "train.info()"
   ]
  },
  {
   "cell_type": "code",
   "execution_count": 52,
   "id": "35ed9e2f-b9de-4ca5-9cd7-a543c2e5a857",
   "metadata": {},
   "outputs": [
    {
     "data": {
      "text/html": [
       "<div>\n",
       "<style scoped>\n",
       "    .dataframe tbody tr th:only-of-type {\n",
       "        vertical-align: middle;\n",
       "    }\n",
       "\n",
       "    .dataframe tbody tr th {\n",
       "        vertical-align: top;\n",
       "    }\n",
       "\n",
       "    .dataframe thead th {\n",
       "        text-align: right;\n",
       "    }\n",
       "</style>\n",
       "<table border=\"1\" class=\"dataframe\">\n",
       "  <thead>\n",
       "    <tr style=\"text-align: right;\">\n",
       "      <th></th>\n",
       "      <th>num_sold</th>\n",
       "      <th>year</th>\n",
       "      <th>month</th>\n",
       "      <th>day</th>\n",
       "      <th>country_Enc</th>\n",
       "      <th>store_Enc</th>\n",
       "      <th>product_Enc</th>\n",
       "    </tr>\n",
       "    <tr>\n",
       "      <th>date</th>\n",
       "      <th></th>\n",
       "      <th></th>\n",
       "      <th></th>\n",
       "      <th></th>\n",
       "      <th></th>\n",
       "      <th></th>\n",
       "      <th></th>\n",
       "    </tr>\n",
       "  </thead>\n",
       "  <tbody>\n",
       "    <tr>\n",
       "      <th>2017-01-01</th>\n",
       "      <td>63</td>\n",
       "      <td>2017</td>\n",
       "      <td>1</td>\n",
       "      <td>1</td>\n",
       "      <td>0</td>\n",
       "      <td>1</td>\n",
       "      <td>0</td>\n",
       "    </tr>\n",
       "    <tr>\n",
       "      <th>2017-01-01</th>\n",
       "      <td>66</td>\n",
       "      <td>2017</td>\n",
       "      <td>1</td>\n",
       "      <td>1</td>\n",
       "      <td>0</td>\n",
       "      <td>1</td>\n",
       "      <td>1</td>\n",
       "    </tr>\n",
       "    <tr>\n",
       "      <th>2017-01-01</th>\n",
       "      <td>9</td>\n",
       "      <td>2017</td>\n",
       "      <td>1</td>\n",
       "      <td>1</td>\n",
       "      <td>0</td>\n",
       "      <td>1</td>\n",
       "      <td>2</td>\n",
       "    </tr>\n",
       "    <tr>\n",
       "      <th>2017-01-01</th>\n",
       "      <td>59</td>\n",
       "      <td>2017</td>\n",
       "      <td>1</td>\n",
       "      <td>1</td>\n",
       "      <td>0</td>\n",
       "      <td>1</td>\n",
       "      <td>3</td>\n",
       "    </tr>\n",
       "    <tr>\n",
       "      <th>2017-01-01</th>\n",
       "      <td>49</td>\n",
       "      <td>2017</td>\n",
       "      <td>1</td>\n",
       "      <td>1</td>\n",
       "      <td>0</td>\n",
       "      <td>1</td>\n",
       "      <td>4</td>\n",
       "    </tr>\n",
       "  </tbody>\n",
       "</table>\n",
       "</div>"
      ],
      "text/plain": [
       "            num_sold  year  month  day  country_Enc  store_Enc  product_Enc\n",
       "date                                                                       \n",
       "2017-01-01        63  2017      1    1            0          1            0\n",
       "2017-01-01        66  2017      1    1            0          1            1\n",
       "2017-01-01         9  2017      1    1            0          1            2\n",
       "2017-01-01        59  2017      1    1            0          1            3\n",
       "2017-01-01        49  2017      1    1            0          1            4"
      ]
     },
     "execution_count": 52,
     "metadata": {},
     "output_type": "execute_result"
    }
   ],
   "source": [
    "train.head()"
   ]
  },
  {
   "cell_type": "code",
   "execution_count": 53,
   "id": "1575a0e9-8181-43ee-a85c-1846f49e5394",
   "metadata": {},
   "outputs": [],
   "source": [
    "from sklearn.preprocessing import MinMaxScaler\n",
    "\n",
    "train.head()\n",
    "scaler= MinMaxScaler()\n",
    "# -------------------------------------------------------------\n",
    "train_num_sol_reshaped = train['num_sold'].values.reshape(-1, 1)  # Reshape to 2D\n",
    "scaler.fit(train_num_sol_reshaped)\n",
    "train['num_sold_scaled'] = scaler.transform(train_num_sol_reshaped)\n",
    "#----------------------------------------------------------------\n",
    "train.drop('num_sold', axis=1, inplace=True)"
   ]
  },
  {
   "cell_type": "code",
   "execution_count": 60,
   "id": "fad333b4-2195-4e91-b236-e2bc6b7361ff",
   "metadata": {},
   "outputs": [
    {
     "ename": "ValueError",
     "evalue": "\n    Invalid value of type 'builtins.str' received for the 'mode' property of scatter\n        Received value: 'spline'\n\n    The 'mode' property is a flaglist and may be specified\n    as a string containing:\n      - Any combination of ['lines', 'markers', 'text'] joined with '+' characters\n        (e.g. 'lines+markers')\n        OR exactly one of ['none'] (e.g. 'none')",
     "output_type": "error",
     "traceback": [
      "\u001b[1;31m---------------------------------------------------------------------------\u001b[0m",
      "\u001b[1;31mValueError\u001b[0m                                Traceback (most recent call last)",
      "Cell \u001b[1;32mIn[60], line 10\u001b[0m\n\u001b[0;32m      7\u001b[0m fig \u001b[38;5;241m=\u001b[39m go\u001b[38;5;241m.\u001b[39mFigure(layout\u001b[38;5;241m=\u001b[39m\u001b[38;5;28mdict\u001b[39m(xaxis_title\u001b[38;5;241m=\u001b[39m\u001b[38;5;124m\"\u001b[39m\u001b[38;5;124mDate\u001b[39m\u001b[38;5;124m\"\u001b[39m, yaxis_title\u001b[38;5;241m=\u001b[39m\u001b[38;5;124m\"\u001b[39m\u001b[38;5;124mSales\u001b[39m\u001b[38;5;124m\"\u001b[39m))\n\u001b[0;32m      9\u001b[0m \u001b[38;5;66;03m# Plot train_Spain data in first subplot\u001b[39;00m\n\u001b[1;32m---> 10\u001b[0m trace1 \u001b[38;5;241m=\u001b[39m go\u001b[38;5;241m.\u001b[39mScatter(\n\u001b[0;32m     11\u001b[0m     x\u001b[38;5;241m=\u001b[39mtrain_Spain\u001b[38;5;241m.\u001b[39mindex\u001b[38;5;241m.\u001b[39mto_timestamp(),\n\u001b[0;32m     12\u001b[0m     y\u001b[38;5;241m=\u001b[39mtrain_Spain[\u001b[38;5;124m'\u001b[39m\u001b[38;5;124mnum_sold_scaled\u001b[39m\u001b[38;5;124m'\u001b[39m],\n\u001b[0;32m     13\u001b[0m     name\u001b[38;5;241m=\u001b[39m\u001b[38;5;124m\"\u001b[39m\u001b[38;5;124mTrain\u001b[39m\u001b[38;5;124m\"\u001b[39m,\n\u001b[0;32m     14\u001b[0m   \u001b[38;5;66;03m#  mode=\"markers\",\u001b[39;00m\n\u001b[0;32m     15\u001b[0m     marker\u001b[38;5;241m=\u001b[39m\u001b[38;5;28mdict\u001b[39m(color\u001b[38;5;241m=\u001b[39m\u001b[38;5;124m\"\u001b[39m\u001b[38;5;124mblue\u001b[39m\u001b[38;5;124m\"\u001b[39m, size\u001b[38;5;241m=\u001b[39m\u001b[38;5;241m8\u001b[39m),\n\u001b[0;32m     16\u001b[0m     mode\u001b[38;5;241m=\u001b[39m\u001b[38;5;124m\"\u001b[39m\u001b[38;5;124mspline\u001b[39m\u001b[38;5;124m\"\u001b[39m,\n\u001b[0;32m     17\u001b[0m     line\u001b[38;5;241m=\u001b[39m\u001b[38;5;28mdict\u001b[39m(color\u001b[38;5;241m=\u001b[39m\u001b[38;5;124m\"\u001b[39m\u001b[38;5;124mblue\u001b[39m\u001b[38;5;124m\"\u001b[39m, width\u001b[38;5;241m=\u001b[39m\u001b[38;5;241m2\u001b[39m)\n\u001b[0;32m     18\u001b[0m \n\u001b[0;32m     19\u001b[0m )\n\u001b[0;32m     21\u001b[0m \u001b[38;5;66;03m# Plot val_Spain data in second subplot\u001b[39;00m\n\u001b[0;32m     22\u001b[0m trace2 \u001b[38;5;241m=\u001b[39m go\u001b[38;5;241m.\u001b[39mScatter(\n\u001b[0;32m     23\u001b[0m     x\u001b[38;5;241m=\u001b[39mval_Spain\u001b[38;5;241m.\u001b[39mindex\u001b[38;5;241m.\u001b[39mto_timestamp(),\n\u001b[0;32m     24\u001b[0m     y\u001b[38;5;241m=\u001b[39mval_Spain[\u001b[38;5;124m'\u001b[39m\u001b[38;5;124mnum_sold_scaled\u001b[39m\u001b[38;5;124m'\u001b[39m],\n\u001b[1;32m   (...)\u001b[0m\n\u001b[0;32m     27\u001b[0m     marker\u001b[38;5;241m=\u001b[39m\u001b[38;5;28mdict\u001b[39m(color\u001b[38;5;241m=\u001b[39m\u001b[38;5;124m\"\u001b[39m\u001b[38;5;124mred\u001b[39m\u001b[38;5;124m\"\u001b[39m, size\u001b[38;5;241m=\u001b[39m\u001b[38;5;241m8\u001b[39m)\n\u001b[0;32m     28\u001b[0m )\n",
      "File \u001b[1;32m~\\anaconda3\\Lib\\site-packages\\plotly\\graph_objs\\_scatter.py:3398\u001b[0m, in \u001b[0;36mScatter.__init__\u001b[1;34m(self, arg, alignmentgroup, cliponaxis, connectgaps, customdata, customdatasrc, dx, dy, error_x, error_y, fill, fillcolor, fillpattern, groupnorm, hoverinfo, hoverinfosrc, hoverlabel, hoveron, hovertemplate, hovertemplatesrc, hovertext, hovertextsrc, ids, idssrc, legend, legendgroup, legendgrouptitle, legendrank, legendwidth, line, marker, meta, metasrc, mode, name, offsetgroup, opacity, orientation, selected, selectedpoints, showlegend, stackgaps, stackgroup, stream, text, textfont, textposition, textpositionsrc, textsrc, texttemplate, texttemplatesrc, uid, uirevision, unselected, visible, x, x0, xaxis, xcalendar, xhoverformat, xperiod, xperiod0, xperiodalignment, xsrc, y, y0, yaxis, ycalendar, yhoverformat, yperiod, yperiod0, yperiodalignment, ysrc, **kwargs)\u001b[0m\n\u001b[0;32m   3396\u001b[0m _v \u001b[38;5;241m=\u001b[39m mode \u001b[38;5;28;01mif\u001b[39;00m mode \u001b[38;5;129;01mis\u001b[39;00m \u001b[38;5;129;01mnot\u001b[39;00m \u001b[38;5;28;01mNone\u001b[39;00m \u001b[38;5;28;01melse\u001b[39;00m _v\n\u001b[0;32m   3397\u001b[0m \u001b[38;5;28;01mif\u001b[39;00m _v \u001b[38;5;129;01mis\u001b[39;00m \u001b[38;5;129;01mnot\u001b[39;00m \u001b[38;5;28;01mNone\u001b[39;00m:\n\u001b[1;32m-> 3398\u001b[0m     \u001b[38;5;28mself\u001b[39m[\u001b[38;5;124m\"\u001b[39m\u001b[38;5;124mmode\u001b[39m\u001b[38;5;124m\"\u001b[39m] \u001b[38;5;241m=\u001b[39m _v\n\u001b[0;32m   3399\u001b[0m _v \u001b[38;5;241m=\u001b[39m arg\u001b[38;5;241m.\u001b[39mpop(\u001b[38;5;124m\"\u001b[39m\u001b[38;5;124mname\u001b[39m\u001b[38;5;124m\"\u001b[39m, \u001b[38;5;28;01mNone\u001b[39;00m)\n\u001b[0;32m   3400\u001b[0m _v \u001b[38;5;241m=\u001b[39m name \u001b[38;5;28;01mif\u001b[39;00m name \u001b[38;5;129;01mis\u001b[39;00m \u001b[38;5;129;01mnot\u001b[39;00m \u001b[38;5;28;01mNone\u001b[39;00m \u001b[38;5;28;01melse\u001b[39;00m _v\n",
      "File \u001b[1;32m~\\anaconda3\\Lib\\site-packages\\plotly\\basedatatypes.py:4874\u001b[0m, in \u001b[0;36mBasePlotlyType.__setitem__\u001b[1;34m(self, prop, value)\u001b[0m\n\u001b[0;32m   4870\u001b[0m         \u001b[38;5;28mself\u001b[39m\u001b[38;5;241m.\u001b[39m_set_array_prop(prop, value)\n\u001b[0;32m   4872\u001b[0m     \u001b[38;5;66;03m# ### Handle simple property ###\u001b[39;00m\n\u001b[0;32m   4873\u001b[0m     \u001b[38;5;28;01melse\u001b[39;00m:\n\u001b[1;32m-> 4874\u001b[0m         \u001b[38;5;28mself\u001b[39m\u001b[38;5;241m.\u001b[39m_set_prop(prop, value)\n\u001b[0;32m   4875\u001b[0m \u001b[38;5;28;01melse\u001b[39;00m:\n\u001b[0;32m   4876\u001b[0m     \u001b[38;5;66;03m# Make sure properties dict is initialized\u001b[39;00m\n\u001b[0;32m   4877\u001b[0m     \u001b[38;5;28mself\u001b[39m\u001b[38;5;241m.\u001b[39m_init_props()\n",
      "File \u001b[1;32m~\\anaconda3\\Lib\\site-packages\\plotly\\basedatatypes.py:5218\u001b[0m, in \u001b[0;36mBasePlotlyType._set_prop\u001b[1;34m(self, prop, val)\u001b[0m\n\u001b[0;32m   5216\u001b[0m         \u001b[38;5;28;01mreturn\u001b[39;00m\n\u001b[0;32m   5217\u001b[0m     \u001b[38;5;28;01melse\u001b[39;00m:\n\u001b[1;32m-> 5218\u001b[0m         \u001b[38;5;28;01mraise\u001b[39;00m err\n\u001b[0;32m   5220\u001b[0m \u001b[38;5;66;03m# val is None\u001b[39;00m\n\u001b[0;32m   5221\u001b[0m \u001b[38;5;66;03m# -----------\u001b[39;00m\n\u001b[0;32m   5222\u001b[0m \u001b[38;5;28;01mif\u001b[39;00m val \u001b[38;5;129;01mis\u001b[39;00m \u001b[38;5;28;01mNone\u001b[39;00m:\n\u001b[0;32m   5223\u001b[0m     \u001b[38;5;66;03m# Check if we should send null update\u001b[39;00m\n",
      "File \u001b[1;32m~\\anaconda3\\Lib\\site-packages\\plotly\\basedatatypes.py:5213\u001b[0m, in \u001b[0;36mBasePlotlyType._set_prop\u001b[1;34m(self, prop, val)\u001b[0m\n\u001b[0;32m   5210\u001b[0m validator \u001b[38;5;241m=\u001b[39m \u001b[38;5;28mself\u001b[39m\u001b[38;5;241m.\u001b[39m_get_validator(prop)\n\u001b[0;32m   5212\u001b[0m \u001b[38;5;28;01mtry\u001b[39;00m:\n\u001b[1;32m-> 5213\u001b[0m     val \u001b[38;5;241m=\u001b[39m validator\u001b[38;5;241m.\u001b[39mvalidate_coerce(val)\n\u001b[0;32m   5214\u001b[0m \u001b[38;5;28;01mexcept\u001b[39;00m \u001b[38;5;167;01mValueError\u001b[39;00m \u001b[38;5;28;01mas\u001b[39;00m err:\n\u001b[0;32m   5215\u001b[0m     \u001b[38;5;28;01mif\u001b[39;00m \u001b[38;5;28mself\u001b[39m\u001b[38;5;241m.\u001b[39m_skip_invalid:\n",
      "File \u001b[1;32m~\\anaconda3\\Lib\\site-packages\\_plotly_utils\\basevalidators.py:1907\u001b[0m, in \u001b[0;36mFlaglistValidator.validate_coerce\u001b[1;34m(self, v)\u001b[0m\n\u001b[0;32m   1905\u001b[0m     validated_v \u001b[38;5;241m=\u001b[39m \u001b[38;5;28mself\u001b[39m\u001b[38;5;241m.\u001b[39mvc_scalar(v)\n\u001b[0;32m   1906\u001b[0m     \u001b[38;5;28;01mif\u001b[39;00m validated_v \u001b[38;5;129;01mis\u001b[39;00m \u001b[38;5;28;01mNone\u001b[39;00m:\n\u001b[1;32m-> 1907\u001b[0m         \u001b[38;5;28mself\u001b[39m\u001b[38;5;241m.\u001b[39mraise_invalid_val(v)\n\u001b[0;32m   1909\u001b[0m     v \u001b[38;5;241m=\u001b[39m validated_v\n\u001b[0;32m   1911\u001b[0m \u001b[38;5;28;01mreturn\u001b[39;00m v\n",
      "File \u001b[1;32m~\\anaconda3\\Lib\\site-packages\\_plotly_utils\\basevalidators.py:296\u001b[0m, in \u001b[0;36mBaseValidator.raise_invalid_val\u001b[1;34m(self, v, inds)\u001b[0m\n\u001b[0;32m    293\u001b[0m             \u001b[38;5;28;01mfor\u001b[39;00m i \u001b[38;5;129;01min\u001b[39;00m inds:\n\u001b[0;32m    294\u001b[0m                 name \u001b[38;5;241m+\u001b[39m\u001b[38;5;241m=\u001b[39m \u001b[38;5;124m\"\u001b[39m\u001b[38;5;124m[\u001b[39m\u001b[38;5;124m\"\u001b[39m \u001b[38;5;241m+\u001b[39m \u001b[38;5;28mstr\u001b[39m(i) \u001b[38;5;241m+\u001b[39m \u001b[38;5;124m\"\u001b[39m\u001b[38;5;124m]\u001b[39m\u001b[38;5;124m\"\u001b[39m\n\u001b[1;32m--> 296\u001b[0m         \u001b[38;5;28;01mraise\u001b[39;00m \u001b[38;5;167;01mValueError\u001b[39;00m(\n\u001b[0;32m    297\u001b[0m \u001b[38;5;250m            \u001b[39m\u001b[38;5;124;03m\"\"\"\u001b[39;00m\n\u001b[0;32m    298\u001b[0m \u001b[38;5;124;03m    Invalid value of type {typ} received for the '{name}' property of {pname}\u001b[39;00m\n\u001b[0;32m    299\u001b[0m \u001b[38;5;124;03m        Received value: {v}\u001b[39;00m\n\u001b[0;32m    300\u001b[0m \n\u001b[0;32m    301\u001b[0m \u001b[38;5;124;03m{valid_clr_desc}\"\"\"\u001b[39;00m\u001b[38;5;241m.\u001b[39mformat(\n\u001b[0;32m    302\u001b[0m                 name\u001b[38;5;241m=\u001b[39mname,\n\u001b[0;32m    303\u001b[0m                 pname\u001b[38;5;241m=\u001b[39m\u001b[38;5;28mself\u001b[39m\u001b[38;5;241m.\u001b[39mparent_name,\n\u001b[0;32m    304\u001b[0m                 typ\u001b[38;5;241m=\u001b[39mtype_str(v),\n\u001b[0;32m    305\u001b[0m                 v\u001b[38;5;241m=\u001b[39m\u001b[38;5;28mrepr\u001b[39m(v),\n\u001b[0;32m    306\u001b[0m                 valid_clr_desc\u001b[38;5;241m=\u001b[39m\u001b[38;5;28mself\u001b[39m\u001b[38;5;241m.\u001b[39mdescription(),\n\u001b[0;32m    307\u001b[0m             )\n\u001b[0;32m    308\u001b[0m         )\n",
      "\u001b[1;31mValueError\u001b[0m: \n    Invalid value of type 'builtins.str' received for the 'mode' property of scatter\n        Received value: 'spline'\n\n    The 'mode' property is a flaglist and may be specified\n    as a string containing:\n      - Any combination of ['lines', 'markers', 'text'] joined with '+' characters\n        (e.g. 'lines+markers')\n        OR exactly one of ['none'] (e.g. 'none')"
     ]
    }
   ],
   "source": [
    "from sklearn.model_selection import train_test_split\n",
    "\n",
    "Spain = train[train['country_Enc'] == 4]\n",
    "train_Spain, val_Spain = train_test_split(Spain, test_size=0.25, shuffle=False)\n",
    "\n",
    "# Create a figure with subplots\n",
    "fig = go.Figure(layout=dict(xaxis_title=\"Date\", yaxis_title=\"Sales\"))\n",
    "\n",
    "# Plot train_Spain data in first subplot\n",
    "trace1 = go.Scatter(\n",
    "    x=train_Spain.index.to_timestamp(),\n",
    "    y=train_Spain['num_sold_scaled'],\n",
    "    name=\"Train\",\n",
    "  #  mode=\"markers\",\n",
    "    marker=dict(color=\"blue\", size=8),\n",
    "    mode=\"spline\",\n",
    "    line=dict(color=\"blue\", width=2)\n",
    "\n",
    ")\n",
    "\n",
    "# Plot val_Spain data in second subplot\n",
    "trace2 = go.Scatter(\n",
    "    x=val_Spain.index.to_timestamp(),\n",
    "    y=val_Spain['num_sold_scaled'],\n",
    "    name=\"Validation\",\n",
    "    mode=\"markers\",\n",
    "    marker=dict(color=\"red\", size=8)\n",
    ")\n",
    "\n",
    "# Add traces to the figure\n",
    "fig.add_trace(trace1)\n",
    "fig.add_trace(trace2)\n",
    "\n",
    "# Display the chart\n",
    "fig.show()"
   ]
  },
  {
   "cell_type": "code",
   "execution_count": 55,
   "id": "d0167c89-7333-49a5-9163-707fbe93e5f1",
   "metadata": {},
   "outputs": [
    {
     "data": {
      "text/html": [
       "<div>\n",
       "<style scoped>\n",
       "    .dataframe tbody tr th:only-of-type {\n",
       "        vertical-align: middle;\n",
       "    }\n",
       "\n",
       "    .dataframe tbody tr th {\n",
       "        vertical-align: top;\n",
       "    }\n",
       "\n",
       "    .dataframe thead th {\n",
       "        text-align: right;\n",
       "    }\n",
       "</style>\n",
       "<table border=\"1\" class=\"dataframe\">\n",
       "  <thead>\n",
       "    <tr style=\"text-align: right;\">\n",
       "      <th></th>\n",
       "      <th>year</th>\n",
       "      <th>month</th>\n",
       "      <th>day</th>\n",
       "      <th>country_Enc</th>\n",
       "      <th>store_Enc</th>\n",
       "      <th>product_Enc</th>\n",
       "      <th>num_sold_scaled</th>\n",
       "    </tr>\n",
       "    <tr>\n",
       "      <th>date</th>\n",
       "      <th></th>\n",
       "      <th></th>\n",
       "      <th></th>\n",
       "      <th></th>\n",
       "      <th></th>\n",
       "      <th></th>\n",
       "      <th></th>\n",
       "    </tr>\n",
       "  </thead>\n",
       "  <tbody>\n",
       "    <tr>\n",
       "      <th>2020-10-01</th>\n",
       "      <td>2020</td>\n",
       "      <td>10</td>\n",
       "      <td>1</td>\n",
       "      <td>4</td>\n",
       "      <td>1</td>\n",
       "      <td>2</td>\n",
       "      <td>0.006531</td>\n",
       "    </tr>\n",
       "    <tr>\n",
       "      <th>2020-10-01</th>\n",
       "      <td>2020</td>\n",
       "      <td>10</td>\n",
       "      <td>1</td>\n",
       "      <td>4</td>\n",
       "      <td>1</td>\n",
       "      <td>3</td>\n",
       "      <td>0.039187</td>\n",
       "    </tr>\n",
       "    <tr>\n",
       "      <th>2020-10-01</th>\n",
       "      <td>2020</td>\n",
       "      <td>10</td>\n",
       "      <td>1</td>\n",
       "      <td>4</td>\n",
       "      <td>1</td>\n",
       "      <td>4</td>\n",
       "      <td>0.025399</td>\n",
       "    </tr>\n",
       "    <tr>\n",
       "      <th>2020-10-01</th>\n",
       "      <td>2020</td>\n",
       "      <td>10</td>\n",
       "      <td>1</td>\n",
       "      <td>4</td>\n",
       "      <td>2</td>\n",
       "      <td>0</td>\n",
       "      <td>0.080552</td>\n",
       "    </tr>\n",
       "    <tr>\n",
       "      <th>2020-10-01</th>\n",
       "      <td>2020</td>\n",
       "      <td>10</td>\n",
       "      <td>1</td>\n",
       "      <td>4</td>\n",
       "      <td>2</td>\n",
       "      <td>1</td>\n",
       "      <td>0.074020</td>\n",
       "    </tr>\n",
       "  </tbody>\n",
       "</table>\n",
       "</div>"
      ],
      "text/plain": [
       "            year  month  day  country_Enc  store_Enc  product_Enc  \\\n",
       "date                                                                \n",
       "2020-10-01  2020     10    1            4          1            2   \n",
       "2020-10-01  2020     10    1            4          1            3   \n",
       "2020-10-01  2020     10    1            4          1            4   \n",
       "2020-10-01  2020     10    1            4          2            0   \n",
       "2020-10-01  2020     10    1            4          2            1   \n",
       "\n",
       "            num_sold_scaled  \n",
       "date                         \n",
       "2020-10-01         0.006531  \n",
       "2020-10-01         0.039187  \n",
       "2020-10-01         0.025399  \n",
       "2020-10-01         0.080552  \n",
       "2020-10-01         0.074020  "
      ]
     },
     "execution_count": 55,
     "metadata": {},
     "output_type": "execute_result"
    }
   ],
   "source": [
    "train_Spain.tail()"
   ]
  },
  {
   "cell_type": "code",
   "execution_count": 56,
   "id": "5fab66b0-5a50-40b2-acd6-47b43d35be53",
   "metadata": {},
   "outputs": [
    {
     "data": {
      "text/html": [
       "<div>\n",
       "<style scoped>\n",
       "    .dataframe tbody tr th:only-of-type {\n",
       "        vertical-align: middle;\n",
       "    }\n",
       "\n",
       "    .dataframe tbody tr th {\n",
       "        vertical-align: top;\n",
       "    }\n",
       "\n",
       "    .dataframe thead th {\n",
       "        text-align: right;\n",
       "    }\n",
       "</style>\n",
       "<table border=\"1\" class=\"dataframe\">\n",
       "  <thead>\n",
       "    <tr style=\"text-align: right;\">\n",
       "      <th></th>\n",
       "      <th>year</th>\n",
       "      <th>month</th>\n",
       "      <th>day</th>\n",
       "      <th>country_Enc</th>\n",
       "      <th>store_Enc</th>\n",
       "      <th>product_Enc</th>\n",
       "      <th>num_sold_scaled</th>\n",
       "    </tr>\n",
       "    <tr>\n",
       "      <th>date</th>\n",
       "      <th></th>\n",
       "      <th></th>\n",
       "      <th></th>\n",
       "      <th></th>\n",
       "      <th></th>\n",
       "      <th></th>\n",
       "      <th></th>\n",
       "    </tr>\n",
       "  </thead>\n",
       "  <tbody>\n",
       "    <tr>\n",
       "      <th>2020-10-01</th>\n",
       "      <td>2020</td>\n",
       "      <td>10</td>\n",
       "      <td>1</td>\n",
       "      <td>4</td>\n",
       "      <td>2</td>\n",
       "      <td>2</td>\n",
       "      <td>0.009434</td>\n",
       "    </tr>\n",
       "    <tr>\n",
       "      <th>2020-10-01</th>\n",
       "      <td>2020</td>\n",
       "      <td>10</td>\n",
       "      <td>1</td>\n",
       "      <td>4</td>\n",
       "      <td>2</td>\n",
       "      <td>3</td>\n",
       "      <td>0.058781</td>\n",
       "    </tr>\n",
       "    <tr>\n",
       "      <th>2020-10-01</th>\n",
       "      <td>2020</td>\n",
       "      <td>10</td>\n",
       "      <td>1</td>\n",
       "      <td>4</td>\n",
       "      <td>2</td>\n",
       "      <td>4</td>\n",
       "      <td>0.047170</td>\n",
       "    </tr>\n",
       "    <tr>\n",
       "      <th>2020-10-01</th>\n",
       "      <td>2020</td>\n",
       "      <td>10</td>\n",
       "      <td>1</td>\n",
       "      <td>4</td>\n",
       "      <td>0</td>\n",
       "      <td>0</td>\n",
       "      <td>0.302612</td>\n",
       "    </tr>\n",
       "    <tr>\n",
       "      <th>2020-10-01</th>\n",
       "      <td>2020</td>\n",
       "      <td>10</td>\n",
       "      <td>1</td>\n",
       "      <td>4</td>\n",
       "      <td>0</td>\n",
       "      <td>1</td>\n",
       "      <td>0.277213</td>\n",
       "    </tr>\n",
       "  </tbody>\n",
       "</table>\n",
       "</div>"
      ],
      "text/plain": [
       "            year  month  day  country_Enc  store_Enc  product_Enc  \\\n",
       "date                                                                \n",
       "2020-10-01  2020     10    1            4          2            2   \n",
       "2020-10-01  2020     10    1            4          2            3   \n",
       "2020-10-01  2020     10    1            4          2            4   \n",
       "2020-10-01  2020     10    1            4          0            0   \n",
       "2020-10-01  2020     10    1            4          0            1   \n",
       "\n",
       "            num_sold_scaled  \n",
       "date                         \n",
       "2020-10-01         0.009434  \n",
       "2020-10-01         0.058781  \n",
       "2020-10-01         0.047170  \n",
       "2020-10-01         0.302612  \n",
       "2020-10-01         0.277213  "
      ]
     },
     "execution_count": 56,
     "metadata": {},
     "output_type": "execute_result"
    }
   ],
   "source": [
    "val_Spain.head()"
   ]
  },
  {
   "cell_type": "code",
   "execution_count": 57,
   "id": "1f3c6c45-0818-454c-abe1-cd47a7b7fb92",
   "metadata": {},
   "outputs": [
    {
     "ename": "SyntaxError",
     "evalue": "invalid syntax (2133496677.py, line 1)",
     "output_type": "error",
     "traceback": [
      "\u001b[1;36m  Cell \u001b[1;32mIn[57], line 1\u001b[1;36m\u001b[0m\n\u001b[1;33m    ----\u001b[0m\n\u001b[1;37m        ^\u001b[0m\n\u001b[1;31mSyntaxError\u001b[0m\u001b[1;31m:\u001b[0m invalid syntax\n"
     ]
    }
   ],
   "source": [
    "----"
   ]
  },
  {
   "cell_type": "code",
   "execution_count": null,
   "id": "560fdec3-48c0-46ce-b9de-ffd65a6aa33c",
   "metadata": {},
   "outputs": [],
   "source": [
    "from statsmodels.tsa.deterministic import DeterministicProcess\n",
    "from statsmodels.tsa.api import SARIMAX\n",
    "\n",
    "\n",
    "# Assuming 'train' is your DataFrame with 'num_sold_scaled' as the target variable\n",
    "det_proc = DeterministicProcess(train.index, constant=False, fourier=3 )\n",
    "det_proc.in_sample()\n",
    "\n",
    "train_with_exo = pd.concat([train['num_sold_scaled'], det_proc.in_sample()], axis=1)\n",
    "model = SARIMAX(train_with_exo['num_sold_scaled'],\n",
    "                     order=(1, 1, 1),  # Adjust order parameters as needed\n",
    "                     seasonal_order=(1, 1, 1, 12),  # Adjust seasonal order as needed\n",
    "                     exog=train_with_exo[['sin(1,7)', 'cos(1,7)',\t'sin(2,7)',\t'cos(2,7)',\t'sin(3,7)',\t'cos(3,7)']])\n",
    "\n",
    "SARIMAX_fit = model.fit()"
   ]
  },
  {
   "cell_type": "code",
   "execution_count": null,
   "id": "75d67e86-f466-4ea8-88c7-624abf756194",
   "metadata": {
    "scrolled": true
   },
   "outputs": [],
   "source": [
    "fig = px.area(train, x=train.index.to_timestamp() , y='num_sold_scaled', template=\"simple_white\")\n",
    "fig.show()"
   ]
  },
  {
   "cell_type": "code",
   "execution_count": null,
   "id": "72667958-44b4-465d-8abc-7d3a007e684a",
   "metadata": {},
   "outputs": [],
   "source": [
    "----"
   ]
  },
  {
   "cell_type": "code",
   "execution_count": null,
   "id": "abce5293-67e1-4209-85fa-29131e9c466e",
   "metadata": {},
   "outputs": [],
   "source": [
    "import torch\n",
    "import torch.nn as nn\n",
    "import torch.optim as optim\n",
    "\n",
    "from torch.utils.data import Dataset, DataLoader\n",
    "from torch.optim import Adam  # Import Adam optimizer\n",
    "\n",
    "from tqdm import tqdm\n",
    "torch.set_num_threads(12)\n"
   ]
  },
  {
   "cell_type": "code",
   "execution_count": null,
   "id": "b2c73b39-1605-4e01-a473-b20526db4c05",
   "metadata": {},
   "outputs": [],
   "source": [
    "features = ['year', 'month', 'day', \"country_Enc\", \"store_Enc\", \"product_Enc\"]\n",
    "target   = 'num_sold_scaled'\n",
    "\n",
    "# Przygotuj dane dla modelu\n",
    "X_train = train[features]\n",
    "y_train = train[target]\n",
    "\n",
    "X_test = test[features]\n",
    "\n",
    "# Konwertuj dane na tensory PyTorch\n",
    "X_tensor_train = torch.from_numpy(X_train.to_numpy()).float()\n",
    "y_tensor_train = torch.from_numpy(y_train.to_numpy()).float().reshape(-1, 1)\n",
    "\n",
    "# Konwertuj dane na tensory PyTorch\n",
    "X_tensor_test = torch.from_numpy(X_test.to_numpy()).float()\n",
    "\n",
    "class MyDataset(torch.utils.data.Dataset):\n",
    "  def __init__(self, X_tensor, y_tensor):\n",
    "    if y_tensor is not None:\n",
    "      # Handle missing labels (e.g., assign a specific value)\n",
    "      self.y_tensor = [label if label is not None else -1 for label in y_tensor]\n",
    "    self.X_tensor = X_tensor\n",
    "    self.y_tensor = y_tensor\n",
    "\n",
    "  def __getitem__(self, idx):\n",
    "    X = self.X_tensor[idx]\n",
    "    y = self.y_tensor[idx]\n",
    "    return X, y\n",
    "\n",
    "  def __len__(self):\n",
    "    return len(self.X_tensor)\n",
    "\n",
    "train_dataset = MyDataset(X_tensor_train, y_tensor_train)\n",
    "test_dataset = MyDataset(X_tensor_test, None) \n",
    "\n",
    "train_size = int(0.20 * len(train_dataset))\n",
    "val_size = len(train_dataset) - train_size\n",
    "train_dataset, val_dataset = torch.utils.data.random_split(train_dataset, [train_size, val_size])\n",
    "\n",
    "# Create a DataLoader for batch training\n",
    "batch_size = 2048 # Adjust batch size as needed\n",
    "train_loader = DataLoader(train_dataset, batch_size=batch_size, shuffle=True)\n",
    "test_loader  = DataLoader(test_dataset, batch_size=batch_size, shuffle=False)"
   ]
  },
  {
   "cell_type": "code",
   "execution_count": null,
   "id": "75545c02-479d-4878-9051-f2f360cddf7e",
   "metadata": {},
   "outputs": [],
   "source": [
    "class LSTMModel(nn.Module):\n",
    "  def __init__(self, input_dim, hidden_dim, output_dim):\n",
    "    super(LSTMModel, self).__init__()\n",
    "    self.lstm = nn.LSTM(input_dim, hidden_dim, num_layers, dropout=0.2)  # Add dropout for regularization\n",
    "    self.fc = nn.Linear(hidden_dim, output_dim)\n",
    "    self.silu = nn.SiLU()  # Add SiLU activation layer\n",
    "\n",
    "  def forward(self, x):\n",
    "    # Pass the input through LSTM layers\n",
    "    x, (hidden, cell) = self.lstm(x)\n",
    "    # Use the output from the last hidden layer\n",
    "    x = hidden[-1]\n",
    "    # Apply SiLU activation before linear layer\n",
    "    x = self.silu(x)\n",
    "    # Apply linear layer for prediction\n",
    "    x = self.fc(x)\n",
    "    return x\n",
    "\n",
    "# Hyperparameters (adjust as needed)\n",
    "input_dim = len(features)  # Number of features\n",
    "hidden_dim =256\n",
    "num_layers = 4\n",
    "output_dim = 1  # Assuming predicting single value (num_sold)\n",
    "\n",
    "model = LSTMModel(input_dim, hidden_dim, output_dim).float()\n",
    "criterion = nn.HuberLoss()\n",
    "optimizer = torch.optim.NAdam(model.parameters(), lr=0.005)  # Set learning rate\n",
    "\n",
    "# Training loop\n",
    "num_epochs = 36\n",
    "best_loss = float('inf')\n",
    "print(model)\n",
    "loss_history = []  # Initialize a list to store loss values\n",
    "\n",
    "for epoch in range(num_epochs):\n",
    "    model.train()  # Set model to training mode\n",
    "    pbar = tqdm(train_loader)  # Wrap train_loader with tqdm\n",
    "    for batch_x, batch_y in pbar:\n",
    "        optimizer.zero_grad()\n",
    "        for x, y in zip(batch_x, batch_y):\n",
    "            x = x.unsqueeze(0)\n",
    "            y_pred = model(x)\n",
    "            loss = criterion(y_pred, y)\n",
    "            loss.backward()\n",
    "            optimizer.step()\n",
    "\n",
    "        # Update progress bar\n",
    "        pbar.set_description(f\"Epoch {epoch+1}/{num_epochs} Loss: {loss.item():.2f}\")\n",
    "\n",
    "        # Append loss to history\n",
    "        loss_history.append(loss.item())\n",
    "\n",
    "    # Plot loss history after each epoch\n",
    "    plt.figure(figsize=(10, 6))\n",
    "    plt.plot(loss_history, label='Training Loss')\n",
    "    plt.title(f\"Training Loss (Epochs: {num_epochs})\")\n",
    "    plt.xlabel('Epoch')\n",
    "    plt.ylabel('Loss')\n",
    "    plt.grid(True)\n",
    "    plt.legend()\n",
    "    plt.show()"
   ]
  },
  {
   "cell_type": "code",
   "execution_count": null,
   "id": "46e363c6-1b47-4620-ba26-cb379e9bb466",
   "metadata": {},
   "outputs": [],
   "source": []
  }
 ],
 "metadata": {
  "kernelspec": {
   "display_name": "Python 3 (ipykernel)",
   "language": "python",
   "name": "python3"
  },
  "language_info": {
   "codemirror_mode": {
    "name": "ipython",
    "version": 3
   },
   "file_extension": ".py",
   "mimetype": "text/x-python",
   "name": "python",
   "nbconvert_exporter": "python",
   "pygments_lexer": "ipython3",
   "version": "3.11.9"
  }
 },
 "nbformat": 4,
 "nbformat_minor": 5
}
